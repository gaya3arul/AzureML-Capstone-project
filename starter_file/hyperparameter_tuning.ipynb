{
 "cells": [
  {
   "cell_type": "markdown",
   "metadata": {
    "id": "dABMGdLA1oOr"
   },
   "source": [
    "# Hyperparameter Tuning using HyperDrive\n",
    "\n",
    "Importing Dependencies"
   ]
  },
  {
   "cell_type": "code",
   "execution_count": null,
   "metadata": {
    "gather": {
     "logged": 1612604932095
    },
    "id": "QJmwolls1oOx"
   },
   "outputs": [],
   "source": [
    "from azureml.core import Workspace, Experiment\n",
    "from azureml.core.compute import ComputeTarget, AmlCompute\n",
    "from azureml.core.compute_target import ComputeTargetException\n",
    "\n",
    "from matplotlib import pyplot as plt\n",
    "import numpy as np\n",
    "import pandas as pd\n",
    "from sklearn import datasets\n",
    "import pkg_resources\n",
    "\n",
    "from azureml.widgets import RunDetails\n",
    "from azureml.train.sklearn import SKLearn\n",
    "from azureml.train.hyperdrive.run import PrimaryMetricGoal\n",
    "from azureml.train.hyperdrive.policy import BanditPolicy\n",
    "from azureml.train.hyperdrive.sampling import RandomParameterSampling\n",
    "from azureml.train.hyperdrive.runconfig import HyperDriveConfig\n",
    "from azureml.train.hyperdrive.parameter_expressions import choice, uniform\n",
    "import os\n",
    "\n",
    "import joblib"
   ]
  },
  {
   "cell_type": "code",
   "execution_count": null,
   "metadata": {},
   "outputs": [],
   "source": [
    "ws = Workspace.from_config()\n",
    "print(ws.name, ws.resource_group, ws.location, ws.subscription_id, sep = '\\n')"
   ]
  },
  {
   "cell_type": "code",
   "execution_count": null,
   "metadata": {
    "gather": {
     "logged": 1612604937135
    },
    "id": "OnUAEltT1oO0",
    "jupyter": {
     "outputs_hidden": false,
     "source_hidden": false
    },
    "nteract": {
     "transient": {
      "deleting": false
     }
    }
   },
   "outputs": [],
   "source": [
    "# Create compute cluster and choose a name for it\n",
    "cpu_cluster_name = \"compute-cluster\"\n",
    "\n",
    "# Verify that cluster does not exist already\n",
    "try:\n",
    "    compute_target = ComputeTarget(workspace=ws, name=cpu_cluster_name)\n",
    "    print('Found existing cluster, use it.')\n",
    "except ComputeTargetException:\n",
    "    print('Creating a new compute cluster...')\n",
    "    compute_config = AmlCompute.provisioning_configuration(vm_size='Standard_DS3_v2', min_nodes=1, max_nodes=4)\n",
    "    compute_target = ComputeTarget.create(ws, cpu_cluster_name, compute_config)\n",
    "\n",
    "# Can poll for a minimum number of nodes and for a specific timeout. \n",
    "# If no min node count is provided it uses the scale settings for the cluster.\n",
    "compute_target.wait_for_completion(show_output=True)\n",
    "\n",
    "# use get_status() to get a detailed status for the current cluster. \n",
    "print(compute_target.get_status().serialize())"
   ]
  },
  {
   "cell_type": "markdown",
   "metadata": {
    "id": "_iee7WFv1oOz"
   },
   "source": [
    "## Dataset\n"
   ]
  },
  {
   "cell_type": "code",
   "execution_count": null,
   "metadata": {},
   "outputs": [],
   "source": []
  },
  {
   "cell_type": "code",
   "execution_count": null,
   "metadata": {
    "gather": {
     "logged": 1612604946575
    },
    "id": "cdKfMdar8gai",
    "outputId": "5b59ced1-aba4-413c-86a1-33889dd2e3ae"
   },
   "outputs": [],
   "source": [
    "print(ws.name, ws.resource_group, ws.location, ws.subscription_id, sep = '\\n')\n",
    "\n",
    "data = pd.read_csv('./heart_failure_clinical_records_dataset.csv')\n",
    "\n",
    "found = False\n",
    "key = \"heart-failure-prediction\"\n",
    "description_text = \"Prediction of patients’ survival with heart failure - Capstone project\"\n",
    "\n",
    "if key in ws.datasets.keys(): \n",
    "        found = True\n",
    "        dataset = ws.datasets[key] \n",
    "\n",
    "if not found:\n",
    "        # Create AML Dataset and register it into Workspace\n",
    "        my_dataset = 'https://raw.githubusercontent.com/dimikara/Survival-Prediction-of-Patients-with-Heart-Failure/master/heart_failure_clinical_records_dataset.csv'\n",
    "        dataset = Dataset.Tabular.from_delimited_files(my_dataset)        \n",
    "        # Register Dataset in Workspace\n",
    "        dataset = dataset.register(workspace=ws,\n",
    "                                   name=key,\n",
    "                                   description=description_text)\n",
    "                                \n",
    "# Preview of the first five rows\n",
    "print(data.head())\n",
    "\n",
    "# Explore data\n",
    "print(data.describe())\n",
    "\n",
    "df = dataset.to_pandas_dataframe()\n",
    "df.describe()\n",
    "\n",
    "# Data columns\n",
    "df.columns = ['age', 'anaemia', 'creatinine_phosphokinase', 'diabetes', 'ejection_fraction', 'high_blood_pressure', 'platelets', 'serum_creatinine', 'serum_sodium', 'sex', 'smoking', 'time', 'DEATH_EVENT']\n",
    "x = df[['age', 'anaemia', 'creatinine_phosphokinase', 'diabetes', 'ejection_fraction', 'high_blood_pressure', 'platelets', 'serum_creatinine', 'serum_sodium', 'sex', 'smoking', 'time']]\n",
    "y = df[['DEATH_EVENT']]\n",
    "\n",
    "experiment_name = 'heart-failure-prediction'\n",
    "project_folder = './capstone-project'\n",
    "\n",
    "experiment = Experiment(ws, experiment_name)\n",
    "experiment\n",
    "\n"
   ]
  },
  {
   "cell_type": "markdown",
   "metadata": {
    "collapsed": true,
    "gather": {
     "logged": 1598531923519
    },
    "id": "GbGD5bk91oO1",
    "jupyter": {
     "outputs_hidden": false,
     "source_hidden": false
    },
    "nteract": {
     "transient": {
      "deleting": false
     }
    }
   },
   "source": [
    "## Hyperdrive Configuration\n",
    "\n",
    "For this experiment I am using a custom Scikit-learn Logistic Regression model, whose hyperparameters I am optimising using HyperDrive.\n",
    "\n",
    "Early stopping policy\n",
    "\n",
    "An early stopping policy is used to automatically terminate poorly performing runs thus improving computational efficiency. I chose the BanditPolicy which I specified as follows:\n",
    "\n",
    "policy = BanditPolicy(evaluation_interval=2, slack_factor=0.1)\n",
    "\n",
    "where:\n",
    "\n",
    "evaluation_interval: This is optional and represents the frequency for applying the policy. Each time the training script logs the primary metric counts as one interval.\n",
    "\n",
    "slack_factor: The amount of slack allowed with respect to the best performing training run. This factor specifies the slack as a ratio.\n",
    "\n",
    "Any run that doesn't fall within the slack factor or slack amount of the evaluation metric with respect to the best performing run will be terminated. This means that with this policy, the best performing runs will execute until they finish and this is the reason I chose it.\n",
    "\n",
    "Parameter Sampler\n",
    "I specify the parameter sampler using the parameters C and max_iter. I chose discrete values with choice for both parameters.\n",
    "\n",
    "C is the Regularization while max_iter is the maximum number of iterations.\n",
    "\n",
    "RandomParameterSampling is one of the choices available for the sampler and I chose it because it is the faster and supports early termination of low-performance runs. If budget is not an issue, it would be better to use GridParameterSampling to exhaustively search over the search space or BayesianParameterSampling to explore the hyperparameter space."
   ]
  },
  {
   "cell_type": "markdown",
   "metadata": {},
   "source": [
    "## Parameter Sampler\n",
    "\n",
    "I specify the parameter sampler using the parameters C and max_iter. I chose discrete values with choice for both parameters.\n",
    "\n",
    "C is the Regularization while max_iter is the maximum number of iterations.\n",
    "\n",
    "RandomParameterSampling is one of the choices available for the sampler and I chose it because it is the faster and supports early termination of low-performance runs. If budget is not an issue, it would be better to use GridParameterSampling to exhaustively search over the search space or BayesianParameterSampling to explore the hyperparameter space.\n",
    "\n",
    "## HyperDriveConfig\n",
    "\n",
    "The configuration chosen is as follows:\n",
    "\n",
    "hyperparameter_sampling\n",
    "\n",
    "The hyperparameter sampling space as defined above.\n",
    "\n",
    "primary_metric_name\n",
    "\n",
    "The name of the primary metric reported by the experiment runs. In our case, it is Accuracy.\n",
    "\n",
    "primary_metric_goal\n",
    "\n",
    "I chose PrimaryMetricGoal.MAXIMIZE. This parameter determines that the primary metric is to be maximized when evaluating runs.\n",
    "\n",
    "policy\n",
    "\n",
    "It refers to the early termination policy that is specified above.\n",
    "\n",
    "estimator\n",
    "\n",
    "An estimator that will be called with sampled hyperparameters. In this case, I choose estimator while the other two options are run_config and pipeline. The estimator will be used with train.py file which does a very basic manipulation of the data.\n",
    "\n",
    "max_total_runs=16\n",
    "\n",
    "The maximum total number of runs to create. This is the upper bound; there may be fewer runs when the sample space is smaller than this value. If both max_total_runs and max_duration_minutes are specified, the hyperparameter tuning experiment terminates when the first of these two thresholds is reached.\n",
    "\n",
    "max_concurrent_runs=4\n",
    "\n",
    "The maximum number of runs to execute concurrently. If None, all runs are launched in parallel. The number of concurrent runs is gated on the resources available in the specified compute target. Hence, you need to ensure that the compute target has the available resources for the desired concurrency.\n"
   ]
  },
  {
   "cell_type": "code",
   "execution_count": null,
   "metadata": {
    "gather": {
     "logged": 1612605161096
    },
    "id": "pHx92xEX1oO2",
    "jupyter": {
     "outputs_hidden": false,
     "source_hidden": false
    },
    "nteract": {
     "transient": {
      "deleting": false
     }
    },
    "outputId": "a1c3b0cf-0549-4f94-b4d0-1848f9b52093"
   },
   "outputs": [],
   "source": [
    "# Create an early termination policy. This is not required if you are using Bayesian sampling.\n",
    "policy = BanditPolicy(evaluation_interval=2, slack_factor=0.1)\n",
    "\n",
    "# Specify parameter sampler \n",
    "# Create the different params that you will be using during training\n",
    "\n",
    "ps = RandomParameterSampling(\n",
    "    {\n",
    "        '--C' : choice(0.001,0.01,0.1,1,10,20,50,100,200,500,1000),\n",
    "        '--max_iter': choice(50,100,200,300)\n",
    "    }\n",
    ")\n",
    "\n",
    "if \"training\" not in os.listdir():\n",
    "    os.mkdir(\"./training\")\n",
    "\n",
    "# Create a SKLearn estimator for use with train.py\n",
    "est = SKLearn(source_directory = \"./\",\n",
    "            compute_target=compute_target,\n",
    "            vm_size='STANDARD_DS3_V2',\n",
    "            entry_script=\"train.py\")\n",
    "\n",
    "# Create a HyperDriveConfig using the estimator, hyperparameter sampler, and policy.\n",
    "hyperdrive_config = HyperDriveConfig(hyperparameter_sampling=ps, \n",
    "                                     primary_metric_name='Accuracy',\n",
    "                                     primary_metric_goal=PrimaryMetricGoal.MAXIMIZE,\n",
    "                                     policy=policy,\n",
    "                                     estimator=est,\n",
    "                                     max_total_runs=16,\n",
    "                                     max_concurrent_runs=4)"
   ]
  },
  {
   "cell_type": "markdown",
   "metadata": {
    "collapsed": true,
    "gather": {
     "logged": 1598544898497
    },
    "id": "8ruJe1CH1oO3",
    "jupyter": {
     "outputs_hidden": false,
     "source_hidden": false
    },
    "nteract": {
     "transient": {
      "deleting": false
     }
    }
   },
   "source": [
    "## Run Details\n",
    "\n"
   ]
  },
  {
   "cell_type": "code",
   "execution_count": null,
   "metadata": {
    "colab": {
     "referenced_widgets": [
      "098d11506f2f417895f731cb3e599814"
     ]
    },
    "gather": {
     "logged": 1612605173529
    },
    "id": "LWNkarfI1oO4",
    "jupyter": {
     "outputs_hidden": false,
     "source_hidden": false
    },
    "nteract": {
     "transient": {
      "deleting": false
     }
    },
    "outputId": "2031a856-6de4-465f-be54-f92d68220cf8"
   },
   "outputs": [],
   "source": [
    "# Create an early termination policy. This is not required if you are using Bayesian sampling.\n",
    "policy = BanditPolicy(evaluation_interval=2, slack_factor=0.1)\n",
    "\n",
    "# Specify parameter sampler \n",
    "# Create the different params that you will be using during training\n",
    "\n",
    "ps = RandomParameterSampling(\n",
    "    {\n",
    "        '--C' : choice(0.001,0.01,0.1,1,10,20,50,100,200,500,1000),\n",
    "        '--max_iter': choice(50,100,200,300)\n",
    "    }\n",
    ")\n",
    "\n",
    "if \"training\" not in os.listdir():\n",
    "    os.mkdir(\"./training\")\n",
    "\n",
    "# Create a SKLearn estimator for use with train.py\n",
    "est = SKLearn(source_directory = \"./\",\n",
    "            compute_target=compute_target,\n",
    "            vm_size='STANDARD_DS3_V2',\n",
    "            entry_script=\"train.py\")\n",
    "\n",
    "# Create a HyperDriveConfig using the estimator, hyperparameter sampler, and policy.\n",
    "hyperdrive_config = HyperDriveConfig(hyperparameter_sampling=ps, \n",
    "                                     primary_metric_name='Accuracy',\n",
    "                                     primary_metric_goal=PrimaryMetricGoal.MAXIMIZE,\n",
    "                                     policy=policy,\n",
    "                                     estimator=est,\n",
    "                                     max_total_runs=16,\n",
    "                                     max_concurrent_runs=4)\n"
   ]
  },
  {
   "cell_type": "code",
   "execution_count": null,
   "metadata": {
    "gather": {
     "logged": 1612605409469
    },
    "id": "_M0wIYry2SSD",
    "jupyter": {
     "outputs_hidden": false,
     "source_hidden": false
    },
    "nteract": {
     "transient": {
      "deleting": false
     }
    },
    "outputId": "997c13da-961d-4a77-d367-15365574ce89"
   },
   "outputs": [],
   "source": [
    "\n",
    "# get_children_sorted_by_primary_metric: Returns a list of children sorted by their best primary metric.\n",
    "# Each child in the result has run id, hyperparameters, best primary metric value and status.\n",
    "\n",
    "print(hyperdrive_run.get_children_sorted_by_primary_metric(top=0, reverse=False, discard_no_metric=False))\n",
    "print('===================================================')\n",
    "\n",
    "# get_hyperparameters\n",
    "# Return the hyperparameters for all the child runs that were launched by this HyperDriveRun.\n",
    "\n",
    "print(hyperdrive_run.get_hyperparameters())\n",
    "print('===================================================')"
   ]
  },
  {
   "cell_type": "markdown",
   "metadata": {
    "id": "-C8zrRm81oO5"
   },
   "source": [
    "## Best Model\n"
   ]
  },
  {
   "cell_type": "code",
   "execution_count": null,
   "metadata": {
    "gather": {
     "logged": 1612605542601
    },
    "id": "OLja-FuI1oO5",
    "jupyter": {
     "outputs_hidden": false,
     "source_hidden": false
    },
    "nteract": {
     "transient": {
      "deleting": false
     }
    }
   },
   "outputs": [],
   "source": [
    "# Get the best run and save the model from that run.\n",
    "\n",
    "# get_best_run_by_primary_metric()\n",
    "# Returns the best Run, or None if no child has the primary metric.\n",
    "best_run = hyperdrive_run.get_best_run_by_primary_metric()\n",
    "\n",
    "# get_metrics()\n",
    "# Returns the metrics from all the runs that were launched by this HyperDriveRun.\n",
    "print(\"Best run metrics :\",best_run.get_metrics())\n",
    "print('===================================================')\n",
    "\n",
    "# get_details()\n",
    "# Returns a dictionary with the details for the run\n",
    "print(\"Best run details :\",best_run.get_details())\n",
    "print('===================================================')\n",
    "\n",
    "# get_file_names()\n",
    "# Returns a list of the files that are stored in association with the run.\n",
    "\n",
    "print(\"Best run file names :\",best_run.get_file_names())\n",
    "print('===================================================')"
   ]
  },
  {
   "cell_type": "markdown",
   "metadata": {
    "gather": {
     "logged": 1612605545128
    },
    "id": "OjdN27_5-77d",
    "outputId": "f84d1a03-38ca-4f39-c599-5a9cce873722"
   },
   "source": [
    "# Register the model"
   ]
  },
  {
   "cell_type": "code",
   "execution_count": null,
   "metadata": {
    "gather": {
     "logged": 1612605549227
    },
    "id": "ciOwyrE5-799",
    "outputId": "80eb443b-b37a-41f9-9e0e-ef0f3af066e1"
   },
   "outputs": [],
   "source": [
    "\n",
    "# Save the best model\n",
    "\n",
    "best_run.register_model(model_name = \"best_run_hyperdrive.pkl\", model_path = './outputs/')\n",
    "\n",
    "print(best_run)"
   ]
  },
  {
   "cell_type": "code",
   "execution_count": null,
   "metadata": {
    "gather": {
     "logged": 1612605568999
    },
    "id": "H0zQ78o51oO6",
    "jupyter": {
     "outputs_hidden": false,
     "source_hidden": false
    },
    "nteract": {
     "transient": {
      "deleting": false
     }
    }
   },
   "outputs": [],
   "source": [
    "# Download the model file\n",
    "\n",
    "best_run.download_file('outputs/model.pkl', 'hyperdrive_model.pkl')"
   ]
  },
  {
   "cell_type": "code",
   "execution_count": null,
   "metadata": {
    "gather": {
     "logged": 1612605571819
    },
    "id": "2Lm9PwMeSnGD",
    "outputId": "4e99e471-5df6-4bde-e8b8-c42f781e5ce0"
   },
   "outputs": [],
   "source": []
  }
 ],
 "metadata": {
  "colab": {
   "name": "hyperparameter_tuning.ipynb",
   "provenance": []
  },
  "kernel_info": {
   "name": "python3"
  },
  "kernelspec": {
   "display_name": "Python 3",
   "language": "python",
   "name": "python3"
  },
  "language_info": {
   "codemirror_mode": {
    "name": "ipython",
    "version": 3
   },
   "file_extension": ".py",
   "mimetype": "text/x-python",
   "name": "python",
   "nbconvert_exporter": "python",
   "pygments_lexer": "ipython3",
   "version": "3.8.5"
  },
  "nteract": {
   "version": "nteract-front-end@1.0.0"
  }
 },
 "nbformat": 4,
 "nbformat_minor": 1
}
