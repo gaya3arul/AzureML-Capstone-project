{
  "cells": [
    {
      "cell_type": "markdown",
      "source": [
        "# Automated ML\n",
        "\n",
        "# Dependencies\n",
        "\n",
        "All the dependencies needed to complete the project appear here\n"
      ],
      "metadata": {
        "id": "m16UdA-A1j-o"
      }
    },
    {
      "cell_type": "code",
      "source": [
        "\n",
        "import logging\n",
        "import os\n",
        "import csv\n",
        "\n",
        "from matplotlib import pyplot as plt\n",
        "import numpy as np\n",
        "import pandas as pd\n",
        "from sklearn import datasets\n",
        "import pkg_resources\n",
        "\n",
        "import azureml.core\n",
        "from azureml.core.experiment import Experiment\n",
        "from azureml.core.workspace import Workspace\n",
        "from azureml.train.automl import AutoMLConfig\n",
        "from azureml.core.dataset import Dataset\n",
        "from azureml.data.dataset_factory import TabularDatasetFactory\n",
        "\n",
        "from azureml.core.compute import AmlCompute\n",
        "from azureml.core.compute import ComputeTarget\n",
        "from azureml.core.compute_target import ComputeTargetException\n",
        "\n",
        "from azureml.pipeline.steps import AutoMLStep\n",
        "\n",
        "from azureml.widgets import RunDetails\n",
        "\n",
        "import joblib\n",
        "\n",
        "from azureml.core.environment import Environment \n",
        "from azureml.core.model import InferenceConfig \n",
        "from azureml.core.webservice import AciWebservice, Webservice\n",
        "from azureml.core.model import Model\n",
        "\n",
        "# Check core SDK version number\n",
        "print(\"SDK version:\", azureml.core.VERSION)"
      ],
      "outputs": [
        {
          "output_type": "stream",
          "name": "stdout",
          "text": [
            "SDK version: 1.22.0\n"
          ]
        }
      ],
      "execution_count": 35,
      "metadata": {
        "gather": {
          "logged": 1615057153419
        },
        "id": "CnAPTg4q1j-7",
        "jupyter": {
          "outputs_hidden": false,
          "source_hidden": false
        },
        "nteract": {
          "transient": {
            "deleting": false
          }
        }
      }
    },
    {
      "cell_type": "markdown",
      "source": [
        "# Workspace\n",
        "The config.json file is downloaded from Azure environment and has to be in the project folder in order for this cell to run"
      ],
      "metadata": {}
    },
    {
      "cell_type": "code",
      "source": [
        "ws = Workspace.get(name=\"quick-starts-ws-139954\",\n",
        "               subscription_id='f9d5a085-54dc-4215-9ba6-dad5d86e60a0',\n",
        "               resource_group='aml-quickstarts-139954')\n",
        "print(ws.name, ws.resource_group, ws.location, ws.subscription_id, sep = '\\n')"
      ],
      "outputs": [
        {
          "output_type": "stream",
          "name": "stdout",
          "text": [
            "quick-starts-ws-139954\n",
            "aml-quickstarts-139954\n",
            "southcentralus\n",
            "f9d5a085-54dc-4215-9ba6-dad5d86e60a0\n"
          ]
        }
      ],
      "execution_count": 32,
      "metadata": {
        "gather": {
          "logged": 1615057006742
        },
        "id": "jySGoEP91j-8",
        "jupyter": {
          "outputs_hidden": false,
          "source_hidden": false
        },
        "nteract": {
          "transient": {
            "deleting": false
          }
        }
      }
    },
    {
      "cell_type": "markdown",
      "source": [
        "# Create an Azure ML experiment\n",
        "\n",
        "I am creating an experiment named machine-failure-experiment and a folder to hold the training scripts. The script runs will be recorded under the experiment in Azure.\n",
        "\n",
        "The best practice is to use separate folders for scripts and its dependent files for each step and specify that folder as the source_directory for the step. This helps reduce the size of the snapshot created for the step (only the specific folder is snapshotted). Since changes in any files in the source_directory would trigger a re-upload of the snapshot, this helps keep the reuse of the step when there are no changes in the source_directory of the step."
      ],
      "metadata": {
        "nteract": {
          "transient": {
            "deleting": false
          }
        }
      }
    },
    {
      "cell_type": "code",
      "source": [
        "\n",
        "# Choose a name for the run history container in the workspace.\n",
        "\n",
        "experiment_name = 'machine-failure-prediction'\n",
        "project_folder = './capstone-project'\n",
        "\n",
        "experiment = Experiment(ws, experiment_name)\n",
        "experiment\n",
        "\n",
        "run = experiment.start_logging()"
      ],
      "outputs": [],
      "execution_count": 3,
      "metadata": {
        "gather": {
          "logged": 1615051521889
        },
        "id": "NVvCYLMA1-XM",
        "outputId": "d488f53a-4344-4fb9-e2d7-10a7fc6f77ab"
      }
    },
    {
      "cell_type": "markdown",
      "source": [
        "# Create or Attach a cluster\n",
        "\n",
        "We will need to create a compute target for the AutoML run. In case the compute target (named compute-cluster in this script) is not found, a new one is created using the default AmlCompute as the training compute resource"
      ],
      "metadata": {
        "collapsed": true,
        "gather": {
          "logged": 1612764729246
        },
        "jupyter": {
          "outputs_hidden": false,
          "source_hidden": false
        },
        "nteract": {
          "transient": {
            "deleting": false
          }
        }
      }
    },
    {
      "cell_type": "markdown",
      "source": [
        "#Configuring the Compute Cluster"
      ],
      "metadata": {
        "id": "CIa6e7wo5HKj"
      }
    },
    {
      "cell_type": "code",
      "source": [
        "\n",
        "# max_nodes should be no greater than 4.\n",
        "\n",
        "# Choose a name for the cluster\n",
        "cpu_cluster_name = \"cpu-cluster\"\n",
        "\n",
        "# Verify that cluster does not exist already\n",
        "try:\n",
        "    compute_target = ComputeTarget(workspace=ws, name=cpu_cluster_name)\n",
        "    print('Found existing cluster, use it.')\n",
        "except ComputeTargetException:\n",
        "    print('Creating a new compute cluster...')\n",
        "    # Poll for a minimum number of nodes (min_nodes = 1). \n",
        "    # If no min node count is provided it uses the scale settings for the cluster.\n",
        "    compute_config = AmlCompute.provisioning_configuration(vm_size='Standard_DS3_v2', min_nodes=1, max_nodes=7)\n",
        "    compute_target = ComputeTarget.create(ws, cpu_cluster_name, compute_config)\n",
        "\n",
        "compute_target.wait_for_completion(show_output=True)\n",
        "\n",
        "# use get_status() to get a detailed status for the current cluster. \n",
        "print(compute_target.get_status().serialize())"
      ],
      "outputs": [
        {
          "output_type": "stream",
          "name": "stdout",
          "text": [
            "Found existing cluster, use it.\n",
            "Succeeded\n",
            "AmlCompute wait for completion finished\n",
            "\n",
            "Minimum number of nodes requested have been provisioned\n",
            "{'currentNodeCount': 1, 'targetNodeCount': 1, 'nodeStateCounts': {'preparingNodeCount': 0, 'runningNodeCount': 0, 'idleNodeCount': 1, 'unusableNodeCount': 0, 'leavingNodeCount': 0, 'preemptedNodeCount': 0}, 'allocationState': 'Steady', 'allocationStateTransitionTime': '2021-03-06T17:18:15.888000+00:00', 'errors': None, 'creationTime': '2021-03-06T17:16:37.261588+00:00', 'modifiedTime': '2021-03-06T17:16:52.718986+00:00', 'provisioningState': 'Succeeded', 'provisioningStateTransitionTime': None, 'scaleSettings': {'minNodeCount': 1, 'maxNodeCount': 8, 'nodeIdleTimeBeforeScaleDown': 'PT120S'}, 'vmPriority': 'Dedicated', 'vmSize': 'STANDARD_DS3_V2'}\n"
          ]
        }
      ],
      "execution_count": 4,
      "metadata": {
        "gather": {
          "logged": 1615051545070
        },
        "id": "tLovR45p1j-9",
        "jupyter": {
          "outputs_hidden": false,
          "source_hidden": false
        },
        "nteract": {
          "transient": {
            "deleting": false
          }
        },
        "outputId": "aaa667dc-58c8-480a-c8ce-91777443097c"
      }
    },
    {
      "cell_type": "markdown",
      "source": [
        "## Dataset\n",
        "\n",
        "### Overview\n",
        "The dataset is taken from kaggle : \"https://www.kaggle.com/c/machine-failure-prediction/data?select=train.csv\".\n",
        "\n"
      ],
      "metadata": {
        "id": "VqJfYVVO1j-8"
      }
    },
    {
      "cell_type": "code",
      "source": [
        "\n",
        "data = pd.read_csv('./train.csv')\n",
        "\n",
        "found = False\n",
        "key = \"machine-failure-dataset\"\n",
        "description_text = \"Prediction of machine failure using various parameters\"\n",
        "\n",
        "if key in ws.datasets.keys(): \n",
        "        found = True\n",
        "        dataset = ws.datasets[key] \n",
        "\n",
        "if not found:\n",
        "        # Create AML Dataset and register it into Workspace\n",
        "        my_dataset = 'https://www.kaggle.com/c/machine-failure-prediction/data?select=train.csv'\n",
        "        dataset = Dataset.Tabular.from_delimited_files(my_dataset)        \n",
        "        # Register Dataset in Workspace\n",
        "        dataset = dataset.register(workspace=ws,\n",
        "                                   name=key,\n",
        "                                   description=description_text)\n",
        "                                \n",
        "# Preview of the first five rows\n",
        "print(data.head())\n",
        "\n",
        "# Explore data\n",
        "print(data.describe())\n",
        "\n",
        "df = dataset.to_pandas_dataframe()\n",
        "df.describe()\n",
        "\n",
        "# Data columns\n",
        "df.columns = ['ID', 'Date', 'Temperature', 'Humidity','Operator','Measure1', 'Measure2','Measure3','Measure4','Measure5','Measure6','Measure7','Measure8','Measure9','Measure10','Measure11','Measure12','Measure13','Measure14','Measure15','Hours Since Previous Failure','Failure','?Date.year','?Date.month','?Date.day-of-month','?Date.day-of-week','?Date.hour','?Date.minute','?Date.second']\n",
        "x = df[['ID', 'Date', 'Temperature', 'Humidity','Operator', 'Measure1', 'Measure2','Measure3','Measure4','Measure5','Measure6','Measure7','Measure8','Measure9','Measure10','Measure11','Measure12','Measure13','Measure14','Measure15','Hours Since Previous Failure','?Date.year','?Date.month','?Date.day-of-month','?Date.day-of-week','?Date.hour','?Date.minute','?Date.second']]\n",
        "y = df[['Failure']]"
      ],
      "outputs": [
        {
          "output_type": "stream",
          "name": "stdout",
          "text": [
            "   ID              Date  Temperature  Humidity   Operator  Measure1  Measure2  \\\n",
            "0   1  01-01-2016 00:00           67        82  Operator1       291         1   \n",
            "1   2  01-01-2016 01:00           68        77  Operator1      1180         1   \n",
            "2   3  01-01-2016 02:00           64        76  Operator1      1406         1   \n",
            "3   4  01-01-2016 03:00           63        80  Operator1       550         1   \n",
            "4   5  01-01-2016 04:00           65        81  Operator1      1928         1   \n",
            "\n",
            "   Measure3  Measure4  Measure5  ...  Measure15  Hours Since Previous Failure  \\\n",
            "0         1      1041       846  ...       1842                            90   \n",
            "1         1      1915      1194  ...        748                            91   \n",
            "2         1       511      1577  ...       1689                            92   \n",
            "3         1      1754      1834  ...        711                            93   \n",
            "4         2      1326      1082  ...        507                            94   \n",
            "\n",
            "   Failure  ?Date.year  ?Date.month  ?Date.day-of-month  ?Date.day-of-week  \\\n",
            "0       No        2016            1                   1                  5   \n",
            "1       No        2016            1                   1                  5   \n",
            "2       No        2016            1                   1                  5   \n",
            "3       No        2016            1                   1                  5   \n",
            "4       No        2016            1                   1                  5   \n",
            "\n",
            "   ?Date.hour  ?Date.minute  ?Date.second  \n",
            "0           0             0             0  \n",
            "1           1             0             0  \n",
            "2           2             0             0  \n",
            "3           3             0             0  \n",
            "4           4             0             0  \n",
            "\n",
            "[5 rows x 29 columns]\n",
            "                ID  Temperature     Humidity     Measure1     Measure2  \\\n",
            "count  7905.000000  7905.000000  7905.000000  7905.000000  7905.000000   \n",
            "mean   3953.000000    64.031499    83.708412  1093.461354     1.488931   \n",
            "std    2282.121272     2.885008     4.824696   535.519165     1.114934   \n",
            "min       1.000000     5.000000    65.000000   155.000000     0.000000   \n",
            "25%    1977.000000    62.000000    80.000000   633.000000     0.000000   \n",
            "50%    3953.000000    64.000000    84.000000  1099.000000     2.000000   \n",
            "75%    5929.000000    66.000000    87.000000  1556.000000     2.000000   \n",
            "max    7905.000000    78.000000   122.000000  2011.000000     3.000000   \n",
            "\n",
            "          Measure3     Measure4     Measure5     Measure6     Measure7  ...  \\\n",
            "count  7905.000000  7905.000000  7905.000000  7905.000000  7905.000000  ...   \n",
            "mean      1.002277  1068.775206  1075.298166  1077.784187  1089.264263  ...   \n",
            "std       0.813907   535.608830   533.723885   533.424014   537.138773  ...   \n",
            "min       0.000000   155.000000   155.000000   155.000000   155.000000  ...   \n",
            "25%       0.000000   605.000000   604.000000   626.000000   625.000000  ...   \n",
            "50%       1.000000  1056.000000  1075.000000  1073.000000  1091.000000  ...   \n",
            "75%       2.000000  1530.000000  1542.000000  1541.000000  1561.000000  ...   \n",
            "max       2.000000  2011.000000  2011.000000  2011.000000  2011.000000  ...   \n",
            "\n",
            "         Measure14    Measure15  Hours Since Previous Failure  ?Date.year  \\\n",
            "count  7905.000000  7905.000000                   7905.000000      7905.0   \n",
            "mean   1091.156357  1083.807717                    210.322454      2016.0   \n",
            "std     536.730228   536.976481                    143.846069         0.0   \n",
            "min     155.000000   155.000000                      1.000000      2016.0   \n",
            "25%     621.000000   616.000000                     89.000000      2016.0   \n",
            "50%    1090.000000  1078.000000                    192.000000      2016.0   \n",
            "75%    1564.000000  1552.000000                    314.000000      2016.0   \n",
            "max    2011.000000  2011.000000                    597.000000      2016.0   \n",
            "\n",
            "       ?Date.month  ?Date.day-of-month  ?Date.day-of-week   ?Date.hour  \\\n",
            "count  7905.000000         7905.000000        7905.000000  7905.000000   \n",
            "mean      5.920683           15.530550           4.001139    11.491461   \n",
            "std       3.115832            8.731102           1.999272     6.923853   \n",
            "min       1.000000            1.000000           1.000000     0.000000   \n",
            "25%       3.000000            8.000000           2.000000     5.000000   \n",
            "50%       6.000000           15.000000           4.000000    11.000000   \n",
            "75%       9.000000           23.000000           6.000000    17.000000   \n",
            "max      11.000000           31.000000           7.000000    23.000000   \n",
            "\n",
            "       ?Date.minute  ?Date.second  \n",
            "count        7905.0        7905.0  \n",
            "mean            0.0           0.0  \n",
            "std             0.0           0.0  \n",
            "min             0.0           0.0  \n",
            "25%             0.0           0.0  \n",
            "50%             0.0           0.0  \n",
            "75%             0.0           0.0  \n",
            "max             0.0           0.0  \n",
            "\n",
            "[8 rows x 26 columns]\n"
          ]
        }
      ],
      "execution_count": 12,
      "metadata": {
        "gather": {
          "logged": 1615052907058
        },
        "id": "PEZ0rTEU2IO8",
        "outputId": "6e1d3cb8-9541-43d2-d659-2c9545c99783"
      }
    },
    {
      "cell_type": "code",
      "source": [],
      "outputs": [],
      "execution_count": 7,
      "metadata": {
        "gather": {
          "logged": 1612764763165
        },
        "id": "1lnyck-m2L_S"
      }
    },
    {
      "cell_type": "markdown",
      "source": [
        "## AutoML Configuration\n",
        "\n",
        "\n",
        "AutoML Configuration\n",
        "Here is an overview of the automl settings and configuration I used for the AutoML run:\n",
        "\n",
        "\"n_cross_validations\": 2\n",
        "\n",
        "This parameter sets how many cross validations to perform, based on the same number of folds (number of subsets). As one cross-validation could result in overfit, in my code I chose 2 folds for cross-validation; thus the metrics are calculated with the average of the 2 validation metrics.\n",
        "\n",
        "\"primary_metric\": 'accuracy'\n",
        "\n",
        "I chose accuracy as the primary metric as it is the default metric used for classification tasks.\n",
        "\n",
        "\"enable_early_stopping\": True\n",
        "\n",
        "It defines to enable early termination if the score is not improving in the short term. In this experiment, it could also be omitted because the _experiment_timeoutminutes is already defined below.\n",
        "\n",
        "\"max_concurrent_iterations\": 4\n",
        "\n",
        "It represents the maximum number of iterations that would be executed in parallel.\n",
        "\n",
        "\"experiment_timeout_minutes\": 20\n",
        "\n",
        "This is an exit criterion and is used to define how long, in minutes, the experiment should continue to run. To help avoid experiment time out failures, I used the value of 20 minutes.\n",
        "\n",
        "\"verbosity\": logging.INFO\n",
        "\n",
        "The verbosity level for writing to the log file.\n",
        "\n",
        "compute_target = compute_target\n",
        "\n",
        "The Azure Machine Learning compute target to run the Automated Machine Learning experiment on.\n",
        "\n",
        "task = 'classification'\n",
        "\n",
        "This defines the experiment type which in this case is classification. Other options are regression and forecasting.\n",
        "\n",
        "training_data = dataset\n",
        "\n",
        "The training data to be used within the experiment. It should contain both training features and a label column - see next parameter.\n",
        "\n",
        "label_column_name = 'DEATH_EVENT'\n",
        "\n",
        "The name of the label column i.e. the target column based on which the prediction is done.\n",
        "\n",
        "path = project_folder\n",
        "\n",
        "The full path to the Azure Machine Learning project folder.\n",
        "\n",
        "featurization = 'auto'\n",
        "\n",
        "This parameter defines whether featurization step should be done automatically as in this case (auto) or not (off).\n",
        "\n",
        "debug_log = 'automl_errors.log\n",
        "\n",
        "The log file to write debug information to.\n",
        "\n",
        "enable_onnx_compatible_models = False\n",
        "\n",
        "I chose not to enable enforcing the ONNX-compatible models at this stage. However, I will try it in the future. For more info on Open Neural Network Exchange (ONNX), please see here."
      ],
      "metadata": {
        "id": "qo5Drc4y1j-9"
      }
    },
    {
      "cell_type": "code",
      "source": [
        "\n",
        "# Automl settings\n",
        "\n",
        "automl_settings = {\"n_cross_validations\": 2,\n",
        "                    \"primary_metric\": 'accuracy',\n",
        "                    \"enable_early_stopping\": True,\n",
        "                    \"max_concurrent_iterations\": 4,\n",
        "                    \"experiment_timeout_minutes\": 20,\n",
        "                    \"verbosity\": logging.INFO\n",
        "                    }\n",
        "\n",
        "# Parameters for AutoMLConfig\n",
        "\n",
        "automl_config = AutoMLConfig(compute_target = compute_target,\n",
        "                            task='classification',\n",
        "                            training_data=dataset,\n",
        "                            label_column_name='Failure',\n",
        "                            path = project_folder,\n",
        "                            featurization= 'auto',\n",
        "                            debug_log = \"automl_errors.log\",\n",
        "                            enable_onnx_compatible_models=False,\n",
        "                            blocked_models=['XGBoostClassifier'],\n",
        "                            **automl_settings\n",
        "                            )"
      ],
      "outputs": [],
      "execution_count": 37,
      "metadata": {
        "gather": {
          "logged": 1615057837216
        },
        "id": "iokpiJb52M4Y"
      }
    },
    {
      "cell_type": "code",
      "source": [
        "\n",
        "# Submit the experiment\n",
        "\n",
        "remote_run = experiment.submit(automl_config, show_output = True)\n",
        "remote_run.wait_for_completion()"
      ],
      "outputs": [
        {
          "output_type": "stream",
          "name": "stdout",
          "text": [
            "Running on remote.\n",
            "No run_configuration provided, running on cpu-cluster with default configuration\n",
            "Running on remote compute: cpu-cluster\n",
            "Parent Run ID: AutoML_3b267046-c349-4020-a32f-ceb49235dc7e\n",
            "\n",
            "Current status: FeaturesGeneration. Generating features for the dataset.\n",
            "Current status: DatasetFeaturization. Beginning to fit featurizers and featurize the dataset.\n",
            "Current status: DatasetBalancing. Performing class balancing sweeping\n",
            "Current status: DatasetCrossValidationSplit. Generating individually featurized CV splits.\n",
            "Current status: ModelSelection. Beginning model selection.\n",
            "\n",
            "****************************************************************************************************\n",
            "DATA GUARDRAILS: \n",
            "\n",
            "TYPE:         Class balancing detection\n",
            "STATUS:       ALERTED\n",
            "DESCRIPTION:  To decrease model bias, please cancel the current run and fix balancing problem.\n",
            "              Learn more about imbalanced data: https://aka.ms/AutomatedMLImbalancedData\n",
            "DETAILS:      Imbalanced data can lead to a falsely perceived positive effect of a model's accuracy because the input data has bias towards one class.\n",
            "+---------------------------------+---------------------------------+--------------------------------------+\n",
            "|Size of the smallest class       |Name/Label of the smallest class |Number of samples in the training data|\n",
            "+=================================+=================================+======================================+\n",
            "|75                               |True                             |7905                                  |\n",
            "+---------------------------------+---------------------------------+--------------------------------------+\n",
            "\n",
            "****************************************************************************************************\n",
            "\n",
            "TYPE:         Missing feature values imputation\n",
            "STATUS:       DONE\n",
            "DESCRIPTION:  If the missing values are expected, let the run complete. Otherwise cancel the current run and use a script to customize the handling of missing feature values that may be more appropriate based on the data type and business requirement.\n",
            "              Learn more about missing value imputation: https://aka.ms/AutomatedMLFeaturization\n",
            "DETAILS:      \n",
            "+---------------------------------+---------------------------------+\n",
            "|Column name                      |Missing value count              |\n",
            "+=================================+=================================+\n",
            "|Date                             |4737                             |\n",
            "+---------------------------------+---------------------------------+\n",
            "\n",
            "****************************************************************************************************\n",
            "\n",
            "TYPE:         High cardinality feature detection\n",
            "STATUS:       PASSED\n",
            "DESCRIPTION:  Your inputs were analyzed, and no high cardinality features were detected.\n",
            "              Learn more about high cardinality feature handling: https://aka.ms/AutomatedMLFeaturization\n",
            "\n",
            "****************************************************************************************************\n",
            "\n",
            "****************************************************************************************************\n",
            "ITERATION: The iteration being evaluated.\n",
            "PIPELINE: A summary description of the pipeline being evaluated.\n",
            "DURATION: Time taken for the current iteration.\n",
            "METRIC: The result of computing score on the fitted pipeline.\n",
            "BEST: The best observed score thus far.\n",
            "****************************************************************************************************\n",
            "\n",
            " ITERATION   PIPELINE                                       DURATION      METRIC      BEST\n",
            "         3   MaxAbsScaler RandomForest                      0:00:46       0.9871    0.9871\n",
            "         2   MaxAbsScaler RandomForest                      0:00:50       0.9905    0.9905\n",
            "         0   MaxAbsScaler LightGBM                          0:00:46       0.9918    0.9918\n",
            "         6   SparseNormalizer LogisticRegression            0:00:54       0.9905    0.9918\n",
            "         4   MaxAbsScaler RandomForest                      0:01:54       0.9532    0.9918\n",
            "         5   MaxAbsScaler SGD                               0:01:52       0.9941    0.9941\n",
            "         1   MaxAbsScaler RandomForest                      0:02:15       0.9905    0.9941\n",
            "         8   MaxAbsScaler LightGBM                          0:00:44       0.9905    0.9941\n",
            "         7   MaxAbsScaler ExtremeRandomTrees                0:00:56       0.9905    0.9941\n",
            "         9   StandardScalerWrapper GradientBoosting         0:00:53       0.9905    0.9941\n",
            "        10   MaxAbsScaler LightGBM                          0:00:55       0.9905    0.9941\n",
            "        11   StandardScalerWrapper ExtremeRandomTrees       0:00:49       0.9905    0.9941\n",
            "        12   MaxAbsScaler RandomForest                      0:00:45       0.9905    0.9941\n",
            "        13   StandardScalerWrapper LightGBM                 0:00:52       0.9905    0.9941\n",
            "        14   StandardScalerWrapper LightGBM                 0:00:58       0.9905    0.9941\n",
            "        15   SparseNormalizer LightGBM                      0:00:45       0.9903    0.9941\n",
            "        16   SparseNormalizer LightGBM                      0:00:51       0.9905    0.9941\n",
            "        17   SparseNormalizer ExtremeRandomTrees            0:00:53       0.9905    0.9941\n",
            "        18   MaxAbsScaler LightGBM                          0:00:45       0.9905    0.9941\n",
            "        19   MaxAbsScaler LightGBM                          0:00:42       0.9905    0.9941\n",
            "        20   SparseNormalizer LightGBM                      0:00:54       0.9903    0.9941\n",
            "        21   StandardScalerWrapper ExtremeRandomTrees       0:01:03       0.9905    0.9941\n",
            "        22   StandardScalerWrapper LightGBM                 0:01:09       0.9905    0.9941\n",
            "        23   MaxAbsScaler RandomForest                      0:00:47       0.9905    0.9941\n",
            "        24   MaxAbsScaler LightGBM                          0:00:50       0.9905    0.9941\n",
            "        25   TruncatedSVDWrapper SGD                        0:00:46       0.2730    0.9941\n",
            "        26   StandardScalerWrapper LightGBM                 0:00:42       0.9905    0.9941\n",
            "        27   MaxAbsScaler LogisticRegression                0:00:52       0.9929    0.9941\n",
            "        28   MaxAbsScaler LogisticRegression                0:00:52       0.9935    0.9941\n",
            "        29   MaxAbsScaler LightGBM                          0:00:45       0.9905    0.9941\n",
            "        30   MaxAbsScaler SGD                               0:00:49       0.9905    0.9941\n",
            "        31   StandardScalerWrapper ExtremeRandomTrees       0:00:56       0.9905    0.9941\n",
            "        32   StandardScalerWrapper ExtremeRandomTrees       0:00:45       0.9905    0.9941\n",
            "        33   MaxAbsScaler ExtremeRandomTrees                0:00:34       0.9905    0.9941\n",
            "        34                                                  0:00:24          nan    0.9941\n",
            "        35                                                  0:00:07          nan    0.9941\n",
            "        36    VotingEnsemble                                0:01:03       0.9939    0.9941\n",
            "        37    StackEnsemble                                 0:01:12       0.9927    0.9941\n"
          ]
        },
        {
          "output_type": "execute_result",
          "execution_count": 38,
          "data": {
            "text/plain": "{'runId': 'AutoML_3b267046-c349-4020-a32f-ceb49235dc7e',\n 'target': 'cpu-cluster',\n 'status': 'Completed',\n 'startTimeUtc': '2021-03-06T19:11:03.5873Z',\n 'endTimeUtc': '2021-03-06T19:26:54.894778Z',\n 'properties': {'num_iterations': '1000',\n  'training_type': 'TrainFull',\n  'acquisition_function': 'EI',\n  'primary_metric': 'accuracy',\n  'train_split': '0',\n  'acquisition_parameter': '0',\n  'num_cross_validation': '2',\n  'target': 'cpu-cluster',\n  'AMLSettingsJsonString': '{\"path\":null,\"name\":\"machine-failure-prediction\",\"subscription_id\":\"f9d5a085-54dc-4215-9ba6-dad5d86e60a0\",\"resource_group\":\"aml-quickstarts-139954\",\"workspace_name\":\"quick-starts-ws-139954\",\"region\":\"southcentralus\",\"compute_target\":\"cpu-cluster\",\"spark_service\":null,\"azure_service\":\"remote\",\"many_models\":false,\"pipeline_fetch_max_batch_size\":1,\"iterations\":1000,\"primary_metric\":\"accuracy\",\"task_type\":\"classification\",\"data_script\":null,\"validation_size\":0.0,\"n_cross_validations\":2,\"y_min\":null,\"y_max\":null,\"num_classes\":null,\"featurization\":\"auto\",\"_ignore_package_version_incompatibilities\":false,\"is_timeseries\":false,\"max_cores_per_iteration\":1,\"max_concurrent_iterations\":4,\"iteration_timeout_minutes\":null,\"mem_in_mb\":null,\"enforce_time_on_windows\":false,\"experiment_timeout_minutes\":20,\"experiment_exit_score\":null,\"whitelist_models\":null,\"blacklist_algos\":[\"XGBoostClassifier\",\"TensorFlowLinearClassifier\",\"TensorFlowDNN\"],\"supported_models\":[\"BernoulliNaiveBayes\",\"ExtremeRandomTrees\",\"LogisticRegression\",\"MultinomialNaiveBayes\",\"LinearSVM\",\"DecisionTree\",\"TensorFlowDNN\",\"XGBoostClassifier\",\"RandomForest\",\"KNN\",\"SVM\",\"LightGBM\",\"TensorFlowLinearClassifier\",\"AveragedPerceptronClassifier\",\"SGD\",\"GradientBoosting\"],\"private_models\":[],\"auto_blacklist\":true,\"blacklist_samples_reached\":false,\"exclude_nan_labels\":true,\"verbosity\":20,\"_debug_log\":\"azureml_automl.log\",\"show_warnings\":false,\"model_explainability\":true,\"service_url\":null,\"sdk_url\":null,\"sdk_packages\":null,\"enable_onnx_compatible_models\":false,\"enable_split_onnx_featurizer_estimator_models\":false,\"vm_type\":\"STANDARD_DS3_V2\",\"telemetry_verbosity\":20,\"send_telemetry\":true,\"enable_dnn\":false,\"scenario\":\"SDK-1.13.0\",\"environment_label\":null,\"force_text_dnn\":false,\"enable_feature_sweeping\":true,\"enable_early_stopping\":true,\"early_stopping_n_iters\":10,\"metrics\":null,\"enable_ensembling\":true,\"enable_stack_ensembling\":true,\"ensemble_iterations\":15,\"enable_tf\":false,\"enable_subsampling\":null,\"subsample_seed\":null,\"enable_nimbusml\":false,\"enable_streaming\":false,\"force_streaming\":false,\"track_child_runs\":true,\"allowed_private_models\":[],\"label_column_name\":\"Failure\",\"weight_column_name\":null,\"cv_split_column_names\":null,\"enable_local_managed\":false,\"_local_managed_run_id\":null,\"cost_mode\":1,\"lag_length\":0,\"metric_operation\":\"maximize\",\"preprocess\":true}',\n  'DataPrepJsonString': '{\\\\\"training_data\\\\\": \\\\\"{\\\\\\\\\\\\\"blocks\\\\\\\\\\\\\": [{\\\\\\\\\\\\\"id\\\\\\\\\\\\\": \\\\\\\\\\\\\"0ce5c253-4931-442f-9429-895e8af1de39\\\\\\\\\\\\\", \\\\\\\\\\\\\"type\\\\\\\\\\\\\": \\\\\\\\\\\\\"Microsoft.DPrep.GetDatastoreFilesBlock\\\\\\\\\\\\\", \\\\\\\\\\\\\"arguments\\\\\\\\\\\\\": {\\\\\\\\\\\\\"datastores\\\\\\\\\\\\\": [{\\\\\\\\\\\\\"datastoreName\\\\\\\\\\\\\": \\\\\\\\\\\\\"workspaceblobstore\\\\\\\\\\\\\", \\\\\\\\\\\\\"path\\\\\\\\\\\\\": \\\\\\\\\\\\\"UI/03-06-2021_051746_UTC/train.csv\\\\\\\\\\\\\", \\\\\\\\\\\\\"resourceGroup\\\\\\\\\\\\\": \\\\\\\\\\\\\"aml-quickstarts-139954\\\\\\\\\\\\\", \\\\\\\\\\\\\"subscription\\\\\\\\\\\\\": \\\\\\\\\\\\\"f9d5a085-54dc-4215-9ba6-dad5d86e60a0\\\\\\\\\\\\\", \\\\\\\\\\\\\"workspaceName\\\\\\\\\\\\\": \\\\\\\\\\\\\"quick-starts-ws-139954\\\\\\\\\\\\\"}]}, \\\\\\\\\\\\\"localData\\\\\\\\\\\\\": {}, \\\\\\\\\\\\\"isEnabled\\\\\\\\\\\\\": true, \\\\\\\\\\\\\"name\\\\\\\\\\\\\": null, \\\\\\\\\\\\\"annotation\\\\\\\\\\\\\": null}, {\\\\\\\\\\\\\"id\\\\\\\\\\\\\": \\\\\\\\\\\\\"8045aa83-58e2-482d-a661-a9fd6b26e22a\\\\\\\\\\\\\", \\\\\\\\\\\\\"type\\\\\\\\\\\\\": \\\\\\\\\\\\\"Microsoft.DPrep.ParseDelimitedBlock\\\\\\\\\\\\\", \\\\\\\\\\\\\"arguments\\\\\\\\\\\\\": {\\\\\\\\\\\\\"columnHeadersMode\\\\\\\\\\\\\": 1, \\\\\\\\\\\\\"fileEncoding\\\\\\\\\\\\\": 0, \\\\\\\\\\\\\"handleQuotedLineBreaks\\\\\\\\\\\\\": false, \\\\\\\\\\\\\"preview\\\\\\\\\\\\\": false, \\\\\\\\\\\\\"separator\\\\\\\\\\\\\": \\\\\\\\\\\\\",\\\\\\\\\\\\\", \\\\\\\\\\\\\"skipRows\\\\\\\\\\\\\": 0, \\\\\\\\\\\\\"skipRowsMode\\\\\\\\\\\\\": 0}, \\\\\\\\\\\\\"localData\\\\\\\\\\\\\": {}, \\\\\\\\\\\\\"isEnabled\\\\\\\\\\\\\": true, \\\\\\\\\\\\\"name\\\\\\\\\\\\\": null, \\\\\\\\\\\\\"annotation\\\\\\\\\\\\\": null}, {\\\\\\\\\\\\\"id\\\\\\\\\\\\\": \\\\\\\\\\\\\"6205ab1f-dea4-49ac-99d6-5b00b0592104\\\\\\\\\\\\\", \\\\\\\\\\\\\"type\\\\\\\\\\\\\": \\\\\\\\\\\\\"Microsoft.DPrep.DropColumnsBlock\\\\\\\\\\\\\", \\\\\\\\\\\\\"arguments\\\\\\\\\\\\\": {\\\\\\\\\\\\\"columns\\\\\\\\\\\\\": {\\\\\\\\\\\\\"type\\\\\\\\\\\\\": 0, \\\\\\\\\\\\\"details\\\\\\\\\\\\\": {\\\\\\\\\\\\\"selectedColumns\\\\\\\\\\\\\": [\\\\\\\\\\\\\"Path\\\\\\\\\\\\\"]}}}, \\\\\\\\\\\\\"localData\\\\\\\\\\\\\": {}, \\\\\\\\\\\\\"isEnabled\\\\\\\\\\\\\": true, \\\\\\\\\\\\\"name\\\\\\\\\\\\\": null, \\\\\\\\\\\\\"annotation\\\\\\\\\\\\\": null}, {\\\\\\\\\\\\\"id\\\\\\\\\\\\\": \\\\\\\\\\\\\"65115904-ae3b-4754-bda3-0459e04baa31\\\\\\\\\\\\\", \\\\\\\\\\\\\"type\\\\\\\\\\\\\": \\\\\\\\\\\\\"Microsoft.DPrep.SetColumnTypesBlock\\\\\\\\\\\\\", \\\\\\\\\\\\\"arguments\\\\\\\\\\\\\": {\\\\\\\\\\\\\"columnConversion\\\\\\\\\\\\\": [{\\\\\\\\\\\\\"column\\\\\\\\\\\\\": {\\\\\\\\\\\\\"type\\\\\\\\\\\\\": 2, \\\\\\\\\\\\\"details\\\\\\\\\\\\\": {\\\\\\\\\\\\\"selectedColumn\\\\\\\\\\\\\": \\\\\\\\\\\\\"Path\\\\\\\\\\\\\"}}, \\\\\\\\\\\\\"typeProperty\\\\\\\\\\\\\": 0}, {\\\\\\\\\\\\\"column\\\\\\\\\\\\\": {\\\\\\\\\\\\\"type\\\\\\\\\\\\\": 2, \\\\\\\\\\\\\"details\\\\\\\\\\\\\": {\\\\\\\\\\\\\"selectedColumn\\\\\\\\\\\\\": \\\\\\\\\\\\\"ID\\\\\\\\\\\\\"}}, \\\\\\\\\\\\\"typeProperty\\\\\\\\\\\\\": 2}, {\\\\\\\\\\\\\"column\\\\\\\\\\\\\": {\\\\\\\\\\\\\"type\\\\\\\\\\\\\": 2, \\\\\\\\\\\\\"details\\\\\\\\\\\\\": {\\\\\\\\\\\\\"selectedColumn\\\\\\\\\\\\\": \\\\\\\\\\\\\"Date\\\\\\\\\\\\\"}}, \\\\\\\\\\\\\"typeArguments\\\\\\\\\\\\\": {\\\\\\\\\\\\\"dateTimeFormats\\\\\\\\\\\\\": [\\\\\\\\\\\\\"%m-%d-%Y %H:%M\\\\\\\\\\\\\"]}, \\\\\\\\\\\\\"typeProperty\\\\\\\\\\\\\": 4}, {\\\\\\\\\\\\\"column\\\\\\\\\\\\\": {\\\\\\\\\\\\\"type\\\\\\\\\\\\\": 2, \\\\\\\\\\\\\"details\\\\\\\\\\\\\": {\\\\\\\\\\\\\"selectedColumn\\\\\\\\\\\\\": \\\\\\\\\\\\\"Temperature\\\\\\\\\\\\\"}}, \\\\\\\\\\\\\"typeProperty\\\\\\\\\\\\\": 2}, {\\\\\\\\\\\\\"column\\\\\\\\\\\\\": {\\\\\\\\\\\\\"type\\\\\\\\\\\\\": 2, \\\\\\\\\\\\\"details\\\\\\\\\\\\\": {\\\\\\\\\\\\\"selectedColumn\\\\\\\\\\\\\": \\\\\\\\\\\\\"Humidity\\\\\\\\\\\\\"}}, \\\\\\\\\\\\\"typeProperty\\\\\\\\\\\\\": 2}, {\\\\\\\\\\\\\"column\\\\\\\\\\\\\": {\\\\\\\\\\\\\"type\\\\\\\\\\\\\": 2, \\\\\\\\\\\\\"details\\\\\\\\\\\\\": {\\\\\\\\\\\\\"selectedColumn\\\\\\\\\\\\\": \\\\\\\\\\\\\"Operator\\\\\\\\\\\\\"}}, \\\\\\\\\\\\\"typeProperty\\\\\\\\\\\\\": 0}, {\\\\\\\\\\\\\"column\\\\\\\\\\\\\": {\\\\\\\\\\\\\"type\\\\\\\\\\\\\": 2, \\\\\\\\\\\\\"details\\\\\\\\\\\\\": {\\\\\\\\\\\\\"selectedColumn\\\\\\\\\\\\\": \\\\\\\\\\\\\"Measure1\\\\\\\\\\\\\"}}, \\\\\\\\\\\\\"typeProperty\\\\\\\\\\\\\": 2}, {\\\\\\\\\\\\\"column\\\\\\\\\\\\\": {\\\\\\\\\\\\\"type\\\\\\\\\\\\\": 2, \\\\\\\\\\\\\"details\\\\\\\\\\\\\": {\\\\\\\\\\\\\"selectedColumn\\\\\\\\\\\\\": \\\\\\\\\\\\\"Measure2\\\\\\\\\\\\\"}}, \\\\\\\\\\\\\"typeProperty\\\\\\\\\\\\\": 2}, {\\\\\\\\\\\\\"column\\\\\\\\\\\\\": {\\\\\\\\\\\\\"type\\\\\\\\\\\\\": 2, \\\\\\\\\\\\\"details\\\\\\\\\\\\\": {\\\\\\\\\\\\\"selectedColumn\\\\\\\\\\\\\": \\\\\\\\\\\\\"Measure3\\\\\\\\\\\\\"}}, \\\\\\\\\\\\\"typeProperty\\\\\\\\\\\\\": 2}, {\\\\\\\\\\\\\"column\\\\\\\\\\\\\": {\\\\\\\\\\\\\"type\\\\\\\\\\\\\": 2, \\\\\\\\\\\\\"details\\\\\\\\\\\\\": {\\\\\\\\\\\\\"selectedColumn\\\\\\\\\\\\\": \\\\\\\\\\\\\"Measure4\\\\\\\\\\\\\"}}, \\\\\\\\\\\\\"typeProperty\\\\\\\\\\\\\": 2}, {\\\\\\\\\\\\\"column\\\\\\\\\\\\\": {\\\\\\\\\\\\\"type\\\\\\\\\\\\\": 2, \\\\\\\\\\\\\"details\\\\\\\\\\\\\": {\\\\\\\\\\\\\"selectedColumn\\\\\\\\\\\\\": \\\\\\\\\\\\\"Measure5\\\\\\\\\\\\\"}}, \\\\\\\\\\\\\"typeProperty\\\\\\\\\\\\\": 2}, {\\\\\\\\\\\\\"column\\\\\\\\\\\\\": {\\\\\\\\\\\\\"type\\\\\\\\\\\\\": 2, \\\\\\\\\\\\\"details\\\\\\\\\\\\\": {\\\\\\\\\\\\\"selectedColumn\\\\\\\\\\\\\": \\\\\\\\\\\\\"Measure6\\\\\\\\\\\\\"}}, \\\\\\\\\\\\\"typeProperty\\\\\\\\\\\\\": 2}, {\\\\\\\\\\\\\"column\\\\\\\\\\\\\": {\\\\\\\\\\\\\"type\\\\\\\\\\\\\": 2, \\\\\\\\\\\\\"details\\\\\\\\\\\\\": {\\\\\\\\\\\\\"selectedColumn\\\\\\\\\\\\\": \\\\\\\\\\\\\"Measure7\\\\\\\\\\\\\"}}, \\\\\\\\\\\\\"typeProperty\\\\\\\\\\\\\": 2}, {\\\\\\\\\\\\\"column\\\\\\\\\\\\\": {\\\\\\\\\\\\\"type\\\\\\\\\\\\\": 2, \\\\\\\\\\\\\"details\\\\\\\\\\\\\": {\\\\\\\\\\\\\"selectedColumn\\\\\\\\\\\\\": \\\\\\\\\\\\\"Measure8\\\\\\\\\\\\\"}}, \\\\\\\\\\\\\"typeProperty\\\\\\\\\\\\\": 2}, {\\\\\\\\\\\\\"column\\\\\\\\\\\\\": {\\\\\\\\\\\\\"type\\\\\\\\\\\\\": 2, \\\\\\\\\\\\\"details\\\\\\\\\\\\\": {\\\\\\\\\\\\\"selectedColumn\\\\\\\\\\\\\": \\\\\\\\\\\\\"Measure9\\\\\\\\\\\\\"}}, \\\\\\\\\\\\\"typeProperty\\\\\\\\\\\\\": 2}, {\\\\\\\\\\\\\"column\\\\\\\\\\\\\": {\\\\\\\\\\\\\"type\\\\\\\\\\\\\": 2, \\\\\\\\\\\\\"details\\\\\\\\\\\\\": {\\\\\\\\\\\\\"selectedColumn\\\\\\\\\\\\\": \\\\\\\\\\\\\"Measure10\\\\\\\\\\\\\"}}, \\\\\\\\\\\\\"typeProperty\\\\\\\\\\\\\": 2}, {\\\\\\\\\\\\\"column\\\\\\\\\\\\\": {\\\\\\\\\\\\\"type\\\\\\\\\\\\\": 2, \\\\\\\\\\\\\"details\\\\\\\\\\\\\": {\\\\\\\\\\\\\"selectedColumn\\\\\\\\\\\\\": \\\\\\\\\\\\\"Measure11\\\\\\\\\\\\\"}}, \\\\\\\\\\\\\"typeProperty\\\\\\\\\\\\\": 2}, {\\\\\\\\\\\\\"column\\\\\\\\\\\\\": {\\\\\\\\\\\\\"type\\\\\\\\\\\\\": 2, \\\\\\\\\\\\\"details\\\\\\\\\\\\\": {\\\\\\\\\\\\\"selectedColumn\\\\\\\\\\\\\": \\\\\\\\\\\\\"Measure12\\\\\\\\\\\\\"}}, \\\\\\\\\\\\\"typeProperty\\\\\\\\\\\\\": 2}, {\\\\\\\\\\\\\"column\\\\\\\\\\\\\": {\\\\\\\\\\\\\"type\\\\\\\\\\\\\": 2, \\\\\\\\\\\\\"details\\\\\\\\\\\\\": {\\\\\\\\\\\\\"selectedColumn\\\\\\\\\\\\\": \\\\\\\\\\\\\"Measure13\\\\\\\\\\\\\"}}, \\\\\\\\\\\\\"typeProperty\\\\\\\\\\\\\": 2}, {\\\\\\\\\\\\\"column\\\\\\\\\\\\\": {\\\\\\\\\\\\\"type\\\\\\\\\\\\\": 2, \\\\\\\\\\\\\"details\\\\\\\\\\\\\": {\\\\\\\\\\\\\"selectedColumn\\\\\\\\\\\\\": \\\\\\\\\\\\\"Measure14\\\\\\\\\\\\\"}}, \\\\\\\\\\\\\"typeProperty\\\\\\\\\\\\\": 2}, {\\\\\\\\\\\\\"column\\\\\\\\\\\\\": {\\\\\\\\\\\\\"type\\\\\\\\\\\\\": 2, \\\\\\\\\\\\\"details\\\\\\\\\\\\\": {\\\\\\\\\\\\\"selectedColumn\\\\\\\\\\\\\": \\\\\\\\\\\\\"Measure15\\\\\\\\\\\\\"}}, \\\\\\\\\\\\\"typeProperty\\\\\\\\\\\\\": 2}, {\\\\\\\\\\\\\"column\\\\\\\\\\\\\": {\\\\\\\\\\\\\"type\\\\\\\\\\\\\": 2, \\\\\\\\\\\\\"details\\\\\\\\\\\\\": {\\\\\\\\\\\\\"selectedColumn\\\\\\\\\\\\\": \\\\\\\\\\\\\"Hours Since Previous Failure\\\\\\\\\\\\\"}}, \\\\\\\\\\\\\"typeProperty\\\\\\\\\\\\\": 2}, {\\\\\\\\\\\\\"column\\\\\\\\\\\\\": {\\\\\\\\\\\\\"type\\\\\\\\\\\\\": 2, \\\\\\\\\\\\\"details\\\\\\\\\\\\\": {\\\\\\\\\\\\\"selectedColumn\\\\\\\\\\\\\": \\\\\\\\\\\\\"Failure\\\\\\\\\\\\\"}}, \\\\\\\\\\\\\"typeProperty\\\\\\\\\\\\\": 1}, {\\\\\\\\\\\\\"column\\\\\\\\\\\\\": {\\\\\\\\\\\\\"type\\\\\\\\\\\\\": 2, \\\\\\\\\\\\\"details\\\\\\\\\\\\\": {\\\\\\\\\\\\\"selectedColumn\\\\\\\\\\\\\": \\\\\\\\\\\\\"?Date.year\\\\\\\\\\\\\"}}, \\\\\\\\\\\\\"typeProperty\\\\\\\\\\\\\": 2}, {\\\\\\\\\\\\\"column\\\\\\\\\\\\\": {\\\\\\\\\\\\\"type\\\\\\\\\\\\\": 2, \\\\\\\\\\\\\"details\\\\\\\\\\\\\": {\\\\\\\\\\\\\"selectedColumn\\\\\\\\\\\\\": \\\\\\\\\\\\\"?Date.month\\\\\\\\\\\\\"}}, \\\\\\\\\\\\\"typeProperty\\\\\\\\\\\\\": 2}, {\\\\\\\\\\\\\"column\\\\\\\\\\\\\": {\\\\\\\\\\\\\"type\\\\\\\\\\\\\": 2, \\\\\\\\\\\\\"details\\\\\\\\\\\\\": {\\\\\\\\\\\\\"selectedColumn\\\\\\\\\\\\\": \\\\\\\\\\\\\"?Date.day-of-month\\\\\\\\\\\\\"}}, \\\\\\\\\\\\\"typeProperty\\\\\\\\\\\\\": 2}, {\\\\\\\\\\\\\"column\\\\\\\\\\\\\": {\\\\\\\\\\\\\"type\\\\\\\\\\\\\": 2, \\\\\\\\\\\\\"details\\\\\\\\\\\\\": {\\\\\\\\\\\\\"selectedColumn\\\\\\\\\\\\\": \\\\\\\\\\\\\"?Date.day-of-week\\\\\\\\\\\\\"}}, \\\\\\\\\\\\\"typeProperty\\\\\\\\\\\\\": 2}, {\\\\\\\\\\\\\"column\\\\\\\\\\\\\": {\\\\\\\\\\\\\"type\\\\\\\\\\\\\": 2, \\\\\\\\\\\\\"details\\\\\\\\\\\\\": {\\\\\\\\\\\\\"selectedColumn\\\\\\\\\\\\\": \\\\\\\\\\\\\"?Date.hour\\\\\\\\\\\\\"}}, \\\\\\\\\\\\\"typeProperty\\\\\\\\\\\\\": 2}, {\\\\\\\\\\\\\"column\\\\\\\\\\\\\": {\\\\\\\\\\\\\"type\\\\\\\\\\\\\": 2, \\\\\\\\\\\\\"details\\\\\\\\\\\\\": {\\\\\\\\\\\\\"selectedColumn\\\\\\\\\\\\\": \\\\\\\\\\\\\"?Date.minute\\\\\\\\\\\\\"}}, \\\\\\\\\\\\\"typeProperty\\\\\\\\\\\\\": 2}, {\\\\\\\\\\\\\"column\\\\\\\\\\\\\": {\\\\\\\\\\\\\"type\\\\\\\\\\\\\": 2, \\\\\\\\\\\\\"details\\\\\\\\\\\\\": {\\\\\\\\\\\\\"selectedColumn\\\\\\\\\\\\\": \\\\\\\\\\\\\"?Date.second\\\\\\\\\\\\\"}}, \\\\\\\\\\\\\"typeProperty\\\\\\\\\\\\\": 2}]}, \\\\\\\\\\\\\"localData\\\\\\\\\\\\\": {}, \\\\\\\\\\\\\"isEnabled\\\\\\\\\\\\\": true, \\\\\\\\\\\\\"name\\\\\\\\\\\\\": null, \\\\\\\\\\\\\"annotation\\\\\\\\\\\\\": null}], \\\\\\\\\\\\\"inspectors\\\\\\\\\\\\\": [], \\\\\\\\\\\\\"meta\\\\\\\\\\\\\": {\\\\\\\\\\\\\"savedDatasetId\\\\\\\\\\\\\": \\\\\\\\\\\\\"14860800-3a32-45b3-9130-49717a8ddaeb\\\\\\\\\\\\\", \\\\\\\\\\\\\"datasetType\\\\\\\\\\\\\": \\\\\\\\\\\\\"tabular\\\\\\\\\\\\\", \\\\\\\\\\\\\"subscriptionId\\\\\\\\\\\\\": \\\\\\\\\\\\\"f9d5a085-54dc-4215-9ba6-dad5d86e60a0\\\\\\\\\\\\\", \\\\\\\\\\\\\"workspaceId\\\\\\\\\\\\\": \\\\\\\\\\\\\"5150bfcb-7c92-4fcf-ae46-1c05ccda6e72\\\\\\\\\\\\\", \\\\\\\\\\\\\"workspaceLocation\\\\\\\\\\\\\": \\\\\\\\\\\\\"southcentralus\\\\\\\\\\\\\"}}\\\\\", \\\\\"activities\\\\\": 0}',\n  'EnableSubsampling': None,\n  'runTemplate': 'AutoML',\n  'azureml.runsource': 'automl',\n  'display_task_type': 'classification',\n  'dependencies_versions': '{\"azureml-widgets\": \"1.22.0\", \"azureml-train\": \"1.22.0\", \"azureml-train-restclients-hyperdrive\": \"1.22.0\", \"azureml-train-core\": \"1.22.0\", \"azureml-train-automl\": \"1.22.0\", \"azureml-train-automl-runtime\": \"1.22.0\", \"azureml-train-automl-client\": \"1.22.0\", \"azureml-tensorboard\": \"1.22.0\", \"azureml-telemetry\": \"1.22.0\", \"azureml-sdk\": \"1.22.0\", \"azureml-samples\": \"0+unknown\", \"azureml-pipeline\": \"1.22.0\", \"azureml-pipeline-steps\": \"1.22.0\", \"azureml-pipeline-core\": \"1.22.0\", \"azureml-opendatasets\": \"1.22.0\", \"azureml-model-management-sdk\": \"1.0.1b6.post1\", \"azureml-mlflow\": \"1.22.0\", \"azureml-interpret\": \"1.22.0\", \"azureml-explain-model\": \"1.22.0\", \"azureml-defaults\": \"1.22.0\", \"azureml-dataset-runtime\": \"1.22.0\", \"azureml-dataprep\": \"2.9.1\", \"azureml-dataprep-rslex\": \"1.7.0\", \"azureml-dataprep-native\": \"29.0.0\", \"azureml-datadrift\": \"1.22.0\", \"azureml-core\": \"1.22.0\", \"azureml-contrib-services\": \"1.22.0\", \"azureml-contrib-server\": \"1.22.0\", \"azureml-contrib-reinforcementlearning\": \"1.22.0\", \"azureml-contrib-pipeline-steps\": \"1.22.0\", \"azureml-contrib-notebook\": \"1.22.0\", \"azureml-contrib-interpret\": \"1.22.0\", \"azureml-contrib-gbdt\": \"1.22.0\", \"azureml-contrib-fairness\": \"1.22.0\", \"azureml-contrib-dataset\": \"1.22.0\", \"azureml-cli-common\": \"1.22.0\", \"azureml-automl-runtime\": \"1.22.0\", \"azureml-automl-core\": \"1.22.0\", \"azureml-accel-models\": \"1.22.0\"}',\n  '_aml_system_scenario_identification': 'Remote.Parent',\n  'ClientType': 'SDK',\n  'environment_cpu_name': 'AzureML-AutoML',\n  'environment_cpu_label': 'prod',\n  'environment_gpu_name': 'AzureML-AutoML-GPU',\n  'environment_gpu_label': 'prod',\n  'root_attribution': 'automl',\n  'attribution': 'AutoML',\n  'Orchestrator': 'AutoML',\n  'CancelUri': 'https://southcentralus.experiments.azureml.net/jasmine/v1.0/subscriptions/f9d5a085-54dc-4215-9ba6-dad5d86e60a0/resourceGroups/aml-quickstarts-139954/providers/Microsoft.MachineLearningServices/workspaces/quick-starts-ws-139954/experimentids/ba50f67b-348b-4cf2-a859-33b332b32999/cancel/AutoML_3b267046-c349-4020-a32f-ceb49235dc7e',\n  'ClientSdkVersion': '1.23.0',\n  'snapshotId': '00000000-0000-0000-0000-000000000000',\n  'SetupRunId': 'AutoML_3b267046-c349-4020-a32f-ceb49235dc7e_setup',\n  'SetupRunContainerId': 'dcid.AutoML_3b267046-c349-4020-a32f-ceb49235dc7e_setup',\n  'FeaturizationRunJsonPath': 'featurizer_container.json',\n  'FeaturizationRunId': 'AutoML_3b267046-c349-4020-a32f-ceb49235dc7e_featurize',\n  'ProblemInfoJsonString': '{\"dataset_num_categorical\": 0, \"is_sparse\": true, \"subsampling\": false, \"dataset_classes\": 2, \"dataset_features\": 170, \"dataset_samples\": 7905, \"single_frequency_class_detected\": false}',\n  'ModelExplainRunId': 'AutoML_3b267046-c349-4020-a32f-ceb49235dc7e_ModelExplain'},\n 'inputDatasets': [{'dataset': {'id': '14860800-3a32-45b3-9130-49717a8ddaeb'}, 'consumptionDetails': {'type': 'RunInput', 'inputName': 'training_data', 'mechanism': 'Direct'}}],\n 'outputDatasets': [],\n 'logFiles': {},\n 'submittedBy': 'ODL_User 139954'}"
          },
          "metadata": {}
        }
      ],
      "execution_count": 38,
      "metadata": {
        "gather": {
          "logged": 1615058833634
        },
        "id": "rFgQUK0s1j--",
        "jupyter": {
          "outputs_hidden": false,
          "source_hidden": false
        },
        "nteract": {
          "transient": {
            "deleting": false
          }
        },
        "outputId": "6613c178-c91e-4328-a2a2-2df72175e886"
      }
    },
    {
      "cell_type": "markdown",
      "source": [
        "## Run Details\n"
      ],
      "metadata": {
        "id": "GPleLBD31j--"
      }
    },
    {
      "cell_type": "code",
      "source": [
        "RunDetails(remote_run).show()"
      ],
      "outputs": [
        {
          "output_type": "display_data",
          "data": {
            "text/plain": "_AutoMLWidget(widget_settings={'childWidgetDisplay': 'popup', 'send_telemetry': False, 'log_level': 'INFO', 's…",
            "application/vnd.jupyter.widget-view+json": {
              "version_major": 2,
              "version_minor": 0,
              "model_id": "9bf8d2be8d3543e28bc0ae0b8e0c372a"
            }
          },
          "metadata": {}
        },
        {
          "output_type": "display_data",
          "data": {
            "application/aml.mini.widget.v1": "{\"status\": \"Completed\", \"workbench_run_details_uri\": \"https://ml.azure.com/experiments/machine-failure-prediction/runs/AutoML_3b267046-c349-4020-a32f-ceb49235dc7e?wsid=/subscriptions/f9d5a085-54dc-4215-9ba6-dad5d86e60a0/resourcegroups/aml-quickstarts-139954/workspaces/quick-starts-ws-139954\", \"run_id\": \"AutoML_3b267046-c349-4020-a32f-ceb49235dc7e\", \"run_properties\": {\"run_id\": \"AutoML_3b267046-c349-4020-a32f-ceb49235dc7e\", \"created_utc\": \"2021-03-06T19:10:49.150557Z\", \"properties\": {\"num_iterations\": \"1000\", \"training_type\": \"TrainFull\", \"acquisition_function\": \"EI\", \"primary_metric\": \"accuracy\", \"train_split\": \"0\", \"acquisition_parameter\": \"0\", \"num_cross_validation\": \"2\", \"target\": \"cpu-cluster\", \"AMLSettingsJsonString\": \"{\\\"path\\\":null,\\\"name\\\":\\\"machine-failure-prediction\\\",\\\"subscription_id\\\":\\\"f9d5a085-54dc-4215-9ba6-dad5d86e60a0\\\",\\\"resource_group\\\":\\\"aml-quickstarts-139954\\\",\\\"workspace_name\\\":\\\"quick-starts-ws-139954\\\",\\\"region\\\":\\\"southcentralus\\\",\\\"compute_target\\\":\\\"cpu-cluster\\\",\\\"spark_service\\\":null,\\\"azure_service\\\":\\\"remote\\\",\\\"many_models\\\":false,\\\"pipeline_fetch_max_batch_size\\\":1,\\\"iterations\\\":1000,\\\"primary_metric\\\":\\\"accuracy\\\",\\\"task_type\\\":\\\"classification\\\",\\\"data_script\\\":null,\\\"validation_size\\\":0.0,\\\"n_cross_validations\\\":2,\\\"y_min\\\":null,\\\"y_max\\\":null,\\\"num_classes\\\":null,\\\"featurization\\\":\\\"auto\\\",\\\"_ignore_package_version_incompatibilities\\\":false,\\\"is_timeseries\\\":false,\\\"max_cores_per_iteration\\\":1,\\\"max_concurrent_iterations\\\":4,\\\"iteration_timeout_minutes\\\":null,\\\"mem_in_mb\\\":null,\\\"enforce_time_on_windows\\\":false,\\\"experiment_timeout_minutes\\\":20,\\\"experiment_exit_score\\\":null,\\\"whitelist_models\\\":null,\\\"blacklist_algos\\\":[\\\"XGBoostClassifier\\\",\\\"TensorFlowLinearClassifier\\\",\\\"TensorFlowDNN\\\"],\\\"supported_models\\\":[\\\"BernoulliNaiveBayes\\\",\\\"ExtremeRandomTrees\\\",\\\"LogisticRegression\\\",\\\"MultinomialNaiveBayes\\\",\\\"LinearSVM\\\",\\\"DecisionTree\\\",\\\"TensorFlowDNN\\\",\\\"XGBoostClassifier\\\",\\\"RandomForest\\\",\\\"KNN\\\",\\\"SVM\\\",\\\"LightGBM\\\",\\\"TensorFlowLinearClassifier\\\",\\\"AveragedPerceptronClassifier\\\",\\\"SGD\\\",\\\"GradientBoosting\\\"],\\\"private_models\\\":[],\\\"auto_blacklist\\\":true,\\\"blacklist_samples_reached\\\":false,\\\"exclude_nan_labels\\\":true,\\\"verbosity\\\":20,\\\"_debug_log\\\":\\\"azureml_automl.log\\\",\\\"show_warnings\\\":false,\\\"model_explainability\\\":true,\\\"service_url\\\":null,\\\"sdk_url\\\":null,\\\"sdk_packages\\\":null,\\\"enable_onnx_compatible_models\\\":false,\\\"enable_split_onnx_featurizer_estimator_models\\\":false,\\\"vm_type\\\":\\\"STANDARD_DS3_V2\\\",\\\"telemetry_verbosity\\\":20,\\\"send_telemetry\\\":true,\\\"enable_dnn\\\":false,\\\"scenario\\\":\\\"SDK-1.13.0\\\",\\\"environment_label\\\":null,\\\"force_text_dnn\\\":false,\\\"enable_feature_sweeping\\\":true,\\\"enable_early_stopping\\\":true,\\\"early_stopping_n_iters\\\":10,\\\"metrics\\\":null,\\\"enable_ensembling\\\":true,\\\"enable_stack_ensembling\\\":true,\\\"ensemble_iterations\\\":15,\\\"enable_tf\\\":false,\\\"enable_subsampling\\\":null,\\\"subsample_seed\\\":null,\\\"enable_nimbusml\\\":false,\\\"enable_streaming\\\":false,\\\"force_streaming\\\":false,\\\"track_child_runs\\\":true,\\\"allowed_private_models\\\":[],\\\"label_column_name\\\":\\\"Failure\\\",\\\"weight_column_name\\\":null,\\\"cv_split_column_names\\\":null,\\\"enable_local_managed\\\":false,\\\"_local_managed_run_id\\\":null,\\\"cost_mode\\\":1,\\\"lag_length\\\":0,\\\"metric_operation\\\":\\\"maximize\\\",\\\"preprocess\\\":true}\", \"DataPrepJsonString\": \"{\\\\\\\"training_data\\\\\\\": \\\\\\\"{\\\\\\\\\\\\\\\"blocks\\\\\\\\\\\\\\\": [{\\\\\\\\\\\\\\\"id\\\\\\\\\\\\\\\": \\\\\\\\\\\\\\\"0ce5c253-4931-442f-9429-895e8af1de39\\\\\\\\\\\\\\\", \\\\\\\\\\\\\\\"type\\\\\\\\\\\\\\\": \\\\\\\\\\\\\\\"Microsoft.DPrep.GetDatastoreFilesBlock\\\\\\\\\\\\\\\", \\\\\\\\\\\\\\\"arguments\\\\\\\\\\\\\\\": {\\\\\\\\\\\\\\\"datastores\\\\\\\\\\\\\\\": [{\\\\\\\\\\\\\\\"datastoreName\\\\\\\\\\\\\\\": \\\\\\\\\\\\\\\"workspaceblobstore\\\\\\\\\\\\\\\", \\\\\\\\\\\\\\\"path\\\\\\\\\\\\\\\": \\\\\\\\\\\\\\\"UI/03-06-2021_051746_UTC/train.csv\\\\\\\\\\\\\\\", \\\\\\\\\\\\\\\"resourceGroup\\\\\\\\\\\\\\\": \\\\\\\\\\\\\\\"aml-quickstarts-139954\\\\\\\\\\\\\\\", \\\\\\\\\\\\\\\"subscription\\\\\\\\\\\\\\\": \\\\\\\\\\\\\\\"f9d5a085-54dc-4215-9ba6-dad5d86e60a0\\\\\\\\\\\\\\\", \\\\\\\\\\\\\\\"workspaceName\\\\\\\\\\\\\\\": \\\\\\\\\\\\\\\"quick-starts-ws-139954\\\\\\\\\\\\\\\"}]}, \\\\\\\\\\\\\\\"localData\\\\\\\\\\\\\\\": {}, \\\\\\\\\\\\\\\"isEnabled\\\\\\\\\\\\\\\": true, \\\\\\\\\\\\\\\"name\\\\\\\\\\\\\\\": null, \\\\\\\\\\\\\\\"annotation\\\\\\\\\\\\\\\": null}, {\\\\\\\\\\\\\\\"id\\\\\\\\\\\\\\\": \\\\\\\\\\\\\\\"8045aa83-58e2-482d-a661-a9fd6b26e22a\\\\\\\\\\\\\\\", \\\\\\\\\\\\\\\"type\\\\\\\\\\\\\\\": \\\\\\\\\\\\\\\"Microsoft.DPrep.ParseDelimitedBlock\\\\\\\\\\\\\\\", \\\\\\\\\\\\\\\"arguments\\\\\\\\\\\\\\\": {\\\\\\\\\\\\\\\"columnHeadersMode\\\\\\\\\\\\\\\": 1, \\\\\\\\\\\\\\\"fileEncoding\\\\\\\\\\\\\\\": 0, \\\\\\\\\\\\\\\"handleQuotedLineBreaks\\\\\\\\\\\\\\\": false, \\\\\\\\\\\\\\\"preview\\\\\\\\\\\\\\\": false, \\\\\\\\\\\\\\\"separator\\\\\\\\\\\\\\\": \\\\\\\\\\\\\\\",\\\\\\\\\\\\\\\", \\\\\\\\\\\\\\\"skipRows\\\\\\\\\\\\\\\": 0, \\\\\\\\\\\\\\\"skipRowsMode\\\\\\\\\\\\\\\": 0}, \\\\\\\\\\\\\\\"localData\\\\\\\\\\\\\\\": {}, \\\\\\\\\\\\\\\"isEnabled\\\\\\\\\\\\\\\": true, \\\\\\\\\\\\\\\"name\\\\\\\\\\\\\\\": null, \\\\\\\\\\\\\\\"annotation\\\\\\\\\\\\\\\": null}, {\\\\\\\\\\\\\\\"id\\\\\\\\\\\\\\\": \\\\\\\\\\\\\\\"6205ab1f-dea4-49ac-99d6-5b00b0592104\\\\\\\\\\\\\\\", \\\\\\\\\\\\\\\"type\\\\\\\\\\\\\\\": \\\\\\\\\\\\\\\"Microsoft.DPrep.DropColumnsBlock\\\\\\\\\\\\\\\", \\\\\\\\\\\\\\\"arguments\\\\\\\\\\\\\\\": {\\\\\\\\\\\\\\\"columns\\\\\\\\\\\\\\\": {\\\\\\\\\\\\\\\"type\\\\\\\\\\\\\\\": 0, \\\\\\\\\\\\\\\"details\\\\\\\\\\\\\\\": {\\\\\\\\\\\\\\\"selectedColumns\\\\\\\\\\\\\\\": [\\\\\\\\\\\\\\\"Path\\\\\\\\\\\\\\\"]}}}, \\\\\\\\\\\\\\\"localData\\\\\\\\\\\\\\\": {}, \\\\\\\\\\\\\\\"isEnabled\\\\\\\\\\\\\\\": true, \\\\\\\\\\\\\\\"name\\\\\\\\\\\\\\\": null, \\\\\\\\\\\\\\\"annotation\\\\\\\\\\\\\\\": null}, {\\\\\\\\\\\\\\\"id\\\\\\\\\\\\\\\": \\\\\\\\\\\\\\\"65115904-ae3b-4754-bda3-0459e04baa31\\\\\\\\\\\\\\\", \\\\\\\\\\\\\\\"type\\\\\\\\\\\\\\\": \\\\\\\\\\\\\\\"Microsoft.DPrep.SetColumnTypesBlock\\\\\\\\\\\\\\\", \\\\\\\\\\\\\\\"arguments\\\\\\\\\\\\\\\": {\\\\\\\\\\\\\\\"columnConversion\\\\\\\\\\\\\\\": [{\\\\\\\\\\\\\\\"column\\\\\\\\\\\\\\\": {\\\\\\\\\\\\\\\"type\\\\\\\\\\\\\\\": 2, \\\\\\\\\\\\\\\"details\\\\\\\\\\\\\\\": {\\\\\\\\\\\\\\\"selectedColumn\\\\\\\\\\\\\\\": \\\\\\\\\\\\\\\"Path\\\\\\\\\\\\\\\"}}, \\\\\\\\\\\\\\\"typeProperty\\\\\\\\\\\\\\\": 0}, {\\\\\\\\\\\\\\\"column\\\\\\\\\\\\\\\": {\\\\\\\\\\\\\\\"type\\\\\\\\\\\\\\\": 2, \\\\\\\\\\\\\\\"details\\\\\\\\\\\\\\\": {\\\\\\\\\\\\\\\"selectedColumn\\\\\\\\\\\\\\\": \\\\\\\\\\\\\\\"ID\\\\\\\\\\\\\\\"}}, \\\\\\\\\\\\\\\"typeProperty\\\\\\\\\\\\\\\": 2}, {\\\\\\\\\\\\\\\"column\\\\\\\\\\\\\\\": {\\\\\\\\\\\\\\\"type\\\\\\\\\\\\\\\": 2, \\\\\\\\\\\\\\\"details\\\\\\\\\\\\\\\": {\\\\\\\\\\\\\\\"selectedColumn\\\\\\\\\\\\\\\": \\\\\\\\\\\\\\\"Date\\\\\\\\\\\\\\\"}}, \\\\\\\\\\\\\\\"typeArguments\\\\\\\\\\\\\\\": {\\\\\\\\\\\\\\\"dateTimeFormats\\\\\\\\\\\\\\\": [\\\\\\\\\\\\\\\"%m-%d-%Y %H:%M\\\\\\\\\\\\\\\"]}, \\\\\\\\\\\\\\\"typeProperty\\\\\\\\\\\\\\\": 4}, {\\\\\\\\\\\\\\\"column\\\\\\\\\\\\\\\": {\\\\\\\\\\\\\\\"type\\\\\\\\\\\\\\\": 2, \\\\\\\\\\\\\\\"details\\\\\\\\\\\\\\\": {\\\\\\\\\\\\\\\"selectedColumn\\\\\\\\\\\\\\\": \\\\\\\\\\\\\\\"Temperature\\\\\\\\\\\\\\\"}}, \\\\\\\\\\\\\\\"typeProperty\\\\\\\\\\\\\\\": 2}, {\\\\\\\\\\\\\\\"column\\\\\\\\\\\\\\\": {\\\\\\\\\\\\\\\"type\\\\\\\\\\\\\\\": 2, \\\\\\\\\\\\\\\"details\\\\\\\\\\\\\\\": {\\\\\\\\\\\\\\\"selectedColumn\\\\\\\\\\\\\\\": \\\\\\\\\\\\\\\"Humidity\\\\\\\\\\\\\\\"}}, \\\\\\\\\\\\\\\"typeProperty\\\\\\\\\\\\\\\": 2}, {\\\\\\\\\\\\\\\"column\\\\\\\\\\\\\\\": {\\\\\\\\\\\\\\\"type\\\\\\\\\\\\\\\": 2, \\\\\\\\\\\\\\\"details\\\\\\\\\\\\\\\": {\\\\\\\\\\\\\\\"selectedColumn\\\\\\\\\\\\\\\": \\\\\\\\\\\\\\\"Operator\\\\\\\\\\\\\\\"}}, \\\\\\\\\\\\\\\"typeProperty\\\\\\\\\\\\\\\": 0}, {\\\\\\\\\\\\\\\"column\\\\\\\\\\\\\\\": {\\\\\\\\\\\\\\\"type\\\\\\\\\\\\\\\": 2, \\\\\\\\\\\\\\\"details\\\\\\\\\\\\\\\": {\\\\\\\\\\\\\\\"selectedColumn\\\\\\\\\\\\\\\": \\\\\\\\\\\\\\\"Measure1\\\\\\\\\\\\\\\"}}, \\\\\\\\\\\\\\\"typeProperty\\\\\\\\\\\\\\\": 2}, {\\\\\\\\\\\\\\\"column\\\\\\\\\\\\\\\": {\\\\\\\\\\\\\\\"type\\\\\\\\\\\\\\\": 2, \\\\\\\\\\\\\\\"details\\\\\\\\\\\\\\\": {\\\\\\\\\\\\\\\"selectedColumn\\\\\\\\\\\\\\\": \\\\\\\\\\\\\\\"Measure2\\\\\\\\\\\\\\\"}}, \\\\\\\\\\\\\\\"typeProperty\\\\\\\\\\\\\\\": 2}, {\\\\\\\\\\\\\\\"column\\\\\\\\\\\\\\\": {\\\\\\\\\\\\\\\"type\\\\\\\\\\\\\\\": 2, \\\\\\\\\\\\\\\"details\\\\\\\\\\\\\\\": {\\\\\\\\\\\\\\\"selectedColumn\\\\\\\\\\\\\\\": \\\\\\\\\\\\\\\"Measure3\\\\\\\\\\\\\\\"}}, \\\\\\\\\\\\\\\"typeProperty\\\\\\\\\\\\\\\": 2}, {\\\\\\\\\\\\\\\"column\\\\\\\\\\\\\\\": {\\\\\\\\\\\\\\\"type\\\\\\\\\\\\\\\": 2, \\\\\\\\\\\\\\\"details\\\\\\\\\\\\\\\": {\\\\\\\\\\\\\\\"selectedColumn\\\\\\\\\\\\\\\": \\\\\\\\\\\\\\\"Measure4\\\\\\\\\\\\\\\"}}, \\\\\\\\\\\\\\\"typeProperty\\\\\\\\\\\\\\\": 2}, {\\\\\\\\\\\\\\\"column\\\\\\\\\\\\\\\": {\\\\\\\\\\\\\\\"type\\\\\\\\\\\\\\\": 2, \\\\\\\\\\\\\\\"details\\\\\\\\\\\\\\\": {\\\\\\\\\\\\\\\"selectedColumn\\\\\\\\\\\\\\\": \\\\\\\\\\\\\\\"Measure5\\\\\\\\\\\\\\\"}}, \\\\\\\\\\\\\\\"typeProperty\\\\\\\\\\\\\\\": 2}, {\\\\\\\\\\\\\\\"column\\\\\\\\\\\\\\\": {\\\\\\\\\\\\\\\"type\\\\\\\\\\\\\\\": 2, \\\\\\\\\\\\\\\"details\\\\\\\\\\\\\\\": {\\\\\\\\\\\\\\\"selectedColumn\\\\\\\\\\\\\\\": \\\\\\\\\\\\\\\"Measure6\\\\\\\\\\\\\\\"}}, \\\\\\\\\\\\\\\"typeProperty\\\\\\\\\\\\\\\": 2}, {\\\\\\\\\\\\\\\"column\\\\\\\\\\\\\\\": {\\\\\\\\\\\\\\\"type\\\\\\\\\\\\\\\": 2, \\\\\\\\\\\\\\\"details\\\\\\\\\\\\\\\": {\\\\\\\\\\\\\\\"selectedColumn\\\\\\\\\\\\\\\": \\\\\\\\\\\\\\\"Measure7\\\\\\\\\\\\\\\"}}, \\\\\\\\\\\\\\\"typeProperty\\\\\\\\\\\\\\\": 2}, {\\\\\\\\\\\\\\\"column\\\\\\\\\\\\\\\": {\\\\\\\\\\\\\\\"type\\\\\\\\\\\\\\\": 2, \\\\\\\\\\\\\\\"details\\\\\\\\\\\\\\\": {\\\\\\\\\\\\\\\"selectedColumn\\\\\\\\\\\\\\\": \\\\\\\\\\\\\\\"Measure8\\\\\\\\\\\\\\\"}}, \\\\\\\\\\\\\\\"typeProperty\\\\\\\\\\\\\\\": 2}, {\\\\\\\\\\\\\\\"column\\\\\\\\\\\\\\\": {\\\\\\\\\\\\\\\"type\\\\\\\\\\\\\\\": 2, \\\\\\\\\\\\\\\"details\\\\\\\\\\\\\\\": {\\\\\\\\\\\\\\\"selectedColumn\\\\\\\\\\\\\\\": \\\\\\\\\\\\\\\"Measure9\\\\\\\\\\\\\\\"}}, \\\\\\\\\\\\\\\"typeProperty\\\\\\\\\\\\\\\": 2}, {\\\\\\\\\\\\\\\"column\\\\\\\\\\\\\\\": {\\\\\\\\\\\\\\\"type\\\\\\\\\\\\\\\": 2, \\\\\\\\\\\\\\\"details\\\\\\\\\\\\\\\": {\\\\\\\\\\\\\\\"selectedColumn\\\\\\\\\\\\\\\": \\\\\\\\\\\\\\\"Measure10\\\\\\\\\\\\\\\"}}, \\\\\\\\\\\\\\\"typeProperty\\\\\\\\\\\\\\\": 2}, {\\\\\\\\\\\\\\\"column\\\\\\\\\\\\\\\": {\\\\\\\\\\\\\\\"type\\\\\\\\\\\\\\\": 2, \\\\\\\\\\\\\\\"details\\\\\\\\\\\\\\\": {\\\\\\\\\\\\\\\"selectedColumn\\\\\\\\\\\\\\\": \\\\\\\\\\\\\\\"Measure11\\\\\\\\\\\\\\\"}}, \\\\\\\\\\\\\\\"typeProperty\\\\\\\\\\\\\\\": 2}, {\\\\\\\\\\\\\\\"column\\\\\\\\\\\\\\\": {\\\\\\\\\\\\\\\"type\\\\\\\\\\\\\\\": 2, \\\\\\\\\\\\\\\"details\\\\\\\\\\\\\\\": {\\\\\\\\\\\\\\\"selectedColumn\\\\\\\\\\\\\\\": \\\\\\\\\\\\\\\"Measure12\\\\\\\\\\\\\\\"}}, \\\\\\\\\\\\\\\"typeProperty\\\\\\\\\\\\\\\": 2}, {\\\\\\\\\\\\\\\"column\\\\\\\\\\\\\\\": {\\\\\\\\\\\\\\\"type\\\\\\\\\\\\\\\": 2, \\\\\\\\\\\\\\\"details\\\\\\\\\\\\\\\": {\\\\\\\\\\\\\\\"selectedColumn\\\\\\\\\\\\\\\": \\\\\\\\\\\\\\\"Measure13\\\\\\\\\\\\\\\"}}, \\\\\\\\\\\\\\\"typeProperty\\\\\\\\\\\\\\\": 2}, {\\\\\\\\\\\\\\\"column\\\\\\\\\\\\\\\": {\\\\\\\\\\\\\\\"type\\\\\\\\\\\\\\\": 2, \\\\\\\\\\\\\\\"details\\\\\\\\\\\\\\\": {\\\\\\\\\\\\\\\"selectedColumn\\\\\\\\\\\\\\\": \\\\\\\\\\\\\\\"Measure14\\\\\\\\\\\\\\\"}}, \\\\\\\\\\\\\\\"typeProperty\\\\\\\\\\\\\\\": 2}, {\\\\\\\\\\\\\\\"column\\\\\\\\\\\\\\\": {\\\\\\\\\\\\\\\"type\\\\\\\\\\\\\\\": 2, \\\\\\\\\\\\\\\"details\\\\\\\\\\\\\\\": {\\\\\\\\\\\\\\\"selectedColumn\\\\\\\\\\\\\\\": \\\\\\\\\\\\\\\"Measure15\\\\\\\\\\\\\\\"}}, \\\\\\\\\\\\\\\"typeProperty\\\\\\\\\\\\\\\": 2}, {\\\\\\\\\\\\\\\"column\\\\\\\\\\\\\\\": {\\\\\\\\\\\\\\\"type\\\\\\\\\\\\\\\": 2, \\\\\\\\\\\\\\\"details\\\\\\\\\\\\\\\": {\\\\\\\\\\\\\\\"selectedColumn\\\\\\\\\\\\\\\": \\\\\\\\\\\\\\\"Hours Since Previous Failure\\\\\\\\\\\\\\\"}}, \\\\\\\\\\\\\\\"typeProperty\\\\\\\\\\\\\\\": 2}, {\\\\\\\\\\\\\\\"column\\\\\\\\\\\\\\\": {\\\\\\\\\\\\\\\"type\\\\\\\\\\\\\\\": 2, \\\\\\\\\\\\\\\"details\\\\\\\\\\\\\\\": {\\\\\\\\\\\\\\\"selectedColumn\\\\\\\\\\\\\\\": \\\\\\\\\\\\\\\"Failure\\\\\\\\\\\\\\\"}}, \\\\\\\\\\\\\\\"typeProperty\\\\\\\\\\\\\\\": 1}, {\\\\\\\\\\\\\\\"column\\\\\\\\\\\\\\\": {\\\\\\\\\\\\\\\"type\\\\\\\\\\\\\\\": 2, \\\\\\\\\\\\\\\"details\\\\\\\\\\\\\\\": {\\\\\\\\\\\\\\\"selectedColumn\\\\\\\\\\\\\\\": \\\\\\\\\\\\\\\"?Date.year\\\\\\\\\\\\\\\"}}, \\\\\\\\\\\\\\\"typeProperty\\\\\\\\\\\\\\\": 2}, {\\\\\\\\\\\\\\\"column\\\\\\\\\\\\\\\": {\\\\\\\\\\\\\\\"type\\\\\\\\\\\\\\\": 2, \\\\\\\\\\\\\\\"details\\\\\\\\\\\\\\\": {\\\\\\\\\\\\\\\"selectedColumn\\\\\\\\\\\\\\\": \\\\\\\\\\\\\\\"?Date.month\\\\\\\\\\\\\\\"}}, \\\\\\\\\\\\\\\"typeProperty\\\\\\\\\\\\\\\": 2}, {\\\\\\\\\\\\\\\"column\\\\\\\\\\\\\\\": {\\\\\\\\\\\\\\\"type\\\\\\\\\\\\\\\": 2, \\\\\\\\\\\\\\\"details\\\\\\\\\\\\\\\": {\\\\\\\\\\\\\\\"selectedColumn\\\\\\\\\\\\\\\": \\\\\\\\\\\\\\\"?Date.day-of-month\\\\\\\\\\\\\\\"}}, \\\\\\\\\\\\\\\"typeProperty\\\\\\\\\\\\\\\": 2}, {\\\\\\\\\\\\\\\"column\\\\\\\\\\\\\\\": {\\\\\\\\\\\\\\\"type\\\\\\\\\\\\\\\": 2, \\\\\\\\\\\\\\\"details\\\\\\\\\\\\\\\": {\\\\\\\\\\\\\\\"selectedColumn\\\\\\\\\\\\\\\": \\\\\\\\\\\\\\\"?Date.day-of-week\\\\\\\\\\\\\\\"}}, \\\\\\\\\\\\\\\"typeProperty\\\\\\\\\\\\\\\": 2}, {\\\\\\\\\\\\\\\"column\\\\\\\\\\\\\\\": {\\\\\\\\\\\\\\\"type\\\\\\\\\\\\\\\": 2, \\\\\\\\\\\\\\\"details\\\\\\\\\\\\\\\": {\\\\\\\\\\\\\\\"selectedColumn\\\\\\\\\\\\\\\": \\\\\\\\\\\\\\\"?Date.hour\\\\\\\\\\\\\\\"}}, \\\\\\\\\\\\\\\"typeProperty\\\\\\\\\\\\\\\": 2}, {\\\\\\\\\\\\\\\"column\\\\\\\\\\\\\\\": {\\\\\\\\\\\\\\\"type\\\\\\\\\\\\\\\": 2, \\\\\\\\\\\\\\\"details\\\\\\\\\\\\\\\": {\\\\\\\\\\\\\\\"selectedColumn\\\\\\\\\\\\\\\": \\\\\\\\\\\\\\\"?Date.minute\\\\\\\\\\\\\\\"}}, \\\\\\\\\\\\\\\"typeProperty\\\\\\\\\\\\\\\": 2}, {\\\\\\\\\\\\\\\"column\\\\\\\\\\\\\\\": {\\\\\\\\\\\\\\\"type\\\\\\\\\\\\\\\": 2, \\\\\\\\\\\\\\\"details\\\\\\\\\\\\\\\": {\\\\\\\\\\\\\\\"selectedColumn\\\\\\\\\\\\\\\": \\\\\\\\\\\\\\\"?Date.second\\\\\\\\\\\\\\\"}}, \\\\\\\\\\\\\\\"typeProperty\\\\\\\\\\\\\\\": 2}]}, \\\\\\\\\\\\\\\"localData\\\\\\\\\\\\\\\": {}, \\\\\\\\\\\\\\\"isEnabled\\\\\\\\\\\\\\\": true, \\\\\\\\\\\\\\\"name\\\\\\\\\\\\\\\": null, \\\\\\\\\\\\\\\"annotation\\\\\\\\\\\\\\\": null}], \\\\\\\\\\\\\\\"inspectors\\\\\\\\\\\\\\\": [], \\\\\\\\\\\\\\\"meta\\\\\\\\\\\\\\\": {\\\\\\\\\\\\\\\"savedDatasetId\\\\\\\\\\\\\\\": \\\\\\\\\\\\\\\"14860800-3a32-45b3-9130-49717a8ddaeb\\\\\\\\\\\\\\\", \\\\\\\\\\\\\\\"datasetType\\\\\\\\\\\\\\\": \\\\\\\\\\\\\\\"tabular\\\\\\\\\\\\\\\", \\\\\\\\\\\\\\\"subscriptionId\\\\\\\\\\\\\\\": \\\\\\\\\\\\\\\"f9d5a085-54dc-4215-9ba6-dad5d86e60a0\\\\\\\\\\\\\\\", \\\\\\\\\\\\\\\"workspaceId\\\\\\\\\\\\\\\": \\\\\\\\\\\\\\\"5150bfcb-7c92-4fcf-ae46-1c05ccda6e72\\\\\\\\\\\\\\\", \\\\\\\\\\\\\\\"workspaceLocation\\\\\\\\\\\\\\\": \\\\\\\\\\\\\\\"southcentralus\\\\\\\\\\\\\\\"}}\\\\\\\", \\\\\\\"activities\\\\\\\": 0}\", \"EnableSubsampling\": null, \"runTemplate\": \"AutoML\", \"azureml.runsource\": \"automl\", \"display_task_type\": \"classification\", \"dependencies_versions\": \"{\\\"azureml-widgets\\\": \\\"1.22.0\\\", \\\"azureml-train\\\": \\\"1.22.0\\\", \\\"azureml-train-restclients-hyperdrive\\\": \\\"1.22.0\\\", \\\"azureml-train-core\\\": \\\"1.22.0\\\", \\\"azureml-train-automl\\\": \\\"1.22.0\\\", \\\"azureml-train-automl-runtime\\\": \\\"1.22.0\\\", \\\"azureml-train-automl-client\\\": \\\"1.22.0\\\", \\\"azureml-tensorboard\\\": \\\"1.22.0\\\", \\\"azureml-telemetry\\\": \\\"1.22.0\\\", \\\"azureml-sdk\\\": \\\"1.22.0\\\", \\\"azureml-samples\\\": \\\"0+unknown\\\", \\\"azureml-pipeline\\\": \\\"1.22.0\\\", \\\"azureml-pipeline-steps\\\": \\\"1.22.0\\\", \\\"azureml-pipeline-core\\\": \\\"1.22.0\\\", \\\"azureml-opendatasets\\\": \\\"1.22.0\\\", \\\"azureml-model-management-sdk\\\": \\\"1.0.1b6.post1\\\", \\\"azureml-mlflow\\\": \\\"1.22.0\\\", \\\"azureml-interpret\\\": \\\"1.22.0\\\", \\\"azureml-explain-model\\\": \\\"1.22.0\\\", \\\"azureml-defaults\\\": \\\"1.22.0\\\", \\\"azureml-dataset-runtime\\\": \\\"1.22.0\\\", \\\"azureml-dataprep\\\": \\\"2.9.1\\\", \\\"azureml-dataprep-rslex\\\": \\\"1.7.0\\\", \\\"azureml-dataprep-native\\\": \\\"29.0.0\\\", \\\"azureml-datadrift\\\": \\\"1.22.0\\\", \\\"azureml-core\\\": \\\"1.22.0\\\", \\\"azureml-contrib-services\\\": \\\"1.22.0\\\", \\\"azureml-contrib-server\\\": \\\"1.22.0\\\", \\\"azureml-contrib-reinforcementlearning\\\": \\\"1.22.0\\\", \\\"azureml-contrib-pipeline-steps\\\": \\\"1.22.0\\\", \\\"azureml-contrib-notebook\\\": \\\"1.22.0\\\", \\\"azureml-contrib-interpret\\\": \\\"1.22.0\\\", \\\"azureml-contrib-gbdt\\\": \\\"1.22.0\\\", \\\"azureml-contrib-fairness\\\": \\\"1.22.0\\\", \\\"azureml-contrib-dataset\\\": \\\"1.22.0\\\", \\\"azureml-cli-common\\\": \\\"1.22.0\\\", \\\"azureml-automl-runtime\\\": \\\"1.22.0\\\", \\\"azureml-automl-core\\\": \\\"1.22.0\\\", \\\"azureml-accel-models\\\": \\\"1.22.0\\\"}\", \"_aml_system_scenario_identification\": \"Remote.Parent\", \"ClientType\": \"SDK\", \"environment_cpu_name\": \"AzureML-AutoML\", \"environment_cpu_label\": \"prod\", \"environment_gpu_name\": \"AzureML-AutoML-GPU\", \"environment_gpu_label\": \"prod\", \"root_attribution\": \"automl\", \"attribution\": \"AutoML\", \"Orchestrator\": \"AutoML\", \"CancelUri\": \"https://southcentralus.experiments.azureml.net/jasmine/v1.0/subscriptions/f9d5a085-54dc-4215-9ba6-dad5d86e60a0/resourceGroups/aml-quickstarts-139954/providers/Microsoft.MachineLearningServices/workspaces/quick-starts-ws-139954/experimentids/ba50f67b-348b-4cf2-a859-33b332b32999/cancel/AutoML_3b267046-c349-4020-a32f-ceb49235dc7e\", \"ClientSdkVersion\": \"1.23.0\", \"snapshotId\": \"00000000-0000-0000-0000-000000000000\", \"SetupRunId\": \"AutoML_3b267046-c349-4020-a32f-ceb49235dc7e_setup\", \"SetupRunContainerId\": \"dcid.AutoML_3b267046-c349-4020-a32f-ceb49235dc7e_setup\", \"FeaturizationRunJsonPath\": \"featurizer_container.json\", \"FeaturizationRunId\": \"AutoML_3b267046-c349-4020-a32f-ceb49235dc7e_featurize\", \"ProblemInfoJsonString\": \"{\\\"dataset_num_categorical\\\": 0, \\\"is_sparse\\\": true, \\\"subsampling\\\": false, \\\"dataset_classes\\\": 2, \\\"dataset_features\\\": 170, \\\"dataset_samples\\\": 7905, \\\"single_frequency_class_detected\\\": false}\", \"ModelExplainRunId\": \"AutoML_3b267046-c349-4020-a32f-ceb49235dc7e_ModelExplain\"}, \"tags\": {\"model_explain_run\": \"best_run\", \"_aml_system_azureml.automlComponent\": \"AutoML\", \"pipeline_id\": \"\", \"score\": \"\", \"predicted_cost\": \"\", \"fit_time\": \"\", \"training_percent\": \"\", \"iteration\": \"\", \"run_preprocessor\": \"\", \"run_algorithm\": \"\", \"dynamic_whitelisting_iterations\": \"<25>;<30>;<35>;\", \"automl_best_child_run_id\": \"AutoML_3b267046-c349-4020-a32f-ceb49235dc7e_5\", \"model_explain_best_run_child_id\": \"AutoML_3b267046-c349-4020-a32f-ceb49235dc7e_5\"}, \"end_time_utc\": \"2021-03-06T19:26:54.894778Z\", \"status\": \"Completed\", \"log_files\": {}, \"log_groups\": [], \"run_duration\": \"0:16:05\", \"run_number\": \"53\", \"run_queued_details\": {\"status\": \"Completed\", \"details\": null}}, \"child_runs\": [{\"run_id\": \"AutoML_3b267046-c349-4020-a32f-ceb49235dc7e_2\", \"run_number\": 57, \"metric\": null, \"status\": \"Completed\", \"run_type\": \"azureml.scriptrun\", \"training_percent\": \"100\", \"start_time\": \"2021-03-06T19:15:08.718993Z\", \"end_time\": \"2021-03-06T19:15:59.110709Z\", \"created_time\": \"2021-03-06T19:14:05.667456Z\", \"created_time_dt\": \"2021-03-06T19:14:05.667456Z\", \"duration\": \"0:01:53\", \"iteration\": \"2\", \"goal\": \"accuracy_max\", \"run_name\": \"MaxAbsScaler, RandomForest\", \"run_properties\": \"copy=True\", \"primary_metric\": 0.99051206, \"best_metric\": 0.99177715}, {\"run_id\": \"AutoML_3b267046-c349-4020-a32f-ceb49235dc7e_1\", \"run_number\": 58, \"metric\": null, \"status\": \"Completed\", \"run_type\": \"azureml.scriptrun\", \"training_percent\": \"100\", \"start_time\": \"2021-03-06T19:16:06.269589Z\", \"end_time\": \"2021-03-06T19:18:21.050232Z\", \"created_time\": \"2021-03-06T19:14:05.711803Z\", \"created_time_dt\": \"2021-03-06T19:14:05.711803Z\", \"duration\": \"0:04:15\", \"iteration\": \"1\", \"goal\": \"accuracy_max\", \"run_name\": \"MaxAbsScaler, RandomForest\", \"run_properties\": \"copy=True\", \"primary_metric\": 0.99051206, \"best_metric\": 0.99177715}, {\"run_id\": \"AutoML_3b267046-c349-4020-a32f-ceb49235dc7e_0\", \"run_number\": 59, \"metric\": null, \"status\": \"Completed\", \"run_type\": \"azureml.scriptrun\", \"training_percent\": \"100\", \"start_time\": \"2021-03-06T19:16:01.577207Z\", \"end_time\": \"2021-03-06T19:16:47.217661Z\", \"created_time\": \"2021-03-06T19:14:05.806905Z\", \"created_time_dt\": \"2021-03-06T19:14:05.806905Z\", \"duration\": \"0:02:41\", \"iteration\": \"0\", \"goal\": \"accuracy_max\", \"run_name\": \"MaxAbsScaler, LightGBM\", \"run_properties\": \"copy=True\", \"primary_metric\": 0.99177715, \"best_metric\": 0.99177715}, {\"run_id\": \"AutoML_3b267046-c349-4020-a32f-ceb49235dc7e_3\", \"run_number\": 60, \"metric\": null, \"status\": \"Completed\", \"run_type\": \"azureml.scriptrun\", \"training_percent\": \"100\", \"start_time\": \"2021-03-06T19:14:15.382701Z\", \"end_time\": \"2021-03-06T19:15:01.671392Z\", \"created_time\": \"2021-03-06T19:14:05.906987Z\", \"created_time_dt\": \"2021-03-06T19:14:05.906987Z\", \"duration\": \"0:00:55\", \"iteration\": \"3\", \"goal\": \"accuracy_max\", \"run_name\": \"MaxAbsScaler, RandomForest\", \"run_properties\": \"copy=True\", \"primary_metric\": 0.98709658, \"best_metric\": 0.99177715}, {\"run_id\": \"AutoML_3b267046-c349-4020-a32f-ceb49235dc7e_4\", \"run_number\": 61, \"metric\": null, \"status\": \"Completed\", \"run_type\": \"azureml.scriptrun\", \"training_percent\": \"100\", \"start_time\": \"2021-03-06T19:16:11.108387Z\", \"end_time\": \"2021-03-06T19:18:05.110928Z\", \"created_time\": \"2021-03-06T19:15:05.700638Z\", \"created_time_dt\": \"2021-03-06T19:15:05.700638Z\", \"duration\": \"0:02:59\", \"iteration\": \"4\", \"goal\": \"accuracy_max\", \"run_name\": \"MaxAbsScaler, RandomForest\", \"run_properties\": \"copy=True\", \"primary_metric\": 0.95319655, \"best_metric\": 0.99177715}, {\"run_id\": \"AutoML_3b267046-c349-4020-a32f-ceb49235dc7e_5\", \"run_number\": 62, \"metric\": null, \"status\": \"Completed\", \"run_type\": \"azureml.scriptrun\", \"training_percent\": \"100\", \"start_time\": \"2021-03-06T19:16:14.965504Z\", \"end_time\": \"2021-03-06T19:18:06.978747Z\", \"created_time\": \"2021-03-06T19:16:02.461338Z\", \"created_time_dt\": \"2021-03-06T19:16:02.461338Z\", \"duration\": \"0:02:04\", \"iteration\": \"5\", \"goal\": \"accuracy_max\", \"run_name\": \"MaxAbsScaler, SGD\", \"run_properties\": \"copy=True\", \"primary_metric\": 0.99405416, \"best_metric\": 0.99405416}, {\"run_id\": \"AutoML_3b267046-c349-4020-a32f-ceb49235dc7e_6\", \"run_number\": 63, \"metric\": null, \"status\": \"Completed\", \"run_type\": \"azureml.scriptrun\", \"training_percent\": \"100\", \"start_time\": \"2021-03-06T19:17:01.997892Z\", \"end_time\": \"2021-03-06T19:17:56.42077Z\", \"created_time\": \"2021-03-06T19:16:49.892285Z\", \"created_time_dt\": \"2021-03-06T19:16:49.892285Z\", \"duration\": \"0:01:06\", \"iteration\": \"6\", \"goal\": \"accuracy_max\", \"run_name\": \"SparseNormalizer, LogisticRegression\", \"run_properties\": \"<azureml.automl.runtime.shared.model_wrappers.SparseNormalizer object at 0x7f54005e42e8\", \"primary_metric\": 0.99051206, \"best_metric\": 0.99405416}, {\"run_id\": \"AutoML_3b267046-c349-4020-a32f-ceb49235dc7e_7\", \"run_number\": 64, \"metric\": null, \"status\": \"Completed\", \"run_type\": \"azureml.scriptrun\", \"training_percent\": \"100\", \"start_time\": \"2021-03-06T19:18:08.043521Z\", \"end_time\": \"2021-03-06T19:19:04.119923Z\", \"created_time\": \"2021-03-06T19:17:58.958443Z\", \"created_time_dt\": \"2021-03-06T19:17:58.958443Z\", \"duration\": \"0:01:05\", \"iteration\": \"7\", \"goal\": \"accuracy_max\", \"run_name\": \"MaxAbsScaler, ExtremeRandomTrees\", \"run_properties\": \"copy=True\", \"primary_metric\": 0.99051206, \"best_metric\": 0.99405416}, {\"run_id\": \"AutoML_3b267046-c349-4020-a32f-ceb49235dc7e_8\", \"run_number\": 65, \"metric\": null, \"status\": \"Completed\", \"run_type\": \"azureml.scriptrun\", \"training_percent\": \"100\", \"start_time\": \"2021-03-06T19:18:16.244471Z\", \"end_time\": \"2021-03-06T19:19:00.730114Z\", \"created_time\": \"2021-03-06T19:18:07.280132Z\", \"created_time_dt\": \"2021-03-06T19:18:07.280132Z\", \"duration\": \"0:00:53\", \"iteration\": \"8\", \"goal\": \"accuracy_max\", \"run_name\": \"MaxAbsScaler, LightGBM\", \"run_properties\": \"copy=True\", \"primary_metric\": 0.99051206, \"best_metric\": 0.99405416}, {\"run_id\": \"AutoML_3b267046-c349-4020-a32f-ceb49235dc7e_9\", \"run_number\": 66, \"metric\": null, \"status\": \"Completed\", \"run_type\": \"azureml.scriptrun\", \"training_percent\": \"100\", \"start_time\": \"2021-03-06T19:18:20.993774Z\", \"end_time\": \"2021-03-06T19:19:14.273458Z\", \"created_time\": \"2021-03-06T19:18:11.009431Z\", \"created_time_dt\": \"2021-03-06T19:18:11.009431Z\", \"duration\": \"0:01:03\", \"iteration\": \"9\", \"goal\": \"accuracy_max\", \"run_name\": \"StandardScalerWrapper, GradientBoosting\", \"run_properties\": \"<azureml.automl.runtime.shared.model_wrappers.StandardScalerWrapper object at 0x7fe32a9b6c18\", \"primary_metric\": 0.99051206, \"best_metric\": 0.99405416}, {\"run_id\": \"AutoML_3b267046-c349-4020-a32f-ceb49235dc7e_10\", \"run_number\": 67, \"metric\": null, \"status\": \"Completed\", \"run_type\": \"azureml.scriptrun\", \"training_percent\": \"100\", \"start_time\": \"2021-03-06T19:18:36.342312Z\", \"end_time\": \"2021-03-06T19:19:31.204706Z\", \"created_time\": \"2021-03-06T19:18:23.451283Z\", \"created_time_dt\": \"2021-03-06T19:18:23.451283Z\", \"duration\": \"0:01:07\", \"iteration\": \"10\", \"goal\": \"accuracy_max\", \"run_name\": \"MaxAbsScaler, LightGBM\", \"run_properties\": \"copy=True\", \"primary_metric\": 0.99051206, \"best_metric\": 0.99405416}, {\"run_id\": \"AutoML_3b267046-c349-4020-a32f-ceb49235dc7e_11\", \"run_number\": 68, \"metric\": null, \"status\": \"Completed\", \"run_type\": \"azureml.scriptrun\", \"training_percent\": \"100\", \"start_time\": \"2021-03-06T19:19:16.716987Z\", \"end_time\": \"2021-03-06T19:20:05.289465Z\", \"created_time\": \"2021-03-06T19:19:03.221076Z\", \"created_time_dt\": \"2021-03-06T19:19:03.221076Z\", \"duration\": \"0:01:02\", \"iteration\": \"11\", \"goal\": \"accuracy_max\", \"run_name\": \"StandardScalerWrapper, ExtremeRandomTrees\", \"run_properties\": \"<azureml.automl.runtime.shared.model_wrappers.StandardScalerWrapper object at 0x7fcf7f38f080\", \"primary_metric\": 0.99051206, \"best_metric\": 0.99405416}, {\"run_id\": \"AutoML_3b267046-c349-4020-a32f-ceb49235dc7e_12\", \"run_number\": 69, \"metric\": null, \"status\": \"Completed\", \"run_type\": \"azureml.scriptrun\", \"training_percent\": \"100\", \"start_time\": \"2021-03-06T19:19:19.446419Z\", \"end_time\": \"2021-03-06T19:20:04.178447Z\", \"created_time\": \"2021-03-06T19:19:08.630526Z\", \"created_time_dt\": \"2021-03-06T19:19:08.630526Z\", \"duration\": \"0:00:55\", \"iteration\": \"12\", \"goal\": \"accuracy_max\", \"run_name\": \"MaxAbsScaler, RandomForest\", \"run_properties\": \"copy=True\", \"primary_metric\": 0.99051206, \"best_metric\": 0.99405416}, {\"run_id\": \"AutoML_3b267046-c349-4020-a32f-ceb49235dc7e_13\", \"run_number\": 70, \"metric\": null, \"status\": \"Completed\", \"run_type\": \"azureml.scriptrun\", \"training_percent\": \"100\", \"start_time\": \"2021-03-06T19:19:25.189321Z\", \"end_time\": \"2021-03-06T19:20:17.578258Z\", \"created_time\": \"2021-03-06T19:19:17.121502Z\", \"created_time_dt\": \"2021-03-06T19:19:17.121502Z\", \"duration\": \"0:01:00\", \"iteration\": \"13\", \"goal\": \"accuracy_max\", \"run_name\": \"StandardScalerWrapper, LightGBM\", \"run_properties\": \"<azureml.automl.runtime.shared.model_wrappers.StandardScalerWrapper object at 0x7f852d00c898\", \"primary_metric\": 0.99051206, \"best_metric\": 0.99405416}, {\"run_id\": \"AutoML_3b267046-c349-4020-a32f-ceb49235dc7e_14\", \"run_number\": 71, \"metric\": null, \"status\": \"Completed\", \"run_type\": \"azureml.scriptrun\", \"training_percent\": \"100\", \"start_time\": \"2021-03-06T19:19:42.302216Z\", \"end_time\": \"2021-03-06T19:20:40.368854Z\", \"created_time\": \"2021-03-06T19:19:33.176529Z\", \"created_time_dt\": \"2021-03-06T19:19:33.176529Z\", \"duration\": \"0:01:07\", \"iteration\": \"14\", \"goal\": \"accuracy_max\", \"run_name\": \"StandardScalerWrapper, LightGBM\", \"run_properties\": \"<azureml.automl.runtime.shared.model_wrappers.StandardScalerWrapper object at 0x7f9414b52ba8\", \"primary_metric\": 0.99051206, \"best_metric\": 0.99405416}, {\"run_id\": \"AutoML_3b267046-c349-4020-a32f-ceb49235dc7e_15\", \"run_number\": 72, \"metric\": null, \"status\": \"Completed\", \"run_type\": \"azureml.scriptrun\", \"training_percent\": \"100\", \"start_time\": \"2021-03-06T19:20:15.347287Z\", \"end_time\": \"2021-03-06T19:21:00.075767Z\", \"created_time\": \"2021-03-06T19:20:05.75899Z\", \"created_time_dt\": \"2021-03-06T19:20:05.75899Z\", \"duration\": \"0:00:54\", \"iteration\": \"15\", \"goal\": \"accuracy_max\", \"run_name\": \"SparseNormalizer, LightGBM\", \"run_properties\": \"<azureml.automl.runtime.shared.model_wrappers.SparseNormalizer object at 0x7f8f35f9ebe0\", \"primary_metric\": 0.99025909, \"best_metric\": 0.99405416}, {\"run_id\": \"AutoML_3b267046-c349-4020-a32f-ceb49235dc7e_16\", \"run_number\": 73, \"metric\": null, \"status\": \"Completed\", \"run_type\": \"azureml.scriptrun\", \"training_percent\": \"100\", \"start_time\": \"2021-03-06T19:20:18.234491Z\", \"end_time\": \"2021-03-06T19:21:08.890016Z\", \"created_time\": \"2021-03-06T19:20:08.971081Z\", \"created_time_dt\": \"2021-03-06T19:20:08.971081Z\", \"duration\": \"0:00:59\", \"iteration\": \"16\", \"goal\": \"accuracy_max\", \"run_name\": \"SparseNormalizer, LightGBM\", \"run_properties\": \"<azureml.automl.runtime.shared.model_wrappers.SparseNormalizer object at 0x7f84d2e6d7b8\", \"primary_metric\": 0.99051206, \"best_metric\": 0.99405416}, {\"run_id\": \"AutoML_3b267046-c349-4020-a32f-ceb49235dc7e_17\", \"run_number\": 74, \"metric\": null, \"status\": \"Completed\", \"run_type\": \"azureml.scriptrun\", \"training_percent\": \"100\", \"start_time\": \"2021-03-06T19:20:28.884626Z\", \"end_time\": \"2021-03-06T19:21:22.091833Z\", \"created_time\": \"2021-03-06T19:20:19.307252Z\", \"created_time_dt\": \"2021-03-06T19:20:19.307252Z\", \"duration\": \"0:01:02\", \"iteration\": \"17\", \"goal\": \"accuracy_max\", \"run_name\": \"SparseNormalizer, ExtremeRandomTrees\", \"run_properties\": \"<azureml.automl.runtime.shared.model_wrappers.SparseNormalizer object at 0x7f8622523978\", \"primary_metric\": 0.99051206, \"best_metric\": 0.99405416}, {\"run_id\": \"AutoML_3b267046-c349-4020-a32f-ceb49235dc7e_18\", \"run_number\": 75, \"metric\": null, \"status\": \"Completed\", \"run_type\": \"azureml.scriptrun\", \"training_percent\": \"100\", \"start_time\": \"2021-03-06T19:20:51.244303Z\", \"end_time\": \"2021-03-06T19:21:35.929018Z\", \"created_time\": \"2021-03-06T19:20:42.139567Z\", \"created_time_dt\": \"2021-03-06T19:20:42.139567Z\", \"duration\": \"0:00:53\", \"iteration\": \"18\", \"goal\": \"accuracy_max\", \"run_name\": \"MaxAbsScaler, LightGBM\", \"run_properties\": \"copy=True\", \"primary_metric\": 0.99051206, \"best_metric\": 0.99405416}, {\"run_id\": \"AutoML_3b267046-c349-4020-a32f-ceb49235dc7e_19\", \"run_number\": 76, \"metric\": null, \"status\": \"Completed\", \"run_type\": \"azureml.scriptrun\", \"training_percent\": \"100\", \"start_time\": \"2021-03-06T19:21:11.491266Z\", \"end_time\": \"2021-03-06T19:21:53.517568Z\", \"created_time\": \"2021-03-06T19:21:01.890127Z\", \"created_time_dt\": \"2021-03-06T19:21:01.890127Z\", \"duration\": \"0:00:51\", \"iteration\": \"19\", \"goal\": \"accuracy_max\", \"run_name\": \"MaxAbsScaler, LightGBM\", \"run_properties\": \"copy=True\", \"primary_metric\": 0.99051206, \"best_metric\": 0.99405416}, {\"run_id\": \"AutoML_3b267046-c349-4020-a32f-ceb49235dc7e_20\", \"run_number\": 77, \"metric\": null, \"status\": \"Completed\", \"run_type\": \"azureml.scriptrun\", \"training_percent\": \"100\", \"start_time\": \"2021-03-06T19:21:20.687661Z\", \"end_time\": \"2021-03-06T19:22:14.190325Z\", \"created_time\": \"2021-03-06T19:21:10.938708Z\", \"created_time_dt\": \"2021-03-06T19:21:10.938708Z\", \"duration\": \"0:01:03\", \"iteration\": \"20\", \"goal\": \"accuracy_max\", \"run_name\": \"SparseNormalizer, LightGBM\", \"run_properties\": \"<azureml.automl.runtime.shared.model_wrappers.SparseNormalizer object at 0x7f4fc402a748\", \"primary_metric\": 0.99025909, \"best_metric\": 0.99405416}, {\"run_id\": \"AutoML_3b267046-c349-4020-a32f-ceb49235dc7e_21\", \"run_number\": 78, \"metric\": null, \"status\": \"Completed\", \"run_type\": \"azureml.scriptrun\", \"training_percent\": \"100\", \"start_time\": \"2021-03-06T19:21:34.904756Z\", \"end_time\": \"2021-03-06T19:22:37.474286Z\", \"created_time\": \"2021-03-06T19:21:24.127326Z\", \"created_time_dt\": \"2021-03-06T19:21:24.127326Z\", \"duration\": \"0:01:13\", \"iteration\": \"21\", \"goal\": \"accuracy_max\", \"run_name\": \"StandardScalerWrapper, ExtremeRandomTrees\", \"run_properties\": \"<azureml.automl.runtime.shared.model_wrappers.StandardScalerWrapper object at 0x7f24d262feb8\", \"primary_metric\": 0.99051206, \"best_metric\": 0.99405416}, {\"run_id\": \"AutoML_3b267046-c349-4020-a32f-ceb49235dc7e_22\", \"run_number\": 79, \"metric\": null, \"status\": \"Completed\", \"run_type\": \"azureml.scriptrun\", \"training_percent\": \"100\", \"start_time\": \"2021-03-06T19:21:46.567302Z\", \"end_time\": \"2021-03-06T19:22:55.933917Z\", \"created_time\": \"2021-03-06T19:21:37.475109Z\", \"created_time_dt\": \"2021-03-06T19:21:37.475109Z\", \"duration\": \"0:01:18\", \"iteration\": \"22\", \"goal\": \"accuracy_max\", \"run_name\": \"StandardScalerWrapper, LightGBM\", \"run_properties\": \"<azureml.automl.runtime.shared.model_wrappers.StandardScalerWrapper object at 0x7f19708d1320\", \"primary_metric\": 0.99051206, \"best_metric\": 0.99405416}, {\"run_id\": \"AutoML_3b267046-c349-4020-a32f-ceb49235dc7e_23\", \"run_number\": 80, \"metric\": null, \"status\": \"Completed\", \"run_type\": \"azureml.scriptrun\", \"training_percent\": \"100\", \"start_time\": \"2021-03-06T19:22:04.637772Z\", \"end_time\": \"2021-03-06T19:22:51.62401Z\", \"created_time\": \"2021-03-06T19:21:55.193853Z\", \"created_time_dt\": \"2021-03-06T19:21:55.193853Z\", \"duration\": \"0:00:56\", \"iteration\": \"23\", \"goal\": \"accuracy_max\", \"run_name\": \"MaxAbsScaler, RandomForest\", \"run_properties\": \"copy=True\", \"primary_metric\": 0.99051206, \"best_metric\": 0.99405416}, {\"run_id\": \"AutoML_3b267046-c349-4020-a32f-ceb49235dc7e_24\", \"run_number\": 81, \"metric\": null, \"status\": \"Completed\", \"run_type\": \"azureml.scriptrun\", \"training_percent\": \"100\", \"start_time\": \"2021-03-06T19:22:23.21173Z\", \"end_time\": \"2021-03-06T19:23:12.931931Z\", \"created_time\": \"2021-03-06T19:22:15.85871Z\", \"created_time_dt\": \"2021-03-06T19:22:15.85871Z\", \"duration\": \"0:00:57\", \"iteration\": \"24\", \"goal\": \"accuracy_max\", \"run_name\": \"MaxAbsScaler, LightGBM\", \"run_properties\": \"copy=True\", \"primary_metric\": 0.99051206, \"best_metric\": 0.99405416}, {\"run_id\": \"AutoML_3b267046-c349-4020-a32f-ceb49235dc7e_25\", \"run_number\": 82, \"metric\": null, \"status\": \"Completed\", \"run_type\": \"azureml.scriptrun\", \"training_percent\": \"100\", \"start_time\": \"2021-03-06T19:22:53.700437Z\", \"end_time\": \"2021-03-06T19:23:39.560492Z\", \"created_time\": \"2021-03-06T19:22:40.672785Z\", \"created_time_dt\": \"2021-03-06T19:22:40.672785Z\", \"duration\": \"0:00:58\", \"iteration\": \"25\", \"goal\": \"accuracy_max\", \"run_name\": \"TruncatedSVDWrapper, SGD\", \"run_properties\": \"n_components=0.7521052631578947, random_state=None\", \"primary_metric\": 0.27296211, \"best_metric\": 0.99405416}, {\"run_id\": \"AutoML_3b267046-c349-4020-a32f-ceb49235dc7e_26\", \"run_number\": 83, \"metric\": null, \"status\": \"Completed\", \"run_type\": \"azureml.scriptrun\", \"training_percent\": \"100\", \"start_time\": \"2021-03-06T19:23:04.760588Z\", \"end_time\": \"2021-03-06T19:23:46.272911Z\", \"created_time\": \"2021-03-06T19:22:53.996046Z\", \"created_time_dt\": \"2021-03-06T19:22:53.996046Z\", \"duration\": \"0:00:52\", \"iteration\": \"26\", \"goal\": \"accuracy_max\", \"run_name\": \"StandardScalerWrapper, LightGBM\", \"run_properties\": \"<azureml.automl.runtime.shared.model_wrappers.StandardScalerWrapper object at 0x7f9644b0fac8\", \"primary_metric\": 0.99051206, \"best_metric\": 0.99405416}, {\"run_id\": \"AutoML_3b267046-c349-4020-a32f-ceb49235dc7e_27\", \"run_number\": 84, \"metric\": null, \"status\": \"Completed\", \"run_type\": \"azureml.scriptrun\", \"training_percent\": \"100\", \"start_time\": \"2021-03-06T19:23:07.675972Z\", \"end_time\": \"2021-03-06T19:24:00.160906Z\", \"created_time\": \"2021-03-06T19:22:58.225586Z\", \"created_time_dt\": \"2021-03-06T19:22:58.225586Z\", \"duration\": \"0:01:01\", \"iteration\": \"27\", \"goal\": \"accuracy_max\", \"run_name\": \"MaxAbsScaler, LogisticRegression\", \"run_properties\": \"copy=True\", \"primary_metric\": 0.99291562, \"best_metric\": 0.99405416}, {\"run_id\": \"AutoML_3b267046-c349-4020-a32f-ceb49235dc7e_28\", \"run_number\": 85, \"metric\": null, \"status\": \"Completed\", \"run_type\": \"azureml.scriptrun\", \"training_percent\": \"100\", \"start_time\": \"2021-03-06T19:23:26.170633Z\", \"end_time\": \"2021-03-06T19:24:18.562898Z\", \"created_time\": \"2021-03-06T19:23:15.08822Z\", \"created_time_dt\": \"2021-03-06T19:23:15.08822Z\", \"duration\": \"0:01:03\", \"iteration\": \"28\", \"goal\": \"accuracy_max\", \"run_name\": \"MaxAbsScaler, LogisticRegression\", \"run_properties\": \"copy=True\", \"primary_metric\": 0.99354818, \"best_metric\": 0.99405416}, {\"run_id\": \"AutoML_3b267046-c349-4020-a32f-ceb49235dc7e_29\", \"run_number\": 86, \"metric\": null, \"status\": \"Completed\", \"run_type\": \"azureml.scriptrun\", \"training_percent\": \"100\", \"start_time\": \"2021-03-06T19:23:51.722439Z\", \"end_time\": \"2021-03-06T19:24:36.804966Z\", \"created_time\": \"2021-03-06T19:23:41.417212Z\", \"created_time_dt\": \"2021-03-06T19:23:41.417212Z\", \"duration\": \"0:00:55\", \"iteration\": \"29\", \"goal\": \"accuracy_max\", \"run_name\": \"MaxAbsScaler, LightGBM\", \"run_properties\": \"copy=True\", \"primary_metric\": 0.99051206, \"best_metric\": 0.99405416}, {\"run_id\": \"AutoML_3b267046-c349-4020-a32f-ceb49235dc7e_30\", \"run_number\": 87, \"metric\": null, \"status\": \"Completed\", \"run_type\": \"azureml.scriptrun\", \"training_percent\": \"100\", \"start_time\": \"2021-03-06T19:23:56.642328Z\", \"end_time\": \"2021-03-06T19:24:46.014717Z\", \"created_time\": \"2021-03-06T19:23:49.062936Z\", \"created_time_dt\": \"2021-03-06T19:23:49.062936Z\", \"duration\": \"0:00:56\", \"iteration\": \"30\", \"goal\": \"accuracy_max\", \"run_name\": \"MaxAbsScaler, SGD\", \"run_properties\": \"copy=True\", \"primary_metric\": 0.99051206, \"best_metric\": 0.99405416}, {\"run_id\": \"AutoML_3b267046-c349-4020-a32f-ceb49235dc7e_31\", \"run_number\": 88, \"metric\": null, \"status\": \"Completed\", \"run_type\": \"azureml.scriptrun\", \"training_percent\": \"100\", \"start_time\": \"2021-03-06T19:24:10.60349Z\", \"end_time\": \"2021-03-06T19:25:06.901361Z\", \"created_time\": \"2021-03-06T19:24:01.848684Z\", \"created_time_dt\": \"2021-03-06T19:24:01.848684Z\", \"duration\": \"0:01:05\", \"iteration\": \"31\", \"goal\": \"accuracy_max\", \"run_name\": \"StandardScalerWrapper, ExtremeRandomTrees\", \"run_properties\": \"<azureml.automl.runtime.shared.model_wrappers.StandardScalerWrapper object at 0x7f3d48da6978\", \"primary_metric\": 0.99051206, \"best_metric\": 0.99405416}, {\"run_id\": \"AutoML_3b267046-c349-4020-a32f-ceb49235dc7e_32\", \"run_number\": 89, \"metric\": null, \"status\": \"Completed\", \"run_type\": \"azureml.scriptrun\", \"training_percent\": \"100\", \"start_time\": \"2021-03-06T19:24:29.967349Z\", \"end_time\": \"2021-03-06T19:25:14.621847Z\", \"created_time\": \"2021-03-06T19:24:20.946716Z\", \"created_time_dt\": \"2021-03-06T19:24:20.946716Z\", \"duration\": \"0:00:53\", \"iteration\": \"32\", \"goal\": \"accuracy_max\", \"run_name\": \"StandardScalerWrapper, ExtremeRandomTrees\", \"run_properties\": \"<azureml.automl.runtime.shared.model_wrappers.StandardScalerWrapper object at 0x7f6f0d23c1d0\", \"primary_metric\": 0.99051206, \"best_metric\": 0.99405416}, {\"run_id\": \"AutoML_3b267046-c349-4020-a32f-ceb49235dc7e_33\", \"run_number\": 90, \"metric\": null, \"status\": \"Canceled\", \"run_type\": \"azureml.scriptrun\", \"training_percent\": \"100\", \"start_time\": \"2021-03-06T19:24:49.413186Z\", \"end_time\": \"2021-03-06T19:25:23.088616Z\", \"created_time\": \"2021-03-06T19:24:39.156579Z\", \"created_time_dt\": \"2021-03-06T19:24:39.156579Z\", \"duration\": \"0:00:43\", \"iteration\": \"33\", \"goal\": null, \"run_name\": \"MaxAbsScaler, ExtremeRandomTrees\", \"run_properties\": null, \"primary_metric\": 0.99051206, \"best_metric\": 0.99405416}, {\"run_id\": \"AutoML_3b267046-c349-4020-a32f-ceb49235dc7e_34\", \"run_number\": 91, \"metric\": null, \"status\": \"Canceled\", \"run_type\": \"azureml.scriptrun\", \"training_percent\": \"100\", \"start_time\": \"2021-03-06T19:24:57.647973Z\", \"end_time\": \"2021-03-06T19:25:21.327748Z\", \"created_time\": \"2021-03-06T19:24:47.709568Z\", \"created_time_dt\": \"2021-03-06T19:24:47.709568Z\", \"duration\": \"0:00:33\", \"iteration\": \"34\", \"goal\": null, \"run_name\": \"Canceled\", \"run_properties\": null}, {\"run_id\": \"AutoML_3b267046-c349-4020-a32f-ceb49235dc7e_35\", \"run_number\": 92, \"metric\": null, \"status\": \"Canceled\", \"run_type\": \"azureml.scriptrun\", \"training_percent\": \"100\", \"start_time\": \"2021-03-06T19:25:20.097778Z\", \"end_time\": \"2021-03-06T19:25:27.381884Z\", \"created_time\": \"2021-03-06T19:25:10.058167Z\", \"created_time_dt\": \"2021-03-06T19:25:10.058167Z\", \"duration\": \"0:00:17\", \"iteration\": \"35\", \"goal\": null, \"run_name\": \"Canceled\", \"run_properties\": null}, {\"run_id\": \"AutoML_3b267046-c349-4020-a32f-ceb49235dc7e_36\", \"run_number\": 93, \"metric\": null, \"status\": \"Completed\", \"run_type\": \"azureml.scriptrun\", \"training_percent\": \"100\", \"start_time\": \"2021-03-06T19:25:37.101633Z\", \"end_time\": \"2021-03-06T19:26:39.69453Z\", \"created_time\": \"2021-03-06T19:25:28.133995Z\", \"created_time_dt\": \"2021-03-06T19:25:28.133995Z\", \"duration\": \"0:01:11\", \"iteration\": \"36\", \"goal\": \"accuracy_max\", \"run_name\": \"VotingEnsemble\", \"run_properties\": \"classification_labels=None,\\n                              estimators=[('5',\\n                                           Pipeline(memory=None,\\n                                                    steps=[('maxabsscaler',\\n                                                            MaxAbsScaler(copy=True\", \"primary_metric\": 0.99392764, \"best_metric\": 0.99405416}, {\"run_id\": \"AutoML_3b267046-c349-4020-a32f-ceb49235dc7e_37\", \"run_number\": 94, \"metric\": null, \"status\": \"Completed\", \"run_type\": \"azureml.scriptrun\", \"training_percent\": \"100\", \"start_time\": \"2021-03-06T19:25:37.310036Z\", \"end_time\": \"2021-03-06T19:26:49.353909Z\", \"created_time\": \"2021-03-06T19:25:28.193939Z\", \"created_time_dt\": \"2021-03-06T19:25:28.193939Z\", \"duration\": \"0:01:21\", \"iteration\": \"37\", \"goal\": \"accuracy_max\", \"run_name\": \"StackEnsemble\", \"run_properties\": \"base_learners=[('5',\\n                                        Pipeline(memory=None,\\n                                                 steps=[('maxabsscaler',\\n                                                         MaxAbsScaler(copy=True\", \"primary_metric\": 0.99266271, \"best_metric\": 0.99405416}], \"children_metrics\": {\"categories\": [0], \"series\": {\"norm_macro_recall\": [{\"categories\": [\"0\", \"1\", \"2\", \"3\", \"4\", \"5\", \"6\", \"7\", \"8\", \"9\", \"10\", \"11\", \"12\", \"13\", \"14\", \"15\", \"16\", \"17\", \"18\", \"19\", \"20\", \"21\", \"22\", \"23\", \"24\", \"25\", \"26\", \"27\", \"28\", \"29\", \"30\", \"31\", \"32\", \"33\", \"36\", \"37\"], \"mode\": \"markers\", \"name\": \"norm_macro_recall\", \"stepped\": false, \"type\": \"scatter\", \"data\": [0.38452046912323656, 0.0, 0.0, 0.4768320005430844, 0.5151137887066275, 0.4814895123289129, 0.0, 0.0, 0.0, 0.0, 0.0, 0.0, 0.0, 0.0, 0.0, 0.0, 0.0, 0.0, 0.0, 0.0, 0.016859116313402978, 0.0, 0.0, 0.0, 0.0, 0.07722664196728135, 0.0, 0.39677324136167513, 0.4360097674918513, 0.0, 0.0, 0.0, 0.0, 0.0, 0.39342580238932523, 0.5075789704536111]}, {\"categories\": [\"0\", \"1\", \"2\", \"3\", \"4\", \"5\", \"6\", \"7\", \"8\", \"9\", \"10\", \"11\", \"12\", \"13\", \"14\", \"15\", \"16\", \"17\", \"18\", \"19\", \"20\", \"21\", \"22\", \"23\", \"24\", \"25\", \"26\", \"27\", \"28\", \"29\", \"30\", \"31\", \"32\", \"33\", \"36\", \"37\"], \"mode\": \"lines\", \"name\": \"norm_macro_recall_max\", \"stepped\": true, \"type\": \"scatter\", \"data\": [0.38452046912323656, 0.38452046912323656, 0.38452046912323656, 0.4768320005430844, 0.5151137887066275, 0.5151137887066275, 0.5151137887066275, 0.5151137887066275, 0.5151137887066275, 0.5151137887066275, 0.5151137887066275, 0.5151137887066275, 0.5151137887066275, 0.5151137887066275, 0.5151137887066275, 0.5151137887066275, 0.5151137887066275, 0.5151137887066275, 0.5151137887066275, 0.5151137887066275, 0.5151137887066275, 0.5151137887066275, 0.5151137887066275, 0.5151137887066275, 0.5151137887066275, 0.5151137887066275, 0.5151137887066275, 0.5151137887066275, 0.5151137887066275, 0.5151137887066275, 0.5151137887066275, 0.5151137887066275, 0.5151137887066275, 0.5151137887066275, 0.5151137887066275, 0.5151137887066275]}], \"log_loss\": [{\"categories\": [\"0\", \"1\", \"2\", \"3\", \"4\", \"5\", \"6\", \"7\", \"8\", \"9\", \"10\", \"11\", \"12\", \"13\", \"14\", \"15\", \"16\", \"17\", \"18\", \"19\", \"20\", \"21\", \"22\", \"23\", \"24\", \"25\", \"26\", \"27\", \"28\", \"29\", \"30\", \"31\", \"32\", \"33\", \"36\", \"37\"], \"mode\": \"markers\", \"name\": \"log_loss\", \"stepped\": false, \"type\": \"scatter\", \"data\": [0.06467772501723018, 0.039602008997899715, 0.0505664013018672, 0.20529840330385754, 0.3408163389916447, 0.1059540922687595, 0.05551810852259963, 0.051984878434974374, 0.043374648965968134, 0.0517218900817971, 0.04554804357363708, 0.04953601867439113, 0.04976283620727047, 0.042736773483227276, 0.04513679892620778, 0.042012111264592714, 0.050497370288076396, 0.048851038755120396, 0.04659746614856977, 0.038900005567436016, 0.038825268484968464, 0.04264877356763756, 0.04748881450188358, 0.05048843139425875, 0.04876704571174468, 25.110999026495044, 0.05034891001353655, 0.045689210211866546, 0.04460938234455209, 0.04366217967048263, 0.6931424604885841, 0.05003361002271493, 0.05103104984915045, 0.045517849049954914, 0.0280066610813291, 0.04442703379028523]}, {\"categories\": [\"0\", \"1\", \"2\", \"3\", \"4\", \"5\", \"6\", \"7\", \"8\", \"9\", \"10\", \"11\", \"12\", \"13\", \"14\", \"15\", \"16\", \"17\", \"18\", \"19\", \"20\", \"21\", \"22\", \"23\", \"24\", \"25\", \"26\", \"27\", \"28\", \"29\", \"30\", \"31\", \"32\", \"33\", \"36\", \"37\"], \"mode\": \"lines\", \"name\": \"log_loss_min\", \"stepped\": true, \"type\": \"scatter\", \"data\": [0.06467772501723018, 0.039602008997899715, 0.039602008997899715, 0.039602008997899715, 0.039602008997899715, 0.039602008997899715, 0.039602008997899715, 0.039602008997899715, 0.039602008997899715, 0.039602008997899715, 0.039602008997899715, 0.039602008997899715, 0.039602008997899715, 0.039602008997899715, 0.039602008997899715, 0.039602008997899715, 0.039602008997899715, 0.039602008997899715, 0.039602008997899715, 0.038900005567436016, 0.038825268484968464, 0.038825268484968464, 0.038825268484968464, 0.038825268484968464, 0.038825268484968464, 0.038825268484968464, 0.038825268484968464, 0.038825268484968464, 0.038825268484968464, 0.038825268484968464, 0.038825268484968464, 0.038825268484968464, 0.038825268484968464, 0.038825268484968464, 0.0280066610813291, 0.0280066610813291]}], \"precision_score_macro\": [{\"categories\": [\"0\", \"1\", \"2\", \"3\", \"4\", \"5\", \"6\", \"7\", \"8\", \"9\", \"10\", \"11\", \"12\", \"13\", \"14\", \"15\", \"16\", \"17\", \"18\", \"19\", \"20\", \"21\", \"22\", \"23\", \"24\", \"25\", \"26\", \"27\", \"28\", \"29\", \"30\", \"31\", \"32\", \"33\", \"36\", \"37\"], \"mode\": \"markers\", \"name\": \"precision_score_macro\", \"stepped\": false, \"type\": \"scatter\", \"data\": [0.8831906228616576, 0.49525603088311954, 0.49525603088311954, 0.6766403191157726, 0.5614948857313038, 0.9145039293550881, 0.49525603088311954, 0.49525603088311954, 0.49525603088311954, 0.49525603088311954, 0.49525603088311954, 0.49525603088311954, 0.49525603088311954, 0.49525603088311954, 0.49525603088311954, 0.49525510248520077, 0.49525603088311954, 0.49525603088311954, 0.49525603088311954, 0.49525603088311954, 0.5578174803132654, 0.49525603088311954, 0.49525603088311954, 0.49525603088311954, 0.49525603088311954, 0.5039174000310771, 0.49525603088311954, 0.8700699952972506, 0.8962557424835668, 0.49525603088311954, 0.49525603088311954, 0.49525603088311954, 0.49525603088311954, 0.49525603088311954, 0.9803495852378534, 0.8884211676915987]}, {\"categories\": [\"0\", \"1\", \"2\", \"3\", \"4\", \"5\", \"6\", \"7\", \"8\", \"9\", \"10\", \"11\", \"12\", \"13\", \"14\", \"15\", \"16\", \"17\", \"18\", \"19\", \"20\", \"21\", \"22\", \"23\", \"24\", \"25\", \"26\", \"27\", \"28\", \"29\", \"30\", \"31\", \"32\", \"33\", \"36\", \"37\"], \"mode\": \"lines\", \"name\": \"precision_score_macro_max\", \"stepped\": true, \"type\": \"scatter\", \"data\": [0.8831906228616576, 0.8831906228616576, 0.8831906228616576, 0.8831906228616576, 0.8831906228616576, 0.9145039293550881, 0.9145039293550881, 0.9145039293550881, 0.9145039293550881, 0.9145039293550881, 0.9145039293550881, 0.9145039293550881, 0.9145039293550881, 0.9145039293550881, 0.9145039293550881, 0.9145039293550881, 0.9145039293550881, 0.9145039293550881, 0.9145039293550881, 0.9145039293550881, 0.9145039293550881, 0.9145039293550881, 0.9145039293550881, 0.9145039293550881, 0.9145039293550881, 0.9145039293550881, 0.9145039293550881, 0.9145039293550881, 0.9145039293550881, 0.9145039293550881, 0.9145039293550881, 0.9145039293550881, 0.9145039293550881, 0.9145039293550881, 0.9803495852378534, 0.9803495852378534]}], \"recall_score_micro\": [{\"categories\": [\"0\", \"1\", \"2\", \"3\", \"4\", \"5\", \"6\", \"7\", \"8\", \"9\", \"10\", \"11\", \"12\", \"13\", \"14\", \"15\", \"16\", \"17\", \"18\", \"19\", \"20\", \"21\", \"22\", \"23\", \"24\", \"25\", \"26\", \"27\", \"28\", \"29\", \"30\", \"31\", \"32\", \"33\", \"36\", \"37\"], \"mode\": \"markers\", \"name\": \"recall_score_micro\", \"stepped\": false, \"type\": \"scatter\", \"data\": [0.9917771479356119, 0.9905120617662391, 0.9905120617662391, 0.9870965819533364, 0.9531965485650729, 0.9940541558146275, 0.9905120617662391, 0.9905120617662391, 0.9905120617662391, 0.9905120617662391, 0.9905120617662391, 0.9905120617662391, 0.9905120617662391, 0.9905120617662391, 0.9905120617662391, 0.9902590893402335, 0.9905120617662391, 0.9905120617662391, 0.9905120617662391, 0.9905120617662391, 0.9902590893402335, 0.9905120617662391, 0.9905120617662391, 0.9905120617662391, 0.9905120617662391, 0.2729621125143513, 0.9905120617662391, 0.992915619869499, 0.9935481789569958, 0.9905120617662391, 0.9905120617662391, 0.9905120617662391, 0.9905120617662391, 0.9905120617662391, 0.993927637596004, 0.9926627114547348]}, {\"categories\": [\"0\", \"1\", \"2\", \"3\", \"4\", \"5\", \"6\", \"7\", \"8\", \"9\", \"10\", \"11\", \"12\", \"13\", \"14\", \"15\", \"16\", \"17\", \"18\", \"19\", \"20\", \"21\", \"22\", \"23\", \"24\", \"25\", \"26\", \"27\", \"28\", \"29\", \"30\", \"31\", \"32\", \"33\", \"36\", \"37\"], \"mode\": \"lines\", \"name\": \"recall_score_micro_max\", \"stepped\": true, \"type\": \"scatter\", \"data\": [0.9917771479356119, 0.9917771479356119, 0.9917771479356119, 0.9917771479356119, 0.9917771479356119, 0.9940541558146275, 0.9940541558146275, 0.9940541558146275, 0.9940541558146275, 0.9940541558146275, 0.9940541558146275, 0.9940541558146275, 0.9940541558146275, 0.9940541558146275, 0.9940541558146275, 0.9940541558146275, 0.9940541558146275, 0.9940541558146275, 0.9940541558146275, 0.9940541558146275, 0.9940541558146275, 0.9940541558146275, 0.9940541558146275, 0.9940541558146275, 0.9940541558146275, 0.9940541558146275, 0.9940541558146275, 0.9940541558146275, 0.9940541558146275, 0.9940541558146275, 0.9940541558146275, 0.9940541558146275, 0.9940541558146275, 0.9940541558146275, 0.9940541558146275, 0.9940541558146275]}], \"AUC_macro\": [{\"categories\": [\"0\", \"1\", \"2\", \"3\", \"4\", \"5\", \"6\", \"7\", \"8\", \"9\", \"10\", \"11\", \"12\", \"13\", \"14\", \"15\", \"16\", \"17\", \"18\", \"19\", \"20\", \"21\", \"22\", \"23\", \"24\", \"25\", \"26\", \"27\", \"28\", \"29\", \"30\", \"31\", \"32\", \"33\", \"36\", \"37\"], \"mode\": \"markers\", \"name\": \"AUC_macro\", \"stepped\": false, \"type\": \"scatter\", \"data\": [0.8420007502132613, 0.864035666850688, 0.6977466259365983, 0.8602286186385802, 0.8562616491011812, 0.8455752926711717, 0.6999953443563173, 0.759389620921159, 0.8563461032910312, 0.7887786973985773, 0.8371132443121863, 0.8186264116493734, 0.8536851745634673, 0.8456989550152276, 0.8594401524029767, 0.8384779190824266, 0.7977563188557499, 0.8278085296406743, 0.8385515247174958, 0.8643543333534828, 0.8287770389245547, 0.8607247082676337, 0.8310303734602351, 0.7932013907503892, 0.8521504253897657, 0.5386133209836407, 0.8327342524216971, 0.8349540667454292, 0.8314228784507111, 0.843336483912809, 0.5, 0.8025255549975545, 0.7707503229177137, 0.8712338546161185, 0.8970264547118766, 0.9078413211339904]}, {\"categories\": [\"0\", \"1\", \"2\", \"3\", \"4\", \"5\", \"6\", \"7\", \"8\", \"9\", \"10\", \"11\", \"12\", \"13\", \"14\", \"15\", \"16\", \"17\", \"18\", \"19\", \"20\", \"21\", \"22\", \"23\", \"24\", \"25\", \"26\", \"27\", \"28\", \"29\", \"30\", \"31\", \"32\", \"33\", \"36\", \"37\"], \"mode\": \"lines\", \"name\": \"AUC_macro_max\", \"stepped\": true, \"type\": \"scatter\", \"data\": [0.8420007502132613, 0.864035666850688, 0.864035666850688, 0.864035666850688, 0.864035666850688, 0.864035666850688, 0.864035666850688, 0.864035666850688, 0.864035666850688, 0.864035666850688, 0.864035666850688, 0.864035666850688, 0.864035666850688, 0.864035666850688, 0.864035666850688, 0.864035666850688, 0.864035666850688, 0.864035666850688, 0.864035666850688, 0.8643543333534828, 0.8643543333534828, 0.8643543333534828, 0.8643543333534828, 0.8643543333534828, 0.8643543333534828, 0.8643543333534828, 0.8643543333534828, 0.8643543333534828, 0.8643543333534828, 0.8643543333534828, 0.8643543333534828, 0.8643543333534828, 0.8643543333534828, 0.8712338546161185, 0.8970264547118766, 0.9078413211339904]}], \"accuracy\": [{\"categories\": [\"0\", \"1\", \"2\", \"3\", \"4\", \"5\", \"6\", \"7\", \"8\", \"9\", \"10\", \"11\", \"12\", \"13\", \"14\", \"15\", \"16\", \"17\", \"18\", \"19\", \"20\", \"21\", \"22\", \"23\", \"24\", \"25\", \"26\", \"27\", \"28\", \"29\", \"30\", \"31\", \"32\", \"33\", \"36\", \"37\"], \"mode\": \"markers\", \"name\": \"accuracy\", \"stepped\": false, \"type\": \"scatter\", \"data\": [0.9917771479356119, 0.9905120617662391, 0.9905120617662391, 0.9870965819533364, 0.9531965485650729, 0.9940541558146275, 0.9905120617662391, 0.9905120617662391, 0.9905120617662391, 0.9905120617662391, 0.9905120617662391, 0.9905120617662391, 0.9905120617662391, 0.9905120617662391, 0.9905120617662391, 0.9902590893402335, 0.9905120617662391, 0.9905120617662391, 0.9905120617662391, 0.9905120617662391, 0.9902590893402335, 0.9905120617662391, 0.9905120617662391, 0.9905120617662391, 0.9905120617662391, 0.2729621125143513, 0.9905120617662391, 0.992915619869499, 0.9935481789569958, 0.9905120617662391, 0.9905120617662391, 0.9905120617662391, 0.9905120617662391, 0.9905120617662391, 0.993927637596004, 0.9926627114547348]}, {\"categories\": [\"0\", \"1\", \"2\", \"3\", \"4\", \"5\", \"6\", \"7\", \"8\", \"9\", \"10\", \"11\", \"12\", \"13\", \"14\", \"15\", \"16\", \"17\", \"18\", \"19\", \"20\", \"21\", \"22\", \"23\", \"24\", \"25\", \"26\", \"27\", \"28\", \"29\", \"30\", \"31\", \"32\", \"33\", \"36\", \"37\"], \"mode\": \"lines\", \"name\": \"accuracy_max\", \"stepped\": true, \"type\": \"scatter\", \"data\": [0.9917771479356119, 0.9917771479356119, 0.9917771479356119, 0.9917771479356119, 0.9917771479356119, 0.9940541558146275, 0.9940541558146275, 0.9940541558146275, 0.9940541558146275, 0.9940541558146275, 0.9940541558146275, 0.9940541558146275, 0.9940541558146275, 0.9940541558146275, 0.9940541558146275, 0.9940541558146275, 0.9940541558146275, 0.9940541558146275, 0.9940541558146275, 0.9940541558146275, 0.9940541558146275, 0.9940541558146275, 0.9940541558146275, 0.9940541558146275, 0.9940541558146275, 0.9940541558146275, 0.9940541558146275, 0.9940541558146275, 0.9940541558146275, 0.9940541558146275, 0.9940541558146275, 0.9940541558146275, 0.9940541558146275, 0.9940541558146275, 0.9940541558146275, 0.9940541558146275]}], \"average_precision_score_micro\": [{\"categories\": [\"0\", \"1\", \"2\", \"3\", \"4\", \"5\", \"6\", \"7\", \"8\", \"9\", \"10\", \"11\", \"12\", \"13\", \"14\", \"15\", \"16\", \"17\", \"18\", \"19\", \"20\", \"21\", \"22\", \"23\", \"24\", \"25\", \"26\", \"27\", \"28\", \"29\", \"30\", \"31\", \"32\", \"33\", \"36\", \"37\"], \"mode\": \"markers\", \"name\": \"average_precision_score_micro\", \"stepped\": false, \"type\": \"scatter\", \"data\": [0.9952685835005275, 0.9968771513140995, 0.9937088897358182, 0.9957755451871242, 0.9878613968472116, 0.9956758106871908, 0.9921364381314755, 0.994401962663416, 0.9966985965880142, 0.9957141881618221, 0.996107943042511, 0.9957988224535348, 0.9968013106839463, 0.9963540186369537, 0.9967469326070122, 0.9962402707498633, 0.9952891864467643, 0.9959126027039749, 0.9964535846611111, 0.9969088484758668, 0.9956743065072944, 0.9969570964080499, 0.9963281905165824, 0.9952913147242501, 0.9967179546925697, 0.4930177778422205, 0.9961800499346352, 0.9949958138511896, 0.9948845467126307, 0.9963930561170471, 0.9858627435971887, 0.9955112067199058, 0.9951232076585363, 0.9970843730079497, 0.9976057319405027, 0.9895750825313305]}, {\"categories\": [\"0\", \"1\", \"2\", \"3\", \"4\", \"5\", \"6\", \"7\", \"8\", \"9\", \"10\", \"11\", \"12\", \"13\", \"14\", \"15\", \"16\", \"17\", \"18\", \"19\", \"20\", \"21\", \"22\", \"23\", \"24\", \"25\", \"26\", \"27\", \"28\", \"29\", \"30\", \"31\", \"32\", \"33\", \"36\", \"37\"], \"mode\": \"lines\", \"name\": \"average_precision_score_micro_max\", \"stepped\": true, \"type\": \"scatter\", \"data\": [0.9952685835005275, 0.9968771513140995, 0.9968771513140995, 0.9968771513140995, 0.9968771513140995, 0.9968771513140995, 0.9968771513140995, 0.9968771513140995, 0.9968771513140995, 0.9968771513140995, 0.9968771513140995, 0.9968771513140995, 0.9968771513140995, 0.9968771513140995, 0.9968771513140995, 0.9968771513140995, 0.9968771513140995, 0.9968771513140995, 0.9968771513140995, 0.9969088484758668, 0.9969088484758668, 0.9969570964080499, 0.9969570964080499, 0.9969570964080499, 0.9969570964080499, 0.9969570964080499, 0.9969570964080499, 0.9969570964080499, 0.9969570964080499, 0.9969570964080499, 0.9969570964080499, 0.9969570964080499, 0.9969570964080499, 0.9970843730079497, 0.9976057319405027, 0.9976057319405027]}], \"AUC_micro\": [{\"categories\": [\"0\", \"1\", \"2\", \"3\", \"4\", \"5\", \"6\", \"7\", \"8\", \"9\", \"10\", \"11\", \"12\", \"13\", \"14\", \"15\", \"16\", \"17\", \"18\", \"19\", \"20\", \"21\", \"22\", \"23\", \"24\", \"25\", \"26\", \"27\", \"28\", \"29\", \"30\", \"31\", \"32\", \"33\", \"36\", \"37\"], \"mode\": \"markers\", \"name\": \"AUC_micro\", \"stepped\": false, \"type\": \"scatter\", \"data\": [0.9966760263082984, 0.9971821035230866, 0.9946825099059575, 0.9968290836613303, 0.9886223343236169, 0.9970602369420035, 0.9941534883771836, 0.9951200815551935, 0.9970707530297434, 0.9958484392096791, 0.9967501460243025, 0.9962866180668877, 0.9970105681444102, 0.996895378612168, 0.9971656303611698, 0.9967314064149548, 0.9957498907140059, 0.9964552931835187, 0.9966225591256231, 0.9972193936474684, 0.99649801812564, 0.9972006581476329, 0.9964994459448087, 0.9956887185736689, 0.9970586935827452, 0.2729621125143513, 0.9964863386770793, 0.9969330938141203, 0.9968710346139887, 0.996874374717436, 0.9905120617662391, 0.9959600524203908, 0.9954200197309524, 0.9974040397798748, 0.9978805987745547, 0.9950454769044021]}, {\"categories\": [\"0\", \"1\", \"2\", \"3\", \"4\", \"5\", \"6\", \"7\", \"8\", \"9\", \"10\", \"11\", \"12\", \"13\", \"14\", \"15\", \"16\", \"17\", \"18\", \"19\", \"20\", \"21\", \"22\", \"23\", \"24\", \"25\", \"26\", \"27\", \"28\", \"29\", \"30\", \"31\", \"32\", \"33\", \"36\", \"37\"], \"mode\": \"lines\", \"name\": \"AUC_micro_max\", \"stepped\": true, \"type\": \"scatter\", \"data\": [0.9966760263082984, 0.9971821035230866, 0.9971821035230866, 0.9971821035230866, 0.9971821035230866, 0.9971821035230866, 0.9971821035230866, 0.9971821035230866, 0.9971821035230866, 0.9971821035230866, 0.9971821035230866, 0.9971821035230866, 0.9971821035230866, 0.9971821035230866, 0.9971821035230866, 0.9971821035230866, 0.9971821035230866, 0.9971821035230866, 0.9971821035230866, 0.9972193936474684, 0.9972193936474684, 0.9972193936474684, 0.9972193936474684, 0.9972193936474684, 0.9972193936474684, 0.9972193936474684, 0.9972193936474684, 0.9972193936474684, 0.9972193936474684, 0.9972193936474684, 0.9972193936474684, 0.9972193936474684, 0.9972193936474684, 0.9974040397798748, 0.9978805987745547, 0.9978805987745547]}], \"average_precision_score_weighted\": [{\"categories\": [\"0\", \"1\", \"2\", \"3\", \"4\", \"5\", \"6\", \"7\", \"8\", \"9\", \"10\", \"11\", \"12\", \"13\", \"14\", \"15\", \"16\", \"17\", \"18\", \"19\", \"20\", \"21\", \"22\", \"23\", \"24\", \"25\", \"26\", \"27\", \"28\", \"29\", \"30\", \"31\", \"32\", \"33\", \"36\", \"37\"], \"mode\": \"markers\", \"name\": \"average_precision_score_weighted\", \"stepped\": false, \"type\": \"scatter\", \"data\": [0.9912542128112911, 0.9914942656626853, 0.9865829122663136, 0.990288722397611, 0.9898680920411469, 0.9931801282818123, 0.9849120163933983, 0.9870131436783918, 0.9896022752460714, 0.9881876924150068, 0.9885495807068629, 0.9888654887959814, 0.9890225501707508, 0.9893592309537039, 0.9895523412585099, 0.9892613389107442, 0.9879934376175726, 0.9884812736636144, 0.9889439354672425, 0.9908300134181692, 0.9894406447846593, 0.9909217610857335, 0.9886764680306284, 0.9877399785241154, 0.9891410369009901, 0.9818366909459975, 0.988462486527662, 0.99131611657384, 0.9913029898190566, 0.9893353414893458, 0.9812134254281386, 0.9881482652345762, 0.9876057357142325, 0.9910561607001471, 0.9946525094118612, 0.9951327357019473]}, {\"categories\": [\"0\", \"1\", \"2\", \"3\", \"4\", \"5\", \"6\", \"7\", \"8\", \"9\", \"10\", \"11\", \"12\", \"13\", \"14\", \"15\", \"16\", \"17\", \"18\", \"19\", \"20\", \"21\", \"22\", \"23\", \"24\", \"25\", \"26\", \"27\", \"28\", \"29\", \"30\", \"31\", \"32\", \"33\", \"36\", \"37\"], \"mode\": \"lines\", \"name\": \"average_precision_score_weighted_max\", \"stepped\": true, \"type\": \"scatter\", \"data\": [0.9912542128112911, 0.9914942656626853, 0.9914942656626853, 0.9914942656626853, 0.9914942656626853, 0.9931801282818123, 0.9931801282818123, 0.9931801282818123, 0.9931801282818123, 0.9931801282818123, 0.9931801282818123, 0.9931801282818123, 0.9931801282818123, 0.9931801282818123, 0.9931801282818123, 0.9931801282818123, 0.9931801282818123, 0.9931801282818123, 0.9931801282818123, 0.9931801282818123, 0.9931801282818123, 0.9931801282818123, 0.9931801282818123, 0.9931801282818123, 0.9931801282818123, 0.9931801282818123, 0.9931801282818123, 0.9931801282818123, 0.9931801282818123, 0.9931801282818123, 0.9931801282818123, 0.9931801282818123, 0.9931801282818123, 0.9931801282818123, 0.9946525094118612, 0.9951327357019473]}], \"f1_score_micro\": [{\"categories\": [\"0\", \"1\", \"2\", \"3\", \"4\", \"5\", \"6\", \"7\", \"8\", \"9\", \"10\", \"11\", \"12\", \"13\", \"14\", \"15\", \"16\", \"17\", \"18\", \"19\", \"20\", \"21\", \"22\", \"23\", \"24\", \"25\", \"26\", \"27\", \"28\", \"29\", \"30\", \"31\", \"32\", \"33\", \"36\", \"37\"], \"mode\": \"markers\", \"name\": \"f1_score_micro\", \"stepped\": false, \"type\": \"scatter\", \"data\": [0.9917771479356119, 0.9905120617662391, 0.9905120617662391, 0.9870965819533364, 0.9531965485650729, 0.9940541558146275, 0.9905120617662391, 0.9905120617662391, 0.9905120617662391, 0.9905120617662391, 0.9905120617662391, 0.9905120617662391, 0.9905120617662391, 0.9905120617662391, 0.9905120617662391, 0.9902590893402335, 0.9905120617662391, 0.9905120617662391, 0.9905120617662391, 0.9905120617662391, 0.9902590893402335, 0.9905120617662391, 0.9905120617662391, 0.9905120617662391, 0.9905120617662391, 0.2729621125143513, 0.9905120617662391, 0.992915619869499, 0.9935481789569958, 0.9905120617662391, 0.9905120617662391, 0.9905120617662391, 0.9905120617662391, 0.9905120617662391, 0.993927637596004, 0.9926627114547348]}, {\"categories\": [\"0\", \"1\", \"2\", \"3\", \"4\", \"5\", \"6\", \"7\", \"8\", \"9\", \"10\", \"11\", \"12\", \"13\", \"14\", \"15\", \"16\", \"17\", \"18\", \"19\", \"20\", \"21\", \"22\", \"23\", \"24\", \"25\", \"26\", \"27\", \"28\", \"29\", \"30\", \"31\", \"32\", \"33\", \"36\", \"37\"], \"mode\": \"lines\", \"name\": \"f1_score_micro_max\", \"stepped\": true, \"type\": \"scatter\", \"data\": [0.9917771479356119, 0.9917771479356119, 0.9917771479356119, 0.9917771479356119, 0.9917771479356119, 0.9940541558146275, 0.9940541558146275, 0.9940541558146275, 0.9940541558146275, 0.9940541558146275, 0.9940541558146275, 0.9940541558146275, 0.9940541558146275, 0.9940541558146275, 0.9940541558146275, 0.9940541558146275, 0.9940541558146275, 0.9940541558146275, 0.9940541558146275, 0.9940541558146275, 0.9940541558146275, 0.9940541558146275, 0.9940541558146275, 0.9940541558146275, 0.9940541558146275, 0.9940541558146275, 0.9940541558146275, 0.9940541558146275, 0.9940541558146275, 0.9940541558146275, 0.9940541558146275, 0.9940541558146275, 0.9940541558146275, 0.9940541558146275, 0.9940541558146275, 0.9940541558146275]}], \"matthews_correlation\": [{\"categories\": [\"0\", \"1\", \"2\", \"3\", \"4\", \"5\", \"6\", \"7\", \"8\", \"9\", \"10\", \"11\", \"12\", \"13\", \"14\", \"15\", \"16\", \"17\", \"18\", \"19\", \"20\", \"21\", \"22\", \"23\", \"24\", \"25\", \"26\", \"27\", \"28\", \"29\", \"30\", \"31\", \"32\", \"33\", \"36\", \"37\"], \"mode\": \"markers\", \"name\": \"matthews_correlation\", \"stepped\": false, \"type\": \"scatter\", \"data\": [0.48336529409767537, 0.0, 0.0, 0.41024618245595434, 0.2370391575097202, 0.6303940836311235, 0.0, 0.0, 0.0, 0.0, 0.0, 0.0, 0.0, 0.0, 0.0, -0.0009670879832829891, 0.0, 0.0, 0.0, 0.0, 0.04525064173932995, 0.0, 0.0, 0.0, 0.0, 0.019873470028983285, 0.0, 0.5412355956804634, 0.5866163726515592, 0.0, 0.0, 0.0, 0.0, 0.0, 0.6095659640052238, 0.5799055362862073]}, {\"categories\": [\"0\", \"1\", \"2\", \"3\", \"4\", \"5\", \"6\", \"7\", \"8\", \"9\", \"10\", \"11\", \"12\", \"13\", \"14\", \"15\", \"16\", \"17\", \"18\", \"19\", \"20\", \"21\", \"22\", \"23\", \"24\", \"25\", \"26\", \"27\", \"28\", \"29\", \"30\", \"31\", \"32\", \"33\", \"36\", \"37\"], \"mode\": \"lines\", \"name\": \"matthews_correlation_max\", \"stepped\": true, \"type\": \"scatter\", \"data\": [0.48336529409767537, 0.48336529409767537, 0.48336529409767537, 0.48336529409767537, 0.48336529409767537, 0.6303940836311235, 0.6303940836311235, 0.6303940836311235, 0.6303940836311235, 0.6303940836311235, 0.6303940836311235, 0.6303940836311235, 0.6303940836311235, 0.6303940836311235, 0.6303940836311235, 0.6303940836311235, 0.6303940836311235, 0.6303940836311235, 0.6303940836311235, 0.6303940836311235, 0.6303940836311235, 0.6303940836311235, 0.6303940836311235, 0.6303940836311235, 0.6303940836311235, 0.6303940836311235, 0.6303940836311235, 0.6303940836311235, 0.6303940836311235, 0.6303940836311235, 0.6303940836311235, 0.6303940836311235, 0.6303940836311235, 0.6303940836311235, 0.6303940836311235, 0.6303940836311235]}], \"average_precision_score_macro\": [{\"categories\": [\"0\", \"1\", \"2\", \"3\", \"4\", \"5\", \"6\", \"7\", \"8\", \"9\", \"10\", \"11\", \"12\", \"13\", \"14\", \"15\", \"16\", \"17\", \"18\", \"19\", \"20\", \"21\", \"22\", \"23\", \"24\", \"25\", \"26\", \"27\", \"28\", \"29\", \"30\", \"31\", \"32\", \"33\", \"36\", \"37\"], \"mode\": \"markers\", \"name\": \"average_precision_score_macro\", \"stepped\": false, \"type\": \"scatter\", \"data\": [0.730670206417561, 0.6602972666893193, 0.5243124485723333, 0.6355432374553244, 0.618774613177679, 0.793172722359681, 0.5148217209775748, 0.5188726602556, 0.5653000611811911, 0.5182862462752243, 0.5386693757017418, 0.5703182016718741, 0.5278787036934842, 0.5725246362889356, 0.5673925685601322, 0.5695299589436559, 0.5388568643158143, 0.5430044134176426, 0.5404028300281385, 0.6235344240575033, 0.618638595933351, 0.6330271370097632, 0.5266773700616512, 0.5189553600307919, 0.543411330628881, 0.5006824400386909, 0.523552373002685, 0.7587725017332989, 0.761761677644418, 0.569335014420301, 0.5, 0.5341116040406704, 0.5146459006324653, 0.638994898794096, 0.8106685346902234, 0.8262089498576115]}, {\"categories\": [\"0\", \"1\", \"2\", \"3\", \"4\", \"5\", \"6\", \"7\", \"8\", \"9\", \"10\", \"11\", \"12\", \"13\", \"14\", \"15\", \"16\", \"17\", \"18\", \"19\", \"20\", \"21\", \"22\", \"23\", \"24\", \"25\", \"26\", \"27\", \"28\", \"29\", \"30\", \"31\", \"32\", \"33\", \"36\", \"37\"], \"mode\": \"lines\", \"name\": \"average_precision_score_macro_max\", \"stepped\": true, \"type\": \"scatter\", \"data\": [0.730670206417561, 0.730670206417561, 0.730670206417561, 0.730670206417561, 0.730670206417561, 0.793172722359681, 0.793172722359681, 0.793172722359681, 0.793172722359681, 0.793172722359681, 0.793172722359681, 0.793172722359681, 0.793172722359681, 0.793172722359681, 0.793172722359681, 0.793172722359681, 0.793172722359681, 0.793172722359681, 0.793172722359681, 0.793172722359681, 0.793172722359681, 0.793172722359681, 0.793172722359681, 0.793172722359681, 0.793172722359681, 0.793172722359681, 0.793172722359681, 0.793172722359681, 0.793172722359681, 0.793172722359681, 0.793172722359681, 0.793172722359681, 0.793172722359681, 0.793172722359681, 0.8106685346902234, 0.8262089498576115]}], \"f1_score_macro\": [{\"categories\": [\"0\", \"1\", \"2\", \"3\", \"4\", \"5\", \"6\", \"7\", \"8\", \"9\", \"10\", \"11\", \"12\", \"13\", \"14\", \"15\", \"16\", \"17\", \"18\", \"19\", \"20\", \"21\", \"22\", \"23\", \"24\", \"25\", \"26\", \"27\", \"28\", \"29\", \"30\", \"31\", \"32\", \"33\", \"36\", \"37\"], \"mode\": \"markers\", \"name\": \"f1_score_macro\", \"stepped\": false, \"type\": \"scatter\", \"data\": [0.7091284873088259, 0.4976161221204112, 0.4976161221204112, 0.7025719880228635, 0.5840166613402471, 0.8028496394645817, 0.4976161221204112, 0.4976161221204112, 0.4976161221204112, 0.4976161221204112, 0.4976161221204112, 0.4976161221204112, 0.4976161221204112, 0.4976161221204112, 0.4976161221204112, 0.49755239630424153, 0.4976161221204112, 0.4976161221204112, 0.4976161221204112, 0.4976161221204112, 0.5127036614552527, 0.4976161221204112, 0.4976161221204112, 0.4976161221204112, 0.4976161221204112, 0.19147886617679916, 0.4976161221204112, 0.7571667291579844, 0.7796637797480551, 0.4976161221204112, 0.4976161221204112, 0.4976161221204112, 0.4976161221204112, 0.4976161221204112, 0.7742289115524598, 0.7633641257654227]}, {\"categories\": [\"0\", \"1\", \"2\", \"3\", \"4\", \"5\", \"6\", \"7\", \"8\", \"9\", \"10\", \"11\", \"12\", \"13\", \"14\", \"15\", \"16\", \"17\", \"18\", \"19\", \"20\", \"21\", \"22\", \"23\", \"24\", \"25\", \"26\", \"27\", \"28\", \"29\", \"30\", \"31\", \"32\", \"33\", \"36\", \"37\"], \"mode\": \"lines\", \"name\": \"f1_score_macro_max\", \"stepped\": true, \"type\": \"scatter\", \"data\": [0.7091284873088259, 0.7091284873088259, 0.7091284873088259, 0.7091284873088259, 0.7091284873088259, 0.8028496394645817, 0.8028496394645817, 0.8028496394645817, 0.8028496394645817, 0.8028496394645817, 0.8028496394645817, 0.8028496394645817, 0.8028496394645817, 0.8028496394645817, 0.8028496394645817, 0.8028496394645817, 0.8028496394645817, 0.8028496394645817, 0.8028496394645817, 0.8028496394645817, 0.8028496394645817, 0.8028496394645817, 0.8028496394645817, 0.8028496394645817, 0.8028496394645817, 0.8028496394645817, 0.8028496394645817, 0.8028496394645817, 0.8028496394645817, 0.8028496394645817, 0.8028496394645817, 0.8028496394645817, 0.8028496394645817, 0.8028496394645817, 0.8028496394645817, 0.8028496394645817]}], \"recall_score_weighted\": [{\"categories\": [\"0\", \"1\", \"2\", \"3\", \"4\", \"5\", \"6\", \"7\", \"8\", \"9\", \"10\", \"11\", \"12\", \"13\", \"14\", \"15\", \"16\", \"17\", \"18\", \"19\", \"20\", \"21\", \"22\", \"23\", \"24\", \"25\", \"26\", \"27\", \"28\", \"29\", \"30\", \"31\", \"32\", \"33\", \"36\", \"37\"], \"mode\": \"markers\", \"name\": \"recall_score_weighted\", \"stepped\": false, \"type\": \"scatter\", \"data\": [0.9917771479356119, 0.9905120617662391, 0.9905120617662391, 0.9870965819533364, 0.9531965485650729, 0.9940541558146275, 0.9905120617662391, 0.9905120617662391, 0.9905120617662391, 0.9905120617662391, 0.9905120617662391, 0.9905120617662391, 0.9905120617662391, 0.9905120617662391, 0.9905120617662391, 0.9902590893402335, 0.9905120617662391, 0.9905120617662391, 0.9905120617662391, 0.9905120617662391, 0.9902590893402335, 0.9905120617662391, 0.9905120617662391, 0.9905120617662391, 0.9905120617662391, 0.27296211251435126, 0.9905120617662391, 0.992915619869499, 0.9935481789569958, 0.9905120617662391, 0.9905120617662391, 0.9905120617662391, 0.9905120617662391, 0.9905120617662391, 0.993927637596004, 0.9926627114547348]}, {\"categories\": [\"0\", \"1\", \"2\", \"3\", \"4\", \"5\", \"6\", \"7\", \"8\", \"9\", \"10\", \"11\", \"12\", \"13\", \"14\", \"15\", \"16\", \"17\", \"18\", \"19\", \"20\", \"21\", \"22\", \"23\", \"24\", \"25\", \"26\", \"27\", \"28\", \"29\", \"30\", \"31\", \"32\", \"33\", \"36\", \"37\"], \"mode\": \"lines\", \"name\": \"recall_score_weighted_max\", \"stepped\": true, \"type\": \"scatter\", \"data\": [0.9917771479356119, 0.9917771479356119, 0.9917771479356119, 0.9917771479356119, 0.9917771479356119, 0.9940541558146275, 0.9940541558146275, 0.9940541558146275, 0.9940541558146275, 0.9940541558146275, 0.9940541558146275, 0.9940541558146275, 0.9940541558146275, 0.9940541558146275, 0.9940541558146275, 0.9940541558146275, 0.9940541558146275, 0.9940541558146275, 0.9940541558146275, 0.9940541558146275, 0.9940541558146275, 0.9940541558146275, 0.9940541558146275, 0.9940541558146275, 0.9940541558146275, 0.9940541558146275, 0.9940541558146275, 0.9940541558146275, 0.9940541558146275, 0.9940541558146275, 0.9940541558146275, 0.9940541558146275, 0.9940541558146275, 0.9940541558146275, 0.9940541558146275, 0.9940541558146275]}], \"f1_score_weighted\": [{\"categories\": [\"0\", \"1\", \"2\", \"3\", \"4\", \"5\", \"6\", \"7\", \"8\", \"9\", \"10\", \"11\", \"12\", \"13\", \"14\", \"15\", \"16\", \"17\", \"18\", \"19\", \"20\", \"21\", \"22\", \"23\", \"24\", \"25\", \"26\", \"27\", \"28\", \"29\", \"30\", \"31\", \"32\", \"33\", \"36\", \"37\"], \"mode\": \"markers\", \"name\": \"f1_score_weighted\", \"stepped\": false, \"type\": \"scatter\", \"data\": [0.9900792329496123, 0.9857918792916558, 0.9857918792916558, 0.9880533656621433, 0.9684742600751697, 0.9931967124159359, 0.9857918792916558, 0.9857918792916558, 0.9857918792916558, 0.9857918792916558, 0.9857918792916558, 0.9857918792916558, 0.9857918792916558, 0.9857918792916558, 0.9857918792916558, 0.9856653626700269, 0.9857918792916558, 0.9857918792916558, 0.9857918792916558, 0.9857918792916558, 0.9858871754387677, 0.9857918792916558, 0.9857918792916558, 0.9857918792916558, 0.9857918792916558, 0.3594957664923955, 0.9857918792916558, 0.9917907990928385, 0.9925603749930116, 0.9857918792916558, 0.9857918792916558, 0.9857918792916558, 0.9857918792916558, 0.9857918792916558, 0.9925361106484119, 0.9916324867805358]}, {\"categories\": [\"0\", \"1\", \"2\", \"3\", \"4\", \"5\", \"6\", \"7\", \"8\", \"9\", \"10\", \"11\", \"12\", \"13\", \"14\", \"15\", \"16\", \"17\", \"18\", \"19\", \"20\", \"21\", \"22\", \"23\", \"24\", \"25\", \"26\", \"27\", \"28\", \"29\", \"30\", \"31\", \"32\", \"33\", \"36\", \"37\"], \"mode\": \"lines\", \"name\": \"f1_score_weighted_max\", \"stepped\": true, \"type\": \"scatter\", \"data\": [0.9900792329496123, 0.9900792329496123, 0.9900792329496123, 0.9900792329496123, 0.9900792329496123, 0.9931967124159359, 0.9931967124159359, 0.9931967124159359, 0.9931967124159359, 0.9931967124159359, 0.9931967124159359, 0.9931967124159359, 0.9931967124159359, 0.9931967124159359, 0.9931967124159359, 0.9931967124159359, 0.9931967124159359, 0.9931967124159359, 0.9931967124159359, 0.9931967124159359, 0.9931967124159359, 0.9931967124159359, 0.9931967124159359, 0.9931967124159359, 0.9931967124159359, 0.9931967124159359, 0.9931967124159359, 0.9931967124159359, 0.9931967124159359, 0.9931967124159359, 0.9931967124159359, 0.9931967124159359, 0.9931967124159359, 0.9931967124159359, 0.9931967124159359, 0.9931967124159359]}], \"weighted_accuracy\": [{\"categories\": [\"0\", \"1\", \"2\", \"3\", \"4\", \"5\", \"6\", \"7\", \"8\", \"9\", \"10\", \"11\", \"12\", \"13\", \"14\", \"15\", \"16\", \"17\", \"18\", \"19\", \"20\", \"21\", \"22\", \"23\", \"24\", \"25\", \"26\", \"27\", \"28\", \"29\", \"30\", \"31\", \"32\", \"33\", \"36\", \"37\"], \"mode\": \"markers\", \"name\": \"weighted_accuracy\", \"stepped\": false, \"type\": \"scatter\", \"data\": [0.9980196461649791, 0.9999033560052186, 0.9999033560052186, 0.9917771002495782, 0.9573461314949538, 0.9990528573348314, 0.9999033560052186, 0.9999033560052186, 0.9999033560052186, 0.9999033560052186, 0.9999033560052186, 0.9999033560052186, 0.9999033560052186, 0.9999033560052186, 0.9999033560052186, 0.999648527925528, 0.9999033560052186, 0.9999033560052186, 0.9999033560052186, 0.9999033560052186, 0.9995220555286888, 0.9999033560052186, 0.9999033560052186, 0.9999033560052186, 0.9999033560052186, 0.2669523839101306, 0.9999033560052186, 0.9986621155476881, 0.9989220526970697, 0.9999033560052186, 0.9999033560052186, 0.9999033560052186, 0.9999033560052186, 0.9999033560052186, 0.9998102273341205, 0.997776121216835]}, {\"categories\": [\"0\", \"1\", \"2\", \"3\", \"4\", \"5\", \"6\", \"7\", \"8\", \"9\", \"10\", \"11\", \"12\", \"13\", \"14\", \"15\", \"16\", \"17\", \"18\", \"19\", \"20\", \"21\", \"22\", \"23\", \"24\", \"25\", \"26\", \"27\", \"28\", \"29\", \"30\", \"31\", \"32\", \"33\", \"36\", \"37\"], \"mode\": \"lines\", \"name\": \"weighted_accuracy_max\", \"stepped\": true, \"type\": \"scatter\", \"data\": [0.9980196461649791, 0.9999033560052186, 0.9999033560052186, 0.9999033560052186, 0.9999033560052186, 0.9999033560052186, 0.9999033560052186, 0.9999033560052186, 0.9999033560052186, 0.9999033560052186, 0.9999033560052186, 0.9999033560052186, 0.9999033560052186, 0.9999033560052186, 0.9999033560052186, 0.9999033560052186, 0.9999033560052186, 0.9999033560052186, 0.9999033560052186, 0.9999033560052186, 0.9999033560052186, 0.9999033560052186, 0.9999033560052186, 0.9999033560052186, 0.9999033560052186, 0.9999033560052186, 0.9999033560052186, 0.9999033560052186, 0.9999033560052186, 0.9999033560052186, 0.9999033560052186, 0.9999033560052186, 0.9999033560052186, 0.9999033560052186, 0.9999033560052186, 0.9999033560052186]}], \"balanced_accuracy\": [{\"categories\": [\"0\", \"1\", \"2\", \"3\", \"4\", \"5\", \"6\", \"7\", \"8\", \"9\", \"10\", \"11\", \"12\", \"13\", \"14\", \"15\", \"16\", \"17\", \"18\", \"19\", \"20\", \"21\", \"22\", \"23\", \"24\", \"25\", \"26\", \"27\", \"28\", \"29\", \"30\", \"31\", \"32\", \"33\", \"36\", \"37\"], \"mode\": \"markers\", \"name\": \"balanced_accuracy\", \"stepped\": false, \"type\": \"scatter\", \"data\": [0.6922602345616182, 0.5, 0.5, 0.7384160002715422, 0.7575568943533137, 0.7407447561644565, 0.5, 0.5, 0.5, 0.5, 0.5, 0.5, 0.5, 0.5, 0.5, 0.49987257900101933, 0.5, 0.5, 0.5, 0.5, 0.5084295581567015, 0.5, 0.5, 0.5, 0.5, 0.5386133209836407, 0.5, 0.6983866206808376, 0.7180048837459256, 0.5, 0.5, 0.5, 0.5, 0.5, 0.6967129011946627, 0.7537894852268056]}, {\"categories\": [\"0\", \"1\", \"2\", \"3\", \"4\", \"5\", \"6\", \"7\", \"8\", \"9\", \"10\", \"11\", \"12\", \"13\", \"14\", \"15\", \"16\", \"17\", \"18\", \"19\", \"20\", \"21\", \"22\", \"23\", \"24\", \"25\", \"26\", \"27\", \"28\", \"29\", \"30\", \"31\", \"32\", \"33\", \"36\", \"37\"], \"mode\": \"lines\", \"name\": \"balanced_accuracy_max\", \"stepped\": true, \"type\": \"scatter\", \"data\": [0.6922602345616182, 0.6922602345616182, 0.6922602345616182, 0.7384160002715422, 0.7575568943533137, 0.7575568943533137, 0.7575568943533137, 0.7575568943533137, 0.7575568943533137, 0.7575568943533137, 0.7575568943533137, 0.7575568943533137, 0.7575568943533137, 0.7575568943533137, 0.7575568943533137, 0.7575568943533137, 0.7575568943533137, 0.7575568943533137, 0.7575568943533137, 0.7575568943533137, 0.7575568943533137, 0.7575568943533137, 0.7575568943533137, 0.7575568943533137, 0.7575568943533137, 0.7575568943533137, 0.7575568943533137, 0.7575568943533137, 0.7575568943533137, 0.7575568943533137, 0.7575568943533137, 0.7575568943533137, 0.7575568943533137, 0.7575568943533137, 0.7575568943533137, 0.7575568943533137]}], \"precision_score_micro\": [{\"categories\": [\"0\", \"1\", \"2\", \"3\", \"4\", \"5\", \"6\", \"7\", \"8\", \"9\", \"10\", \"11\", \"12\", \"13\", \"14\", \"15\", \"16\", \"17\", \"18\", \"19\", \"20\", \"21\", \"22\", \"23\", \"24\", \"25\", \"26\", \"27\", \"28\", \"29\", \"30\", \"31\", \"32\", \"33\", \"36\", \"37\"], \"mode\": \"markers\", \"name\": \"precision_score_micro\", \"stepped\": false, \"type\": \"scatter\", \"data\": [0.9917771479356119, 0.9905120617662391, 0.9905120617662391, 0.9870965819533364, 0.9531965485650729, 0.9940541558146275, 0.9905120617662391, 0.9905120617662391, 0.9905120617662391, 0.9905120617662391, 0.9905120617662391, 0.9905120617662391, 0.9905120617662391, 0.9905120617662391, 0.9905120617662391, 0.9902590893402335, 0.9905120617662391, 0.9905120617662391, 0.9905120617662391, 0.9905120617662391, 0.9902590893402335, 0.9905120617662391, 0.9905120617662391, 0.9905120617662391, 0.9905120617662391, 0.2729621125143513, 0.9905120617662391, 0.992915619869499, 0.9935481789569958, 0.9905120617662391, 0.9905120617662391, 0.9905120617662391, 0.9905120617662391, 0.9905120617662391, 0.993927637596004, 0.9926627114547348]}, {\"categories\": [\"0\", \"1\", \"2\", \"3\", \"4\", \"5\", \"6\", \"7\", \"8\", \"9\", \"10\", \"11\", \"12\", \"13\", \"14\", \"15\", \"16\", \"17\", \"18\", \"19\", \"20\", \"21\", \"22\", \"23\", \"24\", \"25\", \"26\", \"27\", \"28\", \"29\", \"30\", \"31\", \"32\", \"33\", \"36\", \"37\"], \"mode\": \"lines\", \"name\": \"precision_score_micro_max\", \"stepped\": true, \"type\": \"scatter\", \"data\": [0.9917771479356119, 0.9917771479356119, 0.9917771479356119, 0.9917771479356119, 0.9917771479356119, 0.9940541558146275, 0.9940541558146275, 0.9940541558146275, 0.9940541558146275, 0.9940541558146275, 0.9940541558146275, 0.9940541558146275, 0.9940541558146275, 0.9940541558146275, 0.9940541558146275, 0.9940541558146275, 0.9940541558146275, 0.9940541558146275, 0.9940541558146275, 0.9940541558146275, 0.9940541558146275, 0.9940541558146275, 0.9940541558146275, 0.9940541558146275, 0.9940541558146275, 0.9940541558146275, 0.9940541558146275, 0.9940541558146275, 0.9940541558146275, 0.9940541558146275, 0.9940541558146275, 0.9940541558146275, 0.9940541558146275, 0.9940541558146275, 0.9940541558146275, 0.9940541558146275]}], \"recall_score_macro\": [{\"categories\": [\"0\", \"1\", \"2\", \"3\", \"4\", \"5\", \"6\", \"7\", \"8\", \"9\", \"10\", \"11\", \"12\", \"13\", \"14\", \"15\", \"16\", \"17\", \"18\", \"19\", \"20\", \"21\", \"22\", \"23\", \"24\", \"25\", \"26\", \"27\", \"28\", \"29\", \"30\", \"31\", \"32\", \"33\", \"36\", \"37\"], \"mode\": \"markers\", \"name\": \"recall_score_macro\", \"stepped\": false, \"type\": \"scatter\", \"data\": [0.6922602345616182, 0.5, 0.5, 0.7384160002715422, 0.7575568943533137, 0.7407447561644565, 0.5, 0.5, 0.5, 0.5, 0.5, 0.5, 0.5, 0.5, 0.5, 0.49987257900101933, 0.5, 0.5, 0.5, 0.5, 0.5084295581567015, 0.5, 0.5, 0.5, 0.5, 0.5386133209836407, 0.5, 0.6983866206808376, 0.7180048837459256, 0.5, 0.5, 0.5, 0.5, 0.5, 0.6967129011946627, 0.7537894852268056]}, {\"categories\": [\"0\", \"1\", \"2\", \"3\", \"4\", \"5\", \"6\", \"7\", \"8\", \"9\", \"10\", \"11\", \"12\", \"13\", \"14\", \"15\", \"16\", \"17\", \"18\", \"19\", \"20\", \"21\", \"22\", \"23\", \"24\", \"25\", \"26\", \"27\", \"28\", \"29\", \"30\", \"31\", \"32\", \"33\", \"36\", \"37\"], \"mode\": \"lines\", \"name\": \"recall_score_macro_max\", \"stepped\": true, \"type\": \"scatter\", \"data\": [0.6922602345616182, 0.6922602345616182, 0.6922602345616182, 0.7384160002715422, 0.7575568943533137, 0.7575568943533137, 0.7575568943533137, 0.7575568943533137, 0.7575568943533137, 0.7575568943533137, 0.7575568943533137, 0.7575568943533137, 0.7575568943533137, 0.7575568943533137, 0.7575568943533137, 0.7575568943533137, 0.7575568943533137, 0.7575568943533137, 0.7575568943533137, 0.7575568943533137, 0.7575568943533137, 0.7575568943533137, 0.7575568943533137, 0.7575568943533137, 0.7575568943533137, 0.7575568943533137, 0.7575568943533137, 0.7575568943533137, 0.7575568943533137, 0.7575568943533137, 0.7575568943533137, 0.7575568943533137, 0.7575568943533137, 0.7575568943533137, 0.7575568943533137, 0.7575568943533137]}], \"AUC_weighted\": [{\"categories\": [\"0\", \"1\", \"2\", \"3\", \"4\", \"5\", \"6\", \"7\", \"8\", \"9\", \"10\", \"11\", \"12\", \"13\", \"14\", \"15\", \"16\", \"17\", \"18\", \"19\", \"20\", \"21\", \"22\", \"23\", \"24\", \"25\", \"26\", \"27\", \"28\", \"29\", \"30\", \"31\", \"32\", \"33\", \"36\", \"37\"], \"mode\": \"markers\", \"name\": \"AUC_weighted\", \"stepped\": false, \"type\": \"scatter\", \"data\": [0.8420007502132613, 0.8640356668506881, 0.6977466259365984, 0.8602286186385802, 0.8562616491011812, 0.8455752926711717, 0.6999953443563173, 0.7593896209211592, 0.8563461032910313, 0.7887786973985773, 0.8371132443121863, 0.8186264116493733, 0.8536851745634673, 0.8456989550152276, 0.8594401524029764, 0.8384779190824267, 0.7977563188557499, 0.8278085296406743, 0.8385515247174957, 0.8643543333534827, 0.8287770389245547, 0.8607247082676337, 0.831030373460235, 0.7932013907503893, 0.8521504253897656, 0.5386133209836406, 0.8327342524216972, 0.8349540667454292, 0.831422878450711, 0.843336483912809, 0.5, 0.8025255549975543, 0.7707503229177137, 0.8712338546161185, 0.8970264547118767, 0.9078413211339904]}, {\"categories\": [\"0\", \"1\", \"2\", \"3\", \"4\", \"5\", \"6\", \"7\", \"8\", \"9\", \"10\", \"11\", \"12\", \"13\", \"14\", \"15\", \"16\", \"17\", \"18\", \"19\", \"20\", \"21\", \"22\", \"23\", \"24\", \"25\", \"26\", \"27\", \"28\", \"29\", \"30\", \"31\", \"32\", \"33\", \"36\", \"37\"], \"mode\": \"lines\", \"name\": \"AUC_weighted_max\", \"stepped\": true, \"type\": \"scatter\", \"data\": [0.8420007502132613, 0.8640356668506881, 0.8640356668506881, 0.8640356668506881, 0.8640356668506881, 0.8640356668506881, 0.8640356668506881, 0.8640356668506881, 0.8640356668506881, 0.8640356668506881, 0.8640356668506881, 0.8640356668506881, 0.8640356668506881, 0.8640356668506881, 0.8640356668506881, 0.8640356668506881, 0.8640356668506881, 0.8640356668506881, 0.8640356668506881, 0.8643543333534827, 0.8643543333534827, 0.8643543333534827, 0.8643543333534827, 0.8643543333534827, 0.8643543333534827, 0.8643543333534827, 0.8643543333534827, 0.8643543333534827, 0.8643543333534827, 0.8643543333534827, 0.8643543333534827, 0.8643543333534827, 0.8643543333534827, 0.8712338546161185, 0.8970264547118767, 0.9078413211339904]}], \"precision_score_weighted\": [{\"categories\": [\"0\", \"1\", \"2\", \"3\", \"4\", \"5\", \"6\", \"7\", \"8\", \"9\", \"10\", \"11\", \"12\", \"13\", \"14\", \"15\", \"16\", \"17\", \"18\", \"19\", \"20\", \"21\", \"22\", \"23\", \"24\", \"25\", \"26\", \"27\", \"28\", \"29\", \"30\", \"31\", \"32\", \"33\", \"36\", \"37\"], \"mode\": \"markers\", \"name\": \"precision_score_weighted\", \"stepped\": false, \"type\": \"scatter\", \"data\": [0.9920544823926976, 0.9811187744803085, 0.9811187744803085, 0.9891916159975158, 0.9871606660021506, 0.9933725445334551, 0.9811187744803085, 0.9811187744803085, 0.9811187744803085, 0.9811187744803085, 0.9811187744803085, 0.9811187744803085, 0.9811187744803085, 0.9811187744803085, 0.9811187744803085, 0.9811169313062971, 0.9811187744803085, 0.9811187744803085, 0.9811187744803085, 0.9811187744803085, 0.9821577967742079, 0.9811187744803085, 0.9811187744803085, 0.9811187744803085, 0.9811187744803085, 0.9878842688424497, 0.9811187744803085, 0.9917597120471842, 0.9927138483285665, 0.9811187744803085, 0.9811187744803085, 0.9811187744803085, 0.9811187744803085, 0.9811187744803085, 0.99384922746419, 0.9932489200429251]}, {\"categories\": [\"0\", \"1\", \"2\", \"3\", \"4\", \"5\", \"6\", \"7\", \"8\", \"9\", \"10\", \"11\", \"12\", \"13\", \"14\", \"15\", \"16\", \"17\", \"18\", \"19\", \"20\", \"21\", \"22\", \"23\", \"24\", \"25\", \"26\", \"27\", \"28\", \"29\", \"30\", \"31\", \"32\", \"33\", \"36\", \"37\"], \"mode\": \"lines\", \"name\": \"precision_score_weighted_max\", \"stepped\": true, \"type\": \"scatter\", \"data\": [0.9920544823926976, 0.9920544823926976, 0.9920544823926976, 0.9920544823926976, 0.9920544823926976, 0.9933725445334551, 0.9933725445334551, 0.9933725445334551, 0.9933725445334551, 0.9933725445334551, 0.9933725445334551, 0.9933725445334551, 0.9933725445334551, 0.9933725445334551, 0.9933725445334551, 0.9933725445334551, 0.9933725445334551, 0.9933725445334551, 0.9933725445334551, 0.9933725445334551, 0.9933725445334551, 0.9933725445334551, 0.9933725445334551, 0.9933725445334551, 0.9933725445334551, 0.9933725445334551, 0.9933725445334551, 0.9933725445334551, 0.9933725445334551, 0.9933725445334551, 0.9933725445334551, 0.9933725445334551, 0.9933725445334551, 0.9933725445334551, 0.99384922746419, 0.99384922746419]}]}, \"metricName\": null, \"primaryMetricName\": \"accuracy\", \"showLegend\": false}, \"run_metrics\": [{\"name\": \"experiment_status\", \"run_id\": \"AutoML_3b267046-c349-4020-a32f-ceb49235dc7e\", \"categories\": [0, 1, 2, 3, 4, 5, 6, 7, 8, 9, 10, 11, 12, 13, 14], \"series\": [{\"data\": [\"DatasetEvaluation\", \"FeaturesGeneration\", \"DatasetFeaturization\", \"DatasetFeaturizationCompleted\", \"DatasetBalancing\", \"DatasetCrossValidationSplit\", \"ModelSelection\", \"BestRunExplainModel\", \"ModelExplanationDataSetSetup\", \"PickSurrogateModel\", \"EngineeredFeatureExplanations\", \"EngineeredFeatureExplanations\", \"RawFeaturesExplanations\", \"RawFeaturesExplanations\", \"BestRunExplainModel\"]}]}, {\"name\": \"experiment_status_description\", \"run_id\": \"AutoML_3b267046-c349-4020-a32f-ceb49235dc7e\", \"categories\": [0, 1, 2, 3, 4, 5, 6, 7, 8, 9, 10, 11, 12, 13, 14], \"series\": [{\"data\": [\"Gathering dataset statistics.\", \"Generating features for the dataset.\", \"Beginning to fit featurizers and featurize the dataset.\", \"Completed fit featurizers and featurizing the dataset.\", \"Performing class balancing sweeping\", \"Generating individually featurized CV splits.\", \"Beginning model selection.\", \"Best run model explanations started\", \"Model explanations data setup completed\", \"Choosing LightGBM as the surrogate model for explanations\", \"Computation of engineered features started\", \"Computation of engineered features completed\", \"Computation of raw features started\", \"Computation of raw features completed\", \"Best run model explanations completed\"]}]}, {\"name\": \"AUC_weighted\", \"run_id\": \"AutoML_3b267046-c349-4020-a32f-ceb49235dc7e\", \"categories\": [0], \"series\": [{\"data\": [0.8455752926711717]}]}, {\"name\": \"recall_score_weighted\", \"run_id\": \"AutoML_3b267046-c349-4020-a32f-ceb49235dc7e\", \"categories\": [0], \"series\": [{\"data\": [0.9940541558146275]}]}, {\"name\": \"precision_score_macro\", \"run_id\": \"AutoML_3b267046-c349-4020-a32f-ceb49235dc7e\", \"categories\": [0], \"series\": [{\"data\": [0.9145039293550881]}]}, {\"name\": \"f1_score_micro\", \"run_id\": \"AutoML_3b267046-c349-4020-a32f-ceb49235dc7e\", \"categories\": [0], \"series\": [{\"data\": [0.9940541558146275]}]}, {\"name\": \"average_precision_score_macro\", \"run_id\": \"AutoML_3b267046-c349-4020-a32f-ceb49235dc7e\", \"categories\": [0], \"series\": [{\"data\": [0.793172722359681]}]}, {\"name\": \"norm_macro_recall\", \"run_id\": \"AutoML_3b267046-c349-4020-a32f-ceb49235dc7e\", \"categories\": [0], \"series\": [{\"data\": [0.4814895123289129]}]}, {\"name\": \"f1_score_macro\", \"run_id\": \"AutoML_3b267046-c349-4020-a32f-ceb49235dc7e\", \"categories\": [0], \"series\": [{\"data\": [0.8028496394645817]}]}, {\"name\": \"average_precision_score_micro\", \"run_id\": \"AutoML_3b267046-c349-4020-a32f-ceb49235dc7e\", \"categories\": [0], \"series\": [{\"data\": [0.9956758106871908]}]}, {\"name\": \"precision_score_micro\", \"run_id\": \"AutoML_3b267046-c349-4020-a32f-ceb49235dc7e\", \"categories\": [0], \"series\": [{\"data\": [0.9940541558146275]}]}, {\"name\": \"f1_score_weighted\", \"run_id\": \"AutoML_3b267046-c349-4020-a32f-ceb49235dc7e\", \"categories\": [0], \"series\": [{\"data\": [0.9931967124159359]}]}, {\"name\": \"AUC_macro\", \"run_id\": \"AutoML_3b267046-c349-4020-a32f-ceb49235dc7e\", \"categories\": [0], \"series\": [{\"data\": [0.8455752926711717]}]}, {\"name\": \"recall_score_micro\", \"run_id\": \"AutoML_3b267046-c349-4020-a32f-ceb49235dc7e\", \"categories\": [0], \"series\": [{\"data\": [0.9940541558146275]}]}, {\"name\": \"average_precision_score_weighted\", \"run_id\": \"AutoML_3b267046-c349-4020-a32f-ceb49235dc7e\", \"categories\": [0], \"series\": [{\"data\": [0.9931801282818123]}]}, {\"name\": \"log_loss\", \"run_id\": \"AutoML_3b267046-c349-4020-a32f-ceb49235dc7e\", \"categories\": [0], \"series\": [{\"data\": [0.1059540922687595]}]}, {\"name\": \"balanced_accuracy\", \"run_id\": \"AutoML_3b267046-c349-4020-a32f-ceb49235dc7e\", \"categories\": [0], \"series\": [{\"data\": [0.7407447561644565]}]}, {\"name\": \"precision_score_weighted\", \"run_id\": \"AutoML_3b267046-c349-4020-a32f-ceb49235dc7e\", \"categories\": [0], \"series\": [{\"data\": [0.9933725445334551]}]}, {\"name\": \"weighted_accuracy\", \"run_id\": \"AutoML_3b267046-c349-4020-a32f-ceb49235dc7e\", \"categories\": [0], \"series\": [{\"data\": [0.9990528573348314]}]}, {\"name\": \"accuracy\", \"run_id\": \"AutoML_3b267046-c349-4020-a32f-ceb49235dc7e\", \"categories\": [0], \"series\": [{\"data\": [0.9940541558146275]}]}, {\"name\": \"recall_score_macro\", \"run_id\": \"AutoML_3b267046-c349-4020-a32f-ceb49235dc7e\", \"categories\": [0], \"series\": [{\"data\": [0.7407447561644565]}]}, {\"name\": \"AUC_micro\", \"run_id\": \"AutoML_3b267046-c349-4020-a32f-ceb49235dc7e\", \"categories\": [0], \"series\": [{\"data\": [0.9970602369420035]}]}, {\"name\": \"matthews_correlation\", \"run_id\": \"AutoML_3b267046-c349-4020-a32f-ceb49235dc7e\", \"categories\": [0], \"series\": [{\"data\": [0.6303940836311235]}]}], \"run_logs\": \"\\nRun is completed.\", \"graph\": {}, \"widget_settings\": {\"childWidgetDisplay\": \"popup\", \"send_telemetry\": false, \"log_level\": \"INFO\", \"sdk_version\": \"1.22.0\"}, \"loading\": false}"
          },
          "metadata": {}
        }
      ],
      "execution_count": 39,
      "metadata": {
        "colab": {
          "referenced_widgets": [
            "23862b7609bc400e99f6570fa4121d14"
          ]
        },
        "gather": {
          "logged": 1615058846694
        },
        "id": "DVfWEweU1j--",
        "jupyter": {
          "outputs_hidden": false,
          "source_hidden": false
        },
        "nteract": {
          "transient": {
            "deleting": false
          }
        },
        "outputId": "0bfd7aed-29f0-44f3-b61f-6fb3c1b0f469"
      }
    },
    {
      "cell_type": "code",
      "source": [
        "# Fetch the latest status of the run. It should show 'Completed'\n",
        "\n",
        "print(\"Run Status: \",remote_run.get_status())"
      ],
      "outputs": [
        {
          "output_type": "stream",
          "name": "stdout",
          "text": [
            "Run Status:  Completed\n"
          ]
        }
      ],
      "execution_count": 40,
      "metadata": {
        "gather": {
          "logged": 1615058858722
        },
        "id": "g1MxACxl3P0W",
        "outputId": "55681e07-37de-4922-fde2-246d86073cda"
      }
    },
    {
      "cell_type": "markdown",
      "source": [
        "# Run Details\n",
        "In the cell below, I use the RunDetails widget and show the children runs of the experiment."
      ],
      "metadata": {}
    },
    {
      "cell_type": "code",
      "source": [
        "RunDetails(remote_run).show()\n",
        "\n",
        "# Get details from each run\n",
        "for child_run in remote_run.get_children():\n",
        "    print('===================================================')\n",
        "    print(child_run)"
      ],
      "outputs": [
        {
          "output_type": "display_data",
          "data": {
            "text/plain": "_AutoMLWidget(widget_settings={'childWidgetDisplay': 'popup', 'send_telemetry': False, 'log_level': 'INFO', 's…",
            "application/vnd.jupyter.widget-view+json": {
              "version_major": 2,
              "version_minor": 0,
              "model_id": "717d27f458604b4092daa52e1095ffb5"
            }
          },
          "metadata": {}
        },
        {
          "output_type": "display_data",
          "data": {
            "application/aml.mini.widget.v1": "{\"status\": \"Completed\", \"workbench_run_details_uri\": \"https://ml.azure.com/experiments/machine-failure-prediction/runs/AutoML_3b267046-c349-4020-a32f-ceb49235dc7e?wsid=/subscriptions/f9d5a085-54dc-4215-9ba6-dad5d86e60a0/resourcegroups/aml-quickstarts-139954/workspaces/quick-starts-ws-139954\", \"run_id\": \"AutoML_3b267046-c349-4020-a32f-ceb49235dc7e\", \"run_properties\": {\"run_id\": \"AutoML_3b267046-c349-4020-a32f-ceb49235dc7e\", \"created_utc\": \"2021-03-06T19:10:49.150557Z\", \"properties\": {\"num_iterations\": \"1000\", \"training_type\": \"TrainFull\", \"acquisition_function\": \"EI\", \"primary_metric\": \"accuracy\", \"train_split\": \"0\", \"acquisition_parameter\": \"0\", \"num_cross_validation\": \"2\", \"target\": \"cpu-cluster\", \"AMLSettingsJsonString\": \"{\\\"path\\\":null,\\\"name\\\":\\\"machine-failure-prediction\\\",\\\"subscription_id\\\":\\\"f9d5a085-54dc-4215-9ba6-dad5d86e60a0\\\",\\\"resource_group\\\":\\\"aml-quickstarts-139954\\\",\\\"workspace_name\\\":\\\"quick-starts-ws-139954\\\",\\\"region\\\":\\\"southcentralus\\\",\\\"compute_target\\\":\\\"cpu-cluster\\\",\\\"spark_service\\\":null,\\\"azure_service\\\":\\\"remote\\\",\\\"many_models\\\":false,\\\"pipeline_fetch_max_batch_size\\\":1,\\\"iterations\\\":1000,\\\"primary_metric\\\":\\\"accuracy\\\",\\\"task_type\\\":\\\"classification\\\",\\\"data_script\\\":null,\\\"validation_size\\\":0.0,\\\"n_cross_validations\\\":2,\\\"y_min\\\":null,\\\"y_max\\\":null,\\\"num_classes\\\":null,\\\"featurization\\\":\\\"auto\\\",\\\"_ignore_package_version_incompatibilities\\\":false,\\\"is_timeseries\\\":false,\\\"max_cores_per_iteration\\\":1,\\\"max_concurrent_iterations\\\":4,\\\"iteration_timeout_minutes\\\":null,\\\"mem_in_mb\\\":null,\\\"enforce_time_on_windows\\\":false,\\\"experiment_timeout_minutes\\\":20,\\\"experiment_exit_score\\\":null,\\\"whitelist_models\\\":null,\\\"blacklist_algos\\\":[\\\"XGBoostClassifier\\\",\\\"TensorFlowLinearClassifier\\\",\\\"TensorFlowDNN\\\"],\\\"supported_models\\\":[\\\"BernoulliNaiveBayes\\\",\\\"ExtremeRandomTrees\\\",\\\"LogisticRegression\\\",\\\"MultinomialNaiveBayes\\\",\\\"LinearSVM\\\",\\\"DecisionTree\\\",\\\"TensorFlowDNN\\\",\\\"XGBoostClassifier\\\",\\\"RandomForest\\\",\\\"KNN\\\",\\\"SVM\\\",\\\"LightGBM\\\",\\\"TensorFlowLinearClassifier\\\",\\\"AveragedPerceptronClassifier\\\",\\\"SGD\\\",\\\"GradientBoosting\\\"],\\\"private_models\\\":[],\\\"auto_blacklist\\\":true,\\\"blacklist_samples_reached\\\":false,\\\"exclude_nan_labels\\\":true,\\\"verbosity\\\":20,\\\"_debug_log\\\":\\\"azureml_automl.log\\\",\\\"show_warnings\\\":false,\\\"model_explainability\\\":true,\\\"service_url\\\":null,\\\"sdk_url\\\":null,\\\"sdk_packages\\\":null,\\\"enable_onnx_compatible_models\\\":false,\\\"enable_split_onnx_featurizer_estimator_models\\\":false,\\\"vm_type\\\":\\\"STANDARD_DS3_V2\\\",\\\"telemetry_verbosity\\\":20,\\\"send_telemetry\\\":true,\\\"enable_dnn\\\":false,\\\"scenario\\\":\\\"SDK-1.13.0\\\",\\\"environment_label\\\":null,\\\"force_text_dnn\\\":false,\\\"enable_feature_sweeping\\\":true,\\\"enable_early_stopping\\\":true,\\\"early_stopping_n_iters\\\":10,\\\"metrics\\\":null,\\\"enable_ensembling\\\":true,\\\"enable_stack_ensembling\\\":true,\\\"ensemble_iterations\\\":15,\\\"enable_tf\\\":false,\\\"enable_subsampling\\\":null,\\\"subsample_seed\\\":null,\\\"enable_nimbusml\\\":false,\\\"enable_streaming\\\":false,\\\"force_streaming\\\":false,\\\"track_child_runs\\\":true,\\\"allowed_private_models\\\":[],\\\"label_column_name\\\":\\\"Failure\\\",\\\"weight_column_name\\\":null,\\\"cv_split_column_names\\\":null,\\\"enable_local_managed\\\":false,\\\"_local_managed_run_id\\\":null,\\\"cost_mode\\\":1,\\\"lag_length\\\":0,\\\"metric_operation\\\":\\\"maximize\\\",\\\"preprocess\\\":true}\", \"DataPrepJsonString\": \"{\\\\\\\"training_data\\\\\\\": \\\\\\\"{\\\\\\\\\\\\\\\"blocks\\\\\\\\\\\\\\\": [{\\\\\\\\\\\\\\\"id\\\\\\\\\\\\\\\": \\\\\\\\\\\\\\\"0ce5c253-4931-442f-9429-895e8af1de39\\\\\\\\\\\\\\\", \\\\\\\\\\\\\\\"type\\\\\\\\\\\\\\\": \\\\\\\\\\\\\\\"Microsoft.DPrep.GetDatastoreFilesBlock\\\\\\\\\\\\\\\", \\\\\\\\\\\\\\\"arguments\\\\\\\\\\\\\\\": {\\\\\\\\\\\\\\\"datastores\\\\\\\\\\\\\\\": [{\\\\\\\\\\\\\\\"datastoreName\\\\\\\\\\\\\\\": \\\\\\\\\\\\\\\"workspaceblobstore\\\\\\\\\\\\\\\", \\\\\\\\\\\\\\\"path\\\\\\\\\\\\\\\": \\\\\\\\\\\\\\\"UI/03-06-2021_051746_UTC/train.csv\\\\\\\\\\\\\\\", \\\\\\\\\\\\\\\"resourceGroup\\\\\\\\\\\\\\\": \\\\\\\\\\\\\\\"aml-quickstarts-139954\\\\\\\\\\\\\\\", \\\\\\\\\\\\\\\"subscription\\\\\\\\\\\\\\\": \\\\\\\\\\\\\\\"f9d5a085-54dc-4215-9ba6-dad5d86e60a0\\\\\\\\\\\\\\\", \\\\\\\\\\\\\\\"workspaceName\\\\\\\\\\\\\\\": \\\\\\\\\\\\\\\"quick-starts-ws-139954\\\\\\\\\\\\\\\"}]}, \\\\\\\\\\\\\\\"localData\\\\\\\\\\\\\\\": {}, \\\\\\\\\\\\\\\"isEnabled\\\\\\\\\\\\\\\": true, \\\\\\\\\\\\\\\"name\\\\\\\\\\\\\\\": null, \\\\\\\\\\\\\\\"annotation\\\\\\\\\\\\\\\": null}, {\\\\\\\\\\\\\\\"id\\\\\\\\\\\\\\\": \\\\\\\\\\\\\\\"8045aa83-58e2-482d-a661-a9fd6b26e22a\\\\\\\\\\\\\\\", \\\\\\\\\\\\\\\"type\\\\\\\\\\\\\\\": \\\\\\\\\\\\\\\"Microsoft.DPrep.ParseDelimitedBlock\\\\\\\\\\\\\\\", \\\\\\\\\\\\\\\"arguments\\\\\\\\\\\\\\\": {\\\\\\\\\\\\\\\"columnHeadersMode\\\\\\\\\\\\\\\": 1, \\\\\\\\\\\\\\\"fileEncoding\\\\\\\\\\\\\\\": 0, \\\\\\\\\\\\\\\"handleQuotedLineBreaks\\\\\\\\\\\\\\\": false, \\\\\\\\\\\\\\\"preview\\\\\\\\\\\\\\\": false, \\\\\\\\\\\\\\\"separator\\\\\\\\\\\\\\\": \\\\\\\\\\\\\\\",\\\\\\\\\\\\\\\", \\\\\\\\\\\\\\\"skipRows\\\\\\\\\\\\\\\": 0, \\\\\\\\\\\\\\\"skipRowsMode\\\\\\\\\\\\\\\": 0}, \\\\\\\\\\\\\\\"localData\\\\\\\\\\\\\\\": {}, \\\\\\\\\\\\\\\"isEnabled\\\\\\\\\\\\\\\": true, \\\\\\\\\\\\\\\"name\\\\\\\\\\\\\\\": null, \\\\\\\\\\\\\\\"annotation\\\\\\\\\\\\\\\": null}, {\\\\\\\\\\\\\\\"id\\\\\\\\\\\\\\\": \\\\\\\\\\\\\\\"6205ab1f-dea4-49ac-99d6-5b00b0592104\\\\\\\\\\\\\\\", \\\\\\\\\\\\\\\"type\\\\\\\\\\\\\\\": \\\\\\\\\\\\\\\"Microsoft.DPrep.DropColumnsBlock\\\\\\\\\\\\\\\", \\\\\\\\\\\\\\\"arguments\\\\\\\\\\\\\\\": {\\\\\\\\\\\\\\\"columns\\\\\\\\\\\\\\\": {\\\\\\\\\\\\\\\"type\\\\\\\\\\\\\\\": 0, \\\\\\\\\\\\\\\"details\\\\\\\\\\\\\\\": {\\\\\\\\\\\\\\\"selectedColumns\\\\\\\\\\\\\\\": [\\\\\\\\\\\\\\\"Path\\\\\\\\\\\\\\\"]}}}, \\\\\\\\\\\\\\\"localData\\\\\\\\\\\\\\\": {}, \\\\\\\\\\\\\\\"isEnabled\\\\\\\\\\\\\\\": true, \\\\\\\\\\\\\\\"name\\\\\\\\\\\\\\\": null, \\\\\\\\\\\\\\\"annotation\\\\\\\\\\\\\\\": null}, {\\\\\\\\\\\\\\\"id\\\\\\\\\\\\\\\": \\\\\\\\\\\\\\\"65115904-ae3b-4754-bda3-0459e04baa31\\\\\\\\\\\\\\\", \\\\\\\\\\\\\\\"type\\\\\\\\\\\\\\\": \\\\\\\\\\\\\\\"Microsoft.DPrep.SetColumnTypesBlock\\\\\\\\\\\\\\\", \\\\\\\\\\\\\\\"arguments\\\\\\\\\\\\\\\": {\\\\\\\\\\\\\\\"columnConversion\\\\\\\\\\\\\\\": [{\\\\\\\\\\\\\\\"column\\\\\\\\\\\\\\\": {\\\\\\\\\\\\\\\"type\\\\\\\\\\\\\\\": 2, \\\\\\\\\\\\\\\"details\\\\\\\\\\\\\\\": {\\\\\\\\\\\\\\\"selectedColumn\\\\\\\\\\\\\\\": \\\\\\\\\\\\\\\"Path\\\\\\\\\\\\\\\"}}, \\\\\\\\\\\\\\\"typeProperty\\\\\\\\\\\\\\\": 0}, {\\\\\\\\\\\\\\\"column\\\\\\\\\\\\\\\": {\\\\\\\\\\\\\\\"type\\\\\\\\\\\\\\\": 2, \\\\\\\\\\\\\\\"details\\\\\\\\\\\\\\\": {\\\\\\\\\\\\\\\"selectedColumn\\\\\\\\\\\\\\\": \\\\\\\\\\\\\\\"ID\\\\\\\\\\\\\\\"}}, \\\\\\\\\\\\\\\"typeProperty\\\\\\\\\\\\\\\": 2}, {\\\\\\\\\\\\\\\"column\\\\\\\\\\\\\\\": {\\\\\\\\\\\\\\\"type\\\\\\\\\\\\\\\": 2, \\\\\\\\\\\\\\\"details\\\\\\\\\\\\\\\": {\\\\\\\\\\\\\\\"selectedColumn\\\\\\\\\\\\\\\": \\\\\\\\\\\\\\\"Date\\\\\\\\\\\\\\\"}}, \\\\\\\\\\\\\\\"typeArguments\\\\\\\\\\\\\\\": {\\\\\\\\\\\\\\\"dateTimeFormats\\\\\\\\\\\\\\\": [\\\\\\\\\\\\\\\"%m-%d-%Y %H:%M\\\\\\\\\\\\\\\"]}, \\\\\\\\\\\\\\\"typeProperty\\\\\\\\\\\\\\\": 4}, {\\\\\\\\\\\\\\\"column\\\\\\\\\\\\\\\": {\\\\\\\\\\\\\\\"type\\\\\\\\\\\\\\\": 2, \\\\\\\\\\\\\\\"details\\\\\\\\\\\\\\\": {\\\\\\\\\\\\\\\"selectedColumn\\\\\\\\\\\\\\\": \\\\\\\\\\\\\\\"Temperature\\\\\\\\\\\\\\\"}}, \\\\\\\\\\\\\\\"typeProperty\\\\\\\\\\\\\\\": 2}, {\\\\\\\\\\\\\\\"column\\\\\\\\\\\\\\\": {\\\\\\\\\\\\\\\"type\\\\\\\\\\\\\\\": 2, \\\\\\\\\\\\\\\"details\\\\\\\\\\\\\\\": {\\\\\\\\\\\\\\\"selectedColumn\\\\\\\\\\\\\\\": \\\\\\\\\\\\\\\"Humidity\\\\\\\\\\\\\\\"}}, \\\\\\\\\\\\\\\"typeProperty\\\\\\\\\\\\\\\": 2}, {\\\\\\\\\\\\\\\"column\\\\\\\\\\\\\\\": {\\\\\\\\\\\\\\\"type\\\\\\\\\\\\\\\": 2, \\\\\\\\\\\\\\\"details\\\\\\\\\\\\\\\": {\\\\\\\\\\\\\\\"selectedColumn\\\\\\\\\\\\\\\": \\\\\\\\\\\\\\\"Operator\\\\\\\\\\\\\\\"}}, \\\\\\\\\\\\\\\"typeProperty\\\\\\\\\\\\\\\": 0}, {\\\\\\\\\\\\\\\"column\\\\\\\\\\\\\\\": {\\\\\\\\\\\\\\\"type\\\\\\\\\\\\\\\": 2, \\\\\\\\\\\\\\\"details\\\\\\\\\\\\\\\": {\\\\\\\\\\\\\\\"selectedColumn\\\\\\\\\\\\\\\": \\\\\\\\\\\\\\\"Measure1\\\\\\\\\\\\\\\"}}, \\\\\\\\\\\\\\\"typeProperty\\\\\\\\\\\\\\\": 2}, {\\\\\\\\\\\\\\\"column\\\\\\\\\\\\\\\": {\\\\\\\\\\\\\\\"type\\\\\\\\\\\\\\\": 2, \\\\\\\\\\\\\\\"details\\\\\\\\\\\\\\\": {\\\\\\\\\\\\\\\"selectedColumn\\\\\\\\\\\\\\\": \\\\\\\\\\\\\\\"Measure2\\\\\\\\\\\\\\\"}}, \\\\\\\\\\\\\\\"typeProperty\\\\\\\\\\\\\\\": 2}, {\\\\\\\\\\\\\\\"column\\\\\\\\\\\\\\\": {\\\\\\\\\\\\\\\"type\\\\\\\\\\\\\\\": 2, \\\\\\\\\\\\\\\"details\\\\\\\\\\\\\\\": {\\\\\\\\\\\\\\\"selectedColumn\\\\\\\\\\\\\\\": \\\\\\\\\\\\\\\"Measure3\\\\\\\\\\\\\\\"}}, \\\\\\\\\\\\\\\"typeProperty\\\\\\\\\\\\\\\": 2}, {\\\\\\\\\\\\\\\"column\\\\\\\\\\\\\\\": {\\\\\\\\\\\\\\\"type\\\\\\\\\\\\\\\": 2, \\\\\\\\\\\\\\\"details\\\\\\\\\\\\\\\": {\\\\\\\\\\\\\\\"selectedColumn\\\\\\\\\\\\\\\": \\\\\\\\\\\\\\\"Measure4\\\\\\\\\\\\\\\"}}, \\\\\\\\\\\\\\\"typeProperty\\\\\\\\\\\\\\\": 2}, {\\\\\\\\\\\\\\\"column\\\\\\\\\\\\\\\": {\\\\\\\\\\\\\\\"type\\\\\\\\\\\\\\\": 2, \\\\\\\\\\\\\\\"details\\\\\\\\\\\\\\\": {\\\\\\\\\\\\\\\"selectedColumn\\\\\\\\\\\\\\\": \\\\\\\\\\\\\\\"Measure5\\\\\\\\\\\\\\\"}}, \\\\\\\\\\\\\\\"typeProperty\\\\\\\\\\\\\\\": 2}, {\\\\\\\\\\\\\\\"column\\\\\\\\\\\\\\\": {\\\\\\\\\\\\\\\"type\\\\\\\\\\\\\\\": 2, \\\\\\\\\\\\\\\"details\\\\\\\\\\\\\\\": {\\\\\\\\\\\\\\\"selectedColumn\\\\\\\\\\\\\\\": \\\\\\\\\\\\\\\"Measure6\\\\\\\\\\\\\\\"}}, \\\\\\\\\\\\\\\"typeProperty\\\\\\\\\\\\\\\": 2}, {\\\\\\\\\\\\\\\"column\\\\\\\\\\\\\\\": {\\\\\\\\\\\\\\\"type\\\\\\\\\\\\\\\": 2, \\\\\\\\\\\\\\\"details\\\\\\\\\\\\\\\": {\\\\\\\\\\\\\\\"selectedColumn\\\\\\\\\\\\\\\": \\\\\\\\\\\\\\\"Measure7\\\\\\\\\\\\\\\"}}, \\\\\\\\\\\\\\\"typeProperty\\\\\\\\\\\\\\\": 2}, {\\\\\\\\\\\\\\\"column\\\\\\\\\\\\\\\": {\\\\\\\\\\\\\\\"type\\\\\\\\\\\\\\\": 2, \\\\\\\\\\\\\\\"details\\\\\\\\\\\\\\\": {\\\\\\\\\\\\\\\"selectedColumn\\\\\\\\\\\\\\\": \\\\\\\\\\\\\\\"Measure8\\\\\\\\\\\\\\\"}}, \\\\\\\\\\\\\\\"typeProperty\\\\\\\\\\\\\\\": 2}, {\\\\\\\\\\\\\\\"column\\\\\\\\\\\\\\\": {\\\\\\\\\\\\\\\"type\\\\\\\\\\\\\\\": 2, \\\\\\\\\\\\\\\"details\\\\\\\\\\\\\\\": {\\\\\\\\\\\\\\\"selectedColumn\\\\\\\\\\\\\\\": \\\\\\\\\\\\\\\"Measure9\\\\\\\\\\\\\\\"}}, \\\\\\\\\\\\\\\"typeProperty\\\\\\\\\\\\\\\": 2}, {\\\\\\\\\\\\\\\"column\\\\\\\\\\\\\\\": {\\\\\\\\\\\\\\\"type\\\\\\\\\\\\\\\": 2, \\\\\\\\\\\\\\\"details\\\\\\\\\\\\\\\": {\\\\\\\\\\\\\\\"selectedColumn\\\\\\\\\\\\\\\": \\\\\\\\\\\\\\\"Measure10\\\\\\\\\\\\\\\"}}, \\\\\\\\\\\\\\\"typeProperty\\\\\\\\\\\\\\\": 2}, {\\\\\\\\\\\\\\\"column\\\\\\\\\\\\\\\": {\\\\\\\\\\\\\\\"type\\\\\\\\\\\\\\\": 2, \\\\\\\\\\\\\\\"details\\\\\\\\\\\\\\\": {\\\\\\\\\\\\\\\"selectedColumn\\\\\\\\\\\\\\\": \\\\\\\\\\\\\\\"Measure11\\\\\\\\\\\\\\\"}}, \\\\\\\\\\\\\\\"typeProperty\\\\\\\\\\\\\\\": 2}, {\\\\\\\\\\\\\\\"column\\\\\\\\\\\\\\\": {\\\\\\\\\\\\\\\"type\\\\\\\\\\\\\\\": 2, \\\\\\\\\\\\\\\"details\\\\\\\\\\\\\\\": {\\\\\\\\\\\\\\\"selectedColumn\\\\\\\\\\\\\\\": \\\\\\\\\\\\\\\"Measure12\\\\\\\\\\\\\\\"}}, \\\\\\\\\\\\\\\"typeProperty\\\\\\\\\\\\\\\": 2}, {\\\\\\\\\\\\\\\"column\\\\\\\\\\\\\\\": {\\\\\\\\\\\\\\\"type\\\\\\\\\\\\\\\": 2, \\\\\\\\\\\\\\\"details\\\\\\\\\\\\\\\": {\\\\\\\\\\\\\\\"selectedColumn\\\\\\\\\\\\\\\": \\\\\\\\\\\\\\\"Measure13\\\\\\\\\\\\\\\"}}, \\\\\\\\\\\\\\\"typeProperty\\\\\\\\\\\\\\\": 2}, {\\\\\\\\\\\\\\\"column\\\\\\\\\\\\\\\": {\\\\\\\\\\\\\\\"type\\\\\\\\\\\\\\\": 2, \\\\\\\\\\\\\\\"details\\\\\\\\\\\\\\\": {\\\\\\\\\\\\\\\"selectedColumn\\\\\\\\\\\\\\\": \\\\\\\\\\\\\\\"Measure14\\\\\\\\\\\\\\\"}}, \\\\\\\\\\\\\\\"typeProperty\\\\\\\\\\\\\\\": 2}, {\\\\\\\\\\\\\\\"column\\\\\\\\\\\\\\\": {\\\\\\\\\\\\\\\"type\\\\\\\\\\\\\\\": 2, \\\\\\\\\\\\\\\"details\\\\\\\\\\\\\\\": {\\\\\\\\\\\\\\\"selectedColumn\\\\\\\\\\\\\\\": \\\\\\\\\\\\\\\"Measure15\\\\\\\\\\\\\\\"}}, \\\\\\\\\\\\\\\"typeProperty\\\\\\\\\\\\\\\": 2}, {\\\\\\\\\\\\\\\"column\\\\\\\\\\\\\\\": {\\\\\\\\\\\\\\\"type\\\\\\\\\\\\\\\": 2, \\\\\\\\\\\\\\\"details\\\\\\\\\\\\\\\": {\\\\\\\\\\\\\\\"selectedColumn\\\\\\\\\\\\\\\": \\\\\\\\\\\\\\\"Hours Since Previous Failure\\\\\\\\\\\\\\\"}}, \\\\\\\\\\\\\\\"typeProperty\\\\\\\\\\\\\\\": 2}, {\\\\\\\\\\\\\\\"column\\\\\\\\\\\\\\\": {\\\\\\\\\\\\\\\"type\\\\\\\\\\\\\\\": 2, \\\\\\\\\\\\\\\"details\\\\\\\\\\\\\\\": {\\\\\\\\\\\\\\\"selectedColumn\\\\\\\\\\\\\\\": \\\\\\\\\\\\\\\"Failure\\\\\\\\\\\\\\\"}}, \\\\\\\\\\\\\\\"typeProperty\\\\\\\\\\\\\\\": 1}, {\\\\\\\\\\\\\\\"column\\\\\\\\\\\\\\\": {\\\\\\\\\\\\\\\"type\\\\\\\\\\\\\\\": 2, \\\\\\\\\\\\\\\"details\\\\\\\\\\\\\\\": {\\\\\\\\\\\\\\\"selectedColumn\\\\\\\\\\\\\\\": \\\\\\\\\\\\\\\"?Date.year\\\\\\\\\\\\\\\"}}, \\\\\\\\\\\\\\\"typeProperty\\\\\\\\\\\\\\\": 2}, {\\\\\\\\\\\\\\\"column\\\\\\\\\\\\\\\": {\\\\\\\\\\\\\\\"type\\\\\\\\\\\\\\\": 2, \\\\\\\\\\\\\\\"details\\\\\\\\\\\\\\\": {\\\\\\\\\\\\\\\"selectedColumn\\\\\\\\\\\\\\\": \\\\\\\\\\\\\\\"?Date.month\\\\\\\\\\\\\\\"}}, \\\\\\\\\\\\\\\"typeProperty\\\\\\\\\\\\\\\": 2}, {\\\\\\\\\\\\\\\"column\\\\\\\\\\\\\\\": {\\\\\\\\\\\\\\\"type\\\\\\\\\\\\\\\": 2, \\\\\\\\\\\\\\\"details\\\\\\\\\\\\\\\": {\\\\\\\\\\\\\\\"selectedColumn\\\\\\\\\\\\\\\": \\\\\\\\\\\\\\\"?Date.day-of-month\\\\\\\\\\\\\\\"}}, \\\\\\\\\\\\\\\"typeProperty\\\\\\\\\\\\\\\": 2}, {\\\\\\\\\\\\\\\"column\\\\\\\\\\\\\\\": {\\\\\\\\\\\\\\\"type\\\\\\\\\\\\\\\": 2, \\\\\\\\\\\\\\\"details\\\\\\\\\\\\\\\": {\\\\\\\\\\\\\\\"selectedColumn\\\\\\\\\\\\\\\": \\\\\\\\\\\\\\\"?Date.day-of-week\\\\\\\\\\\\\\\"}}, \\\\\\\\\\\\\\\"typeProperty\\\\\\\\\\\\\\\": 2}, {\\\\\\\\\\\\\\\"column\\\\\\\\\\\\\\\": {\\\\\\\\\\\\\\\"type\\\\\\\\\\\\\\\": 2, \\\\\\\\\\\\\\\"details\\\\\\\\\\\\\\\": {\\\\\\\\\\\\\\\"selectedColumn\\\\\\\\\\\\\\\": \\\\\\\\\\\\\\\"?Date.hour\\\\\\\\\\\\\\\"}}, \\\\\\\\\\\\\\\"typeProperty\\\\\\\\\\\\\\\": 2}, {\\\\\\\\\\\\\\\"column\\\\\\\\\\\\\\\": {\\\\\\\\\\\\\\\"type\\\\\\\\\\\\\\\": 2, \\\\\\\\\\\\\\\"details\\\\\\\\\\\\\\\": {\\\\\\\\\\\\\\\"selectedColumn\\\\\\\\\\\\\\\": \\\\\\\\\\\\\\\"?Date.minute\\\\\\\\\\\\\\\"}}, \\\\\\\\\\\\\\\"typeProperty\\\\\\\\\\\\\\\": 2}, {\\\\\\\\\\\\\\\"column\\\\\\\\\\\\\\\": {\\\\\\\\\\\\\\\"type\\\\\\\\\\\\\\\": 2, \\\\\\\\\\\\\\\"details\\\\\\\\\\\\\\\": {\\\\\\\\\\\\\\\"selectedColumn\\\\\\\\\\\\\\\": \\\\\\\\\\\\\\\"?Date.second\\\\\\\\\\\\\\\"}}, \\\\\\\\\\\\\\\"typeProperty\\\\\\\\\\\\\\\": 2}]}, \\\\\\\\\\\\\\\"localData\\\\\\\\\\\\\\\": {}, \\\\\\\\\\\\\\\"isEnabled\\\\\\\\\\\\\\\": true, \\\\\\\\\\\\\\\"name\\\\\\\\\\\\\\\": null, \\\\\\\\\\\\\\\"annotation\\\\\\\\\\\\\\\": null}], \\\\\\\\\\\\\\\"inspectors\\\\\\\\\\\\\\\": [], \\\\\\\\\\\\\\\"meta\\\\\\\\\\\\\\\": {\\\\\\\\\\\\\\\"savedDatasetId\\\\\\\\\\\\\\\": \\\\\\\\\\\\\\\"14860800-3a32-45b3-9130-49717a8ddaeb\\\\\\\\\\\\\\\", \\\\\\\\\\\\\\\"datasetType\\\\\\\\\\\\\\\": \\\\\\\\\\\\\\\"tabular\\\\\\\\\\\\\\\", \\\\\\\\\\\\\\\"subscriptionId\\\\\\\\\\\\\\\": \\\\\\\\\\\\\\\"f9d5a085-54dc-4215-9ba6-dad5d86e60a0\\\\\\\\\\\\\\\", \\\\\\\\\\\\\\\"workspaceId\\\\\\\\\\\\\\\": \\\\\\\\\\\\\\\"5150bfcb-7c92-4fcf-ae46-1c05ccda6e72\\\\\\\\\\\\\\\", \\\\\\\\\\\\\\\"workspaceLocation\\\\\\\\\\\\\\\": \\\\\\\\\\\\\\\"southcentralus\\\\\\\\\\\\\\\"}}\\\\\\\", \\\\\\\"activities\\\\\\\": 0}\", \"EnableSubsampling\": null, \"runTemplate\": \"AutoML\", \"azureml.runsource\": \"automl\", \"display_task_type\": \"classification\", \"dependencies_versions\": \"{\\\"azureml-widgets\\\": \\\"1.22.0\\\", \\\"azureml-train\\\": \\\"1.22.0\\\", \\\"azureml-train-restclients-hyperdrive\\\": \\\"1.22.0\\\", \\\"azureml-train-core\\\": \\\"1.22.0\\\", \\\"azureml-train-automl\\\": \\\"1.22.0\\\", \\\"azureml-train-automl-runtime\\\": \\\"1.22.0\\\", \\\"azureml-train-automl-client\\\": \\\"1.22.0\\\", \\\"azureml-tensorboard\\\": \\\"1.22.0\\\", \\\"azureml-telemetry\\\": \\\"1.22.0\\\", \\\"azureml-sdk\\\": \\\"1.22.0\\\", \\\"azureml-samples\\\": \\\"0+unknown\\\", \\\"azureml-pipeline\\\": \\\"1.22.0\\\", \\\"azureml-pipeline-steps\\\": \\\"1.22.0\\\", \\\"azureml-pipeline-core\\\": \\\"1.22.0\\\", \\\"azureml-opendatasets\\\": \\\"1.22.0\\\", \\\"azureml-model-management-sdk\\\": \\\"1.0.1b6.post1\\\", \\\"azureml-mlflow\\\": \\\"1.22.0\\\", \\\"azureml-interpret\\\": \\\"1.22.0\\\", \\\"azureml-explain-model\\\": \\\"1.22.0\\\", \\\"azureml-defaults\\\": \\\"1.22.0\\\", \\\"azureml-dataset-runtime\\\": \\\"1.22.0\\\", \\\"azureml-dataprep\\\": \\\"2.9.1\\\", \\\"azureml-dataprep-rslex\\\": \\\"1.7.0\\\", \\\"azureml-dataprep-native\\\": \\\"29.0.0\\\", \\\"azureml-datadrift\\\": \\\"1.22.0\\\", \\\"azureml-core\\\": \\\"1.22.0\\\", \\\"azureml-contrib-services\\\": \\\"1.22.0\\\", \\\"azureml-contrib-server\\\": \\\"1.22.0\\\", \\\"azureml-contrib-reinforcementlearning\\\": \\\"1.22.0\\\", \\\"azureml-contrib-pipeline-steps\\\": \\\"1.22.0\\\", \\\"azureml-contrib-notebook\\\": \\\"1.22.0\\\", \\\"azureml-contrib-interpret\\\": \\\"1.22.0\\\", \\\"azureml-contrib-gbdt\\\": \\\"1.22.0\\\", \\\"azureml-contrib-fairness\\\": \\\"1.22.0\\\", \\\"azureml-contrib-dataset\\\": \\\"1.22.0\\\", \\\"azureml-cli-common\\\": \\\"1.22.0\\\", \\\"azureml-automl-runtime\\\": \\\"1.22.0\\\", \\\"azureml-automl-core\\\": \\\"1.22.0\\\", \\\"azureml-accel-models\\\": \\\"1.22.0\\\"}\", \"_aml_system_scenario_identification\": \"Remote.Parent\", \"ClientType\": \"SDK\", \"environment_cpu_name\": \"AzureML-AutoML\", \"environment_cpu_label\": \"prod\", \"environment_gpu_name\": \"AzureML-AutoML-GPU\", \"environment_gpu_label\": \"prod\", \"root_attribution\": \"automl\", \"attribution\": \"AutoML\", \"Orchestrator\": \"AutoML\", \"CancelUri\": \"https://southcentralus.experiments.azureml.net/jasmine/v1.0/subscriptions/f9d5a085-54dc-4215-9ba6-dad5d86e60a0/resourceGroups/aml-quickstarts-139954/providers/Microsoft.MachineLearningServices/workspaces/quick-starts-ws-139954/experimentids/ba50f67b-348b-4cf2-a859-33b332b32999/cancel/AutoML_3b267046-c349-4020-a32f-ceb49235dc7e\", \"ClientSdkVersion\": \"1.23.0\", \"snapshotId\": \"00000000-0000-0000-0000-000000000000\", \"SetupRunId\": \"AutoML_3b267046-c349-4020-a32f-ceb49235dc7e_setup\", \"SetupRunContainerId\": \"dcid.AutoML_3b267046-c349-4020-a32f-ceb49235dc7e_setup\", \"FeaturizationRunJsonPath\": \"featurizer_container.json\", \"FeaturizationRunId\": \"AutoML_3b267046-c349-4020-a32f-ceb49235dc7e_featurize\", \"ProblemInfoJsonString\": \"{\\\"dataset_num_categorical\\\": 0, \\\"is_sparse\\\": true, \\\"subsampling\\\": false, \\\"dataset_classes\\\": 2, \\\"dataset_features\\\": 170, \\\"dataset_samples\\\": 7905, \\\"single_frequency_class_detected\\\": false}\", \"ModelExplainRunId\": \"AutoML_3b267046-c349-4020-a32f-ceb49235dc7e_ModelExplain\"}, \"tags\": {\"model_explain_run\": \"best_run\", \"_aml_system_azureml.automlComponent\": \"AutoML\", \"pipeline_id\": \"\", \"score\": \"\", \"predicted_cost\": \"\", \"fit_time\": \"\", \"training_percent\": \"\", \"iteration\": \"\", \"run_preprocessor\": \"\", \"run_algorithm\": \"\", \"dynamic_whitelisting_iterations\": \"<25>;<30>;<35>;\", \"automl_best_child_run_id\": \"AutoML_3b267046-c349-4020-a32f-ceb49235dc7e_5\", \"model_explain_best_run_child_id\": \"AutoML_3b267046-c349-4020-a32f-ceb49235dc7e_5\"}, \"end_time_utc\": \"2021-03-06T19:26:54.894778Z\", \"status\": \"Completed\", \"log_files\": {}, \"log_groups\": [], \"run_duration\": \"0:16:05\", \"run_number\": \"53\", \"run_queued_details\": {\"status\": \"Completed\", \"details\": null}}, \"child_runs\": [{\"run_id\": \"AutoML_3b267046-c349-4020-a32f-ceb49235dc7e_2\", \"run_number\": 57, \"metric\": null, \"status\": \"Completed\", \"run_type\": \"azureml.scriptrun\", \"training_percent\": \"100\", \"start_time\": \"2021-03-06T19:15:08.718993Z\", \"end_time\": \"2021-03-06T19:15:59.110709Z\", \"created_time\": \"2021-03-06T19:14:05.667456Z\", \"created_time_dt\": \"2021-03-06T19:14:05.667456Z\", \"duration\": \"0:01:53\", \"iteration\": \"2\", \"goal\": \"accuracy_max\", \"run_name\": \"MaxAbsScaler, RandomForest\", \"run_properties\": \"copy=True\", \"primary_metric\": 0.99051206, \"best_metric\": 0.99177715}, {\"run_id\": \"AutoML_3b267046-c349-4020-a32f-ceb49235dc7e_1\", \"run_number\": 58, \"metric\": null, \"status\": \"Completed\", \"run_type\": \"azureml.scriptrun\", \"training_percent\": \"100\", \"start_time\": \"2021-03-06T19:16:06.269589Z\", \"end_time\": \"2021-03-06T19:18:21.050232Z\", \"created_time\": \"2021-03-06T19:14:05.711803Z\", \"created_time_dt\": \"2021-03-06T19:14:05.711803Z\", \"duration\": \"0:04:15\", \"iteration\": \"1\", \"goal\": \"accuracy_max\", \"run_name\": \"MaxAbsScaler, RandomForest\", \"run_properties\": \"copy=True\", \"primary_metric\": 0.99051206, \"best_metric\": 0.99177715}, {\"run_id\": \"AutoML_3b267046-c349-4020-a32f-ceb49235dc7e_0\", \"run_number\": 59, \"metric\": null, \"status\": \"Completed\", \"run_type\": \"azureml.scriptrun\", \"training_percent\": \"100\", \"start_time\": \"2021-03-06T19:16:01.577207Z\", \"end_time\": \"2021-03-06T19:16:47.217661Z\", \"created_time\": \"2021-03-06T19:14:05.806905Z\", \"created_time_dt\": \"2021-03-06T19:14:05.806905Z\", \"duration\": \"0:02:41\", \"iteration\": \"0\", \"goal\": \"accuracy_max\", \"run_name\": \"MaxAbsScaler, LightGBM\", \"run_properties\": \"copy=True\", \"primary_metric\": 0.99177715, \"best_metric\": 0.99177715}, {\"run_id\": \"AutoML_3b267046-c349-4020-a32f-ceb49235dc7e_3\", \"run_number\": 60, \"metric\": null, \"status\": \"Completed\", \"run_type\": \"azureml.scriptrun\", \"training_percent\": \"100\", \"start_time\": \"2021-03-06T19:14:15.382701Z\", \"end_time\": \"2021-03-06T19:15:01.671392Z\", \"created_time\": \"2021-03-06T19:14:05.906987Z\", \"created_time_dt\": \"2021-03-06T19:14:05.906987Z\", \"duration\": \"0:00:55\", \"iteration\": \"3\", \"goal\": \"accuracy_max\", \"run_name\": \"MaxAbsScaler, RandomForest\", \"run_properties\": \"copy=True\", \"primary_metric\": 0.98709658, \"best_metric\": 0.99177715}, {\"run_id\": \"AutoML_3b267046-c349-4020-a32f-ceb49235dc7e_4\", \"run_number\": 61, \"metric\": null, \"status\": \"Completed\", \"run_type\": \"azureml.scriptrun\", \"training_percent\": \"100\", \"start_time\": \"2021-03-06T19:16:11.108387Z\", \"end_time\": \"2021-03-06T19:18:05.110928Z\", \"created_time\": \"2021-03-06T19:15:05.700638Z\", \"created_time_dt\": \"2021-03-06T19:15:05.700638Z\", \"duration\": \"0:02:59\", \"iteration\": \"4\", \"goal\": \"accuracy_max\", \"run_name\": \"MaxAbsScaler, RandomForest\", \"run_properties\": \"copy=True\", \"primary_metric\": 0.95319655, \"best_metric\": 0.99177715}, {\"run_id\": \"AutoML_3b267046-c349-4020-a32f-ceb49235dc7e_5\", \"run_number\": 62, \"metric\": null, \"status\": \"Completed\", \"run_type\": \"azureml.scriptrun\", \"training_percent\": \"100\", \"start_time\": \"2021-03-06T19:16:14.965504Z\", \"end_time\": \"2021-03-06T19:18:06.978747Z\", \"created_time\": \"2021-03-06T19:16:02.461338Z\", \"created_time_dt\": \"2021-03-06T19:16:02.461338Z\", \"duration\": \"0:02:04\", \"iteration\": \"5\", \"goal\": \"accuracy_max\", \"run_name\": \"MaxAbsScaler, SGD\", \"run_properties\": \"copy=True\", \"primary_metric\": 0.99405416, \"best_metric\": 0.99405416}, {\"run_id\": \"AutoML_3b267046-c349-4020-a32f-ceb49235dc7e_6\", \"run_number\": 63, \"metric\": null, \"status\": \"Completed\", \"run_type\": \"azureml.scriptrun\", \"training_percent\": \"100\", \"start_time\": \"2021-03-06T19:17:01.997892Z\", \"end_time\": \"2021-03-06T19:17:56.42077Z\", \"created_time\": \"2021-03-06T19:16:49.892285Z\", \"created_time_dt\": \"2021-03-06T19:16:49.892285Z\", \"duration\": \"0:01:06\", \"iteration\": \"6\", \"goal\": \"accuracy_max\", \"run_name\": \"SparseNormalizer, LogisticRegression\", \"run_properties\": \"<azureml.automl.runtime.shared.model_wrappers.SparseNormalizer object at 0x7f54005e42e8\", \"primary_metric\": 0.99051206, \"best_metric\": 0.99405416}, {\"run_id\": \"AutoML_3b267046-c349-4020-a32f-ceb49235dc7e_7\", \"run_number\": 64, \"metric\": null, \"status\": \"Completed\", \"run_type\": \"azureml.scriptrun\", \"training_percent\": \"100\", \"start_time\": \"2021-03-06T19:18:08.043521Z\", \"end_time\": \"2021-03-06T19:19:04.119923Z\", \"created_time\": \"2021-03-06T19:17:58.958443Z\", \"created_time_dt\": \"2021-03-06T19:17:58.958443Z\", \"duration\": \"0:01:05\", \"iteration\": \"7\", \"goal\": \"accuracy_max\", \"run_name\": \"MaxAbsScaler, ExtremeRandomTrees\", \"run_properties\": \"copy=True\", \"primary_metric\": 0.99051206, \"best_metric\": 0.99405416}, {\"run_id\": \"AutoML_3b267046-c349-4020-a32f-ceb49235dc7e_8\", \"run_number\": 65, \"metric\": null, \"status\": \"Completed\", \"run_type\": \"azureml.scriptrun\", \"training_percent\": \"100\", \"start_time\": \"2021-03-06T19:18:16.244471Z\", \"end_time\": \"2021-03-06T19:19:00.730114Z\", \"created_time\": \"2021-03-06T19:18:07.280132Z\", \"created_time_dt\": \"2021-03-06T19:18:07.280132Z\", \"duration\": \"0:00:53\", \"iteration\": \"8\", \"goal\": \"accuracy_max\", \"run_name\": \"MaxAbsScaler, LightGBM\", \"run_properties\": \"copy=True\", \"primary_metric\": 0.99051206, \"best_metric\": 0.99405416}, {\"run_id\": \"AutoML_3b267046-c349-4020-a32f-ceb49235dc7e_9\", \"run_number\": 66, \"metric\": null, \"status\": \"Completed\", \"run_type\": \"azureml.scriptrun\", \"training_percent\": \"100\", \"start_time\": \"2021-03-06T19:18:20.993774Z\", \"end_time\": \"2021-03-06T19:19:14.273458Z\", \"created_time\": \"2021-03-06T19:18:11.009431Z\", \"created_time_dt\": \"2021-03-06T19:18:11.009431Z\", \"duration\": \"0:01:03\", \"iteration\": \"9\", \"goal\": \"accuracy_max\", \"run_name\": \"StandardScalerWrapper, GradientBoosting\", \"run_properties\": \"<azureml.automl.runtime.shared.model_wrappers.StandardScalerWrapper object at 0x7fe32a9b6c18\", \"primary_metric\": 0.99051206, \"best_metric\": 0.99405416}, {\"run_id\": \"AutoML_3b267046-c349-4020-a32f-ceb49235dc7e_10\", \"run_number\": 67, \"metric\": null, \"status\": \"Completed\", \"run_type\": \"azureml.scriptrun\", \"training_percent\": \"100\", \"start_time\": \"2021-03-06T19:18:36.342312Z\", \"end_time\": \"2021-03-06T19:19:31.204706Z\", \"created_time\": \"2021-03-06T19:18:23.451283Z\", \"created_time_dt\": \"2021-03-06T19:18:23.451283Z\", \"duration\": \"0:01:07\", \"iteration\": \"10\", \"goal\": \"accuracy_max\", \"run_name\": \"MaxAbsScaler, LightGBM\", \"run_properties\": \"copy=True\", \"primary_metric\": 0.99051206, \"best_metric\": 0.99405416}, {\"run_id\": \"AutoML_3b267046-c349-4020-a32f-ceb49235dc7e_11\", \"run_number\": 68, \"metric\": null, \"status\": \"Completed\", \"run_type\": \"azureml.scriptrun\", \"training_percent\": \"100\", \"start_time\": \"2021-03-06T19:19:16.716987Z\", \"end_time\": \"2021-03-06T19:20:05.289465Z\", \"created_time\": \"2021-03-06T19:19:03.221076Z\", \"created_time_dt\": \"2021-03-06T19:19:03.221076Z\", \"duration\": \"0:01:02\", \"iteration\": \"11\", \"goal\": \"accuracy_max\", \"run_name\": \"StandardScalerWrapper, ExtremeRandomTrees\", \"run_properties\": \"<azureml.automl.runtime.shared.model_wrappers.StandardScalerWrapper object at 0x7fcf7f38f080\", \"primary_metric\": 0.99051206, \"best_metric\": 0.99405416}, {\"run_id\": \"AutoML_3b267046-c349-4020-a32f-ceb49235dc7e_12\", \"run_number\": 69, \"metric\": null, \"status\": \"Completed\", \"run_type\": \"azureml.scriptrun\", \"training_percent\": \"100\", \"start_time\": \"2021-03-06T19:19:19.446419Z\", \"end_time\": \"2021-03-06T19:20:04.178447Z\", \"created_time\": \"2021-03-06T19:19:08.630526Z\", \"created_time_dt\": \"2021-03-06T19:19:08.630526Z\", \"duration\": \"0:00:55\", \"iteration\": \"12\", \"goal\": \"accuracy_max\", \"run_name\": \"MaxAbsScaler, RandomForest\", \"run_properties\": \"copy=True\", \"primary_metric\": 0.99051206, \"best_metric\": 0.99405416}, {\"run_id\": \"AutoML_3b267046-c349-4020-a32f-ceb49235dc7e_13\", \"run_number\": 70, \"metric\": null, \"status\": \"Completed\", \"run_type\": \"azureml.scriptrun\", \"training_percent\": \"100\", \"start_time\": \"2021-03-06T19:19:25.189321Z\", \"end_time\": \"2021-03-06T19:20:17.578258Z\", \"created_time\": \"2021-03-06T19:19:17.121502Z\", \"created_time_dt\": \"2021-03-06T19:19:17.121502Z\", \"duration\": \"0:01:00\", \"iteration\": \"13\", \"goal\": \"accuracy_max\", \"run_name\": \"StandardScalerWrapper, LightGBM\", \"run_properties\": \"<azureml.automl.runtime.shared.model_wrappers.StandardScalerWrapper object at 0x7f852d00c898\", \"primary_metric\": 0.99051206, \"best_metric\": 0.99405416}, {\"run_id\": \"AutoML_3b267046-c349-4020-a32f-ceb49235dc7e_14\", \"run_number\": 71, \"metric\": null, \"status\": \"Completed\", \"run_type\": \"azureml.scriptrun\", \"training_percent\": \"100\", \"start_time\": \"2021-03-06T19:19:42.302216Z\", \"end_time\": \"2021-03-06T19:20:40.368854Z\", \"created_time\": \"2021-03-06T19:19:33.176529Z\", \"created_time_dt\": \"2021-03-06T19:19:33.176529Z\", \"duration\": \"0:01:07\", \"iteration\": \"14\", \"goal\": \"accuracy_max\", \"run_name\": \"StandardScalerWrapper, LightGBM\", \"run_properties\": \"<azureml.automl.runtime.shared.model_wrappers.StandardScalerWrapper object at 0x7f9414b52ba8\", \"primary_metric\": 0.99051206, \"best_metric\": 0.99405416}, {\"run_id\": \"AutoML_3b267046-c349-4020-a32f-ceb49235dc7e_15\", \"run_number\": 72, \"metric\": null, \"status\": \"Completed\", \"run_type\": \"azureml.scriptrun\", \"training_percent\": \"100\", \"start_time\": \"2021-03-06T19:20:15.347287Z\", \"end_time\": \"2021-03-06T19:21:00.075767Z\", \"created_time\": \"2021-03-06T19:20:05.75899Z\", \"created_time_dt\": \"2021-03-06T19:20:05.75899Z\", \"duration\": \"0:00:54\", \"iteration\": \"15\", \"goal\": \"accuracy_max\", \"run_name\": \"SparseNormalizer, LightGBM\", \"run_properties\": \"<azureml.automl.runtime.shared.model_wrappers.SparseNormalizer object at 0x7f8f35f9ebe0\", \"primary_metric\": 0.99025909, \"best_metric\": 0.99405416}, {\"run_id\": \"AutoML_3b267046-c349-4020-a32f-ceb49235dc7e_16\", \"run_number\": 73, \"metric\": null, \"status\": \"Completed\", \"run_type\": \"azureml.scriptrun\", \"training_percent\": \"100\", \"start_time\": \"2021-03-06T19:20:18.234491Z\", \"end_time\": \"2021-03-06T19:21:08.890016Z\", \"created_time\": \"2021-03-06T19:20:08.971081Z\", \"created_time_dt\": \"2021-03-06T19:20:08.971081Z\", \"duration\": \"0:00:59\", \"iteration\": \"16\", \"goal\": \"accuracy_max\", \"run_name\": \"SparseNormalizer, LightGBM\", \"run_properties\": \"<azureml.automl.runtime.shared.model_wrappers.SparseNormalizer object at 0x7f84d2e6d7b8\", \"primary_metric\": 0.99051206, \"best_metric\": 0.99405416}, {\"run_id\": \"AutoML_3b267046-c349-4020-a32f-ceb49235dc7e_17\", \"run_number\": 74, \"metric\": null, \"status\": \"Completed\", \"run_type\": \"azureml.scriptrun\", \"training_percent\": \"100\", \"start_time\": \"2021-03-06T19:20:28.884626Z\", \"end_time\": \"2021-03-06T19:21:22.091833Z\", \"created_time\": \"2021-03-06T19:20:19.307252Z\", \"created_time_dt\": \"2021-03-06T19:20:19.307252Z\", \"duration\": \"0:01:02\", \"iteration\": \"17\", \"goal\": \"accuracy_max\", \"run_name\": \"SparseNormalizer, ExtremeRandomTrees\", \"run_properties\": \"<azureml.automl.runtime.shared.model_wrappers.SparseNormalizer object at 0x7f8622523978\", \"primary_metric\": 0.99051206, \"best_metric\": 0.99405416}, {\"run_id\": \"AutoML_3b267046-c349-4020-a32f-ceb49235dc7e_18\", \"run_number\": 75, \"metric\": null, \"status\": \"Completed\", \"run_type\": \"azureml.scriptrun\", \"training_percent\": \"100\", \"start_time\": \"2021-03-06T19:20:51.244303Z\", \"end_time\": \"2021-03-06T19:21:35.929018Z\", \"created_time\": \"2021-03-06T19:20:42.139567Z\", \"created_time_dt\": \"2021-03-06T19:20:42.139567Z\", \"duration\": \"0:00:53\", \"iteration\": \"18\", \"goal\": \"accuracy_max\", \"run_name\": \"MaxAbsScaler, LightGBM\", \"run_properties\": \"copy=True\", \"primary_metric\": 0.99051206, \"best_metric\": 0.99405416}, {\"run_id\": \"AutoML_3b267046-c349-4020-a32f-ceb49235dc7e_19\", \"run_number\": 76, \"metric\": null, \"status\": \"Completed\", \"run_type\": \"azureml.scriptrun\", \"training_percent\": \"100\", \"start_time\": \"2021-03-06T19:21:11.491266Z\", \"end_time\": \"2021-03-06T19:21:53.517568Z\", \"created_time\": \"2021-03-06T19:21:01.890127Z\", \"created_time_dt\": \"2021-03-06T19:21:01.890127Z\", \"duration\": \"0:00:51\", \"iteration\": \"19\", \"goal\": \"accuracy_max\", \"run_name\": \"MaxAbsScaler, LightGBM\", \"run_properties\": \"copy=True\", \"primary_metric\": 0.99051206, \"best_metric\": 0.99405416}, {\"run_id\": \"AutoML_3b267046-c349-4020-a32f-ceb49235dc7e_20\", \"run_number\": 77, \"metric\": null, \"status\": \"Completed\", \"run_type\": \"azureml.scriptrun\", \"training_percent\": \"100\", \"start_time\": \"2021-03-06T19:21:20.687661Z\", \"end_time\": \"2021-03-06T19:22:14.190325Z\", \"created_time\": \"2021-03-06T19:21:10.938708Z\", \"created_time_dt\": \"2021-03-06T19:21:10.938708Z\", \"duration\": \"0:01:03\", \"iteration\": \"20\", \"goal\": \"accuracy_max\", \"run_name\": \"SparseNormalizer, LightGBM\", \"run_properties\": \"<azureml.automl.runtime.shared.model_wrappers.SparseNormalizer object at 0x7f4fc402a748\", \"primary_metric\": 0.99025909, \"best_metric\": 0.99405416}, {\"run_id\": \"AutoML_3b267046-c349-4020-a32f-ceb49235dc7e_21\", \"run_number\": 78, \"metric\": null, \"status\": \"Completed\", \"run_type\": \"azureml.scriptrun\", \"training_percent\": \"100\", \"start_time\": \"2021-03-06T19:21:34.904756Z\", \"end_time\": \"2021-03-06T19:22:37.474286Z\", \"created_time\": \"2021-03-06T19:21:24.127326Z\", \"created_time_dt\": \"2021-03-06T19:21:24.127326Z\", \"duration\": \"0:01:13\", \"iteration\": \"21\", \"goal\": \"accuracy_max\", \"run_name\": \"StandardScalerWrapper, ExtremeRandomTrees\", \"run_properties\": \"<azureml.automl.runtime.shared.model_wrappers.StandardScalerWrapper object at 0x7f24d262feb8\", \"primary_metric\": 0.99051206, \"best_metric\": 0.99405416}, {\"run_id\": \"AutoML_3b267046-c349-4020-a32f-ceb49235dc7e_22\", \"run_number\": 79, \"metric\": null, \"status\": \"Completed\", \"run_type\": \"azureml.scriptrun\", \"training_percent\": \"100\", \"start_time\": \"2021-03-06T19:21:46.567302Z\", \"end_time\": \"2021-03-06T19:22:55.933917Z\", \"created_time\": \"2021-03-06T19:21:37.475109Z\", \"created_time_dt\": \"2021-03-06T19:21:37.475109Z\", \"duration\": \"0:01:18\", \"iteration\": \"22\", \"goal\": \"accuracy_max\", \"run_name\": \"StandardScalerWrapper, LightGBM\", \"run_properties\": \"<azureml.automl.runtime.shared.model_wrappers.StandardScalerWrapper object at 0x7f19708d1320\", \"primary_metric\": 0.99051206, \"best_metric\": 0.99405416}, {\"run_id\": \"AutoML_3b267046-c349-4020-a32f-ceb49235dc7e_23\", \"run_number\": 80, \"metric\": null, \"status\": \"Completed\", \"run_type\": \"azureml.scriptrun\", \"training_percent\": \"100\", \"start_time\": \"2021-03-06T19:22:04.637772Z\", \"end_time\": \"2021-03-06T19:22:51.62401Z\", \"created_time\": \"2021-03-06T19:21:55.193853Z\", \"created_time_dt\": \"2021-03-06T19:21:55.193853Z\", \"duration\": \"0:00:56\", \"iteration\": \"23\", \"goal\": \"accuracy_max\", \"run_name\": \"MaxAbsScaler, RandomForest\", \"run_properties\": \"copy=True\", \"primary_metric\": 0.99051206, \"best_metric\": 0.99405416}, {\"run_id\": \"AutoML_3b267046-c349-4020-a32f-ceb49235dc7e_24\", \"run_number\": 81, \"metric\": null, \"status\": \"Completed\", \"run_type\": \"azureml.scriptrun\", \"training_percent\": \"100\", \"start_time\": \"2021-03-06T19:22:23.21173Z\", \"end_time\": \"2021-03-06T19:23:12.931931Z\", \"created_time\": \"2021-03-06T19:22:15.85871Z\", \"created_time_dt\": \"2021-03-06T19:22:15.85871Z\", \"duration\": \"0:00:57\", \"iteration\": \"24\", \"goal\": \"accuracy_max\", \"run_name\": \"MaxAbsScaler, LightGBM\", \"run_properties\": \"copy=True\", \"primary_metric\": 0.99051206, \"best_metric\": 0.99405416}, {\"run_id\": \"AutoML_3b267046-c349-4020-a32f-ceb49235dc7e_25\", \"run_number\": 82, \"metric\": null, \"status\": \"Completed\", \"run_type\": \"azureml.scriptrun\", \"training_percent\": \"100\", \"start_time\": \"2021-03-06T19:22:53.700437Z\", \"end_time\": \"2021-03-06T19:23:39.560492Z\", \"created_time\": \"2021-03-06T19:22:40.672785Z\", \"created_time_dt\": \"2021-03-06T19:22:40.672785Z\", \"duration\": \"0:00:58\", \"iteration\": \"25\", \"goal\": \"accuracy_max\", \"run_name\": \"TruncatedSVDWrapper, SGD\", \"run_properties\": \"n_components=0.7521052631578947, random_state=None\", \"primary_metric\": 0.27296211, \"best_metric\": 0.99405416}, {\"run_id\": \"AutoML_3b267046-c349-4020-a32f-ceb49235dc7e_26\", \"run_number\": 83, \"metric\": null, \"status\": \"Completed\", \"run_type\": \"azureml.scriptrun\", \"training_percent\": \"100\", \"start_time\": \"2021-03-06T19:23:04.760588Z\", \"end_time\": \"2021-03-06T19:23:46.272911Z\", \"created_time\": \"2021-03-06T19:22:53.996046Z\", \"created_time_dt\": \"2021-03-06T19:22:53.996046Z\", \"duration\": \"0:00:52\", \"iteration\": \"26\", \"goal\": \"accuracy_max\", \"run_name\": \"StandardScalerWrapper, LightGBM\", \"run_properties\": \"<azureml.automl.runtime.shared.model_wrappers.StandardScalerWrapper object at 0x7f9644b0fac8\", \"primary_metric\": 0.99051206, \"best_metric\": 0.99405416}, {\"run_id\": \"AutoML_3b267046-c349-4020-a32f-ceb49235dc7e_27\", \"run_number\": 84, \"metric\": null, \"status\": \"Completed\", \"run_type\": \"azureml.scriptrun\", \"training_percent\": \"100\", \"start_time\": \"2021-03-06T19:23:07.675972Z\", \"end_time\": \"2021-03-06T19:24:00.160906Z\", \"created_time\": \"2021-03-06T19:22:58.225586Z\", \"created_time_dt\": \"2021-03-06T19:22:58.225586Z\", \"duration\": \"0:01:01\", \"iteration\": \"27\", \"goal\": \"accuracy_max\", \"run_name\": \"MaxAbsScaler, LogisticRegression\", \"run_properties\": \"copy=True\", \"primary_metric\": 0.99291562, \"best_metric\": 0.99405416}, {\"run_id\": \"AutoML_3b267046-c349-4020-a32f-ceb49235dc7e_28\", \"run_number\": 85, \"metric\": null, \"status\": \"Completed\", \"run_type\": \"azureml.scriptrun\", \"training_percent\": \"100\", \"start_time\": \"2021-03-06T19:23:26.170633Z\", \"end_time\": \"2021-03-06T19:24:18.562898Z\", \"created_time\": \"2021-03-06T19:23:15.08822Z\", \"created_time_dt\": \"2021-03-06T19:23:15.08822Z\", \"duration\": \"0:01:03\", \"iteration\": \"28\", \"goal\": \"accuracy_max\", \"run_name\": \"MaxAbsScaler, LogisticRegression\", \"run_properties\": \"copy=True\", \"primary_metric\": 0.99354818, \"best_metric\": 0.99405416}, {\"run_id\": \"AutoML_3b267046-c349-4020-a32f-ceb49235dc7e_29\", \"run_number\": 86, \"metric\": null, \"status\": \"Completed\", \"run_type\": \"azureml.scriptrun\", \"training_percent\": \"100\", \"start_time\": \"2021-03-06T19:23:51.722439Z\", \"end_time\": \"2021-03-06T19:24:36.804966Z\", \"created_time\": \"2021-03-06T19:23:41.417212Z\", \"created_time_dt\": \"2021-03-06T19:23:41.417212Z\", \"duration\": \"0:00:55\", \"iteration\": \"29\", \"goal\": \"accuracy_max\", \"run_name\": \"MaxAbsScaler, LightGBM\", \"run_properties\": \"copy=True\", \"primary_metric\": 0.99051206, \"best_metric\": 0.99405416}, {\"run_id\": \"AutoML_3b267046-c349-4020-a32f-ceb49235dc7e_30\", \"run_number\": 87, \"metric\": null, \"status\": \"Completed\", \"run_type\": \"azureml.scriptrun\", \"training_percent\": \"100\", \"start_time\": \"2021-03-06T19:23:56.642328Z\", \"end_time\": \"2021-03-06T19:24:46.014717Z\", \"created_time\": \"2021-03-06T19:23:49.062936Z\", \"created_time_dt\": \"2021-03-06T19:23:49.062936Z\", \"duration\": \"0:00:56\", \"iteration\": \"30\", \"goal\": \"accuracy_max\", \"run_name\": \"MaxAbsScaler, SGD\", \"run_properties\": \"copy=True\", \"primary_metric\": 0.99051206, \"best_metric\": 0.99405416}, {\"run_id\": \"AutoML_3b267046-c349-4020-a32f-ceb49235dc7e_31\", \"run_number\": 88, \"metric\": null, \"status\": \"Completed\", \"run_type\": \"azureml.scriptrun\", \"training_percent\": \"100\", \"start_time\": \"2021-03-06T19:24:10.60349Z\", \"end_time\": \"2021-03-06T19:25:06.901361Z\", \"created_time\": \"2021-03-06T19:24:01.848684Z\", \"created_time_dt\": \"2021-03-06T19:24:01.848684Z\", \"duration\": \"0:01:05\", \"iteration\": \"31\", \"goal\": \"accuracy_max\", \"run_name\": \"StandardScalerWrapper, ExtremeRandomTrees\", \"run_properties\": \"<azureml.automl.runtime.shared.model_wrappers.StandardScalerWrapper object at 0x7f3d48da6978\", \"primary_metric\": 0.99051206, \"best_metric\": 0.99405416}, {\"run_id\": \"AutoML_3b267046-c349-4020-a32f-ceb49235dc7e_32\", \"run_number\": 89, \"metric\": null, \"status\": \"Completed\", \"run_type\": \"azureml.scriptrun\", \"training_percent\": \"100\", \"start_time\": \"2021-03-06T19:24:29.967349Z\", \"end_time\": \"2021-03-06T19:25:14.621847Z\", \"created_time\": \"2021-03-06T19:24:20.946716Z\", \"created_time_dt\": \"2021-03-06T19:24:20.946716Z\", \"duration\": \"0:00:53\", \"iteration\": \"32\", \"goal\": \"accuracy_max\", \"run_name\": \"StandardScalerWrapper, ExtremeRandomTrees\", \"run_properties\": \"<azureml.automl.runtime.shared.model_wrappers.StandardScalerWrapper object at 0x7f6f0d23c1d0\", \"primary_metric\": 0.99051206, \"best_metric\": 0.99405416}, {\"run_id\": \"AutoML_3b267046-c349-4020-a32f-ceb49235dc7e_33\", \"run_number\": 90, \"metric\": null, \"status\": \"Canceled\", \"run_type\": \"azureml.scriptrun\", \"training_percent\": \"100\", \"start_time\": \"2021-03-06T19:24:49.413186Z\", \"end_time\": \"2021-03-06T19:25:23.088616Z\", \"created_time\": \"2021-03-06T19:24:39.156579Z\", \"created_time_dt\": \"2021-03-06T19:24:39.156579Z\", \"duration\": \"0:00:43\", \"iteration\": \"33\", \"goal\": null, \"run_name\": \"MaxAbsScaler, ExtremeRandomTrees\", \"run_properties\": null, \"primary_metric\": 0.99051206, \"best_metric\": 0.99405416}, {\"run_id\": \"AutoML_3b267046-c349-4020-a32f-ceb49235dc7e_34\", \"run_number\": 91, \"metric\": null, \"status\": \"Canceled\", \"run_type\": \"azureml.scriptrun\", \"training_percent\": \"100\", \"start_time\": \"2021-03-06T19:24:57.647973Z\", \"end_time\": \"2021-03-06T19:25:21.327748Z\", \"created_time\": \"2021-03-06T19:24:47.709568Z\", \"created_time_dt\": \"2021-03-06T19:24:47.709568Z\", \"duration\": \"0:00:33\", \"iteration\": \"34\", \"goal\": null, \"run_name\": \"Canceled\", \"run_properties\": null}, {\"run_id\": \"AutoML_3b267046-c349-4020-a32f-ceb49235dc7e_35\", \"run_number\": 92, \"metric\": null, \"status\": \"Canceled\", \"run_type\": \"azureml.scriptrun\", \"training_percent\": \"100\", \"start_time\": \"2021-03-06T19:25:20.097778Z\", \"end_time\": \"2021-03-06T19:25:27.381884Z\", \"created_time\": \"2021-03-06T19:25:10.058167Z\", \"created_time_dt\": \"2021-03-06T19:25:10.058167Z\", \"duration\": \"0:00:17\", \"iteration\": \"35\", \"goal\": null, \"run_name\": \"Canceled\", \"run_properties\": null}, {\"run_id\": \"AutoML_3b267046-c349-4020-a32f-ceb49235dc7e_36\", \"run_number\": 93, \"metric\": null, \"status\": \"Completed\", \"run_type\": \"azureml.scriptrun\", \"training_percent\": \"100\", \"start_time\": \"2021-03-06T19:25:37.101633Z\", \"end_time\": \"2021-03-06T19:26:39.69453Z\", \"created_time\": \"2021-03-06T19:25:28.133995Z\", \"created_time_dt\": \"2021-03-06T19:25:28.133995Z\", \"duration\": \"0:01:11\", \"iteration\": \"36\", \"goal\": \"accuracy_max\", \"run_name\": \"VotingEnsemble\", \"run_properties\": \"classification_labels=None,\\n                              estimators=[('5',\\n                                           Pipeline(memory=None,\\n                                                    steps=[('maxabsscaler',\\n                                                            MaxAbsScaler(copy=True\", \"primary_metric\": 0.99392764, \"best_metric\": 0.99405416}, {\"run_id\": \"AutoML_3b267046-c349-4020-a32f-ceb49235dc7e_37\", \"run_number\": 94, \"metric\": null, \"status\": \"Completed\", \"run_type\": \"azureml.scriptrun\", \"training_percent\": \"100\", \"start_time\": \"2021-03-06T19:25:37.310036Z\", \"end_time\": \"2021-03-06T19:26:49.353909Z\", \"created_time\": \"2021-03-06T19:25:28.193939Z\", \"created_time_dt\": \"2021-03-06T19:25:28.193939Z\", \"duration\": \"0:01:21\", \"iteration\": \"37\", \"goal\": \"accuracy_max\", \"run_name\": \"StackEnsemble\", \"run_properties\": \"base_learners=[('5',\\n                                        Pipeline(memory=None,\\n                                                 steps=[('maxabsscaler',\\n                                                         MaxAbsScaler(copy=True\", \"primary_metric\": 0.99266271, \"best_metric\": 0.99405416}], \"children_metrics\": {\"categories\": [0], \"series\": {\"norm_macro_recall\": [{\"categories\": [\"0\", \"1\", \"2\", \"3\", \"4\", \"5\", \"6\", \"7\", \"8\", \"9\", \"10\", \"11\", \"12\", \"13\", \"14\", \"15\", \"16\", \"17\", \"18\", \"19\", \"20\", \"21\", \"22\", \"23\", \"24\", \"25\", \"26\", \"27\", \"28\", \"29\", \"30\", \"31\", \"32\", \"33\", \"36\", \"37\"], \"mode\": \"markers\", \"name\": \"norm_macro_recall\", \"stepped\": false, \"type\": \"scatter\", \"data\": [0.38452046912323656, 0.0, 0.0, 0.4768320005430844, 0.5151137887066275, 0.4814895123289129, 0.0, 0.0, 0.0, 0.0, 0.0, 0.0, 0.0, 0.0, 0.0, 0.0, 0.0, 0.0, 0.0, 0.0, 0.016859116313402978, 0.0, 0.0, 0.0, 0.0, 0.07722664196728135, 0.0, 0.39677324136167513, 0.4360097674918513, 0.0, 0.0, 0.0, 0.0, 0.0, 0.39342580238932523, 0.5075789704536111]}, {\"categories\": [\"0\", \"1\", \"2\", \"3\", \"4\", \"5\", \"6\", \"7\", \"8\", \"9\", \"10\", \"11\", \"12\", \"13\", \"14\", \"15\", \"16\", \"17\", \"18\", \"19\", \"20\", \"21\", \"22\", \"23\", \"24\", \"25\", \"26\", \"27\", \"28\", \"29\", \"30\", \"31\", \"32\", \"33\", \"36\", \"37\"], \"mode\": \"lines\", \"name\": \"norm_macro_recall_max\", \"stepped\": true, \"type\": \"scatter\", \"data\": [0.38452046912323656, 0.38452046912323656, 0.38452046912323656, 0.4768320005430844, 0.5151137887066275, 0.5151137887066275, 0.5151137887066275, 0.5151137887066275, 0.5151137887066275, 0.5151137887066275, 0.5151137887066275, 0.5151137887066275, 0.5151137887066275, 0.5151137887066275, 0.5151137887066275, 0.5151137887066275, 0.5151137887066275, 0.5151137887066275, 0.5151137887066275, 0.5151137887066275, 0.5151137887066275, 0.5151137887066275, 0.5151137887066275, 0.5151137887066275, 0.5151137887066275, 0.5151137887066275, 0.5151137887066275, 0.5151137887066275, 0.5151137887066275, 0.5151137887066275, 0.5151137887066275, 0.5151137887066275, 0.5151137887066275, 0.5151137887066275, 0.5151137887066275, 0.5151137887066275]}], \"log_loss\": [{\"categories\": [\"0\", \"1\", \"2\", \"3\", \"4\", \"5\", \"6\", \"7\", \"8\", \"9\", \"10\", \"11\", \"12\", \"13\", \"14\", \"15\", \"16\", \"17\", \"18\", \"19\", \"20\", \"21\", \"22\", \"23\", \"24\", \"25\", \"26\", \"27\", \"28\", \"29\", \"30\", \"31\", \"32\", \"33\", \"36\", \"37\"], \"mode\": \"markers\", \"name\": \"log_loss\", \"stepped\": false, \"type\": \"scatter\", \"data\": [0.06467772501723018, 0.039602008997899715, 0.0505664013018672, 0.20529840330385754, 0.3408163389916447, 0.1059540922687595, 0.05551810852259963, 0.051984878434974374, 0.043374648965968134, 0.0517218900817971, 0.04554804357363708, 0.04953601867439113, 0.04976283620727047, 0.042736773483227276, 0.04513679892620778, 0.042012111264592714, 0.050497370288076396, 0.048851038755120396, 0.04659746614856977, 0.038900005567436016, 0.038825268484968464, 0.04264877356763756, 0.04748881450188358, 0.05048843139425875, 0.04876704571174468, 25.110999026495044, 0.05034891001353655, 0.045689210211866546, 0.04460938234455209, 0.04366217967048263, 0.6931424604885841, 0.05003361002271493, 0.05103104984915045, 0.045517849049954914, 0.0280066610813291, 0.04442703379028523]}, {\"categories\": [\"0\", \"1\", \"2\", \"3\", \"4\", \"5\", \"6\", \"7\", \"8\", \"9\", \"10\", \"11\", \"12\", \"13\", \"14\", \"15\", \"16\", \"17\", \"18\", \"19\", \"20\", \"21\", \"22\", \"23\", \"24\", \"25\", \"26\", \"27\", \"28\", \"29\", \"30\", \"31\", \"32\", \"33\", \"36\", \"37\"], \"mode\": \"lines\", \"name\": \"log_loss_min\", \"stepped\": true, \"type\": \"scatter\", \"data\": [0.06467772501723018, 0.039602008997899715, 0.039602008997899715, 0.039602008997899715, 0.039602008997899715, 0.039602008997899715, 0.039602008997899715, 0.039602008997899715, 0.039602008997899715, 0.039602008997899715, 0.039602008997899715, 0.039602008997899715, 0.039602008997899715, 0.039602008997899715, 0.039602008997899715, 0.039602008997899715, 0.039602008997899715, 0.039602008997899715, 0.039602008997899715, 0.038900005567436016, 0.038825268484968464, 0.038825268484968464, 0.038825268484968464, 0.038825268484968464, 0.038825268484968464, 0.038825268484968464, 0.038825268484968464, 0.038825268484968464, 0.038825268484968464, 0.038825268484968464, 0.038825268484968464, 0.038825268484968464, 0.038825268484968464, 0.038825268484968464, 0.0280066610813291, 0.0280066610813291]}], \"precision_score_macro\": [{\"categories\": [\"0\", \"1\", \"2\", \"3\", \"4\", \"5\", \"6\", \"7\", \"8\", \"9\", \"10\", \"11\", \"12\", \"13\", \"14\", \"15\", \"16\", \"17\", \"18\", \"19\", \"20\", \"21\", \"22\", \"23\", \"24\", \"25\", \"26\", \"27\", \"28\", \"29\", \"30\", \"31\", \"32\", \"33\", \"36\", \"37\"], \"mode\": \"markers\", \"name\": \"precision_score_macro\", \"stepped\": false, \"type\": \"scatter\", \"data\": [0.8831906228616576, 0.49525603088311954, 0.49525603088311954, 0.6766403191157726, 0.5614948857313038, 0.9145039293550881, 0.49525603088311954, 0.49525603088311954, 0.49525603088311954, 0.49525603088311954, 0.49525603088311954, 0.49525603088311954, 0.49525603088311954, 0.49525603088311954, 0.49525603088311954, 0.49525510248520077, 0.49525603088311954, 0.49525603088311954, 0.49525603088311954, 0.49525603088311954, 0.5578174803132654, 0.49525603088311954, 0.49525603088311954, 0.49525603088311954, 0.49525603088311954, 0.5039174000310771, 0.49525603088311954, 0.8700699952972506, 0.8962557424835668, 0.49525603088311954, 0.49525603088311954, 0.49525603088311954, 0.49525603088311954, 0.49525603088311954, 0.9803495852378534, 0.8884211676915987]}, {\"categories\": [\"0\", \"1\", \"2\", \"3\", \"4\", \"5\", \"6\", \"7\", \"8\", \"9\", \"10\", \"11\", \"12\", \"13\", \"14\", \"15\", \"16\", \"17\", \"18\", \"19\", \"20\", \"21\", \"22\", \"23\", \"24\", \"25\", \"26\", \"27\", \"28\", \"29\", \"30\", \"31\", \"32\", \"33\", \"36\", \"37\"], \"mode\": \"lines\", \"name\": \"precision_score_macro_max\", \"stepped\": true, \"type\": \"scatter\", \"data\": [0.8831906228616576, 0.8831906228616576, 0.8831906228616576, 0.8831906228616576, 0.8831906228616576, 0.9145039293550881, 0.9145039293550881, 0.9145039293550881, 0.9145039293550881, 0.9145039293550881, 0.9145039293550881, 0.9145039293550881, 0.9145039293550881, 0.9145039293550881, 0.9145039293550881, 0.9145039293550881, 0.9145039293550881, 0.9145039293550881, 0.9145039293550881, 0.9145039293550881, 0.9145039293550881, 0.9145039293550881, 0.9145039293550881, 0.9145039293550881, 0.9145039293550881, 0.9145039293550881, 0.9145039293550881, 0.9145039293550881, 0.9145039293550881, 0.9145039293550881, 0.9145039293550881, 0.9145039293550881, 0.9145039293550881, 0.9145039293550881, 0.9803495852378534, 0.9803495852378534]}], \"recall_score_micro\": [{\"categories\": [\"0\", \"1\", \"2\", \"3\", \"4\", \"5\", \"6\", \"7\", \"8\", \"9\", \"10\", \"11\", \"12\", \"13\", \"14\", \"15\", \"16\", \"17\", \"18\", \"19\", \"20\", \"21\", \"22\", \"23\", \"24\", \"25\", \"26\", \"27\", \"28\", \"29\", \"30\", \"31\", \"32\", \"33\", \"36\", \"37\"], \"mode\": \"markers\", \"name\": \"recall_score_micro\", \"stepped\": false, \"type\": \"scatter\", \"data\": [0.9917771479356119, 0.9905120617662391, 0.9905120617662391, 0.9870965819533364, 0.9531965485650729, 0.9940541558146275, 0.9905120617662391, 0.9905120617662391, 0.9905120617662391, 0.9905120617662391, 0.9905120617662391, 0.9905120617662391, 0.9905120617662391, 0.9905120617662391, 0.9905120617662391, 0.9902590893402335, 0.9905120617662391, 0.9905120617662391, 0.9905120617662391, 0.9905120617662391, 0.9902590893402335, 0.9905120617662391, 0.9905120617662391, 0.9905120617662391, 0.9905120617662391, 0.2729621125143513, 0.9905120617662391, 0.992915619869499, 0.9935481789569958, 0.9905120617662391, 0.9905120617662391, 0.9905120617662391, 0.9905120617662391, 0.9905120617662391, 0.993927637596004, 0.9926627114547348]}, {\"categories\": [\"0\", \"1\", \"2\", \"3\", \"4\", \"5\", \"6\", \"7\", \"8\", \"9\", \"10\", \"11\", \"12\", \"13\", \"14\", \"15\", \"16\", \"17\", \"18\", \"19\", \"20\", \"21\", \"22\", \"23\", \"24\", \"25\", \"26\", \"27\", \"28\", \"29\", \"30\", \"31\", \"32\", \"33\", \"36\", \"37\"], \"mode\": \"lines\", \"name\": \"recall_score_micro_max\", \"stepped\": true, \"type\": \"scatter\", \"data\": [0.9917771479356119, 0.9917771479356119, 0.9917771479356119, 0.9917771479356119, 0.9917771479356119, 0.9940541558146275, 0.9940541558146275, 0.9940541558146275, 0.9940541558146275, 0.9940541558146275, 0.9940541558146275, 0.9940541558146275, 0.9940541558146275, 0.9940541558146275, 0.9940541558146275, 0.9940541558146275, 0.9940541558146275, 0.9940541558146275, 0.9940541558146275, 0.9940541558146275, 0.9940541558146275, 0.9940541558146275, 0.9940541558146275, 0.9940541558146275, 0.9940541558146275, 0.9940541558146275, 0.9940541558146275, 0.9940541558146275, 0.9940541558146275, 0.9940541558146275, 0.9940541558146275, 0.9940541558146275, 0.9940541558146275, 0.9940541558146275, 0.9940541558146275, 0.9940541558146275]}], \"AUC_macro\": [{\"categories\": [\"0\", \"1\", \"2\", \"3\", \"4\", \"5\", \"6\", \"7\", \"8\", \"9\", \"10\", \"11\", \"12\", \"13\", \"14\", \"15\", \"16\", \"17\", \"18\", \"19\", \"20\", \"21\", \"22\", \"23\", \"24\", \"25\", \"26\", \"27\", \"28\", \"29\", \"30\", \"31\", \"32\", \"33\", \"36\", \"37\"], \"mode\": \"markers\", \"name\": \"AUC_macro\", \"stepped\": false, \"type\": \"scatter\", \"data\": [0.8420007502132613, 0.864035666850688, 0.6977466259365983, 0.8602286186385802, 0.8562616491011812, 0.8455752926711717, 0.6999953443563173, 0.759389620921159, 0.8563461032910312, 0.7887786973985773, 0.8371132443121863, 0.8186264116493734, 0.8536851745634673, 0.8456989550152276, 0.8594401524029767, 0.8384779190824266, 0.7977563188557499, 0.8278085296406743, 0.8385515247174958, 0.8643543333534828, 0.8287770389245547, 0.8607247082676337, 0.8310303734602351, 0.7932013907503892, 0.8521504253897657, 0.5386133209836407, 0.8327342524216971, 0.8349540667454292, 0.8314228784507111, 0.843336483912809, 0.5, 0.8025255549975545, 0.7707503229177137, 0.8712338546161185, 0.8970264547118766, 0.9078413211339904]}, {\"categories\": [\"0\", \"1\", \"2\", \"3\", \"4\", \"5\", \"6\", \"7\", \"8\", \"9\", \"10\", \"11\", \"12\", \"13\", \"14\", \"15\", \"16\", \"17\", \"18\", \"19\", \"20\", \"21\", \"22\", \"23\", \"24\", \"25\", \"26\", \"27\", \"28\", \"29\", \"30\", \"31\", \"32\", \"33\", \"36\", \"37\"], \"mode\": \"lines\", \"name\": \"AUC_macro_max\", \"stepped\": true, \"type\": \"scatter\", \"data\": [0.8420007502132613, 0.864035666850688, 0.864035666850688, 0.864035666850688, 0.864035666850688, 0.864035666850688, 0.864035666850688, 0.864035666850688, 0.864035666850688, 0.864035666850688, 0.864035666850688, 0.864035666850688, 0.864035666850688, 0.864035666850688, 0.864035666850688, 0.864035666850688, 0.864035666850688, 0.864035666850688, 0.864035666850688, 0.8643543333534828, 0.8643543333534828, 0.8643543333534828, 0.8643543333534828, 0.8643543333534828, 0.8643543333534828, 0.8643543333534828, 0.8643543333534828, 0.8643543333534828, 0.8643543333534828, 0.8643543333534828, 0.8643543333534828, 0.8643543333534828, 0.8643543333534828, 0.8712338546161185, 0.8970264547118766, 0.9078413211339904]}], \"accuracy\": [{\"categories\": [\"0\", \"1\", \"2\", \"3\", \"4\", \"5\", \"6\", \"7\", \"8\", \"9\", \"10\", \"11\", \"12\", \"13\", \"14\", \"15\", \"16\", \"17\", \"18\", \"19\", \"20\", \"21\", \"22\", \"23\", \"24\", \"25\", \"26\", \"27\", \"28\", \"29\", \"30\", \"31\", \"32\", \"33\", \"36\", \"37\"], \"mode\": \"markers\", \"name\": \"accuracy\", \"stepped\": false, \"type\": \"scatter\", \"data\": [0.9917771479356119, 0.9905120617662391, 0.9905120617662391, 0.9870965819533364, 0.9531965485650729, 0.9940541558146275, 0.9905120617662391, 0.9905120617662391, 0.9905120617662391, 0.9905120617662391, 0.9905120617662391, 0.9905120617662391, 0.9905120617662391, 0.9905120617662391, 0.9905120617662391, 0.9902590893402335, 0.9905120617662391, 0.9905120617662391, 0.9905120617662391, 0.9905120617662391, 0.9902590893402335, 0.9905120617662391, 0.9905120617662391, 0.9905120617662391, 0.9905120617662391, 0.2729621125143513, 0.9905120617662391, 0.992915619869499, 0.9935481789569958, 0.9905120617662391, 0.9905120617662391, 0.9905120617662391, 0.9905120617662391, 0.9905120617662391, 0.993927637596004, 0.9926627114547348]}, {\"categories\": [\"0\", \"1\", \"2\", \"3\", \"4\", \"5\", \"6\", \"7\", \"8\", \"9\", \"10\", \"11\", \"12\", \"13\", \"14\", \"15\", \"16\", \"17\", \"18\", \"19\", \"20\", \"21\", \"22\", \"23\", \"24\", \"25\", \"26\", \"27\", \"28\", \"29\", \"30\", \"31\", \"32\", \"33\", \"36\", \"37\"], \"mode\": \"lines\", \"name\": \"accuracy_max\", \"stepped\": true, \"type\": \"scatter\", \"data\": [0.9917771479356119, 0.9917771479356119, 0.9917771479356119, 0.9917771479356119, 0.9917771479356119, 0.9940541558146275, 0.9940541558146275, 0.9940541558146275, 0.9940541558146275, 0.9940541558146275, 0.9940541558146275, 0.9940541558146275, 0.9940541558146275, 0.9940541558146275, 0.9940541558146275, 0.9940541558146275, 0.9940541558146275, 0.9940541558146275, 0.9940541558146275, 0.9940541558146275, 0.9940541558146275, 0.9940541558146275, 0.9940541558146275, 0.9940541558146275, 0.9940541558146275, 0.9940541558146275, 0.9940541558146275, 0.9940541558146275, 0.9940541558146275, 0.9940541558146275, 0.9940541558146275, 0.9940541558146275, 0.9940541558146275, 0.9940541558146275, 0.9940541558146275, 0.9940541558146275]}], \"average_precision_score_micro\": [{\"categories\": [\"0\", \"1\", \"2\", \"3\", \"4\", \"5\", \"6\", \"7\", \"8\", \"9\", \"10\", \"11\", \"12\", \"13\", \"14\", \"15\", \"16\", \"17\", \"18\", \"19\", \"20\", \"21\", \"22\", \"23\", \"24\", \"25\", \"26\", \"27\", \"28\", \"29\", \"30\", \"31\", \"32\", \"33\", \"36\", \"37\"], \"mode\": \"markers\", \"name\": \"average_precision_score_micro\", \"stepped\": false, \"type\": \"scatter\", \"data\": [0.9952685835005275, 0.9968771513140995, 0.9937088897358182, 0.9957755451871242, 0.9878613968472116, 0.9956758106871908, 0.9921364381314755, 0.994401962663416, 0.9966985965880142, 0.9957141881618221, 0.996107943042511, 0.9957988224535348, 0.9968013106839463, 0.9963540186369537, 0.9967469326070122, 0.9962402707498633, 0.9952891864467643, 0.9959126027039749, 0.9964535846611111, 0.9969088484758668, 0.9956743065072944, 0.9969570964080499, 0.9963281905165824, 0.9952913147242501, 0.9967179546925697, 0.4930177778422205, 0.9961800499346352, 0.9949958138511896, 0.9948845467126307, 0.9963930561170471, 0.9858627435971887, 0.9955112067199058, 0.9951232076585363, 0.9970843730079497, 0.9976057319405027, 0.9895750825313305]}, {\"categories\": [\"0\", \"1\", \"2\", \"3\", \"4\", \"5\", \"6\", \"7\", \"8\", \"9\", \"10\", \"11\", \"12\", \"13\", \"14\", \"15\", \"16\", \"17\", \"18\", \"19\", \"20\", \"21\", \"22\", \"23\", \"24\", \"25\", \"26\", \"27\", \"28\", \"29\", \"30\", \"31\", \"32\", \"33\", \"36\", \"37\"], \"mode\": \"lines\", \"name\": \"average_precision_score_micro_max\", \"stepped\": true, \"type\": \"scatter\", \"data\": [0.9952685835005275, 0.9968771513140995, 0.9968771513140995, 0.9968771513140995, 0.9968771513140995, 0.9968771513140995, 0.9968771513140995, 0.9968771513140995, 0.9968771513140995, 0.9968771513140995, 0.9968771513140995, 0.9968771513140995, 0.9968771513140995, 0.9968771513140995, 0.9968771513140995, 0.9968771513140995, 0.9968771513140995, 0.9968771513140995, 0.9968771513140995, 0.9969088484758668, 0.9969088484758668, 0.9969570964080499, 0.9969570964080499, 0.9969570964080499, 0.9969570964080499, 0.9969570964080499, 0.9969570964080499, 0.9969570964080499, 0.9969570964080499, 0.9969570964080499, 0.9969570964080499, 0.9969570964080499, 0.9969570964080499, 0.9970843730079497, 0.9976057319405027, 0.9976057319405027]}], \"AUC_micro\": [{\"categories\": [\"0\", \"1\", \"2\", \"3\", \"4\", \"5\", \"6\", \"7\", \"8\", \"9\", \"10\", \"11\", \"12\", \"13\", \"14\", \"15\", \"16\", \"17\", \"18\", \"19\", \"20\", \"21\", \"22\", \"23\", \"24\", \"25\", \"26\", \"27\", \"28\", \"29\", \"30\", \"31\", \"32\", \"33\", \"36\", \"37\"], \"mode\": \"markers\", \"name\": \"AUC_micro\", \"stepped\": false, \"type\": \"scatter\", \"data\": [0.9966760263082984, 0.9971821035230866, 0.9946825099059575, 0.9968290836613303, 0.9886223343236169, 0.9970602369420035, 0.9941534883771836, 0.9951200815551935, 0.9970707530297434, 0.9958484392096791, 0.9967501460243025, 0.9962866180668877, 0.9970105681444102, 0.996895378612168, 0.9971656303611698, 0.9967314064149548, 0.9957498907140059, 0.9964552931835187, 0.9966225591256231, 0.9972193936474684, 0.99649801812564, 0.9972006581476329, 0.9964994459448087, 0.9956887185736689, 0.9970586935827452, 0.2729621125143513, 0.9964863386770793, 0.9969330938141203, 0.9968710346139887, 0.996874374717436, 0.9905120617662391, 0.9959600524203908, 0.9954200197309524, 0.9974040397798748, 0.9978805987745547, 0.9950454769044021]}, {\"categories\": [\"0\", \"1\", \"2\", \"3\", \"4\", \"5\", \"6\", \"7\", \"8\", \"9\", \"10\", \"11\", \"12\", \"13\", \"14\", \"15\", \"16\", \"17\", \"18\", \"19\", \"20\", \"21\", \"22\", \"23\", \"24\", \"25\", \"26\", \"27\", \"28\", \"29\", \"30\", \"31\", \"32\", \"33\", \"36\", \"37\"], \"mode\": \"lines\", \"name\": \"AUC_micro_max\", \"stepped\": true, \"type\": \"scatter\", \"data\": [0.9966760263082984, 0.9971821035230866, 0.9971821035230866, 0.9971821035230866, 0.9971821035230866, 0.9971821035230866, 0.9971821035230866, 0.9971821035230866, 0.9971821035230866, 0.9971821035230866, 0.9971821035230866, 0.9971821035230866, 0.9971821035230866, 0.9971821035230866, 0.9971821035230866, 0.9971821035230866, 0.9971821035230866, 0.9971821035230866, 0.9971821035230866, 0.9972193936474684, 0.9972193936474684, 0.9972193936474684, 0.9972193936474684, 0.9972193936474684, 0.9972193936474684, 0.9972193936474684, 0.9972193936474684, 0.9972193936474684, 0.9972193936474684, 0.9972193936474684, 0.9972193936474684, 0.9972193936474684, 0.9972193936474684, 0.9974040397798748, 0.9978805987745547, 0.9978805987745547]}], \"average_precision_score_weighted\": [{\"categories\": [\"0\", \"1\", \"2\", \"3\", \"4\", \"5\", \"6\", \"7\", \"8\", \"9\", \"10\", \"11\", \"12\", \"13\", \"14\", \"15\", \"16\", \"17\", \"18\", \"19\", \"20\", \"21\", \"22\", \"23\", \"24\", \"25\", \"26\", \"27\", \"28\", \"29\", \"30\", \"31\", \"32\", \"33\", \"36\", \"37\"], \"mode\": \"markers\", \"name\": \"average_precision_score_weighted\", \"stepped\": false, \"type\": \"scatter\", \"data\": [0.9912542128112911, 0.9914942656626853, 0.9865829122663136, 0.990288722397611, 0.9898680920411469, 0.9931801282818123, 0.9849120163933983, 0.9870131436783918, 0.9896022752460714, 0.9881876924150068, 0.9885495807068629, 0.9888654887959814, 0.9890225501707508, 0.9893592309537039, 0.9895523412585099, 0.9892613389107442, 0.9879934376175726, 0.9884812736636144, 0.9889439354672425, 0.9908300134181692, 0.9894406447846593, 0.9909217610857335, 0.9886764680306284, 0.9877399785241154, 0.9891410369009901, 0.9818366909459975, 0.988462486527662, 0.99131611657384, 0.9913029898190566, 0.9893353414893458, 0.9812134254281386, 0.9881482652345762, 0.9876057357142325, 0.9910561607001471, 0.9946525094118612, 0.9951327357019473]}, {\"categories\": [\"0\", \"1\", \"2\", \"3\", \"4\", \"5\", \"6\", \"7\", \"8\", \"9\", \"10\", \"11\", \"12\", \"13\", \"14\", \"15\", \"16\", \"17\", \"18\", \"19\", \"20\", \"21\", \"22\", \"23\", \"24\", \"25\", \"26\", \"27\", \"28\", \"29\", \"30\", \"31\", \"32\", \"33\", \"36\", \"37\"], \"mode\": \"lines\", \"name\": \"average_precision_score_weighted_max\", \"stepped\": true, \"type\": \"scatter\", \"data\": [0.9912542128112911, 0.9914942656626853, 0.9914942656626853, 0.9914942656626853, 0.9914942656626853, 0.9931801282818123, 0.9931801282818123, 0.9931801282818123, 0.9931801282818123, 0.9931801282818123, 0.9931801282818123, 0.9931801282818123, 0.9931801282818123, 0.9931801282818123, 0.9931801282818123, 0.9931801282818123, 0.9931801282818123, 0.9931801282818123, 0.9931801282818123, 0.9931801282818123, 0.9931801282818123, 0.9931801282818123, 0.9931801282818123, 0.9931801282818123, 0.9931801282818123, 0.9931801282818123, 0.9931801282818123, 0.9931801282818123, 0.9931801282818123, 0.9931801282818123, 0.9931801282818123, 0.9931801282818123, 0.9931801282818123, 0.9931801282818123, 0.9946525094118612, 0.9951327357019473]}], \"f1_score_micro\": [{\"categories\": [\"0\", \"1\", \"2\", \"3\", \"4\", \"5\", \"6\", \"7\", \"8\", \"9\", \"10\", \"11\", \"12\", \"13\", \"14\", \"15\", \"16\", \"17\", \"18\", \"19\", \"20\", \"21\", \"22\", \"23\", \"24\", \"25\", \"26\", \"27\", \"28\", \"29\", \"30\", \"31\", \"32\", \"33\", \"36\", \"37\"], \"mode\": \"markers\", \"name\": \"f1_score_micro\", \"stepped\": false, \"type\": \"scatter\", \"data\": [0.9917771479356119, 0.9905120617662391, 0.9905120617662391, 0.9870965819533364, 0.9531965485650729, 0.9940541558146275, 0.9905120617662391, 0.9905120617662391, 0.9905120617662391, 0.9905120617662391, 0.9905120617662391, 0.9905120617662391, 0.9905120617662391, 0.9905120617662391, 0.9905120617662391, 0.9902590893402335, 0.9905120617662391, 0.9905120617662391, 0.9905120617662391, 0.9905120617662391, 0.9902590893402335, 0.9905120617662391, 0.9905120617662391, 0.9905120617662391, 0.9905120617662391, 0.2729621125143513, 0.9905120617662391, 0.992915619869499, 0.9935481789569958, 0.9905120617662391, 0.9905120617662391, 0.9905120617662391, 0.9905120617662391, 0.9905120617662391, 0.993927637596004, 0.9926627114547348]}, {\"categories\": [\"0\", \"1\", \"2\", \"3\", \"4\", \"5\", \"6\", \"7\", \"8\", \"9\", \"10\", \"11\", \"12\", \"13\", \"14\", \"15\", \"16\", \"17\", \"18\", \"19\", \"20\", \"21\", \"22\", \"23\", \"24\", \"25\", \"26\", \"27\", \"28\", \"29\", \"30\", \"31\", \"32\", \"33\", \"36\", \"37\"], \"mode\": \"lines\", \"name\": \"f1_score_micro_max\", \"stepped\": true, \"type\": \"scatter\", \"data\": [0.9917771479356119, 0.9917771479356119, 0.9917771479356119, 0.9917771479356119, 0.9917771479356119, 0.9940541558146275, 0.9940541558146275, 0.9940541558146275, 0.9940541558146275, 0.9940541558146275, 0.9940541558146275, 0.9940541558146275, 0.9940541558146275, 0.9940541558146275, 0.9940541558146275, 0.9940541558146275, 0.9940541558146275, 0.9940541558146275, 0.9940541558146275, 0.9940541558146275, 0.9940541558146275, 0.9940541558146275, 0.9940541558146275, 0.9940541558146275, 0.9940541558146275, 0.9940541558146275, 0.9940541558146275, 0.9940541558146275, 0.9940541558146275, 0.9940541558146275, 0.9940541558146275, 0.9940541558146275, 0.9940541558146275, 0.9940541558146275, 0.9940541558146275, 0.9940541558146275]}], \"matthews_correlation\": [{\"categories\": [\"0\", \"1\", \"2\", \"3\", \"4\", \"5\", \"6\", \"7\", \"8\", \"9\", \"10\", \"11\", \"12\", \"13\", \"14\", \"15\", \"16\", \"17\", \"18\", \"19\", \"20\", \"21\", \"22\", \"23\", \"24\", \"25\", \"26\", \"27\", \"28\", \"29\", \"30\", \"31\", \"32\", \"33\", \"36\", \"37\"], \"mode\": \"markers\", \"name\": \"matthews_correlation\", \"stepped\": false, \"type\": \"scatter\", \"data\": [0.48336529409767537, 0.0, 0.0, 0.41024618245595434, 0.2370391575097202, 0.6303940836311235, 0.0, 0.0, 0.0, 0.0, 0.0, 0.0, 0.0, 0.0, 0.0, -0.0009670879832829891, 0.0, 0.0, 0.0, 0.0, 0.04525064173932995, 0.0, 0.0, 0.0, 0.0, 0.019873470028983285, 0.0, 0.5412355956804634, 0.5866163726515592, 0.0, 0.0, 0.0, 0.0, 0.0, 0.6095659640052238, 0.5799055362862073]}, {\"categories\": [\"0\", \"1\", \"2\", \"3\", \"4\", \"5\", \"6\", \"7\", \"8\", \"9\", \"10\", \"11\", \"12\", \"13\", \"14\", \"15\", \"16\", \"17\", \"18\", \"19\", \"20\", \"21\", \"22\", \"23\", \"24\", \"25\", \"26\", \"27\", \"28\", \"29\", \"30\", \"31\", \"32\", \"33\", \"36\", \"37\"], \"mode\": \"lines\", \"name\": \"matthews_correlation_max\", \"stepped\": true, \"type\": \"scatter\", \"data\": [0.48336529409767537, 0.48336529409767537, 0.48336529409767537, 0.48336529409767537, 0.48336529409767537, 0.6303940836311235, 0.6303940836311235, 0.6303940836311235, 0.6303940836311235, 0.6303940836311235, 0.6303940836311235, 0.6303940836311235, 0.6303940836311235, 0.6303940836311235, 0.6303940836311235, 0.6303940836311235, 0.6303940836311235, 0.6303940836311235, 0.6303940836311235, 0.6303940836311235, 0.6303940836311235, 0.6303940836311235, 0.6303940836311235, 0.6303940836311235, 0.6303940836311235, 0.6303940836311235, 0.6303940836311235, 0.6303940836311235, 0.6303940836311235, 0.6303940836311235, 0.6303940836311235, 0.6303940836311235, 0.6303940836311235, 0.6303940836311235, 0.6303940836311235, 0.6303940836311235]}], \"average_precision_score_macro\": [{\"categories\": [\"0\", \"1\", \"2\", \"3\", \"4\", \"5\", \"6\", \"7\", \"8\", \"9\", \"10\", \"11\", \"12\", \"13\", \"14\", \"15\", \"16\", \"17\", \"18\", \"19\", \"20\", \"21\", \"22\", \"23\", \"24\", \"25\", \"26\", \"27\", \"28\", \"29\", \"30\", \"31\", \"32\", \"33\", \"36\", \"37\"], \"mode\": \"markers\", \"name\": \"average_precision_score_macro\", \"stepped\": false, \"type\": \"scatter\", \"data\": [0.730670206417561, 0.6602972666893193, 0.5243124485723333, 0.6355432374553244, 0.618774613177679, 0.793172722359681, 0.5148217209775748, 0.5188726602556, 0.5653000611811911, 0.5182862462752243, 0.5386693757017418, 0.5703182016718741, 0.5278787036934842, 0.5725246362889356, 0.5673925685601322, 0.5695299589436559, 0.5388568643158143, 0.5430044134176426, 0.5404028300281385, 0.6235344240575033, 0.618638595933351, 0.6330271370097632, 0.5266773700616512, 0.5189553600307919, 0.543411330628881, 0.5006824400386909, 0.523552373002685, 0.7587725017332989, 0.761761677644418, 0.569335014420301, 0.5, 0.5341116040406704, 0.5146459006324653, 0.638994898794096, 0.8106685346902234, 0.8262089498576115]}, {\"categories\": [\"0\", \"1\", \"2\", \"3\", \"4\", \"5\", \"6\", \"7\", \"8\", \"9\", \"10\", \"11\", \"12\", \"13\", \"14\", \"15\", \"16\", \"17\", \"18\", \"19\", \"20\", \"21\", \"22\", \"23\", \"24\", \"25\", \"26\", \"27\", \"28\", \"29\", \"30\", \"31\", \"32\", \"33\", \"36\", \"37\"], \"mode\": \"lines\", \"name\": \"average_precision_score_macro_max\", \"stepped\": true, \"type\": \"scatter\", \"data\": [0.730670206417561, 0.730670206417561, 0.730670206417561, 0.730670206417561, 0.730670206417561, 0.793172722359681, 0.793172722359681, 0.793172722359681, 0.793172722359681, 0.793172722359681, 0.793172722359681, 0.793172722359681, 0.793172722359681, 0.793172722359681, 0.793172722359681, 0.793172722359681, 0.793172722359681, 0.793172722359681, 0.793172722359681, 0.793172722359681, 0.793172722359681, 0.793172722359681, 0.793172722359681, 0.793172722359681, 0.793172722359681, 0.793172722359681, 0.793172722359681, 0.793172722359681, 0.793172722359681, 0.793172722359681, 0.793172722359681, 0.793172722359681, 0.793172722359681, 0.793172722359681, 0.8106685346902234, 0.8262089498576115]}], \"f1_score_macro\": [{\"categories\": [\"0\", \"1\", \"2\", \"3\", \"4\", \"5\", \"6\", \"7\", \"8\", \"9\", \"10\", \"11\", \"12\", \"13\", \"14\", \"15\", \"16\", \"17\", \"18\", \"19\", \"20\", \"21\", \"22\", \"23\", \"24\", \"25\", \"26\", \"27\", \"28\", \"29\", \"30\", \"31\", \"32\", \"33\", \"36\", \"37\"], \"mode\": \"markers\", \"name\": \"f1_score_macro\", \"stepped\": false, \"type\": \"scatter\", \"data\": [0.7091284873088259, 0.4976161221204112, 0.4976161221204112, 0.7025719880228635, 0.5840166613402471, 0.8028496394645817, 0.4976161221204112, 0.4976161221204112, 0.4976161221204112, 0.4976161221204112, 0.4976161221204112, 0.4976161221204112, 0.4976161221204112, 0.4976161221204112, 0.4976161221204112, 0.49755239630424153, 0.4976161221204112, 0.4976161221204112, 0.4976161221204112, 0.4976161221204112, 0.5127036614552527, 0.4976161221204112, 0.4976161221204112, 0.4976161221204112, 0.4976161221204112, 0.19147886617679916, 0.4976161221204112, 0.7571667291579844, 0.7796637797480551, 0.4976161221204112, 0.4976161221204112, 0.4976161221204112, 0.4976161221204112, 0.4976161221204112, 0.7742289115524598, 0.7633641257654227]}, {\"categories\": [\"0\", \"1\", \"2\", \"3\", \"4\", \"5\", \"6\", \"7\", \"8\", \"9\", \"10\", \"11\", \"12\", \"13\", \"14\", \"15\", \"16\", \"17\", \"18\", \"19\", \"20\", \"21\", \"22\", \"23\", \"24\", \"25\", \"26\", \"27\", \"28\", \"29\", \"30\", \"31\", \"32\", \"33\", \"36\", \"37\"], \"mode\": \"lines\", \"name\": \"f1_score_macro_max\", \"stepped\": true, \"type\": \"scatter\", \"data\": [0.7091284873088259, 0.7091284873088259, 0.7091284873088259, 0.7091284873088259, 0.7091284873088259, 0.8028496394645817, 0.8028496394645817, 0.8028496394645817, 0.8028496394645817, 0.8028496394645817, 0.8028496394645817, 0.8028496394645817, 0.8028496394645817, 0.8028496394645817, 0.8028496394645817, 0.8028496394645817, 0.8028496394645817, 0.8028496394645817, 0.8028496394645817, 0.8028496394645817, 0.8028496394645817, 0.8028496394645817, 0.8028496394645817, 0.8028496394645817, 0.8028496394645817, 0.8028496394645817, 0.8028496394645817, 0.8028496394645817, 0.8028496394645817, 0.8028496394645817, 0.8028496394645817, 0.8028496394645817, 0.8028496394645817, 0.8028496394645817, 0.8028496394645817, 0.8028496394645817]}], \"recall_score_weighted\": [{\"categories\": [\"0\", \"1\", \"2\", \"3\", \"4\", \"5\", \"6\", \"7\", \"8\", \"9\", \"10\", \"11\", \"12\", \"13\", \"14\", \"15\", \"16\", \"17\", \"18\", \"19\", \"20\", \"21\", \"22\", \"23\", \"24\", \"25\", \"26\", \"27\", \"28\", \"29\", \"30\", \"31\", \"32\", \"33\", \"36\", \"37\"], \"mode\": \"markers\", \"name\": \"recall_score_weighted\", \"stepped\": false, \"type\": \"scatter\", \"data\": [0.9917771479356119, 0.9905120617662391, 0.9905120617662391, 0.9870965819533364, 0.9531965485650729, 0.9940541558146275, 0.9905120617662391, 0.9905120617662391, 0.9905120617662391, 0.9905120617662391, 0.9905120617662391, 0.9905120617662391, 0.9905120617662391, 0.9905120617662391, 0.9905120617662391, 0.9902590893402335, 0.9905120617662391, 0.9905120617662391, 0.9905120617662391, 0.9905120617662391, 0.9902590893402335, 0.9905120617662391, 0.9905120617662391, 0.9905120617662391, 0.9905120617662391, 0.27296211251435126, 0.9905120617662391, 0.992915619869499, 0.9935481789569958, 0.9905120617662391, 0.9905120617662391, 0.9905120617662391, 0.9905120617662391, 0.9905120617662391, 0.993927637596004, 0.9926627114547348]}, {\"categories\": [\"0\", \"1\", \"2\", \"3\", \"4\", \"5\", \"6\", \"7\", \"8\", \"9\", \"10\", \"11\", \"12\", \"13\", \"14\", \"15\", \"16\", \"17\", \"18\", \"19\", \"20\", \"21\", \"22\", \"23\", \"24\", \"25\", \"26\", \"27\", \"28\", \"29\", \"30\", \"31\", \"32\", \"33\", \"36\", \"37\"], \"mode\": \"lines\", \"name\": \"recall_score_weighted_max\", \"stepped\": true, \"type\": \"scatter\", \"data\": [0.9917771479356119, 0.9917771479356119, 0.9917771479356119, 0.9917771479356119, 0.9917771479356119, 0.9940541558146275, 0.9940541558146275, 0.9940541558146275, 0.9940541558146275, 0.9940541558146275, 0.9940541558146275, 0.9940541558146275, 0.9940541558146275, 0.9940541558146275, 0.9940541558146275, 0.9940541558146275, 0.9940541558146275, 0.9940541558146275, 0.9940541558146275, 0.9940541558146275, 0.9940541558146275, 0.9940541558146275, 0.9940541558146275, 0.9940541558146275, 0.9940541558146275, 0.9940541558146275, 0.9940541558146275, 0.9940541558146275, 0.9940541558146275, 0.9940541558146275, 0.9940541558146275, 0.9940541558146275, 0.9940541558146275, 0.9940541558146275, 0.9940541558146275, 0.9940541558146275]}], \"f1_score_weighted\": [{\"categories\": [\"0\", \"1\", \"2\", \"3\", \"4\", \"5\", \"6\", \"7\", \"8\", \"9\", \"10\", \"11\", \"12\", \"13\", \"14\", \"15\", \"16\", \"17\", \"18\", \"19\", \"20\", \"21\", \"22\", \"23\", \"24\", \"25\", \"26\", \"27\", \"28\", \"29\", \"30\", \"31\", \"32\", \"33\", \"36\", \"37\"], \"mode\": \"markers\", \"name\": \"f1_score_weighted\", \"stepped\": false, \"type\": \"scatter\", \"data\": [0.9900792329496123, 0.9857918792916558, 0.9857918792916558, 0.9880533656621433, 0.9684742600751697, 0.9931967124159359, 0.9857918792916558, 0.9857918792916558, 0.9857918792916558, 0.9857918792916558, 0.9857918792916558, 0.9857918792916558, 0.9857918792916558, 0.9857918792916558, 0.9857918792916558, 0.9856653626700269, 0.9857918792916558, 0.9857918792916558, 0.9857918792916558, 0.9857918792916558, 0.9858871754387677, 0.9857918792916558, 0.9857918792916558, 0.9857918792916558, 0.9857918792916558, 0.3594957664923955, 0.9857918792916558, 0.9917907990928385, 0.9925603749930116, 0.9857918792916558, 0.9857918792916558, 0.9857918792916558, 0.9857918792916558, 0.9857918792916558, 0.9925361106484119, 0.9916324867805358]}, {\"categories\": [\"0\", \"1\", \"2\", \"3\", \"4\", \"5\", \"6\", \"7\", \"8\", \"9\", \"10\", \"11\", \"12\", \"13\", \"14\", \"15\", \"16\", \"17\", \"18\", \"19\", \"20\", \"21\", \"22\", \"23\", \"24\", \"25\", \"26\", \"27\", \"28\", \"29\", \"30\", \"31\", \"32\", \"33\", \"36\", \"37\"], \"mode\": \"lines\", \"name\": \"f1_score_weighted_max\", \"stepped\": true, \"type\": \"scatter\", \"data\": [0.9900792329496123, 0.9900792329496123, 0.9900792329496123, 0.9900792329496123, 0.9900792329496123, 0.9931967124159359, 0.9931967124159359, 0.9931967124159359, 0.9931967124159359, 0.9931967124159359, 0.9931967124159359, 0.9931967124159359, 0.9931967124159359, 0.9931967124159359, 0.9931967124159359, 0.9931967124159359, 0.9931967124159359, 0.9931967124159359, 0.9931967124159359, 0.9931967124159359, 0.9931967124159359, 0.9931967124159359, 0.9931967124159359, 0.9931967124159359, 0.9931967124159359, 0.9931967124159359, 0.9931967124159359, 0.9931967124159359, 0.9931967124159359, 0.9931967124159359, 0.9931967124159359, 0.9931967124159359, 0.9931967124159359, 0.9931967124159359, 0.9931967124159359, 0.9931967124159359]}], \"weighted_accuracy\": [{\"categories\": [\"0\", \"1\", \"2\", \"3\", \"4\", \"5\", \"6\", \"7\", \"8\", \"9\", \"10\", \"11\", \"12\", \"13\", \"14\", \"15\", \"16\", \"17\", \"18\", \"19\", \"20\", \"21\", \"22\", \"23\", \"24\", \"25\", \"26\", \"27\", \"28\", \"29\", \"30\", \"31\", \"32\", \"33\", \"36\", \"37\"], \"mode\": \"markers\", \"name\": \"weighted_accuracy\", \"stepped\": false, \"type\": \"scatter\", \"data\": [0.9980196461649791, 0.9999033560052186, 0.9999033560052186, 0.9917771002495782, 0.9573461314949538, 0.9990528573348314, 0.9999033560052186, 0.9999033560052186, 0.9999033560052186, 0.9999033560052186, 0.9999033560052186, 0.9999033560052186, 0.9999033560052186, 0.9999033560052186, 0.9999033560052186, 0.999648527925528, 0.9999033560052186, 0.9999033560052186, 0.9999033560052186, 0.9999033560052186, 0.9995220555286888, 0.9999033560052186, 0.9999033560052186, 0.9999033560052186, 0.9999033560052186, 0.2669523839101306, 0.9999033560052186, 0.9986621155476881, 0.9989220526970697, 0.9999033560052186, 0.9999033560052186, 0.9999033560052186, 0.9999033560052186, 0.9999033560052186, 0.9998102273341205, 0.997776121216835]}, {\"categories\": [\"0\", \"1\", \"2\", \"3\", \"4\", \"5\", \"6\", \"7\", \"8\", \"9\", \"10\", \"11\", \"12\", \"13\", \"14\", \"15\", \"16\", \"17\", \"18\", \"19\", \"20\", \"21\", \"22\", \"23\", \"24\", \"25\", \"26\", \"27\", \"28\", \"29\", \"30\", \"31\", \"32\", \"33\", \"36\", \"37\"], \"mode\": \"lines\", \"name\": \"weighted_accuracy_max\", \"stepped\": true, \"type\": \"scatter\", \"data\": [0.9980196461649791, 0.9999033560052186, 0.9999033560052186, 0.9999033560052186, 0.9999033560052186, 0.9999033560052186, 0.9999033560052186, 0.9999033560052186, 0.9999033560052186, 0.9999033560052186, 0.9999033560052186, 0.9999033560052186, 0.9999033560052186, 0.9999033560052186, 0.9999033560052186, 0.9999033560052186, 0.9999033560052186, 0.9999033560052186, 0.9999033560052186, 0.9999033560052186, 0.9999033560052186, 0.9999033560052186, 0.9999033560052186, 0.9999033560052186, 0.9999033560052186, 0.9999033560052186, 0.9999033560052186, 0.9999033560052186, 0.9999033560052186, 0.9999033560052186, 0.9999033560052186, 0.9999033560052186, 0.9999033560052186, 0.9999033560052186, 0.9999033560052186, 0.9999033560052186]}], \"balanced_accuracy\": [{\"categories\": [\"0\", \"1\", \"2\", \"3\", \"4\", \"5\", \"6\", \"7\", \"8\", \"9\", \"10\", \"11\", \"12\", \"13\", \"14\", \"15\", \"16\", \"17\", \"18\", \"19\", \"20\", \"21\", \"22\", \"23\", \"24\", \"25\", \"26\", \"27\", \"28\", \"29\", \"30\", \"31\", \"32\", \"33\", \"36\", \"37\"], \"mode\": \"markers\", \"name\": \"balanced_accuracy\", \"stepped\": false, \"type\": \"scatter\", \"data\": [0.6922602345616182, 0.5, 0.5, 0.7384160002715422, 0.7575568943533137, 0.7407447561644565, 0.5, 0.5, 0.5, 0.5, 0.5, 0.5, 0.5, 0.5, 0.5, 0.49987257900101933, 0.5, 0.5, 0.5, 0.5, 0.5084295581567015, 0.5, 0.5, 0.5, 0.5, 0.5386133209836407, 0.5, 0.6983866206808376, 0.7180048837459256, 0.5, 0.5, 0.5, 0.5, 0.5, 0.6967129011946627, 0.7537894852268056]}, {\"categories\": [\"0\", \"1\", \"2\", \"3\", \"4\", \"5\", \"6\", \"7\", \"8\", \"9\", \"10\", \"11\", \"12\", \"13\", \"14\", \"15\", \"16\", \"17\", \"18\", \"19\", \"20\", \"21\", \"22\", \"23\", \"24\", \"25\", \"26\", \"27\", \"28\", \"29\", \"30\", \"31\", \"32\", \"33\", \"36\", \"37\"], \"mode\": \"lines\", \"name\": \"balanced_accuracy_max\", \"stepped\": true, \"type\": \"scatter\", \"data\": [0.6922602345616182, 0.6922602345616182, 0.6922602345616182, 0.7384160002715422, 0.7575568943533137, 0.7575568943533137, 0.7575568943533137, 0.7575568943533137, 0.7575568943533137, 0.7575568943533137, 0.7575568943533137, 0.7575568943533137, 0.7575568943533137, 0.7575568943533137, 0.7575568943533137, 0.7575568943533137, 0.7575568943533137, 0.7575568943533137, 0.7575568943533137, 0.7575568943533137, 0.7575568943533137, 0.7575568943533137, 0.7575568943533137, 0.7575568943533137, 0.7575568943533137, 0.7575568943533137, 0.7575568943533137, 0.7575568943533137, 0.7575568943533137, 0.7575568943533137, 0.7575568943533137, 0.7575568943533137, 0.7575568943533137, 0.7575568943533137, 0.7575568943533137, 0.7575568943533137]}], \"precision_score_micro\": [{\"categories\": [\"0\", \"1\", \"2\", \"3\", \"4\", \"5\", \"6\", \"7\", \"8\", \"9\", \"10\", \"11\", \"12\", \"13\", \"14\", \"15\", \"16\", \"17\", \"18\", \"19\", \"20\", \"21\", \"22\", \"23\", \"24\", \"25\", \"26\", \"27\", \"28\", \"29\", \"30\", \"31\", \"32\", \"33\", \"36\", \"37\"], \"mode\": \"markers\", \"name\": \"precision_score_micro\", \"stepped\": false, \"type\": \"scatter\", \"data\": [0.9917771479356119, 0.9905120617662391, 0.9905120617662391, 0.9870965819533364, 0.9531965485650729, 0.9940541558146275, 0.9905120617662391, 0.9905120617662391, 0.9905120617662391, 0.9905120617662391, 0.9905120617662391, 0.9905120617662391, 0.9905120617662391, 0.9905120617662391, 0.9905120617662391, 0.9902590893402335, 0.9905120617662391, 0.9905120617662391, 0.9905120617662391, 0.9905120617662391, 0.9902590893402335, 0.9905120617662391, 0.9905120617662391, 0.9905120617662391, 0.9905120617662391, 0.2729621125143513, 0.9905120617662391, 0.992915619869499, 0.9935481789569958, 0.9905120617662391, 0.9905120617662391, 0.9905120617662391, 0.9905120617662391, 0.9905120617662391, 0.993927637596004, 0.9926627114547348]}, {\"categories\": [\"0\", \"1\", \"2\", \"3\", \"4\", \"5\", \"6\", \"7\", \"8\", \"9\", \"10\", \"11\", \"12\", \"13\", \"14\", \"15\", \"16\", \"17\", \"18\", \"19\", \"20\", \"21\", \"22\", \"23\", \"24\", \"25\", \"26\", \"27\", \"28\", \"29\", \"30\", \"31\", \"32\", \"33\", \"36\", \"37\"], \"mode\": \"lines\", \"name\": \"precision_score_micro_max\", \"stepped\": true, \"type\": \"scatter\", \"data\": [0.9917771479356119, 0.9917771479356119, 0.9917771479356119, 0.9917771479356119, 0.9917771479356119, 0.9940541558146275, 0.9940541558146275, 0.9940541558146275, 0.9940541558146275, 0.9940541558146275, 0.9940541558146275, 0.9940541558146275, 0.9940541558146275, 0.9940541558146275, 0.9940541558146275, 0.9940541558146275, 0.9940541558146275, 0.9940541558146275, 0.9940541558146275, 0.9940541558146275, 0.9940541558146275, 0.9940541558146275, 0.9940541558146275, 0.9940541558146275, 0.9940541558146275, 0.9940541558146275, 0.9940541558146275, 0.9940541558146275, 0.9940541558146275, 0.9940541558146275, 0.9940541558146275, 0.9940541558146275, 0.9940541558146275, 0.9940541558146275, 0.9940541558146275, 0.9940541558146275]}], \"recall_score_macro\": [{\"categories\": [\"0\", \"1\", \"2\", \"3\", \"4\", \"5\", \"6\", \"7\", \"8\", \"9\", \"10\", \"11\", \"12\", \"13\", \"14\", \"15\", \"16\", \"17\", \"18\", \"19\", \"20\", \"21\", \"22\", \"23\", \"24\", \"25\", \"26\", \"27\", \"28\", \"29\", \"30\", \"31\", \"32\", \"33\", \"36\", \"37\"], \"mode\": \"markers\", \"name\": \"recall_score_macro\", \"stepped\": false, \"type\": \"scatter\", \"data\": [0.6922602345616182, 0.5, 0.5, 0.7384160002715422, 0.7575568943533137, 0.7407447561644565, 0.5, 0.5, 0.5, 0.5, 0.5, 0.5, 0.5, 0.5, 0.5, 0.49987257900101933, 0.5, 0.5, 0.5, 0.5, 0.5084295581567015, 0.5, 0.5, 0.5, 0.5, 0.5386133209836407, 0.5, 0.6983866206808376, 0.7180048837459256, 0.5, 0.5, 0.5, 0.5, 0.5, 0.6967129011946627, 0.7537894852268056]}, {\"categories\": [\"0\", \"1\", \"2\", \"3\", \"4\", \"5\", \"6\", \"7\", \"8\", \"9\", \"10\", \"11\", \"12\", \"13\", \"14\", \"15\", \"16\", \"17\", \"18\", \"19\", \"20\", \"21\", \"22\", \"23\", \"24\", \"25\", \"26\", \"27\", \"28\", \"29\", \"30\", \"31\", \"32\", \"33\", \"36\", \"37\"], \"mode\": \"lines\", \"name\": \"recall_score_macro_max\", \"stepped\": true, \"type\": \"scatter\", \"data\": [0.6922602345616182, 0.6922602345616182, 0.6922602345616182, 0.7384160002715422, 0.7575568943533137, 0.7575568943533137, 0.7575568943533137, 0.7575568943533137, 0.7575568943533137, 0.7575568943533137, 0.7575568943533137, 0.7575568943533137, 0.7575568943533137, 0.7575568943533137, 0.7575568943533137, 0.7575568943533137, 0.7575568943533137, 0.7575568943533137, 0.7575568943533137, 0.7575568943533137, 0.7575568943533137, 0.7575568943533137, 0.7575568943533137, 0.7575568943533137, 0.7575568943533137, 0.7575568943533137, 0.7575568943533137, 0.7575568943533137, 0.7575568943533137, 0.7575568943533137, 0.7575568943533137, 0.7575568943533137, 0.7575568943533137, 0.7575568943533137, 0.7575568943533137, 0.7575568943533137]}], \"AUC_weighted\": [{\"categories\": [\"0\", \"1\", \"2\", \"3\", \"4\", \"5\", \"6\", \"7\", \"8\", \"9\", \"10\", \"11\", \"12\", \"13\", \"14\", \"15\", \"16\", \"17\", \"18\", \"19\", \"20\", \"21\", \"22\", \"23\", \"24\", \"25\", \"26\", \"27\", \"28\", \"29\", \"30\", \"31\", \"32\", \"33\", \"36\", \"37\"], \"mode\": \"markers\", \"name\": \"AUC_weighted\", \"stepped\": false, \"type\": \"scatter\", \"data\": [0.8420007502132613, 0.8640356668506881, 0.6977466259365984, 0.8602286186385802, 0.8562616491011812, 0.8455752926711717, 0.6999953443563173, 0.7593896209211592, 0.8563461032910313, 0.7887786973985773, 0.8371132443121863, 0.8186264116493733, 0.8536851745634673, 0.8456989550152276, 0.8594401524029764, 0.8384779190824267, 0.7977563188557499, 0.8278085296406743, 0.8385515247174957, 0.8643543333534827, 0.8287770389245547, 0.8607247082676337, 0.831030373460235, 0.7932013907503893, 0.8521504253897656, 0.5386133209836406, 0.8327342524216972, 0.8349540667454292, 0.831422878450711, 0.843336483912809, 0.5, 0.8025255549975543, 0.7707503229177137, 0.8712338546161185, 0.8970264547118767, 0.9078413211339904]}, {\"categories\": [\"0\", \"1\", \"2\", \"3\", \"4\", \"5\", \"6\", \"7\", \"8\", \"9\", \"10\", \"11\", \"12\", \"13\", \"14\", \"15\", \"16\", \"17\", \"18\", \"19\", \"20\", \"21\", \"22\", \"23\", \"24\", \"25\", \"26\", \"27\", \"28\", \"29\", \"30\", \"31\", \"32\", \"33\", \"36\", \"37\"], \"mode\": \"lines\", \"name\": \"AUC_weighted_max\", \"stepped\": true, \"type\": \"scatter\", \"data\": [0.8420007502132613, 0.8640356668506881, 0.8640356668506881, 0.8640356668506881, 0.8640356668506881, 0.8640356668506881, 0.8640356668506881, 0.8640356668506881, 0.8640356668506881, 0.8640356668506881, 0.8640356668506881, 0.8640356668506881, 0.8640356668506881, 0.8640356668506881, 0.8640356668506881, 0.8640356668506881, 0.8640356668506881, 0.8640356668506881, 0.8640356668506881, 0.8643543333534827, 0.8643543333534827, 0.8643543333534827, 0.8643543333534827, 0.8643543333534827, 0.8643543333534827, 0.8643543333534827, 0.8643543333534827, 0.8643543333534827, 0.8643543333534827, 0.8643543333534827, 0.8643543333534827, 0.8643543333534827, 0.8643543333534827, 0.8712338546161185, 0.8970264547118767, 0.9078413211339904]}], \"precision_score_weighted\": [{\"categories\": [\"0\", \"1\", \"2\", \"3\", \"4\", \"5\", \"6\", \"7\", \"8\", \"9\", \"10\", \"11\", \"12\", \"13\", \"14\", \"15\", \"16\", \"17\", \"18\", \"19\", \"20\", \"21\", \"22\", \"23\", \"24\", \"25\", \"26\", \"27\", \"28\", \"29\", \"30\", \"31\", \"32\", \"33\", \"36\", \"37\"], \"mode\": \"markers\", \"name\": \"precision_score_weighted\", \"stepped\": false, \"type\": \"scatter\", \"data\": [0.9920544823926976, 0.9811187744803085, 0.9811187744803085, 0.9891916159975158, 0.9871606660021506, 0.9933725445334551, 0.9811187744803085, 0.9811187744803085, 0.9811187744803085, 0.9811187744803085, 0.9811187744803085, 0.9811187744803085, 0.9811187744803085, 0.9811187744803085, 0.9811187744803085, 0.9811169313062971, 0.9811187744803085, 0.9811187744803085, 0.9811187744803085, 0.9811187744803085, 0.9821577967742079, 0.9811187744803085, 0.9811187744803085, 0.9811187744803085, 0.9811187744803085, 0.9878842688424497, 0.9811187744803085, 0.9917597120471842, 0.9927138483285665, 0.9811187744803085, 0.9811187744803085, 0.9811187744803085, 0.9811187744803085, 0.9811187744803085, 0.99384922746419, 0.9932489200429251]}, {\"categories\": [\"0\", \"1\", \"2\", \"3\", \"4\", \"5\", \"6\", \"7\", \"8\", \"9\", \"10\", \"11\", \"12\", \"13\", \"14\", \"15\", \"16\", \"17\", \"18\", \"19\", \"20\", \"21\", \"22\", \"23\", \"24\", \"25\", \"26\", \"27\", \"28\", \"29\", \"30\", \"31\", \"32\", \"33\", \"36\", \"37\"], \"mode\": \"lines\", \"name\": \"precision_score_weighted_max\", \"stepped\": true, \"type\": \"scatter\", \"data\": [0.9920544823926976, 0.9920544823926976, 0.9920544823926976, 0.9920544823926976, 0.9920544823926976, 0.9933725445334551, 0.9933725445334551, 0.9933725445334551, 0.9933725445334551, 0.9933725445334551, 0.9933725445334551, 0.9933725445334551, 0.9933725445334551, 0.9933725445334551, 0.9933725445334551, 0.9933725445334551, 0.9933725445334551, 0.9933725445334551, 0.9933725445334551, 0.9933725445334551, 0.9933725445334551, 0.9933725445334551, 0.9933725445334551, 0.9933725445334551, 0.9933725445334551, 0.9933725445334551, 0.9933725445334551, 0.9933725445334551, 0.9933725445334551, 0.9933725445334551, 0.9933725445334551, 0.9933725445334551, 0.9933725445334551, 0.9933725445334551, 0.99384922746419, 0.99384922746419]}]}, \"metricName\": null, \"primaryMetricName\": \"accuracy\", \"showLegend\": false}, \"run_metrics\": [{\"name\": \"experiment_status\", \"run_id\": \"AutoML_3b267046-c349-4020-a32f-ceb49235dc7e\", \"categories\": [0, 1, 2, 3, 4, 5, 6, 7, 8, 9, 10, 11, 12, 13, 14], \"series\": [{\"data\": [\"DatasetEvaluation\", \"FeaturesGeneration\", \"DatasetFeaturization\", \"DatasetFeaturizationCompleted\", \"DatasetBalancing\", \"DatasetCrossValidationSplit\", \"ModelSelection\", \"BestRunExplainModel\", \"ModelExplanationDataSetSetup\", \"PickSurrogateModel\", \"EngineeredFeatureExplanations\", \"EngineeredFeatureExplanations\", \"RawFeaturesExplanations\", \"RawFeaturesExplanations\", \"BestRunExplainModel\"]}]}, {\"name\": \"experiment_status_description\", \"run_id\": \"AutoML_3b267046-c349-4020-a32f-ceb49235dc7e\", \"categories\": [0, 1, 2, 3, 4, 5, 6, 7, 8, 9, 10, 11, 12, 13, 14], \"series\": [{\"data\": [\"Gathering dataset statistics.\", \"Generating features for the dataset.\", \"Beginning to fit featurizers and featurize the dataset.\", \"Completed fit featurizers and featurizing the dataset.\", \"Performing class balancing sweeping\", \"Generating individually featurized CV splits.\", \"Beginning model selection.\", \"Best run model explanations started\", \"Model explanations data setup completed\", \"Choosing LightGBM as the surrogate model for explanations\", \"Computation of engineered features started\", \"Computation of engineered features completed\", \"Computation of raw features started\", \"Computation of raw features completed\", \"Best run model explanations completed\"]}]}, {\"name\": \"AUC_weighted\", \"run_id\": \"AutoML_3b267046-c349-4020-a32f-ceb49235dc7e\", \"categories\": [0], \"series\": [{\"data\": [0.8455752926711717]}]}, {\"name\": \"recall_score_weighted\", \"run_id\": \"AutoML_3b267046-c349-4020-a32f-ceb49235dc7e\", \"categories\": [0], \"series\": [{\"data\": [0.9940541558146275]}]}, {\"name\": \"precision_score_macro\", \"run_id\": \"AutoML_3b267046-c349-4020-a32f-ceb49235dc7e\", \"categories\": [0], \"series\": [{\"data\": [0.9145039293550881]}]}, {\"name\": \"f1_score_micro\", \"run_id\": \"AutoML_3b267046-c349-4020-a32f-ceb49235dc7e\", \"categories\": [0], \"series\": [{\"data\": [0.9940541558146275]}]}, {\"name\": \"average_precision_score_macro\", \"run_id\": \"AutoML_3b267046-c349-4020-a32f-ceb49235dc7e\", \"categories\": [0], \"series\": [{\"data\": [0.793172722359681]}]}, {\"name\": \"norm_macro_recall\", \"run_id\": \"AutoML_3b267046-c349-4020-a32f-ceb49235dc7e\", \"categories\": [0], \"series\": [{\"data\": [0.4814895123289129]}]}, {\"name\": \"f1_score_macro\", \"run_id\": \"AutoML_3b267046-c349-4020-a32f-ceb49235dc7e\", \"categories\": [0], \"series\": [{\"data\": [0.8028496394645817]}]}, {\"name\": \"average_precision_score_micro\", \"run_id\": \"AutoML_3b267046-c349-4020-a32f-ceb49235dc7e\", \"categories\": [0], \"series\": [{\"data\": [0.9956758106871908]}]}, {\"name\": \"precision_score_micro\", \"run_id\": \"AutoML_3b267046-c349-4020-a32f-ceb49235dc7e\", \"categories\": [0], \"series\": [{\"data\": [0.9940541558146275]}]}, {\"name\": \"f1_score_weighted\", \"run_id\": \"AutoML_3b267046-c349-4020-a32f-ceb49235dc7e\", \"categories\": [0], \"series\": [{\"data\": [0.9931967124159359]}]}, {\"name\": \"AUC_macro\", \"run_id\": \"AutoML_3b267046-c349-4020-a32f-ceb49235dc7e\", \"categories\": [0], \"series\": [{\"data\": [0.8455752926711717]}]}, {\"name\": \"recall_score_micro\", \"run_id\": \"AutoML_3b267046-c349-4020-a32f-ceb49235dc7e\", \"categories\": [0], \"series\": [{\"data\": [0.9940541558146275]}]}, {\"name\": \"average_precision_score_weighted\", \"run_id\": \"AutoML_3b267046-c349-4020-a32f-ceb49235dc7e\", \"categories\": [0], \"series\": [{\"data\": [0.9931801282818123]}]}, {\"name\": \"log_loss\", \"run_id\": \"AutoML_3b267046-c349-4020-a32f-ceb49235dc7e\", \"categories\": [0], \"series\": [{\"data\": [0.1059540922687595]}]}, {\"name\": \"balanced_accuracy\", \"run_id\": \"AutoML_3b267046-c349-4020-a32f-ceb49235dc7e\", \"categories\": [0], \"series\": [{\"data\": [0.7407447561644565]}]}, {\"name\": \"precision_score_weighted\", \"run_id\": \"AutoML_3b267046-c349-4020-a32f-ceb49235dc7e\", \"categories\": [0], \"series\": [{\"data\": [0.9933725445334551]}]}, {\"name\": \"weighted_accuracy\", \"run_id\": \"AutoML_3b267046-c349-4020-a32f-ceb49235dc7e\", \"categories\": [0], \"series\": [{\"data\": [0.9990528573348314]}]}, {\"name\": \"accuracy\", \"run_id\": \"AutoML_3b267046-c349-4020-a32f-ceb49235dc7e\", \"categories\": [0], \"series\": [{\"data\": [0.9940541558146275]}]}, {\"name\": \"recall_score_macro\", \"run_id\": \"AutoML_3b267046-c349-4020-a32f-ceb49235dc7e\", \"categories\": [0], \"series\": [{\"data\": [0.7407447561644565]}]}, {\"name\": \"AUC_micro\", \"run_id\": \"AutoML_3b267046-c349-4020-a32f-ceb49235dc7e\", \"categories\": [0], \"series\": [{\"data\": [0.9970602369420035]}]}, {\"name\": \"matthews_correlation\", \"run_id\": \"AutoML_3b267046-c349-4020-a32f-ceb49235dc7e\", \"categories\": [0], \"series\": [{\"data\": [0.6303940836311235]}]}], \"run_logs\": \"\\nRun is completed.\", \"graph\": {}, \"widget_settings\": {\"childWidgetDisplay\": \"popup\", \"send_telemetry\": false, \"log_level\": \"INFO\", \"sdk_version\": \"1.22.0\"}, \"loading\": false}"
          },
          "metadata": {}
        },
        {
          "output_type": "stream",
          "name": "stdout",
          "text": [
            "===================================================\n",
            "Run(Experiment: machine-failure-prediction,\n",
            "Id: AutoML_3b267046-c349-4020-a32f-ceb49235dc7e_37,\n",
            "Type: azureml.scriptrun,\n",
            "Status: Completed)\n",
            "===================================================\n",
            "Run(Experiment: machine-failure-prediction,\n",
            "Id: AutoML_3b267046-c349-4020-a32f-ceb49235dc7e_36,\n",
            "Type: azureml.scriptrun,\n",
            "Status: Completed)\n",
            "===================================================\n",
            "Run(Experiment: machine-failure-prediction,\n",
            "Id: AutoML_3b267046-c349-4020-a32f-ceb49235dc7e_35,\n",
            "Type: azureml.scriptrun,\n",
            "Status: Canceled)\n",
            "===================================================\n",
            "Run(Experiment: machine-failure-prediction,\n",
            "Id: AutoML_3b267046-c349-4020-a32f-ceb49235dc7e_34,\n",
            "Type: azureml.scriptrun,\n",
            "Status: Canceled)\n",
            "===================================================\n",
            "Run(Experiment: machine-failure-prediction,\n",
            "Id: AutoML_3b267046-c349-4020-a32f-ceb49235dc7e_33,\n",
            "Type: azureml.scriptrun,\n",
            "Status: Canceled)\n",
            "===================================================\n",
            "Run(Experiment: machine-failure-prediction,\n",
            "Id: AutoML_3b267046-c349-4020-a32f-ceb49235dc7e_32,\n",
            "Type: azureml.scriptrun,\n",
            "Status: Completed)\n",
            "===================================================\n",
            "Run(Experiment: machine-failure-prediction,\n",
            "Id: AutoML_3b267046-c349-4020-a32f-ceb49235dc7e_31,\n",
            "Type: azureml.scriptrun,\n",
            "Status: Completed)\n",
            "===================================================\n",
            "Run(Experiment: machine-failure-prediction,\n",
            "Id: AutoML_3b267046-c349-4020-a32f-ceb49235dc7e_30,\n",
            "Type: azureml.scriptrun,\n",
            "Status: Completed)\n",
            "===================================================\n",
            "Run(Experiment: machine-failure-prediction,\n",
            "Id: AutoML_3b267046-c349-4020-a32f-ceb49235dc7e_29,\n",
            "Type: azureml.scriptrun,\n",
            "Status: Completed)\n",
            "===================================================\n",
            "Run(Experiment: machine-failure-prediction,\n",
            "Id: AutoML_3b267046-c349-4020-a32f-ceb49235dc7e_28,\n",
            "Type: azureml.scriptrun,\n",
            "Status: Completed)\n",
            "===================================================\n",
            "Run(Experiment: machine-failure-prediction,\n",
            "Id: AutoML_3b267046-c349-4020-a32f-ceb49235dc7e_27,\n",
            "Type: azureml.scriptrun,\n",
            "Status: Completed)\n",
            "===================================================\n",
            "Run(Experiment: machine-failure-prediction,\n",
            "Id: AutoML_3b267046-c349-4020-a32f-ceb49235dc7e_26,\n",
            "Type: azureml.scriptrun,\n",
            "Status: Completed)\n",
            "===================================================\n",
            "Run(Experiment: machine-failure-prediction,\n",
            "Id: AutoML_3b267046-c349-4020-a32f-ceb49235dc7e_25,\n",
            "Type: azureml.scriptrun,\n",
            "Status: Completed)\n",
            "===================================================\n",
            "Run(Experiment: machine-failure-prediction,\n",
            "Id: AutoML_3b267046-c349-4020-a32f-ceb49235dc7e_24,\n",
            "Type: azureml.scriptrun,\n",
            "Status: Completed)\n",
            "===================================================\n",
            "Run(Experiment: machine-failure-prediction,\n",
            "Id: AutoML_3b267046-c349-4020-a32f-ceb49235dc7e_23,\n",
            "Type: azureml.scriptrun,\n",
            "Status: Completed)\n",
            "===================================================\n",
            "Run(Experiment: machine-failure-prediction,\n",
            "Id: AutoML_3b267046-c349-4020-a32f-ceb49235dc7e_22,\n",
            "Type: azureml.scriptrun,\n",
            "Status: Completed)\n",
            "===================================================\n",
            "Run(Experiment: machine-failure-prediction,\n",
            "Id: AutoML_3b267046-c349-4020-a32f-ceb49235dc7e_21,\n",
            "Type: azureml.scriptrun,\n",
            "Status: Completed)\n",
            "===================================================\n",
            "Run(Experiment: machine-failure-prediction,\n",
            "Id: AutoML_3b267046-c349-4020-a32f-ceb49235dc7e_20,\n",
            "Type: azureml.scriptrun,\n",
            "Status: Completed)\n",
            "===================================================\n",
            "Run(Experiment: machine-failure-prediction,\n",
            "Id: AutoML_3b267046-c349-4020-a32f-ceb49235dc7e_19,\n",
            "Type: azureml.scriptrun,\n",
            "Status: Completed)\n",
            "===================================================\n",
            "Run(Experiment: machine-failure-prediction,\n",
            "Id: AutoML_3b267046-c349-4020-a32f-ceb49235dc7e_18,\n",
            "Type: azureml.scriptrun,\n",
            "Status: Completed)\n",
            "===================================================\n",
            "Run(Experiment: machine-failure-prediction,\n",
            "Id: AutoML_3b267046-c349-4020-a32f-ceb49235dc7e_17,\n",
            "Type: azureml.scriptrun,\n",
            "Status: Completed)\n",
            "===================================================\n",
            "Run(Experiment: machine-failure-prediction,\n",
            "Id: AutoML_3b267046-c349-4020-a32f-ceb49235dc7e_16,\n",
            "Type: azureml.scriptrun,\n",
            "Status: Completed)\n",
            "===================================================\n",
            "Run(Experiment: machine-failure-prediction,\n",
            "Id: AutoML_3b267046-c349-4020-a32f-ceb49235dc7e_15,\n",
            "Type: azureml.scriptrun,\n",
            "Status: Completed)\n",
            "===================================================\n",
            "Run(Experiment: machine-failure-prediction,\n",
            "Id: AutoML_3b267046-c349-4020-a32f-ceb49235dc7e_14,\n",
            "Type: azureml.scriptrun,\n",
            "Status: Completed)\n",
            "===================================================\n",
            "Run(Experiment: machine-failure-prediction,\n",
            "Id: AutoML_3b267046-c349-4020-a32f-ceb49235dc7e_13,\n",
            "Type: azureml.scriptrun,\n",
            "Status: Completed)\n",
            "===================================================\n",
            "Run(Experiment: machine-failure-prediction,\n",
            "Id: AutoML_3b267046-c349-4020-a32f-ceb49235dc7e_12,\n",
            "Type: azureml.scriptrun,\n",
            "Status: Completed)\n",
            "===================================================\n",
            "Run(Experiment: machine-failure-prediction,\n",
            "Id: AutoML_3b267046-c349-4020-a32f-ceb49235dc7e_11,\n",
            "Type: azureml.scriptrun,\n",
            "Status: Completed)\n",
            "===================================================\n",
            "Run(Experiment: machine-failure-prediction,\n",
            "Id: AutoML_3b267046-c349-4020-a32f-ceb49235dc7e_10,\n",
            "Type: azureml.scriptrun,\n",
            "Status: Completed)\n",
            "===================================================\n",
            "Run(Experiment: machine-failure-prediction,\n",
            "Id: AutoML_3b267046-c349-4020-a32f-ceb49235dc7e_9,\n",
            "Type: azureml.scriptrun,\n",
            "Status: Completed)\n",
            "===================================================\n",
            "Run(Experiment: machine-failure-prediction,\n",
            "Id: AutoML_3b267046-c349-4020-a32f-ceb49235dc7e_8,\n",
            "Type: azureml.scriptrun,\n",
            "Status: Completed)\n",
            "===================================================\n",
            "Run(Experiment: machine-failure-prediction,\n",
            "Id: AutoML_3b267046-c349-4020-a32f-ceb49235dc7e_7,\n",
            "Type: azureml.scriptrun,\n",
            "Status: Completed)\n",
            "===================================================\n",
            "Run(Experiment: machine-failure-prediction,\n",
            "Id: AutoML_3b267046-c349-4020-a32f-ceb49235dc7e_6,\n",
            "Type: azureml.scriptrun,\n",
            "Status: Completed)\n",
            "===================================================\n",
            "Run(Experiment: machine-failure-prediction,\n",
            "Id: AutoML_3b267046-c349-4020-a32f-ceb49235dc7e_5,\n",
            "Type: azureml.scriptrun,\n",
            "Status: Completed)\n",
            "===================================================\n",
            "Run(Experiment: machine-failure-prediction,\n",
            "Id: AutoML_3b267046-c349-4020-a32f-ceb49235dc7e_4,\n",
            "Type: azureml.scriptrun,\n",
            "Status: Completed)\n",
            "===================================================\n",
            "Run(Experiment: machine-failure-prediction,\n",
            "Id: AutoML_3b267046-c349-4020-a32f-ceb49235dc7e_1,\n",
            "Type: azureml.scriptrun,\n",
            "Status: Completed)\n",
            "===================================================\n",
            "Run(Experiment: machine-failure-prediction,\n",
            "Id: AutoML_3b267046-c349-4020-a32f-ceb49235dc7e_0,\n",
            "Type: azureml.scriptrun,\n",
            "Status: Completed)\n",
            "===================================================\n",
            "Run(Experiment: machine-failure-prediction,\n",
            "Id: AutoML_3b267046-c349-4020-a32f-ceb49235dc7e_2,\n",
            "Type: azureml.scriptrun,\n",
            "Status: Completed)\n",
            "===================================================\n",
            "Run(Experiment: machine-failure-prediction,\n",
            "Id: AutoML_3b267046-c349-4020-a32f-ceb49235dc7e_3,\n",
            "Type: azureml.scriptrun,\n",
            "Status: Completed)\n"
          ]
        }
      ],
      "execution_count": 41,
      "metadata": {
        "gather": {
          "logged": 1615058865467
        }
      }
    },
    {
      "cell_type": "markdown",
      "source": [
        "## Best Model\n",
        "\n",
        "\n"
      ],
      "metadata": {
        "id": "Cae19_7u1j-_"
      }
    },
    {
      "cell_type": "code",
      "source": [
        "\n",
        "\n",
        "automl_best_run, fitted_automl_model = remote_run.get_output() \n",
        "print(\"Fitted model: \", fitted_automl_model.steps[-1])\n",
        "print(\"---\"*5)\n",
        "print(\"AutoML best run accuracy: \", automl_best_run.get_metrics(name=\"accuracy\"))\n",
        "print(\"---\"*5)\n",
        "print(\"AutoML run Summary: \", remote_run.summary())"
      ],
      "outputs": [
        {
          "output_type": "stream",
          "name": "stderr",
          "text": [
            "WARNING:root:The version of the SDK does not match the version the model was trained on.\n",
            "WARNING:root:The consistency in the result may not be guaranteed.\n",
            "WARNING:root:Package:azureml-automl-core, training version:1.23.0, current version:1.22.0\n",
            "Package:azureml-automl-runtime, training version:1.23.0, current version:1.22.0\n",
            "Package:azureml-core, training version:1.23.0, current version:1.22.0\n",
            "Package:azureml-dataprep, training version:2.10.1, current version:2.9.1\n",
            "Package:azureml-dataprep-native, training version:30.0.0, current version:29.0.0\n",
            "Package:azureml-dataprep-rslex, training version:1.8.0, current version:1.7.0\n",
            "Package:azureml-dataset-runtime, training version:1.23.0, current version:1.22.0\n",
            "Package:azureml-defaults, training version:1.23.0, current version:1.22.0\n",
            "Package:azureml-interpret, training version:1.23.0, current version:1.22.0\n",
            "Package:azureml-mlflow, training version:1.23.0, current version:1.22.0\n",
            "Package:azureml-pipeline-core, training version:1.23.0, current version:1.22.0\n",
            "Package:azureml-telemetry, training version:1.23.0, current version:1.22.0\n",
            "Package:azureml-train-automl-client, training version:1.23.0, current version:1.22.0\n",
            "Package:azureml-train-automl-runtime, training version:1.23.0, current version:1.22.0\n",
            "WARNING:root:Please ensure the version of your local conda dependencies match the version on which your model was trained in order to properly retrieve your model.\n"
          ]
        },
        {
          "output_type": "stream",
          "name": "stdout",
          "text": [
            "Fitted model:  ('SGDClassifierWrapper', SGDClassifierWrapper(alpha=5.3061693877551015, class_weight=None, eta0=0.01,\n",
            "                     fit_intercept=False, l1_ratio=0.7959183673469387,\n",
            "                     learning_rate='invscaling', loss='modified_huber',\n",
            "                     max_iter=1000, n_jobs=1, penalty='none', power_t=0,\n",
            "                     random_state=None, tol=0.0001))\n",
            "---------------\n",
            "AutoML best run accuracy:  {'accuracy': 0.9940541558146275}\n",
            "---------------\n",
            "AutoML run Summary:  [['StackEnsemble', 1, 0.9926627114547348], ['VotingEnsemble', 1, 0.993927637596004], ['Failed', 2, nan], ['ExtremeRandomTrees', 7, 0.9905120617662391], ['SGD', 3, 0.9940541558146275], ['LightGBM', 14, 0.9917771479356119], ['LogisticRegression', 3, 0.9935481789569958], ['RandomForest', 6, 0.9905120617662391], ['GradientBoosting', 1, 0.9905120617662391]]\n"
          ]
        }
      ],
      "execution_count": 42,
      "metadata": {
        "gather": {
          "logged": 1615058995179
        },
        "id": "Vph6kd9g1j-_",
        "jupyter": {
          "outputs_hidden": false,
          "source_hidden": false
        },
        "nteract": {
          "transient": {
            "deleting": false
          }
        },
        "outputId": "f261999f-f880-4174-fa8e-3eb87a90808c"
      }
    },
    {
      "cell_type": "code",
      "source": [
        "automl_best_run.get_file_names()\n",
        "\n",
        "# Download the yaml file that includes the environment dependencies\n",
        "automl_best_run.download_file('outputs/conda_env_v_1_0_0.yml', 'env.yml')"
      ],
      "outputs": [],
      "execution_count": 47,
      "metadata": {
        "gather": {
          "logged": 1615059152508
        },
        "id": "J6amlY9z4eOA",
        "jupyter": {
          "outputs_hidden": false,
          "source_hidden": false
        },
        "nteract": {
          "transient": {
            "deleting": false
          }
        },
        "outputId": "eb040b4f-05c4-42db-bb01-5052124905c6"
      }
    },
    {
      "cell_type": "code",
      "source": [
        "# Download the model file\n",
        "\n",
        "best_run.download_file('outputs/model.pkl', 'Automl_model.pkl')"
      ],
      "outputs": [
        {
          "output_type": "execute_result",
          "execution_count": 14,
          "data": {
            "text/plain": "PreFittedSoftVotingClassifier(classification_labels=None,\n                              estimators=[('0',\n                                           Pipeline(memory=None,\n                                                    steps=[('maxabsscaler',\n                                                            MaxAbsScaler(copy=True)),\n                                                           ('lightgbmclassifier',\n                                                            LightGBMClassifier(boosting_type='gbdt',\n                                                                               class_weight=None,\n                                                                               colsample_bytree=1.0,\n                                                                               importance_type='split',\n                                                                               learning_rate=0.1,\n                                                                               max_depth=-1,\n                                                                               min_child_samples=20,\n                                                                               min_child_weight=0.001,\n                                                                               min_spl...\n                                                                                   min_impurity_split=None,\n                                                                                   min_samples_leaf=0.01,\n                                                                                   min_samples_split=0.01,\n                                                                                   min_weight_fraction_leaf=0.0,\n                                                                                   n_estimators=25,\n                                                                                   n_jobs=-1,\n                                                                                   oob_score=True,\n                                                                                   random_state=None,\n                                                                                   verbose=0,\n                                                                                   warm_start=False))],\n                                                    verbose=False))],\n                              flatten_transform=None,\n                              weights=[0.25, 0.16666666666666666,\n                                       0.08333333333333333, 0.08333333333333333,\n                                       0.08333333333333333, 0.16666666666666666,\n                                       0.16666666666666666])"
          },
          "metadata": {}
        }
      ],
      "execution_count": 14,
      "metadata": {
        "gather": {
          "logged": 1612766726776
        },
        "id": "xMBpHhUF32yA",
        "outputId": "73c21bb3-054c-4ac4-bc15-0c8c090a1f69"
      }
    },
    {
      "cell_type": "code",
      "source": [
        "automl_best_run.download_file('outputs/model.pkl', 'Automl_model1.pkl')"
      ],
      "outputs": [],
      "execution_count": 46,
      "metadata": {
        "collapsed": true,
        "jupyter": {
          "source_hidden": false,
          "outputs_hidden": false
        },
        "nteract": {
          "transient": {
            "deleting": false
          }
        },
        "gather": {
          "logged": 1615059117218
        }
      }
    },
    {
      "cell_type": "code",
      "source": [
        "print(fitted_automl_model)"
      ],
      "outputs": [
        {
          "output_type": "stream",
          "name": "stdout",
          "text": [
            "Pipeline(memory=None,\n",
            "         steps=[('datatransformer',\n",
            "                 DataTransformer(enable_dnn=None, enable_feature_sweeping=None,\n",
            "                                 feature_sweeping_config=None,\n",
            "                                 feature_sweeping_timeout=None,\n",
            "                                 featurization_config=None, force_text_dnn=None,\n",
            "                                 is_cross_validation=None,\n",
            "                                 is_onnx_compatible=None, logger=None,\n",
            "                                 observer=None, task=None, working_dir=None)),\n",
            "                ('MaxAbsScaler', MaxAbsScaler(copy=True)),\n",
            "                ('SGDClassifierWrapper',\n",
            "                 SGDClassifierWrapper(alpha=5.3061693877551015,\n",
            "                                      class_weight=None, eta0=0.01,\n",
            "                                      fit_intercept=False,\n",
            "                                      l1_ratio=0.7959183673469387,\n",
            "                                      learning_rate='invscaling',\n",
            "                                      loss='modified_huber', max_iter=1000,\n",
            "                                      n_jobs=1, penalty='none', power_t=0,\n",
            "                                      random_state=None, tol=0.0001))],\n",
            "         verbose=False)\n",
            "Y_transformer(['LabelEncoder', LabelEncoder()])\n"
          ]
        }
      ],
      "execution_count": 48,
      "metadata": {
        "gather": {
          "logged": 1615059179506
        }
      }
    },
    {
      "cell_type": "code",
      "source": [
        "automl_best_run"
      ],
      "outputs": [
        {
          "output_type": "execute_result",
          "execution_count": 50,
          "data": {
            "text/plain": "Run(Experiment: machine-failure-prediction,\nId: AutoML_3b267046-c349-4020-a32f-ceb49235dc7e_5,\nType: azureml.scriptrun,\nStatus: Completed)",
            "text/html": "<table style=\"width:100%\"><tr><th>Experiment</th><th>Id</th><th>Type</th><th>Status</th><th>Details Page</th><th>Docs Page</th></tr><tr><td>machine-failure-prediction</td><td>AutoML_3b267046-c349-4020-a32f-ceb49235dc7e_5</td><td>azureml.scriptrun</td><td>Completed</td><td><a href=\"https://ml.azure.com/experiments/machine-failure-prediction/runs/AutoML_3b267046-c349-4020-a32f-ceb49235dc7e_5?wsid=/subscriptions/f9d5a085-54dc-4215-9ba6-dad5d86e60a0/resourcegroups/aml-quickstarts-139954/workspaces/quick-starts-ws-139954\" target=\"_blank\" rel=\"noopener\">Link to Azure Machine Learning studio</a></td><td><a href=\"https://docs.microsoft.com/en-us/python/api/azureml-core/azureml.core.run.Run?view=azure-ml-py\" target=\"_blank\" rel=\"noopener\">Link to Documentation</a></td></tr></table>"
          },
          "metadata": {}
        }
      ],
      "execution_count": 50,
      "metadata": {
        "gather": {
          "logged": 1615059195608
        }
      }
    },
    {
      "cell_type": "code",
      "source": [
        "# Save the best model\n",
        "automl_best_run.register_model(model_name = \"best_run_automl.pkl\", model_path = './outputs/')\n",
        "\n",
        "print(automl_best_run)"
      ],
      "outputs": [
        {
          "output_type": "stream",
          "name": "stdout",
          "text": [
            "Run(Experiment: machine-failure-prediction,\n",
            "Id: AutoML_3b267046-c349-4020-a32f-ceb49235dc7e_5,\n",
            "Type: azureml.scriptrun,\n",
            "Status: Completed)\n"
          ]
        }
      ],
      "execution_count": 51,
      "metadata": {
        "gather": {
          "logged": 1615059216307
        },
        "id": "pTKezbld1j_A",
        "jupyter": {
          "outputs_hidden": false,
          "source_hidden": false
        },
        "nteract": {
          "transient": {
            "deleting": false
          }
        },
        "outputId": "81e0f98a-eb62-4760-c459-c04cc5c37ed4"
      }
    },
    {
      "cell_type": "markdown",
      "source": [
        "## Model Deployment\n",
        "\n"
      ],
      "metadata": {
        "id": "TtJKGYlA1j_B"
      }
    },
    {
      "cell_type": "markdown",
      "source": [
        "As the best model coming from AutoML run has better accuracy than the one coming from the HyperDrive run, I deploy it in the cell below, register it, create an inference config and deploy the model as a web service."
      ],
      "metadata": {
        "nteract": {
          "transient": {
            "deleting": false
          }
        }
      }
    },
    {
      "cell_type": "code",
      "source": [
        "\n",
        "model = remote_run.register_model(model_name = 'best_run_automl.pkl')\n",
        "print(remote_run.model_id)\n",
        "\n",
        "# https://knowledge.udacity.com/questions/463620\n",
        "\n",
        "environment = automl_best_run.get_environment()\n",
        "entry_script='inference/scoring.py'\n",
        "automl_best_run.download_file('outputs/scoring_file_v_1_0_0.py', entry_script)\n",
        "\n",
        "\n",
        "inference_config = InferenceConfig(entry_script = entry_script, environment = environment)\n",
        "\n",
        "# Deploying the model via ACI WebService\n",
        "# https://github.com/MicrosoftDocs/azure-docs/blob/master/articles/machine-learning/how-to-deploy-azure-container-instance.md\n",
        "\n",
        "deployment_config = AciWebservice.deploy_configuration(cpu_cores = 1, \n",
        "                                                    memory_gb = 1, \n",
        "                                                    auth_enabled= True, \n",
        "                                                    enable_app_insights= True)\n",
        "\n",
        "service = Model.deploy(ws, \"aciservice\", [model], inference_config, deployment_config)\n",
        "service.wait_for_deployment(show_output = True)"
      ],
      "outputs": [
        {
          "output_type": "stream",
          "name": "stdout",
          "text": [
            "best_run_automl.pkl\n",
            "Tips: You can try get_logs(): https://aka.ms/debugimage#dockerlog or local deployment: https://aka.ms/debugimage#debug-locally to debug if deployment takes longer than 10 minutes.\n",
            "Running....................................\n",
            "Succeeded\n",
            "ACI service creation operation finished, operation \"Succeeded\"\n"
          ]
        }
      ],
      "execution_count": 53,
      "metadata": {
        "gather": {
          "logged": 1615059475768
        },
        "id": "3ahNqWie1j_B",
        "jupyter": {
          "outputs_hidden": false,
          "source_hidden": false
        },
        "nteract": {
          "transient": {
            "deleting": false
          }
        }
      }
    },
    {
      "cell_type": "code",
      "source": [
        "\n",
        "# Getting the service state\n",
        "# The scorig URI & the primary authentication key are copied to the endpoint.py file in order to test the deployed service.\n",
        "# The Swagger URI can be used in Swagger UI: https://petstore.swagger.io/ For more info, please see the relevant part in the README file.\n",
        "\n",
        "# Authentication is enabled, so I use the get_keys method to retrieve the primary and secondary authentication keys:\n",
        "primary, secondary = service.get_keys()\n",
        "\n",
        "print('Service state: ' + service.state)\n",
        "print('Service scoring URI: ' + service.scoring_uri)\n",
        "print('Service Swagger URI: ' + service.swagger_uri)\n",
        "print('Service primary authentication key: ' + primary)"
      ],
      "outputs": [
        {
          "output_type": "stream",
          "name": "stdout",
          "text": [
            "Service state: Healthy\n",
            "Service scoring URI: http://0374820d-e61c-400f-8887-1162cd267bea.southcentralus.azurecontainer.io/score\n",
            "Service Swagger URI: http://0374820d-e61c-400f-8887-1162cd267bea.southcentralus.azurecontainer.io/swagger.json\n",
            "Service primary authentication key: jX8tIlEfd0SLlf6aTKf8tWCRWrxAbIyX\n"
          ]
        }
      ],
      "execution_count": 54,
      "metadata": {
        "gather": {
          "logged": 1615059476879
        },
        "id": "easQ8YBN4eOC",
        "jupyter": {
          "outputs_hidden": false,
          "source_hidden": false
        },
        "nteract": {
          "transient": {
            "deleting": false
          }
        },
        "outputId": "61acaeba-bcfe-4c6e-9c81-828844686904"
      }
    },
    {
      "cell_type": "code",
      "source": [
        "# Sending a request to the deployed web service to test it: consuming model endpoint\n",
        "\n",
        "%run endpoint.py"
      ],
      "outputs": [
        {
          "output_type": "stream",
          "name": "stdout",
          "text": [
            "{\"result\": [false, false, false, false, false, false, false, false, false, false, false, false, false, false, false, false, false, false, false, false, false, false, false, false, false, false, false, false, false, false, false, false, false, false, false, false, false, false, false, false, false, false, false, false, false, false, false, false, false, false, false, false, false, false, false, false, false, false, false, false, false, false, false, false, false, false, false, false, false, false, false, false, false, false, false, false, false, false, false, false, false, false, false, false, false, false, false, false, false, false, false, false, false, false, false, false, false, false, false, false, false, false, false, false, false, false, false, false, false, false, false, false, false, false, false, false, false, false, false, false, false, false, false, false, false, false, false, false, false, false, false, false, false, false, false, false, false, false, false, false, false, false, false, false, false, false, false, false, false, false, false, false, false, false, false, false, false, false, false, false, false, false, false, false, false, false, false, false, false, false, false, false, false, false, false, false, false, false, false, false, false, false, false, false, false, false, false, false, false, false, false, false, false, false, false, false, false, false, false, false, false, false, false, false, false, false, false, false, false, false, false, false, false, false, false, false, false, false, false, false, false, false, false, false, false, false, false, false, false, false, false, false, false, false, false, false, false, false, false, false, false, false, false, false, false, false, false, false, false, false, false, false, false, false, false, false, false, false, false, false, false, false, false, false, false, false, false, false, false, false, false, false, false, false, false, false, true, false, false, false, false, false, false, false, false, false, false, false, false, false, false, false, false, false, false, false, false, false, false, false, false, false, false, false, false, false, false, false, false, false, false, false, false, false, false, false, false, false, false, false, false, false, false, false, false, false, false, false, false, false, false, false, false, false, false, false, false, false, false, false, false, false, false, false, false, false, false, false, false, false, false, false, false, false, false, false, false, false, false, false, false, false, false, false, false, false, false, false, false, false, false, false, false, false, false, false, false, false, false, false, false, false, false, false, false, false, false, false, false, false, false, false, false, false, false, false, false, false, false, false, false, false, false, false, false, false, false, false, false, false, false, false, false, false, false, false, false, false, false, false, false, false, false, false, false, false, false, false, false, false, false, false, false, false, false, false, false, false, false, false, false, false, false, false, false, false, false, false, false, false, false, false, false, false, false, false, false, false, false, false, false, false, false, false, false, false, false, false, false, false, false, false, false, false, false, false, false, false, false, false, false, false, false, false, false, false, false, false, false, false, false, false, false, false, false, false, false, false, false, false, false, false, false, false, false, false, false, false, false, false, false, false, false, false, false, false, false, false, false, false, false, false, false, false, false, false, false, false, false, false, false, false, false, false, false, false, false, false, false, false, false, false, false, false, false, false, false, false, false, false, false, false, false, false, false, false, false, false, false, false, false, false, false, false, false, false, false, false, false, false, false, false, false, false, false, false, false, false, false, false, false, false, false, false, false, false, false, false, false, false, false, false, false, false, false, false, false, false, false, false, false, false, false, false, false, false, false, false, false, false, false, false, false, false, false, false, false, false, false, false, false, false, false, false, false, false, false, false, false, false, false, false, false, false, false, false, false, false, false, false, false, false, false, false, false, false, false, false, false, false, false, false, false, false, false, false, false, false, false, false, false, false, false, false, false, false, false, false, false, false, false, false, false, false, false, false, false, false, false, false, false, false, false, false, false, false, false, false, false, false, false, false, false, false, false, false, false, false, false, false, false, false, false, false, false, false, false, false, false, false, false, false, false, false, false, false, false, false, false, false, false, false, false, false, false, false, false, false, false, false, false, false, false, false, false, false, false, false, false, false, false, false, false, false, false, false, false, false, false, false, false, false, false, false, false, false, false, false, false, false, false, false, false, false, false, false, false, false, false, false, false, false, false, false, false, false, false, false, false, false, false, false, false, false, false, false, false, false, false, false, false, false, false, false, false, false, false, false, false, false, false, false, false, false, false, false, false, false, false, false, false, false, false, false, false, false, false, false, false, false, false, false, false, false, false, false, false, false, false, false, false, false, false, false, false, false, false, false, false, false, false, false, false, false, false, false, false, false, false, false, false, false, false, false, false, false, false, false, false, false, false, false, false, false, false, false, true, true, false, false, false, false, false, false, false, false, false, true, false]}\n"
          ]
        }
      ],
      "execution_count": 59,
      "metadata": {
        "gather": {
          "logged": 1615060836229
        }
      }
    },
    {
      "cell_type": "code",
      "source": [
        "\n",
        "# Printing the logs\n",
        "logs = service.get_logs()\n",
        "\n",
        "for line in logs.split('\\n'):\n",
        "    print(line)"
      ],
      "outputs": [
        {
          "output_type": "stream",
          "name": "stdout",
          "text": [
            "2021-03-06T19:37:29,060438000+00:00 - rsyslog/run \n",
            "2021-03-06T19:37:29,063052500+00:00 - gunicorn/run \n",
            "2021-03-06T19:37:29,060210700+00:00 - iot-server/run \n",
            "2021-03-06T19:37:29,110836700+00:00 - nginx/run \n",
            "/usr/sbin/nginx: /azureml-envs/azureml_661474bbe74e96b5d8added5888dfc85/lib/libcrypto.so.1.0.0: no version information available (required by /usr/sbin/nginx)\n",
            "/usr/sbin/nginx: /azureml-envs/azureml_661474bbe74e96b5d8added5888dfc85/lib/libcrypto.so.1.0.0: no version information available (required by /usr/sbin/nginx)\n",
            "/usr/sbin/nginx: /azureml-envs/azureml_661474bbe74e96b5d8added5888dfc85/lib/libssl.so.1.0.0: no version information available (required by /usr/sbin/nginx)\n",
            "/usr/sbin/nginx: /azureml-envs/azureml_661474bbe74e96b5d8added5888dfc85/lib/libssl.so.1.0.0: no version information available (required by /usr/sbin/nginx)\n",
            "/usr/sbin/nginx: /azureml-envs/azureml_661474bbe74e96b5d8added5888dfc85/lib/libssl.so.1.0.0: no version information available (required by /usr/sbin/nginx)\n",
            "rsyslogd: /azureml-envs/azureml_661474bbe74e96b5d8added5888dfc85/lib/libuuid.so.1: no version information available (required by rsyslogd)\n",
            "EdgeHubConnectionString and IOTEDGE_IOTHUBHOSTNAME are not set. Exiting...\n",
            "2021-03-06T19:37:30,495075500+00:00 - iot-server/finish 1 0\n",
            "2021-03-06T19:37:30,503865300+00:00 - Exit code 1 is normal. Not restarting iot-server.\n",
            "Starting gunicorn 19.9.0\n",
            "Listening at: http://127.0.0.1:31311 (68)\n",
            "Using worker: sync\n",
            "worker timeout is set to 300\n",
            "Booting worker with pid: 97\n",
            "SPARK_HOME not set. Skipping PySpark Initialization.\n",
            "Generating new fontManager, this may take some time...\n",
            "Initializing logger\n",
            "2021-03-06 19:37:35,816 | root | INFO | Starting up app insights client\n",
            "2021-03-06 19:37:35,817 | root | INFO | Starting up request id generator\n",
            "2021-03-06 19:37:35,817 | root | INFO | Starting up app insight hooks\n",
            "2021-03-06 19:37:35,817 | root | INFO | Invoking user's init function\n",
            "2021-03-06 19:37:45,294 | azureml.core | WARNING | Failure while loading azureml_run_type_providers. Failed to load entrypoint automl = azureml.train.automl.run:AutoMLRun._from_run_dto with exception (cryptography 3.2 (/azureml-envs/azureml_661474bbe74e96b5d8added5888dfc85/lib/python3.6/site-packages), Requirement.parse('cryptography<4.0.0,>=3.3.1; extra == \"crypto\"'), {'PyJWT'}).\n",
            "Failure while loading azureml_run_type_providers. Failed to load entrypoint automl = azureml.train.automl.run:AutoMLRun._from_run_dto with exception (cryptography 3.2 (/azureml-envs/azureml_661474bbe74e96b5d8added5888dfc85/lib/python3.6/site-packages), Requirement.parse('cryptography<4.0.0,>=3.3.1; extra == \"crypto\"'), {'PyJWT'}).\n",
            "2021-03-06 19:37:45,646 | root | INFO | Users's init has completed successfully\n",
            "2021-03-06 19:37:45,667 | root | INFO | Skipping middleware: dbg_model_info as it's not enabled.\n",
            "2021-03-06 19:37:45,668 | root | INFO | Skipping middleware: dbg_resource_usage as it's not enabled.\n",
            "2021-03-06 19:37:45,681 | root | INFO | Scoring timeout is found from os.environ: 60000 ms\n",
            "2021-03-06 19:37:49,027 | root | INFO | 200\n",
            "127.0.0.1 - - [06/Mar/2021:19:37:49 +0000] \"GET /swagger.json HTTP/1.0\" 200 3962 \"-\" \"Go-http-client/1.1\"\n",
            "2021-03-06 19:37:55,294 | root | INFO | 200\n",
            "127.0.0.1 - - [06/Mar/2021:19:37:55 +0000] \"GET /swagger.json HTTP/1.0\" 200 3962 \"-\" \"Go-http-client/1.1\"\n",
            "2021-03-06 19:50:03,204 | root | INFO | Validation Request Content-Type\n",
            "2021-03-06 19:50:03,205 | root | INFO | Scoring Timer is set to 60.0 seconds\n",
            "2021-03-06 19:50:03,242 | root | ERROR | Encountered Exception: Traceback (most recent call last):\n",
            "  File \"/var/azureml-server/synchronous/routes.py\", line 64, in run_scoring\n",
            "    response = invoke_user_with_timer(service_input, request_headers)\n",
            "  File \"/var/azureml-server/synchronous/routes.py\", line 97, in invoke_user_with_timer\n",
            "    result = user_main.run(**params)\n",
            "  File \"/azureml-envs/azureml_661474bbe74e96b5d8added5888dfc85/lib/python3.6/site-packages/wrapt/wrappers.py\", line 564, in __call__\n",
            "    args, kwargs)\n",
            "  File \"/azureml-envs/azureml_661474bbe74e96b5d8added5888dfc85/lib/python3.6/site-packages/inference_schema/schema_decorators.py\", line 57, in decorator_input\n",
            "    kwargs[param_name] = _deserialize_input_argument(kwargs[param_name], param_type, param_name)\n",
            "  File \"/azureml-envs/azureml_661474bbe74e96b5d8added5888dfc85/lib/python3.6/site-packages/inference_schema/schema_decorators.py\", line 285, in _deserialize_input_argument\n",
            "    input_data = param_type.deserialize_input(input_data)\n",
            "  File \"/azureml-envs/azureml_661474bbe74e96b5d8added5888dfc85/lib/python3.6/site-packages/inference_schema/parameter_types/pandas_parameter_type.py\", line 79, in deserialize_input\n",
            "    data_frame.shape[dim], dim, expected_shape[dim]))\n",
            "ValueError: Invalid input data frame: data frame has size 20 on dimension #1, while expected value is 28\n",
            "\n",
            "During handling of the above exception, another exception occurred:\n",
            "\n",
            "Traceback (most recent call last):\n",
            "  File \"/azureml-envs/azureml_661474bbe74e96b5d8added5888dfc85/lib/python3.6/site-packages/flask/app.py\", line 1832, in full_dispatch_request\n",
            "    rv = self.dispatch_request()\n",
            "  File \"/azureml-envs/azureml_661474bbe74e96b5d8added5888dfc85/lib/python3.6/site-packages/flask/app.py\", line 1818, in dispatch_request\n",
            "    return self.view_functions[rule.endpoint](**req.view_args)\n",
            "  File \"/var/azureml-server/synchronous/routes.py\", line 43, in score_realtime\n",
            "    return run_scoring(service_input, request.headers, request.environ.get('REQUEST_ID', '00000000-0000-0000-0000-000000000000'))\n",
            "  File \"/var/azureml-server/synchronous/routes.py\", line 77, in run_scoring\n",
            "    raise RunFunctionException(str(exc))\n",
            "run_function_exception.RunFunctionException\n",
            "\n",
            "2021-03-06 19:50:03,242 | root | INFO | 500\n",
            "127.0.0.1 - - [06/Mar/2021:19:50:03 +0000] \"POST /score HTTP/1.0\" 500 92 \"-\" \"python-requests/2.25.1\"\n",
            "Exception in worker process\n",
            "Traceback (most recent call last):\n",
            "  File \"/azureml-envs/azureml_661474bbe74e96b5d8added5888dfc85/lib/python3.6/site-packages/gunicorn/arbiter.py\", line 583, in spawn_worker\n",
            "    worker.init_process()\n",
            "  File \"/azureml-envs/azureml_661474bbe74e96b5d8added5888dfc85/lib/python3.6/site-packages/gunicorn/workers/base.py\", line 134, in init_process\n",
            "    self.run()\n",
            "  File \"/azureml-envs/azureml_661474bbe74e96b5d8added5888dfc85/lib/python3.6/site-packages/gunicorn/workers/sync.py\", line 124, in run\n",
            "    self.run_for_one(timeout)\n",
            "  File \"/azureml-envs/azureml_661474bbe74e96b5d8added5888dfc85/lib/python3.6/site-packages/gunicorn/workers/sync.py\", line 83, in run_for_one\n",
            "    self.wait(timeout)\n",
            "  File \"/azureml-envs/azureml_661474bbe74e96b5d8added5888dfc85/lib/python3.6/site-packages/gunicorn/workers/sync.py\", line 35, in wait\n",
            "    ret = select.select(self.wait_fds, [], [], timeout)\n",
            "  File \"/var/azureml-server/routes_common.py\", line 162, in alarm_handler\n",
            "    raise TimeoutException(error_message)\n",
            "timeout_exception.TimeoutException\n",
            "Worker exiting (pid: 97)\n",
            "worker timeout is set to 300\n",
            "Booting worker with pid: 298\n",
            "SPARK_HOME not set. Skipping PySpark Initialization.\n",
            "Initializing logger\n",
            "2021-03-06 19:51:05,193 | root | INFO | Starting up app insights client\n",
            "2021-03-06 19:51:05,193 | root | INFO | Starting up request id generator\n",
            "2021-03-06 19:51:05,193 | root | INFO | Starting up app insight hooks\n",
            "2021-03-06 19:51:05,194 | root | INFO | Invoking user's init function\n",
            "2021-03-06 19:51:08,900 | azureml.core | WARNING | Failure while loading azureml_run_type_providers. Failed to load entrypoint automl = azureml.train.automl.run:AutoMLRun._from_run_dto with exception (cryptography 3.2 (/azureml-envs/azureml_661474bbe74e96b5d8added5888dfc85/lib/python3.6/site-packages), Requirement.parse('cryptography<4.0.0,>=3.3.1; extra == \"crypto\"'), {'PyJWT'}).\n",
            "Failure while loading azureml_run_type_providers. Failed to load entrypoint automl = azureml.train.automl.run:AutoMLRun._from_run_dto with exception (cryptography 3.2 (/azureml-envs/azureml_661474bbe74e96b5d8added5888dfc85/lib/python3.6/site-packages), Requirement.parse('cryptography<4.0.0,>=3.3.1; extra == \"crypto\"'), {'PyJWT'}).\n",
            "2021-03-06 19:51:09,082 | root | INFO | Users's init has completed successfully\n",
            "2021-03-06 19:51:09,084 | root | INFO | Skipping middleware: dbg_model_info as it's not enabled.\n",
            "2021-03-06 19:51:09,084 | root | INFO | Skipping middleware: dbg_resource_usage as it's not enabled.\n",
            "2021-03-06 19:51:09,089 | root | INFO | Scoring timeout is found from os.environ: 60000 ms\n",
            "2021-03-06 20:00:35,668 | root | INFO | Validation Request Content-Type\n",
            "2021-03-06 20:00:35,690 | root | INFO | Scoring Timer is set to 60.0 seconds\n",
            "2021-03-06 20:00:36,117 | root | INFO | 200\n",
            "127.0.0.1 - - [06/Mar/2021:20:00:36 +0000] \"POST /score HTTP/1.0\" 200 6165 \"-\" \"python-requests/2.25.1\"\n",
            "\n"
          ]
        }
      ],
      "execution_count": 60,
      "metadata": {
        "gather": {
          "logged": 1615060850600
        }
      }
    },
    {
      "cell_type": "markdown",
      "source": [
        "# Deleting the service\n",
        "Putting the deletion of the service in a separate cell to avoid accidentally running the cell before finishing the tasks"
      ],
      "metadata": {}
    },
    {
      "cell_type": "code",
      "source": [
        "service.delete()"
      ],
      "outputs": [],
      "execution_count": null,
      "metadata": {}
    },
    {
      "cell_type": "code",
      "source": [
        "conda install-c anaconda py-xgboost==0.90"
      ],
      "outputs": [],
      "execution_count": null,
      "metadata": {}
    }
  ],
  "metadata": {
    "colab": {
      "name": "automl.ipynb",
      "provenance": []
    },
    "kernel_info": {
      "name": "python3"
    },
    "kernelspec": {
      "name": "python3",
      "language": "python",
      "display_name": "Python 3"
    },
    "language_info": {
      "name": "python",
      "version": "3.6.9",
      "mimetype": "text/x-python",
      "codemirror_mode": {
        "name": "ipython",
        "version": 3
      },
      "pygments_lexer": "ipython3",
      "nbconvert_exporter": "python",
      "file_extension": ".py"
    },
    "nteract": {
      "version": "nteract-front-end@1.0.0"
    },
    "microsoft": {
      "host": {
        "AzureML": {
          "notebookHasBeenCompleted": true
        }
      }
    }
  },
  "nbformat": 4,
  "nbformat_minor": 1
}