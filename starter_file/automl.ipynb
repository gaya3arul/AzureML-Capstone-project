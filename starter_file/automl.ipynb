{
  "cells": [
    {
      "cell_type": "markdown",
      "source": [
        "# Automated ML\n",
        "\n",
        "# Dependencies\n",
        "\n",
        "All the dependencies needed to complete the project appear here\n"
      ],
      "metadata": {
        "id": "m16UdA-A1j-o"
      }
    },
    {
      "cell_type": "code",
      "source": [
        "\n",
        "import logging\n",
        "import os\n",
        "import csv\n",
        "\n",
        "from matplotlib import pyplot as plt\n",
        "import numpy as np\n",
        "import pandas as pd\n",
        "from sklearn import datasets\n",
        "import pkg_resources\n",
        "\n",
        "import azureml.core\n",
        "from azureml.core.experiment import Experiment\n",
        "from azureml.core.workspace import Workspace\n",
        "from azureml.train.automl import AutoMLConfig\n",
        "from azureml.core.dataset import Dataset\n",
        "from azureml.data.dataset_factory import TabularDatasetFactory\n",
        "\n",
        "from azureml.core.compute import AmlCompute\n",
        "from azureml.core.compute import ComputeTarget\n",
        "from azureml.core.compute_target import ComputeTargetException\n",
        "\n",
        "from azureml.pipeline.steps import AutoMLStep\n",
        "\n",
        "from azureml.widgets import RunDetails\n",
        "\n",
        "import joblib\n",
        "\n",
        "from azureml.core.environment import Environment \n",
        "from azureml.core.model import InferenceConfig \n",
        "from azureml.core.webservice import AciWebservice, Webservice\n",
        "from azureml.core.model import Model\n",
        "\n",
        "# Check core SDK version number\n",
        "print(\"SDK version:\", azureml.core.VERSION)"
      ],
      "outputs": [
        {
          "output_type": "stream",
          "name": "stdout",
          "text": [
            "SDK version: 1.22.0\n"
          ]
        }
      ],
      "execution_count": 1,
      "metadata": {
        "gather": {
          "logged": 1615647880110
        },
        "id": "CnAPTg4q1j-7",
        "jupyter": {
          "outputs_hidden": false,
          "source_hidden": false
        },
        "nteract": {
          "transient": {
            "deleting": false
          }
        }
      }
    },
    {
      "cell_type": "markdown",
      "source": [
        "# Workspace\n",
        "The config.json file is downloaded from Azure environment and has to be in the project folder in order for this cell to run"
      ],
      "metadata": {}
    },
    {
      "cell_type": "code",
      "source": [
        "ws = Workspace.from_config()\n",
        "print(ws.name, ws.resource_group, ws.location, ws.subscription_id, sep = '\\n')"
      ],
      "outputs": [
        {
          "output_type": "stream",
          "name": "stdout",
          "text": [
            "quick-starts-ws-140338\n",
            "aml-quickstarts-140338\n",
            "southcentralus\n",
            "a0a76bad-11a1-4a2d-9887-97a29122c8ed\n"
          ]
        }
      ],
      "execution_count": 2,
      "metadata": {
        "gather": {
          "logged": 1615647880485
        },
        "id": "jySGoEP91j-8",
        "jupyter": {
          "outputs_hidden": false,
          "source_hidden": false
        },
        "nteract": {
          "transient": {
            "deleting": false
          }
        }
      }
    },
    {
      "cell_type": "markdown",
      "source": [
        "# Create an Azure ML experiment\n",
        "\n",
        "I am creating an experiment named machine-failure-experiment and a folder to hold the training scripts. The script runs will be recorded under the experiment in Azure.\n",
        "\n",
        "The best practice is to use separate folders for scripts and its dependent files for each step and specify that folder as the source_directory for the step. This helps reduce the size of the snapshot created for the step (only the specific folder is snapshotted). Since changes in any files in the source_directory would trigger a re-upload of the snapshot, this helps keep the reuse of the step when there are no changes in the source_directory of the step."
      ],
      "metadata": {
        "nteract": {
          "transient": {
            "deleting": false
          }
        }
      }
    },
    {
      "cell_type": "code",
      "source": [
        "\n",
        "# Choose a name for the run history container in the workspace.\n",
        "\n",
        "experiment_name = 'heart-failure-experiment'\n",
        "project_folder = './capstone-project'\n",
        "\n",
        "experiment = Experiment(ws, experiment_name)\n",
        "experiment\n",
        "\n",
        "run = experiment.start_logging()"
      ],
      "outputs": [],
      "execution_count": 3,
      "metadata": {
        "gather": {
          "logged": 1615647883063
        },
        "id": "NVvCYLMA1-XM",
        "outputId": "d488f53a-4344-4fb9-e2d7-10a7fc6f77ab"
      }
    },
    {
      "cell_type": "markdown",
      "source": [
        "# Create or Attach a cluster\n",
        "\n",
        "We will need to create a compute target for the AutoML run. In case the compute target (named compute-cluster in this script) is not found, a new one is created using the default AmlCompute as the training compute resource"
      ],
      "metadata": {
        "collapsed": true,
        "gather": {
          "logged": 1612764729246
        },
        "jupyter": {
          "outputs_hidden": false,
          "source_hidden": false
        },
        "nteract": {
          "transient": {
            "deleting": false
          }
        }
      }
    },
    {
      "cell_type": "markdown",
      "source": [
        "#Configuring the Compute Cluster"
      ],
      "metadata": {
        "id": "CIa6e7wo5HKj"
      }
    },
    {
      "cell_type": "code",
      "source": [
        "\n",
        "# max_nodes should be no greater than 4.\n",
        "\n",
        "# Choose a name for the cluster\n",
        "cpu_cluster_name = \"cpu-cluster\"\n",
        "\n",
        "# Verify that cluster does not exist already\n",
        "try:\n",
        "    compute_target = ComputeTarget(workspace=ws, name=cpu_cluster_name)\n",
        "    print('Found existing cluster, use it.')\n",
        "except ComputeTargetException:\n",
        "    print('Creating a new compute cluster...')\n",
        "    # Poll for a minimum number of nodes (min_nodes = 1). \n",
        "    # If no min node count is provided it uses the scale settings for the cluster.\n",
        "    compute_config = AmlCompute.provisioning_configuration(vm_size='Standard_DS3_v2', min_nodes=1, max_nodes=6)\n",
        "    compute_target = ComputeTarget.create(ws, cpu_cluster_name, compute_config)\n",
        "\n",
        "compute_target.wait_for_completion(show_output=True)\n",
        "\n",
        "# use get_status() to get a detailed status for the current cluster. \n",
        "print(compute_target.get_status().serialize())"
      ],
      "outputs": [
        {
          "output_type": "stream",
          "name": "stdout",
          "text": [
            "Found existing cluster, use it.\n",
            "Succeeded\n",
            "AmlCompute wait for completion finished\n",
            "\n",
            "Minimum number of nodes requested have been provisioned\n",
            "{'currentNodeCount': 1, 'targetNodeCount': 1, 'nodeStateCounts': {'preparingNodeCount': 0, 'runningNodeCount': 0, 'idleNodeCount': 1, 'unusableNodeCount': 0, 'leavingNodeCount': 0, 'preemptedNodeCount': 0}, 'allocationState': 'Steady', 'allocationStateTransitionTime': '2021-03-13T14:29:46.885000+00:00', 'errors': None, 'creationTime': '2021-03-13T12:52:30.085846+00:00', 'modifiedTime': '2021-03-13T12:52:45.533988+00:00', 'provisioningState': 'Succeeded', 'provisioningStateTransitionTime': None, 'scaleSettings': {'minNodeCount': 1, 'maxNodeCount': 6, 'nodeIdleTimeBeforeScaleDown': 'PT120S'}, 'vmPriority': 'Dedicated', 'vmSize': 'STANDARD_DS3_V2'}\n"
          ]
        }
      ],
      "execution_count": 4,
      "metadata": {
        "gather": {
          "logged": 1615647883429
        },
        "id": "tLovR45p1j-9",
        "jupyter": {
          "outputs_hidden": false,
          "source_hidden": false
        },
        "nteract": {
          "transient": {
            "deleting": false
          }
        },
        "outputId": "aaa667dc-58c8-480a-c8ce-91777443097c"
      }
    },
    {
      "cell_type": "markdown",
      "source": [
        "## Dataset\n",
        "\n",
        "### Overview\n",
        "The dataset is taken from kaggle : \"https://www.kaggle.com/c/machine-failure-prediction/data?select=train.csv\".\n",
        "\n"
      ],
      "metadata": {
        "id": "VqJfYVVO1j-8"
      }
    },
    {
      "cell_type": "code",
      "source": [
        "\n",
        "data = pd.read_csv('./heart_failure_clinical_records_dataset.csv')\n",
        "\n",
        "found = False\n",
        "key = \"heart-failure-prediction\"\n",
        "description_text = \"Prediction of patients’ survival with heart failure\"\n",
        "\n",
        "if key in ws.datasets.keys(): \n",
        "        found = True\n",
        "        dataset = ws.datasets[key] \n",
        "\n",
        "if not found:\n",
        "        # Create AML Dataset and register it into Workspace\n",
        "        my_dataset = 'https://raw.githubusercontent.com/gaya3arul/nd00333-capstone/master/heart_failure_clinical_records_dataset.csv'\n",
        "        dataset = Dataset.Tabular.from_delimited_files(my_dataset)        \n",
        "        # Register Dataset in Workspace\n",
        "        dataset = dataset.register(workspace=ws,\n",
        "                                   name=key,\n",
        "                                   description=description_text)\n",
        "                                \n",
        "# Preview of the first five rows\n",
        "print(data.head())\n",
        "\n",
        "# Explore data\n",
        "print(data.describe())\n",
        "\n",
        "df = dataset.to_pandas_dataframe()\n",
        "print(df.describe())\n",
        "\n",
        "# Data columns\n",
        "df.columns = ['age', 'anaemia', 'creatinine_phosphokinase', 'diabetes', 'ejection_fraction', 'high_blood_pressure', 'platelets', 'serum_creatinine', 'serum_sodium', 'sex', 'smoking', 'time', 'DEATH_EVENT']\n",
        "x = df[['age', 'anaemia', 'creatinine_phosphokinase', 'diabetes', 'ejection_fraction', 'high_blood_pressure', 'platelets', 'serum_creatinine', 'serum_sodium', 'sex', 'smoking', 'time']]\n",
        "y = df[['DEATH_EVENT']]"
      ],
      "outputs": [
        {
          "output_type": "stream",
          "name": "stdout",
          "text": [
            "    age  anaemia  creatinine_phosphokinase  diabetes  ejection_fraction  \\\n",
            "0  75.0        0                       582         0                 20   \n",
            "1  55.0        0                      7861         0                 38   \n",
            "2  65.0        0                       146         0                 20   \n",
            "3  50.0        1                       111         0                 20   \n",
            "4  65.0        1                       160         1                 20   \n",
            "\n",
            "   high_blood_pressure  platelets  serum_creatinine  serum_sodium  sex  \\\n",
            "0                    1  265000.00               1.9           130    1   \n",
            "1                    0  263358.03               1.1           136    1   \n",
            "2                    0  162000.00               1.3           129    1   \n",
            "3                    0  210000.00               1.9           137    1   \n",
            "4                    0  327000.00               2.7           116    0   \n",
            "\n",
            "   smoking  time  DEATH_EVENT  \n",
            "0        0     4            1  \n",
            "1        0     6            1  \n",
            "2        1     7            1  \n",
            "3        0     7            1  \n",
            "4        0     8            1  \n",
            "              age     anaemia  creatinine_phosphokinase    diabetes  \\\n",
            "count  299.000000  299.000000                299.000000  299.000000   \n",
            "mean    60.833893    0.431438                581.839465    0.418060   \n",
            "std     11.894809    0.496107                970.287881    0.494067   \n",
            "min     40.000000    0.000000                 23.000000    0.000000   \n",
            "25%     51.000000    0.000000                116.500000    0.000000   \n",
            "50%     60.000000    0.000000                250.000000    0.000000   \n",
            "75%     70.000000    1.000000                582.000000    1.000000   \n",
            "max     95.000000    1.000000               7861.000000    1.000000   \n",
            "\n",
            "       ejection_fraction  high_blood_pressure      platelets  \\\n",
            "count         299.000000           299.000000     299.000000   \n",
            "mean           38.083612             0.351171  263358.029264   \n",
            "std            11.834841             0.478136   97804.236869   \n",
            "min            14.000000             0.000000   25100.000000   \n",
            "25%            30.000000             0.000000  212500.000000   \n",
            "50%            38.000000             0.000000  262000.000000   \n",
            "75%            45.000000             1.000000  303500.000000   \n",
            "max            80.000000             1.000000  850000.000000   \n",
            "\n",
            "       serum_creatinine  serum_sodium         sex    smoking        time  \\\n",
            "count         299.00000    299.000000  299.000000  299.00000  299.000000   \n",
            "mean            1.39388    136.625418    0.648829    0.32107  130.260870   \n",
            "std             1.03451      4.412477    0.478136    0.46767   77.614208   \n",
            "min             0.50000    113.000000    0.000000    0.00000    4.000000   \n",
            "25%             0.90000    134.000000    0.000000    0.00000   73.000000   \n",
            "50%             1.10000    137.000000    1.000000    0.00000  115.000000   \n",
            "75%             1.40000    140.000000    1.000000    1.00000  203.000000   \n",
            "max             9.40000    148.000000    1.000000    1.00000  285.000000   \n",
            "\n",
            "       DEATH_EVENT  \n",
            "count    299.00000  \n",
            "mean       0.32107  \n",
            "std        0.46767  \n",
            "min        0.00000  \n",
            "25%        0.00000  \n",
            "50%        0.00000  \n",
            "75%        1.00000  \n",
            "max        1.00000  \n",
            "              age     anaemia  creatinine_phosphokinase    diabetes  \\\n",
            "count  299.000000  299.000000                299.000000  299.000000   \n",
            "mean    60.833893    0.431438                581.839465    0.418060   \n",
            "std     11.894809    0.496107                970.287881    0.494067   \n",
            "min     40.000000    0.000000                 23.000000    0.000000   \n",
            "25%     51.000000    0.000000                116.500000    0.000000   \n",
            "50%     60.000000    0.000000                250.000000    0.000000   \n",
            "75%     70.000000    1.000000                582.000000    1.000000   \n",
            "max     95.000000    1.000000               7861.000000    1.000000   \n",
            "\n",
            "       ejection_fraction  high_blood_pressure      platelets  \\\n",
            "count         299.000000           299.000000     299.000000   \n",
            "mean           38.083612             0.351171  263358.029264   \n",
            "std            11.834841             0.478136   97804.236869   \n",
            "min            14.000000             0.000000   25100.000000   \n",
            "25%            30.000000             0.000000  212500.000000   \n",
            "50%            38.000000             0.000000  262000.000000   \n",
            "75%            45.000000             1.000000  303500.000000   \n",
            "max            80.000000             1.000000  850000.000000   \n",
            "\n",
            "       serum_creatinine  serum_sodium         sex    smoking        time  \\\n",
            "count         299.00000    299.000000  299.000000  299.00000  299.000000   \n",
            "mean            1.39388    136.625418    0.648829    0.32107  130.260870   \n",
            "std             1.03451      4.412477    0.478136    0.46767   77.614208   \n",
            "min             0.50000    113.000000    0.000000    0.00000    4.000000   \n",
            "25%             0.90000    134.000000    0.000000    0.00000   73.000000   \n",
            "50%             1.10000    137.000000    1.000000    0.00000  115.000000   \n",
            "75%             1.40000    140.000000    1.000000    1.00000  203.000000   \n",
            "max             9.40000    148.000000    1.000000    1.00000  285.000000   \n",
            "\n",
            "       DEATH_EVENT  \n",
            "count    299.00000  \n",
            "mean       0.32107  \n",
            "std        0.46767  \n",
            "min        0.00000  \n",
            "25%        0.00000  \n",
            "50%        0.00000  \n",
            "75%        1.00000  \n",
            "max        1.00000  \n"
          ]
        }
      ],
      "execution_count": 5,
      "metadata": {
        "collapsed": true,
        "jupyter": {
          "source_hidden": false,
          "outputs_hidden": false
        },
        "nteract": {
          "transient": {
            "deleting": false
          }
        },
        "gather": {
          "logged": 1615647887684
        }
      }
    },
    {
      "cell_type": "code",
      "source": [
        "df"
      ],
      "outputs": [
        {
          "output_type": "execute_result",
          "execution_count": 6,
          "data": {
            "text/plain": "      age  anaemia  creatinine_phosphokinase  diabetes  ejection_fraction  \\\n0    75.0        0                       582         0                 20   \n1    55.0        0                      7861         0                 38   \n2    65.0        0                       146         0                 20   \n3    50.0        1                       111         0                 20   \n4    65.0        1                       160         1                 20   \n..    ...      ...                       ...       ...                ...   \n294  62.0        0                        61         1                 38   \n295  55.0        0                      1820         0                 38   \n296  45.0        0                      2060         1                 60   \n297  45.0        0                      2413         0                 38   \n298  50.0        0                       196         0                 45   \n\n     high_blood_pressure  platelets  serum_creatinine  serum_sodium  sex  \\\n0                      1  265000.00               1.9           130    1   \n1                      0  263358.03               1.1           136    1   \n2                      0  162000.00               1.3           129    1   \n3                      0  210000.00               1.9           137    1   \n4                      0  327000.00               2.7           116    0   \n..                   ...        ...               ...           ...  ...   \n294                    1  155000.00               1.1           143    1   \n295                    0  270000.00               1.2           139    0   \n296                    0  742000.00               0.8           138    0   \n297                    0  140000.00               1.4           140    1   \n298                    0  395000.00               1.6           136    1   \n\n     smoking  time  DEATH_EVENT  \n0          0     4            1  \n1          0     6            1  \n2          1     7            1  \n3          0     7            1  \n4          0     8            1  \n..       ...   ...          ...  \n294        1   270            0  \n295        0   271            0  \n296        0   278            0  \n297        1   280            0  \n298        1   285            0  \n\n[299 rows x 13 columns]",
            "text/html": "<div>\n<style scoped>\n    .dataframe tbody tr th:only-of-type {\n        vertical-align: middle;\n    }\n\n    .dataframe tbody tr th {\n        vertical-align: top;\n    }\n\n    .dataframe thead th {\n        text-align: right;\n    }\n</style>\n<table border=\"1\" class=\"dataframe\">\n  <thead>\n    <tr style=\"text-align: right;\">\n      <th></th>\n      <th>age</th>\n      <th>anaemia</th>\n      <th>creatinine_phosphokinase</th>\n      <th>diabetes</th>\n      <th>ejection_fraction</th>\n      <th>high_blood_pressure</th>\n      <th>platelets</th>\n      <th>serum_creatinine</th>\n      <th>serum_sodium</th>\n      <th>sex</th>\n      <th>smoking</th>\n      <th>time</th>\n      <th>DEATH_EVENT</th>\n    </tr>\n  </thead>\n  <tbody>\n    <tr>\n      <th>0</th>\n      <td>75.0</td>\n      <td>0</td>\n      <td>582</td>\n      <td>0</td>\n      <td>20</td>\n      <td>1</td>\n      <td>265000.00</td>\n      <td>1.9</td>\n      <td>130</td>\n      <td>1</td>\n      <td>0</td>\n      <td>4</td>\n      <td>1</td>\n    </tr>\n    <tr>\n      <th>1</th>\n      <td>55.0</td>\n      <td>0</td>\n      <td>7861</td>\n      <td>0</td>\n      <td>38</td>\n      <td>0</td>\n      <td>263358.03</td>\n      <td>1.1</td>\n      <td>136</td>\n      <td>1</td>\n      <td>0</td>\n      <td>6</td>\n      <td>1</td>\n    </tr>\n    <tr>\n      <th>2</th>\n      <td>65.0</td>\n      <td>0</td>\n      <td>146</td>\n      <td>0</td>\n      <td>20</td>\n      <td>0</td>\n      <td>162000.00</td>\n      <td>1.3</td>\n      <td>129</td>\n      <td>1</td>\n      <td>1</td>\n      <td>7</td>\n      <td>1</td>\n    </tr>\n    <tr>\n      <th>3</th>\n      <td>50.0</td>\n      <td>1</td>\n      <td>111</td>\n      <td>0</td>\n      <td>20</td>\n      <td>0</td>\n      <td>210000.00</td>\n      <td>1.9</td>\n      <td>137</td>\n      <td>1</td>\n      <td>0</td>\n      <td>7</td>\n      <td>1</td>\n    </tr>\n    <tr>\n      <th>4</th>\n      <td>65.0</td>\n      <td>1</td>\n      <td>160</td>\n      <td>1</td>\n      <td>20</td>\n      <td>0</td>\n      <td>327000.00</td>\n      <td>2.7</td>\n      <td>116</td>\n      <td>0</td>\n      <td>0</td>\n      <td>8</td>\n      <td>1</td>\n    </tr>\n    <tr>\n      <th>...</th>\n      <td>...</td>\n      <td>...</td>\n      <td>...</td>\n      <td>...</td>\n      <td>...</td>\n      <td>...</td>\n      <td>...</td>\n      <td>...</td>\n      <td>...</td>\n      <td>...</td>\n      <td>...</td>\n      <td>...</td>\n      <td>...</td>\n    </tr>\n    <tr>\n      <th>294</th>\n      <td>62.0</td>\n      <td>0</td>\n      <td>61</td>\n      <td>1</td>\n      <td>38</td>\n      <td>1</td>\n      <td>155000.00</td>\n      <td>1.1</td>\n      <td>143</td>\n      <td>1</td>\n      <td>1</td>\n      <td>270</td>\n      <td>0</td>\n    </tr>\n    <tr>\n      <th>295</th>\n      <td>55.0</td>\n      <td>0</td>\n      <td>1820</td>\n      <td>0</td>\n      <td>38</td>\n      <td>0</td>\n      <td>270000.00</td>\n      <td>1.2</td>\n      <td>139</td>\n      <td>0</td>\n      <td>0</td>\n      <td>271</td>\n      <td>0</td>\n    </tr>\n    <tr>\n      <th>296</th>\n      <td>45.0</td>\n      <td>0</td>\n      <td>2060</td>\n      <td>1</td>\n      <td>60</td>\n      <td>0</td>\n      <td>742000.00</td>\n      <td>0.8</td>\n      <td>138</td>\n      <td>0</td>\n      <td>0</td>\n      <td>278</td>\n      <td>0</td>\n    </tr>\n    <tr>\n      <th>297</th>\n      <td>45.0</td>\n      <td>0</td>\n      <td>2413</td>\n      <td>0</td>\n      <td>38</td>\n      <td>0</td>\n      <td>140000.00</td>\n      <td>1.4</td>\n      <td>140</td>\n      <td>1</td>\n      <td>1</td>\n      <td>280</td>\n      <td>0</td>\n    </tr>\n    <tr>\n      <th>298</th>\n      <td>50.0</td>\n      <td>0</td>\n      <td>196</td>\n      <td>0</td>\n      <td>45</td>\n      <td>0</td>\n      <td>395000.00</td>\n      <td>1.6</td>\n      <td>136</td>\n      <td>1</td>\n      <td>1</td>\n      <td>285</td>\n      <td>0</td>\n    </tr>\n  </tbody>\n</table>\n<p>299 rows × 13 columns</p>\n</div>"
          },
          "metadata": {}
        }
      ],
      "execution_count": 6,
      "metadata": {
        "gather": {
          "logged": 1615647887956
        },
        "id": "1lnyck-m2L_S"
      }
    },
    {
      "cell_type": "markdown",
      "source": [
        "## AutoML Configuration\n",
        "\n",
        "\n",
        "AutoML Configuration\n",
        "Here is an overview of the automl settings and configuration I used for the AutoML run:\n",
        "\n",
        "\"n_cross_validations\": 2\n",
        "\n",
        "This parameter sets how many cross validations to perform, based on the same number of folds (number of subsets). As one cross-validation could result in overfit, in my code I chose 2 folds for cross-validation; thus the metrics are calculated with the average of the 2 validation metrics.\n",
        "\n",
        "\"primary_metric\": 'accuracy'\n",
        "\n",
        "I chose accuracy as the primary metric as it is the default metric used for classification tasks.\n",
        "\n",
        "\"enable_early_stopping\": True\n",
        "\n",
        "It defines to enable early termination if the score is not improving in the short term. In this experiment, it could also be omitted because the _experiment_timeoutminutes is already defined below.\n",
        "\n",
        "\"max_concurrent_iterations\": 4\n",
        "\n",
        "It represents the maximum number of iterations that would be executed in parallel.\n",
        "\n",
        "\"experiment_timeout_minutes\": 20\n",
        "\n",
        "This is an exit criterion and is used to define how long, in minutes, the experiment should continue to run. To help avoid experiment time out failures, I used the value of 20 minutes.\n",
        "\n",
        "\"verbosity\": logging.INFO\n",
        "\n",
        "The verbosity level for writing to the log file.\n",
        "\n",
        "compute_target = compute_target\n",
        "\n",
        "The Azure Machine Learning compute target to run the Automated Machine Learning experiment on.\n",
        "\n",
        "task = 'classification'\n",
        "\n",
        "This defines the experiment type which in this case is classification. Other options are regression and forecasting.\n",
        "\n",
        "training_data = dataset\n",
        "\n",
        "The training data to be used within the experiment. It should contain both training features and a label column - see next parameter.\n",
        "\n",
        "label_column_name = 'DEATH_EVENT'\n",
        "\n",
        "The name of the label column i.e. the target column based on which the prediction is done.\n",
        "\n",
        "path = project_folder\n",
        "\n",
        "The full path to the Azure Machine Learning project folder.\n",
        "\n",
        "featurization = 'auto'\n",
        "\n",
        "This parameter defines whether featurization step should be done automatically as in this case (auto) or not (off).\n",
        "\n",
        "debug_log = 'automl_errors.log\n",
        "\n",
        "The log file to write debug information to.\n",
        "\n",
        "enable_onnx_compatible_models = False\n",
        "\n",
        "I chose not to enable enforcing the ONNX-compatible models at this stage. However, I will try it in the future. For more info on Open Neural Network Exchange (ONNX), please see here."
      ],
      "metadata": {
        "id": "qo5Drc4y1j-9"
      }
    },
    {
      "cell_type": "code",
      "source": [
        "\n",
        "# Automl settings\n",
        "\n",
        "automl_settings = {\"n_cross_validations\": 2,\n",
        "                    \"primary_metric\": 'accuracy',\n",
        "                    \"enable_early_stopping\": True,\n",
        "                    \"max_concurrent_iterations\": 4,\n",
        "                    \"experiment_timeout_minutes\": 20,\n",
        "                    \"verbosity\": logging.INFO\n",
        "                    }\n",
        "\n",
        "# Parameters for AutoMLConfig\n",
        "\n",
        "automl_config = AutoMLConfig(compute_target = compute_target,\n",
        "                            task='classification',\n",
        "                            training_data=dataset,\n",
        "                            label_column_name='DEATH_EVENT',\n",
        "                            path = project_folder,\n",
        "                            featurization= 'auto',\n",
        "                            debug_log = \"automl_errors.log\",\n",
        "                            enable_onnx_compatible_models=False,\n",
        "                            blocked_models=['XGBoostClassifier'],\n",
        "                            **automl_settings\n",
        "                            )"
      ],
      "outputs": [],
      "execution_count": 7,
      "metadata": {
        "gather": {
          "logged": 1615647888175
        },
        "id": "iokpiJb52M4Y"
      }
    },
    {
      "cell_type": "code",
      "source": [
        "\n",
        "# Submit the experiment\n",
        "\n",
        "remote_run = experiment.submit(automl_config, show_output = True)\n",
        "remote_run.wait_for_completion()"
      ],
      "outputs": [
        {
          "output_type": "stream",
          "name": "stdout",
          "text": [
            "Running on remote.\n",
            "No run_configuration provided, running on cpu-cluster with default configuration\n",
            "Running on remote compute: cpu-cluster\n",
            "Parent Run ID: AutoML_b91a3efe-41dd-4446-ab0b-bc946e08490e\n",
            "\n",
            "Current status: FeaturesGeneration. Generating features for the dataset.\n",
            "Current status: ModelSelection. Beginning model selection.\n",
            "\n",
            "****************************************************************************************************\n",
            "DATA GUARDRAILS: \n",
            "\n",
            "TYPE:         Class balancing detection\n",
            "STATUS:       PASSED\n",
            "DESCRIPTION:  Your inputs were analyzed, and all classes are balanced in your training data.\n",
            "              Learn more about imbalanced data: https://aka.ms/AutomatedMLImbalancedData\n",
            "\n",
            "****************************************************************************************************\n",
            "\n",
            "TYPE:         Missing feature values imputation\n",
            "STATUS:       PASSED\n",
            "DESCRIPTION:  No feature missing values were detected in the training data.\n",
            "              Learn more about missing value imputation: https://aka.ms/AutomatedMLFeaturization\n",
            "\n",
            "****************************************************************************************************\n",
            "\n",
            "TYPE:         High cardinality feature detection\n",
            "STATUS:       PASSED\n",
            "DESCRIPTION:  Your inputs were analyzed, and no high cardinality features were detected.\n",
            "              Learn more about high cardinality feature handling: https://aka.ms/AutomatedMLFeaturization\n",
            "\n",
            "****************************************************************************************************\n",
            "\n",
            "****************************************************************************************************\n",
            "ITERATION: The iteration being evaluated.\n",
            "PIPELINE: A summary description of the pipeline being evaluated.\n",
            "DURATION: Time taken for the current iteration.\n",
            "METRIC: The result of computing score on the fitted pipeline.\n",
            "BEST: The best observed score thus far.\n",
            "****************************************************************************************************\n",
            "\n",
            " ITERATION   PIPELINE                                       DURATION      METRIC      BEST\n",
            "         1   MinMaxScaler RandomForest                      0:00:48       0.8461    0.8461\n",
            "         2   MinMaxScaler RandomForest                      0:00:46       0.8328    0.8461\n",
            "         3   MinMaxScaler RandomForest                      0:00:55       0.8394    0.8461\n",
            "         6   MinMaxScaler SVM                               0:00:43       0.6989    0.8461\n",
            "         4   MinMaxScaler RandomForest                      0:01:51       0.8094    0.8461\n",
            "         5   MinMaxScaler SVM                               0:01:51       0.6822    0.8461\n",
            "         0   MaxAbsScaler LightGBM                          0:01:59       0.8127    0.8461\n",
            "         7   MaxAbsScaler GradientBoosting                  0:00:40       0.8294    0.8461\n",
            "        10   MinMaxScaler RandomForest                      0:00:43       0.8294    0.8461\n",
            "         8   StandardScalerWrapper GradientBoosting         0:00:45       0.8495    0.8495\n",
            "         9   MaxAbsScaler RandomForest                      0:00:46       0.7526    0.8495\n",
            "        11   MaxAbsScaler ExtremeRandomTrees                0:00:52       0.8028    0.8495\n",
            "        12   RobustScaler LightGBM                          0:00:40       0.7793    0.8495\n",
            "        14   StandardScalerWrapper LightGBM                 0:00:50       0.7559    0.8495\n",
            "        13   StandardScalerWrapper LightGBM                 0:01:00       0.8395    0.8495\n",
            "        15   StandardScalerWrapper LightGBM                 0:00:47       0.8428    0.8495\n",
            "        16   MinMaxScaler LightGBM                          0:00:43       0.7760    0.8495\n",
            "        17   StandardScalerWrapper GradientBoosting         0:00:43       0.8193    0.8495\n",
            "        18   StandardScalerWrapper ExtremeRandomTrees       0:00:48       0.6890    0.8495\n",
            "        19   StandardScalerWrapper ExtremeRandomTrees       0:00:52       0.7560    0.8495\n",
            "        20   RobustScaler ExtremeRandomTrees                0:00:55       0.8495    0.8495\n",
            "        21   StandardScalerWrapper RandomForest             0:00:46       0.8461    0.8495\n",
            "        22   RobustScaler KNN                               0:00:44       0.6689    0.8495\n",
            "        23   MinMaxScaler LightGBM                          0:00:49       0.7625    0.8495\n",
            "        24   StandardScalerWrapper LightGBM                 0:00:49       0.8361    0.8495\n",
            "        25   RobustScaler GradientBoosting                  0:00:43       0.8327    0.8495\n",
            "        26   StandardScalerWrapper LightGBM                 0:00:45       0.8395    0.8495\n",
            "        27   SparseNormalizer LightGBM                      0:00:47       0.8127    0.8495\n",
            "        28   StandardScalerWrapper ExtremeRandomTrees       0:00:45       0.8361    0.8495\n",
            "        29   StandardScalerWrapper LightGBM                 0:00:45       0.7859    0.8495\n",
            "        30   TruncatedSVDWrapper GradientBoosting           0:00:46       0.6789    0.8495\n",
            "        32   StandardScalerWrapper LightGBM                 0:00:43       0.8194    0.8495\n",
            "        31                                                  0:01:03          nan    0.8495\n",
            "        33   MinMaxScaler LightGBM                          0:00:51       0.8395    0.8495\n",
            "        34   MaxAbsScaler LightGBM                          0:00:44       0.7391    0.8495\n",
            "        35                                                  0:00:17          nan    0.8495\n",
            "        36    VotingEnsemble                                0:01:09       0.8596    0.8596\n",
            "        37    StackEnsemble                                 0:01:07       0.8193    0.8596\n"
          ]
        },
        {
          "output_type": "execute_result",
          "execution_count": 8,
          "data": {
            "text/plain": "{'runId': 'AutoML_b91a3efe-41dd-4446-ab0b-bc946e08490e',\n 'target': 'cpu-cluster',\n 'status': 'Completed',\n 'startTimeUtc': '2021-03-13T15:05:08.910455Z',\n 'endTimeUtc': '2021-03-13T15:21:08.473188Z',\n 'properties': {'num_iterations': '1000',\n  'training_type': 'TrainFull',\n  'acquisition_function': 'EI',\n  'primary_metric': 'accuracy',\n  'train_split': '0',\n  'acquisition_parameter': '0',\n  'num_cross_validation': '2',\n  'target': 'cpu-cluster',\n  'AMLSettingsJsonString': '{\"path\":null,\"name\":\"heart-failure-experiment\",\"subscription_id\":\"a0a76bad-11a1-4a2d-9887-97a29122c8ed\",\"resource_group\":\"aml-quickstarts-140338\",\"workspace_name\":\"quick-starts-ws-140338\",\"region\":\"southcentralus\",\"compute_target\":\"cpu-cluster\",\"spark_service\":null,\"azure_service\":\"remote\",\"many_models\":false,\"pipeline_fetch_max_batch_size\":1,\"iterations\":1000,\"primary_metric\":\"accuracy\",\"task_type\":\"classification\",\"data_script\":null,\"validation_size\":0.0,\"n_cross_validations\":2,\"y_min\":null,\"y_max\":null,\"num_classes\":null,\"featurization\":\"auto\",\"_ignore_package_version_incompatibilities\":false,\"is_timeseries\":false,\"max_cores_per_iteration\":1,\"max_concurrent_iterations\":4,\"iteration_timeout_minutes\":null,\"mem_in_mb\":null,\"enforce_time_on_windows\":false,\"experiment_timeout_minutes\":20,\"experiment_exit_score\":null,\"whitelist_models\":null,\"blacklist_algos\":[\"XGBoostClassifier\",\"TensorFlowLinearClassifier\",\"TensorFlowDNN\"],\"supported_models\":[\"RandomForest\",\"XGBoostClassifier\",\"TensorFlowLinearClassifier\",\"DecisionTree\",\"LightGBM\",\"GradientBoosting\",\"BernoulliNaiveBayes\",\"LinearSVM\",\"SGD\",\"SVM\",\"AveragedPerceptronClassifier\",\"TensorFlowDNN\",\"ExtremeRandomTrees\",\"KNN\",\"MultinomialNaiveBayes\",\"LogisticRegression\"],\"private_models\":[],\"auto_blacklist\":true,\"blacklist_samples_reached\":false,\"exclude_nan_labels\":true,\"verbosity\":20,\"_debug_log\":\"azureml_automl.log\",\"show_warnings\":false,\"model_explainability\":true,\"service_url\":null,\"sdk_url\":null,\"sdk_packages\":null,\"enable_onnx_compatible_models\":false,\"enable_split_onnx_featurizer_estimator_models\":false,\"vm_type\":\"STANDARD_DS3_V2\",\"telemetry_verbosity\":20,\"send_telemetry\":true,\"enable_dnn\":false,\"scenario\":\"SDK-1.13.0\",\"environment_label\":null,\"force_text_dnn\":false,\"enable_feature_sweeping\":true,\"enable_early_stopping\":true,\"early_stopping_n_iters\":10,\"metrics\":null,\"enable_ensembling\":true,\"enable_stack_ensembling\":true,\"ensemble_iterations\":15,\"enable_tf\":false,\"enable_subsampling\":null,\"subsample_seed\":null,\"enable_nimbusml\":false,\"enable_streaming\":false,\"force_streaming\":false,\"track_child_runs\":true,\"allowed_private_models\":[],\"label_column_name\":\"DEATH_EVENT\",\"weight_column_name\":null,\"cv_split_column_names\":null,\"enable_local_managed\":false,\"_local_managed_run_id\":null,\"cost_mode\":1,\"lag_length\":0,\"metric_operation\":\"maximize\",\"preprocess\":true}',\n  'DataPrepJsonString': '{\\\\\"training_data\\\\\": \\\\\"{\\\\\\\\\\\\\"blocks\\\\\\\\\\\\\": [{\\\\\\\\\\\\\"id\\\\\\\\\\\\\": \\\\\\\\\\\\\"637f5c0f-bf10-4613-b744-076a9cce9448\\\\\\\\\\\\\", \\\\\\\\\\\\\"type\\\\\\\\\\\\\": \\\\\\\\\\\\\"Microsoft.DPrep.GetDatastoreFilesBlock\\\\\\\\\\\\\", \\\\\\\\\\\\\"arguments\\\\\\\\\\\\\": {\\\\\\\\\\\\\"datastores\\\\\\\\\\\\\": [{\\\\\\\\\\\\\"datastoreName\\\\\\\\\\\\\": \\\\\\\\\\\\\"workspaceblobstore\\\\\\\\\\\\\", \\\\\\\\\\\\\"path\\\\\\\\\\\\\": \\\\\\\\\\\\\"UI/03-13-2021_125014_UTC/heart_failure_clinical_records_dataset.csv\\\\\\\\\\\\\", \\\\\\\\\\\\\"resourceGroup\\\\\\\\\\\\\": \\\\\\\\\\\\\"aml-quickstarts-140338\\\\\\\\\\\\\", \\\\\\\\\\\\\"subscription\\\\\\\\\\\\\": \\\\\\\\\\\\\"a0a76bad-11a1-4a2d-9887-97a29122c8ed\\\\\\\\\\\\\", \\\\\\\\\\\\\"workspaceName\\\\\\\\\\\\\": \\\\\\\\\\\\\"quick-starts-ws-140338\\\\\\\\\\\\\"}]}, \\\\\\\\\\\\\"localData\\\\\\\\\\\\\": {}, \\\\\\\\\\\\\"isEnabled\\\\\\\\\\\\\": true, \\\\\\\\\\\\\"name\\\\\\\\\\\\\": null, \\\\\\\\\\\\\"annotation\\\\\\\\\\\\\": null}, {\\\\\\\\\\\\\"id\\\\\\\\\\\\\": \\\\\\\\\\\\\"3f334c31-8093-4927-aa10-d8e910f1436d\\\\\\\\\\\\\", \\\\\\\\\\\\\"type\\\\\\\\\\\\\": \\\\\\\\\\\\\"Microsoft.DPrep.ParseDelimitedBlock\\\\\\\\\\\\\", \\\\\\\\\\\\\"arguments\\\\\\\\\\\\\": {\\\\\\\\\\\\\"columnHeadersMode\\\\\\\\\\\\\": 1, \\\\\\\\\\\\\"fileEncoding\\\\\\\\\\\\\": 0, \\\\\\\\\\\\\"handleQuotedLineBreaks\\\\\\\\\\\\\": false, \\\\\\\\\\\\\"preview\\\\\\\\\\\\\": false, \\\\\\\\\\\\\"separator\\\\\\\\\\\\\": \\\\\\\\\\\\\",\\\\\\\\\\\\\", \\\\\\\\\\\\\"skipRows\\\\\\\\\\\\\": 0, \\\\\\\\\\\\\"skipRowsMode\\\\\\\\\\\\\": 0}, \\\\\\\\\\\\\"localData\\\\\\\\\\\\\": {}, \\\\\\\\\\\\\"isEnabled\\\\\\\\\\\\\": true, \\\\\\\\\\\\\"name\\\\\\\\\\\\\": null, \\\\\\\\\\\\\"annotation\\\\\\\\\\\\\": null}, {\\\\\\\\\\\\\"id\\\\\\\\\\\\\": \\\\\\\\\\\\\"3fc8179a-71f3-4687-b9fa-e038e5760155\\\\\\\\\\\\\", \\\\\\\\\\\\\"type\\\\\\\\\\\\\": \\\\\\\\\\\\\"Microsoft.DPrep.DropColumnsBlock\\\\\\\\\\\\\", \\\\\\\\\\\\\"arguments\\\\\\\\\\\\\": {\\\\\\\\\\\\\"columns\\\\\\\\\\\\\": {\\\\\\\\\\\\\"type\\\\\\\\\\\\\": 0, \\\\\\\\\\\\\"details\\\\\\\\\\\\\": {\\\\\\\\\\\\\"selectedColumns\\\\\\\\\\\\\": [\\\\\\\\\\\\\"Path\\\\\\\\\\\\\"]}}}, \\\\\\\\\\\\\"localData\\\\\\\\\\\\\": {}, \\\\\\\\\\\\\"isEnabled\\\\\\\\\\\\\": true, \\\\\\\\\\\\\"name\\\\\\\\\\\\\": null, \\\\\\\\\\\\\"annotation\\\\\\\\\\\\\": null}, {\\\\\\\\\\\\\"id\\\\\\\\\\\\\": \\\\\\\\\\\\\"9434ef91-dffc-41b0-ad7b-92ac40b96b64\\\\\\\\\\\\\", \\\\\\\\\\\\\"type\\\\\\\\\\\\\": \\\\\\\\\\\\\"Microsoft.DPrep.SetColumnTypesBlock\\\\\\\\\\\\\", \\\\\\\\\\\\\"arguments\\\\\\\\\\\\\": {\\\\\\\\\\\\\"columnConversion\\\\\\\\\\\\\": [{\\\\\\\\\\\\\"column\\\\\\\\\\\\\": {\\\\\\\\\\\\\"type\\\\\\\\\\\\\": 2, \\\\\\\\\\\\\"details\\\\\\\\\\\\\": {\\\\\\\\\\\\\"selectedColumn\\\\\\\\\\\\\": \\\\\\\\\\\\\"Path\\\\\\\\\\\\\"}}, \\\\\\\\\\\\\"typeProperty\\\\\\\\\\\\\": 0}, {\\\\\\\\\\\\\"column\\\\\\\\\\\\\": {\\\\\\\\\\\\\"type\\\\\\\\\\\\\": 2, \\\\\\\\\\\\\"details\\\\\\\\\\\\\": {\\\\\\\\\\\\\"selectedColumn\\\\\\\\\\\\\": \\\\\\\\\\\\\"age\\\\\\\\\\\\\"}}, \\\\\\\\\\\\\"typeProperty\\\\\\\\\\\\\": 3}, {\\\\\\\\\\\\\"column\\\\\\\\\\\\\": {\\\\\\\\\\\\\"type\\\\\\\\\\\\\": 2, \\\\\\\\\\\\\"details\\\\\\\\\\\\\": {\\\\\\\\\\\\\"selectedColumn\\\\\\\\\\\\\": \\\\\\\\\\\\\"anaemia\\\\\\\\\\\\\"}}, \\\\\\\\\\\\\"typeProperty\\\\\\\\\\\\\": 2}, {\\\\\\\\\\\\\"column\\\\\\\\\\\\\": {\\\\\\\\\\\\\"type\\\\\\\\\\\\\": 2, \\\\\\\\\\\\\"details\\\\\\\\\\\\\": {\\\\\\\\\\\\\"selectedColumn\\\\\\\\\\\\\": \\\\\\\\\\\\\"creatinine_phosphokinase\\\\\\\\\\\\\"}}, \\\\\\\\\\\\\"typeProperty\\\\\\\\\\\\\": 2}, {\\\\\\\\\\\\\"column\\\\\\\\\\\\\": {\\\\\\\\\\\\\"type\\\\\\\\\\\\\": 2, \\\\\\\\\\\\\"details\\\\\\\\\\\\\": {\\\\\\\\\\\\\"selectedColumn\\\\\\\\\\\\\": \\\\\\\\\\\\\"diabetes\\\\\\\\\\\\\"}}, \\\\\\\\\\\\\"typeProperty\\\\\\\\\\\\\": 2}, {\\\\\\\\\\\\\"column\\\\\\\\\\\\\": {\\\\\\\\\\\\\"type\\\\\\\\\\\\\": 2, \\\\\\\\\\\\\"details\\\\\\\\\\\\\": {\\\\\\\\\\\\\"selectedColumn\\\\\\\\\\\\\": \\\\\\\\\\\\\"ejection_fraction\\\\\\\\\\\\\"}}, \\\\\\\\\\\\\"typeProperty\\\\\\\\\\\\\": 2}, {\\\\\\\\\\\\\"column\\\\\\\\\\\\\": {\\\\\\\\\\\\\"type\\\\\\\\\\\\\": 2, \\\\\\\\\\\\\"details\\\\\\\\\\\\\": {\\\\\\\\\\\\\"selectedColumn\\\\\\\\\\\\\": \\\\\\\\\\\\\"high_blood_pressure\\\\\\\\\\\\\"}}, \\\\\\\\\\\\\"typeProperty\\\\\\\\\\\\\": 2}, {\\\\\\\\\\\\\"column\\\\\\\\\\\\\": {\\\\\\\\\\\\\"type\\\\\\\\\\\\\": 2, \\\\\\\\\\\\\"details\\\\\\\\\\\\\": {\\\\\\\\\\\\\"selectedColumn\\\\\\\\\\\\\": \\\\\\\\\\\\\"platelets\\\\\\\\\\\\\"}}, \\\\\\\\\\\\\"typeProperty\\\\\\\\\\\\\": 3}, {\\\\\\\\\\\\\"column\\\\\\\\\\\\\": {\\\\\\\\\\\\\"type\\\\\\\\\\\\\": 2, \\\\\\\\\\\\\"details\\\\\\\\\\\\\": {\\\\\\\\\\\\\"selectedColumn\\\\\\\\\\\\\": \\\\\\\\\\\\\"serum_creatinine\\\\\\\\\\\\\"}}, \\\\\\\\\\\\\"typeProperty\\\\\\\\\\\\\": 3}, {\\\\\\\\\\\\\"column\\\\\\\\\\\\\": {\\\\\\\\\\\\\"type\\\\\\\\\\\\\": 2, \\\\\\\\\\\\\"details\\\\\\\\\\\\\": {\\\\\\\\\\\\\"selectedColumn\\\\\\\\\\\\\": \\\\\\\\\\\\\"serum_sodium\\\\\\\\\\\\\"}}, \\\\\\\\\\\\\"typeProperty\\\\\\\\\\\\\": 2}, {\\\\\\\\\\\\\"column\\\\\\\\\\\\\": {\\\\\\\\\\\\\"type\\\\\\\\\\\\\": 2, \\\\\\\\\\\\\"details\\\\\\\\\\\\\": {\\\\\\\\\\\\\"selectedColumn\\\\\\\\\\\\\": \\\\\\\\\\\\\"sex\\\\\\\\\\\\\"}}, \\\\\\\\\\\\\"typeProperty\\\\\\\\\\\\\": 2}, {\\\\\\\\\\\\\"column\\\\\\\\\\\\\": {\\\\\\\\\\\\\"type\\\\\\\\\\\\\": 2, \\\\\\\\\\\\\"details\\\\\\\\\\\\\": {\\\\\\\\\\\\\"selectedColumn\\\\\\\\\\\\\": \\\\\\\\\\\\\"smoking\\\\\\\\\\\\\"}}, \\\\\\\\\\\\\"typeProperty\\\\\\\\\\\\\": 2}, {\\\\\\\\\\\\\"column\\\\\\\\\\\\\": {\\\\\\\\\\\\\"type\\\\\\\\\\\\\": 2, \\\\\\\\\\\\\"details\\\\\\\\\\\\\": {\\\\\\\\\\\\\"selectedColumn\\\\\\\\\\\\\": \\\\\\\\\\\\\"time\\\\\\\\\\\\\"}}, \\\\\\\\\\\\\"typeProperty\\\\\\\\\\\\\": 2}, {\\\\\\\\\\\\\"column\\\\\\\\\\\\\": {\\\\\\\\\\\\\"type\\\\\\\\\\\\\": 2, \\\\\\\\\\\\\"details\\\\\\\\\\\\\": {\\\\\\\\\\\\\"selectedColumn\\\\\\\\\\\\\": \\\\\\\\\\\\\"DEATH_EVENT\\\\\\\\\\\\\"}}, \\\\\\\\\\\\\"typeProperty\\\\\\\\\\\\\": 2}]}, \\\\\\\\\\\\\"localData\\\\\\\\\\\\\": {}, \\\\\\\\\\\\\"isEnabled\\\\\\\\\\\\\": true, \\\\\\\\\\\\\"name\\\\\\\\\\\\\": null, \\\\\\\\\\\\\"annotation\\\\\\\\\\\\\": null}], \\\\\\\\\\\\\"inspectors\\\\\\\\\\\\\": [], \\\\\\\\\\\\\"meta\\\\\\\\\\\\\": {\\\\\\\\\\\\\"savedDatasetId\\\\\\\\\\\\\": \\\\\\\\\\\\\"4baa276b-a519-4ec1-b761-15989fd78e44\\\\\\\\\\\\\", \\\\\\\\\\\\\"datasetType\\\\\\\\\\\\\": \\\\\\\\\\\\\"tabular\\\\\\\\\\\\\", \\\\\\\\\\\\\"subscriptionId\\\\\\\\\\\\\": \\\\\\\\\\\\\"a0a76bad-11a1-4a2d-9887-97a29122c8ed\\\\\\\\\\\\\", \\\\\\\\\\\\\"workspaceId\\\\\\\\\\\\\": \\\\\\\\\\\\\"c511ea6a-983a-4414-97e5-7861cfd58978\\\\\\\\\\\\\", \\\\\\\\\\\\\"workspaceLocation\\\\\\\\\\\\\": \\\\\\\\\\\\\"southcentralus\\\\\\\\\\\\\"}}\\\\\", \\\\\"activities\\\\\": 0}',\n  'EnableSubsampling': None,\n  'runTemplate': 'AutoML',\n  'azureml.runsource': 'automl',\n  'display_task_type': 'classification',\n  'dependencies_versions': '{\"azureml-widgets\": \"1.22.0\", \"azureml-train\": \"1.22.0\", \"azureml-train-restclients-hyperdrive\": \"1.22.0\", \"azureml-train-core\": \"1.22.0\", \"azureml-train-automl\": \"1.22.0\", \"azureml-train-automl-runtime\": \"1.22.0\", \"azureml-train-automl-client\": \"1.22.0\", \"azureml-tensorboard\": \"1.22.0\", \"azureml-telemetry\": \"1.22.0\", \"azureml-sdk\": \"1.22.0\", \"azureml-samples\": \"0+unknown\", \"azureml-pipeline\": \"1.22.0\", \"azureml-pipeline-steps\": \"1.22.0\", \"azureml-pipeline-core\": \"1.22.0\", \"azureml-opendatasets\": \"1.22.0\", \"azureml-model-management-sdk\": \"1.0.1b6.post1\", \"azureml-mlflow\": \"1.22.0\", \"azureml-interpret\": \"1.22.0\", \"azureml-explain-model\": \"1.22.0\", \"azureml-defaults\": \"1.22.0\", \"azureml-dataset-runtime\": \"1.22.0\", \"azureml-dataprep\": \"2.9.1\", \"azureml-dataprep-rslex\": \"1.7.0\", \"azureml-dataprep-native\": \"29.0.0\", \"azureml-datadrift\": \"1.22.0\", \"azureml-core\": \"1.22.0\", \"azureml-contrib-services\": \"1.22.0\", \"azureml-contrib-server\": \"1.22.0\", \"azureml-contrib-reinforcementlearning\": \"1.22.0\", \"azureml-contrib-pipeline-steps\": \"1.22.0\", \"azureml-contrib-notebook\": \"1.22.0\", \"azureml-contrib-interpret\": \"1.22.0\", \"azureml-contrib-gbdt\": \"1.22.0\", \"azureml-contrib-fairness\": \"1.22.0\", \"azureml-contrib-dataset\": \"1.22.0\", \"azureml-cli-common\": \"1.22.0\", \"azureml-automl-runtime\": \"1.22.0\", \"azureml-automl-core\": \"1.22.0\", \"azureml-accel-models\": \"1.22.0\"}',\n  '_aml_system_scenario_identification': 'Remote.Parent',\n  'ClientType': 'SDK',\n  'environment_cpu_name': 'AzureML-AutoML',\n  'environment_cpu_label': 'prod',\n  'environment_gpu_name': 'AzureML-AutoML-GPU',\n  'environment_gpu_label': 'prod',\n  'root_attribution': 'automl',\n  'attribution': 'AutoML',\n  'Orchestrator': 'AutoML',\n  'CancelUri': 'https://southcentralus.experiments.azureml.net/jasmine/v1.0/subscriptions/a0a76bad-11a1-4a2d-9887-97a29122c8ed/resourceGroups/aml-quickstarts-140338/providers/Microsoft.MachineLearningServices/workspaces/quick-starts-ws-140338/experimentids/fe3049ba-4862-4a2f-b448-9ba6fcc58e33/cancel/AutoML_b91a3efe-41dd-4446-ab0b-bc946e08490e',\n  'ClientSdkVersion': '1.23.0',\n  'snapshotId': '00000000-0000-0000-0000-000000000000',\n  'SetupRunId': 'AutoML_b91a3efe-41dd-4446-ab0b-bc946e08490e_setup',\n  'SetupRunContainerId': 'dcid.AutoML_b91a3efe-41dd-4446-ab0b-bc946e08490e_setup',\n  'FeaturizationRunJsonPath': 'featurizer_container.json',\n  'FeaturizationRunId': 'AutoML_b91a3efe-41dd-4446-ab0b-bc946e08490e_featurize',\n  'ProblemInfoJsonString': '{\"dataset_num_categorical\": 0, \"is_sparse\": false, \"subsampling\": false, \"dataset_classes\": 2, \"dataset_features\": 12, \"dataset_samples\": 299, \"single_frequency_class_detected\": false}',\n  'ModelExplainRunId': 'AutoML_b91a3efe-41dd-4446-ab0b-bc946e08490e_ModelExplain'},\n 'inputDatasets': [{'dataset': {'id': '4baa276b-a519-4ec1-b761-15989fd78e44'}, 'consumptionDetails': {'type': 'RunInput', 'inputName': 'training_data', 'mechanism': 'Direct'}}],\n 'outputDatasets': [],\n 'logFiles': {},\n 'submittedBy': 'ODL_User 140338'}"
          },
          "metadata": {}
        }
      ],
      "execution_count": 8,
      "metadata": {
        "gather": {
          "logged": 1615648885384
        },
        "id": "rFgQUK0s1j--",
        "jupyter": {
          "outputs_hidden": false,
          "source_hidden": false
        },
        "nteract": {
          "transient": {
            "deleting": false
          }
        },
        "outputId": "6613c178-c91e-4328-a2a2-2df72175e886"
      }
    },
    {
      "cell_type": "markdown",
      "source": [
        "## Run Details\n"
      ],
      "metadata": {
        "id": "GPleLBD31j--"
      }
    },
    {
      "cell_type": "code",
      "source": [
        "RunDetails(remote_run).show()"
      ],
      "outputs": [
        {
          "output_type": "display_data",
          "data": {
            "text/plain": "_AutoMLWidget(widget_settings={'childWidgetDisplay': 'popup', 'send_telemetry': False, 'log_level': 'INFO', 's…",
            "application/vnd.jupyter.widget-view+json": {
              "version_major": 2,
              "version_minor": 0,
              "model_id": "a433b519112a455492c6e623a5f3ff35"
            }
          },
          "metadata": {}
        },
        {
          "output_type": "display_data",
          "data": {
            "application/aml.mini.widget.v1": "{\"status\": \"Completed\", \"workbench_run_details_uri\": \"https://ml.azure.com/experiments/heart-failure-experiment/runs/AutoML_b91a3efe-41dd-4446-ab0b-bc946e08490e?wsid=/subscriptions/a0a76bad-11a1-4a2d-9887-97a29122c8ed/resourcegroups/aml-quickstarts-140338/workspaces/quick-starts-ws-140338\", \"run_id\": \"AutoML_b91a3efe-41dd-4446-ab0b-bc946e08490e\", \"run_properties\": {\"run_id\": \"AutoML_b91a3efe-41dd-4446-ab0b-bc946e08490e\", \"created_utc\": \"2021-03-13T15:04:50.261492Z\", \"properties\": {\"num_iterations\": \"1000\", \"training_type\": \"TrainFull\", \"acquisition_function\": \"EI\", \"primary_metric\": \"accuracy\", \"train_split\": \"0\", \"acquisition_parameter\": \"0\", \"num_cross_validation\": \"2\", \"target\": \"cpu-cluster\", \"AMLSettingsJsonString\": \"{\\\"path\\\":null,\\\"name\\\":\\\"heart-failure-experiment\\\",\\\"subscription_id\\\":\\\"a0a76bad-11a1-4a2d-9887-97a29122c8ed\\\",\\\"resource_group\\\":\\\"aml-quickstarts-140338\\\",\\\"workspace_name\\\":\\\"quick-starts-ws-140338\\\",\\\"region\\\":\\\"southcentralus\\\",\\\"compute_target\\\":\\\"cpu-cluster\\\",\\\"spark_service\\\":null,\\\"azure_service\\\":\\\"remote\\\",\\\"many_models\\\":false,\\\"pipeline_fetch_max_batch_size\\\":1,\\\"iterations\\\":1000,\\\"primary_metric\\\":\\\"accuracy\\\",\\\"task_type\\\":\\\"classification\\\",\\\"data_script\\\":null,\\\"validation_size\\\":0.0,\\\"n_cross_validations\\\":2,\\\"y_min\\\":null,\\\"y_max\\\":null,\\\"num_classes\\\":null,\\\"featurization\\\":\\\"auto\\\",\\\"_ignore_package_version_incompatibilities\\\":false,\\\"is_timeseries\\\":false,\\\"max_cores_per_iteration\\\":1,\\\"max_concurrent_iterations\\\":4,\\\"iteration_timeout_minutes\\\":null,\\\"mem_in_mb\\\":null,\\\"enforce_time_on_windows\\\":false,\\\"experiment_timeout_minutes\\\":20,\\\"experiment_exit_score\\\":null,\\\"whitelist_models\\\":null,\\\"blacklist_algos\\\":[\\\"XGBoostClassifier\\\",\\\"TensorFlowLinearClassifier\\\",\\\"TensorFlowDNN\\\"],\\\"supported_models\\\":[\\\"RandomForest\\\",\\\"XGBoostClassifier\\\",\\\"TensorFlowLinearClassifier\\\",\\\"DecisionTree\\\",\\\"LightGBM\\\",\\\"GradientBoosting\\\",\\\"BernoulliNaiveBayes\\\",\\\"LinearSVM\\\",\\\"SGD\\\",\\\"SVM\\\",\\\"AveragedPerceptronClassifier\\\",\\\"TensorFlowDNN\\\",\\\"ExtremeRandomTrees\\\",\\\"KNN\\\",\\\"MultinomialNaiveBayes\\\",\\\"LogisticRegression\\\"],\\\"private_models\\\":[],\\\"auto_blacklist\\\":true,\\\"blacklist_samples_reached\\\":false,\\\"exclude_nan_labels\\\":true,\\\"verbosity\\\":20,\\\"_debug_log\\\":\\\"azureml_automl.log\\\",\\\"show_warnings\\\":false,\\\"model_explainability\\\":true,\\\"service_url\\\":null,\\\"sdk_url\\\":null,\\\"sdk_packages\\\":null,\\\"enable_onnx_compatible_models\\\":false,\\\"enable_split_onnx_featurizer_estimator_models\\\":false,\\\"vm_type\\\":\\\"STANDARD_DS3_V2\\\",\\\"telemetry_verbosity\\\":20,\\\"send_telemetry\\\":true,\\\"enable_dnn\\\":false,\\\"scenario\\\":\\\"SDK-1.13.0\\\",\\\"environment_label\\\":null,\\\"force_text_dnn\\\":false,\\\"enable_feature_sweeping\\\":true,\\\"enable_early_stopping\\\":true,\\\"early_stopping_n_iters\\\":10,\\\"metrics\\\":null,\\\"enable_ensembling\\\":true,\\\"enable_stack_ensembling\\\":true,\\\"ensemble_iterations\\\":15,\\\"enable_tf\\\":false,\\\"enable_subsampling\\\":null,\\\"subsample_seed\\\":null,\\\"enable_nimbusml\\\":false,\\\"enable_streaming\\\":false,\\\"force_streaming\\\":false,\\\"track_child_runs\\\":true,\\\"allowed_private_models\\\":[],\\\"label_column_name\\\":\\\"DEATH_EVENT\\\",\\\"weight_column_name\\\":null,\\\"cv_split_column_names\\\":null,\\\"enable_local_managed\\\":false,\\\"_local_managed_run_id\\\":null,\\\"cost_mode\\\":1,\\\"lag_length\\\":0,\\\"metric_operation\\\":\\\"maximize\\\",\\\"preprocess\\\":true}\", \"DataPrepJsonString\": \"{\\\\\\\"training_data\\\\\\\": \\\\\\\"{\\\\\\\\\\\\\\\"blocks\\\\\\\\\\\\\\\": [{\\\\\\\\\\\\\\\"id\\\\\\\\\\\\\\\": \\\\\\\\\\\\\\\"637f5c0f-bf10-4613-b744-076a9cce9448\\\\\\\\\\\\\\\", \\\\\\\\\\\\\\\"type\\\\\\\\\\\\\\\": \\\\\\\\\\\\\\\"Microsoft.DPrep.GetDatastoreFilesBlock\\\\\\\\\\\\\\\", \\\\\\\\\\\\\\\"arguments\\\\\\\\\\\\\\\": {\\\\\\\\\\\\\\\"datastores\\\\\\\\\\\\\\\": [{\\\\\\\\\\\\\\\"datastoreName\\\\\\\\\\\\\\\": \\\\\\\\\\\\\\\"workspaceblobstore\\\\\\\\\\\\\\\", \\\\\\\\\\\\\\\"path\\\\\\\\\\\\\\\": \\\\\\\\\\\\\\\"UI/03-13-2021_125014_UTC/heart_failure_clinical_records_dataset.csv\\\\\\\\\\\\\\\", \\\\\\\\\\\\\\\"resourceGroup\\\\\\\\\\\\\\\": \\\\\\\\\\\\\\\"aml-quickstarts-140338\\\\\\\\\\\\\\\", \\\\\\\\\\\\\\\"subscription\\\\\\\\\\\\\\\": \\\\\\\\\\\\\\\"a0a76bad-11a1-4a2d-9887-97a29122c8ed\\\\\\\\\\\\\\\", \\\\\\\\\\\\\\\"workspaceName\\\\\\\\\\\\\\\": \\\\\\\\\\\\\\\"quick-starts-ws-140338\\\\\\\\\\\\\\\"}]}, \\\\\\\\\\\\\\\"localData\\\\\\\\\\\\\\\": {}, \\\\\\\\\\\\\\\"isEnabled\\\\\\\\\\\\\\\": true, \\\\\\\\\\\\\\\"name\\\\\\\\\\\\\\\": null, \\\\\\\\\\\\\\\"annotation\\\\\\\\\\\\\\\": null}, {\\\\\\\\\\\\\\\"id\\\\\\\\\\\\\\\": \\\\\\\\\\\\\\\"3f334c31-8093-4927-aa10-d8e910f1436d\\\\\\\\\\\\\\\", \\\\\\\\\\\\\\\"type\\\\\\\\\\\\\\\": \\\\\\\\\\\\\\\"Microsoft.DPrep.ParseDelimitedBlock\\\\\\\\\\\\\\\", \\\\\\\\\\\\\\\"arguments\\\\\\\\\\\\\\\": {\\\\\\\\\\\\\\\"columnHeadersMode\\\\\\\\\\\\\\\": 1, \\\\\\\\\\\\\\\"fileEncoding\\\\\\\\\\\\\\\": 0, \\\\\\\\\\\\\\\"handleQuotedLineBreaks\\\\\\\\\\\\\\\": false, \\\\\\\\\\\\\\\"preview\\\\\\\\\\\\\\\": false, \\\\\\\\\\\\\\\"separator\\\\\\\\\\\\\\\": \\\\\\\\\\\\\\\",\\\\\\\\\\\\\\\", \\\\\\\\\\\\\\\"skipRows\\\\\\\\\\\\\\\": 0, \\\\\\\\\\\\\\\"skipRowsMode\\\\\\\\\\\\\\\": 0}, \\\\\\\\\\\\\\\"localData\\\\\\\\\\\\\\\": {}, \\\\\\\\\\\\\\\"isEnabled\\\\\\\\\\\\\\\": true, \\\\\\\\\\\\\\\"name\\\\\\\\\\\\\\\": null, \\\\\\\\\\\\\\\"annotation\\\\\\\\\\\\\\\": null}, {\\\\\\\\\\\\\\\"id\\\\\\\\\\\\\\\": \\\\\\\\\\\\\\\"3fc8179a-71f3-4687-b9fa-e038e5760155\\\\\\\\\\\\\\\", \\\\\\\\\\\\\\\"type\\\\\\\\\\\\\\\": \\\\\\\\\\\\\\\"Microsoft.DPrep.DropColumnsBlock\\\\\\\\\\\\\\\", \\\\\\\\\\\\\\\"arguments\\\\\\\\\\\\\\\": {\\\\\\\\\\\\\\\"columns\\\\\\\\\\\\\\\": {\\\\\\\\\\\\\\\"type\\\\\\\\\\\\\\\": 0, \\\\\\\\\\\\\\\"details\\\\\\\\\\\\\\\": {\\\\\\\\\\\\\\\"selectedColumns\\\\\\\\\\\\\\\": [\\\\\\\\\\\\\\\"Path\\\\\\\\\\\\\\\"]}}}, \\\\\\\\\\\\\\\"localData\\\\\\\\\\\\\\\": {}, \\\\\\\\\\\\\\\"isEnabled\\\\\\\\\\\\\\\": true, \\\\\\\\\\\\\\\"name\\\\\\\\\\\\\\\": null, \\\\\\\\\\\\\\\"annotation\\\\\\\\\\\\\\\": null}, {\\\\\\\\\\\\\\\"id\\\\\\\\\\\\\\\": \\\\\\\\\\\\\\\"9434ef91-dffc-41b0-ad7b-92ac40b96b64\\\\\\\\\\\\\\\", \\\\\\\\\\\\\\\"type\\\\\\\\\\\\\\\": \\\\\\\\\\\\\\\"Microsoft.DPrep.SetColumnTypesBlock\\\\\\\\\\\\\\\", \\\\\\\\\\\\\\\"arguments\\\\\\\\\\\\\\\": {\\\\\\\\\\\\\\\"columnConversion\\\\\\\\\\\\\\\": [{\\\\\\\\\\\\\\\"column\\\\\\\\\\\\\\\": {\\\\\\\\\\\\\\\"type\\\\\\\\\\\\\\\": 2, \\\\\\\\\\\\\\\"details\\\\\\\\\\\\\\\": {\\\\\\\\\\\\\\\"selectedColumn\\\\\\\\\\\\\\\": \\\\\\\\\\\\\\\"Path\\\\\\\\\\\\\\\"}}, \\\\\\\\\\\\\\\"typeProperty\\\\\\\\\\\\\\\": 0}, {\\\\\\\\\\\\\\\"column\\\\\\\\\\\\\\\": {\\\\\\\\\\\\\\\"type\\\\\\\\\\\\\\\": 2, \\\\\\\\\\\\\\\"details\\\\\\\\\\\\\\\": {\\\\\\\\\\\\\\\"selectedColumn\\\\\\\\\\\\\\\": \\\\\\\\\\\\\\\"age\\\\\\\\\\\\\\\"}}, \\\\\\\\\\\\\\\"typeProperty\\\\\\\\\\\\\\\": 3}, {\\\\\\\\\\\\\\\"column\\\\\\\\\\\\\\\": {\\\\\\\\\\\\\\\"type\\\\\\\\\\\\\\\": 2, \\\\\\\\\\\\\\\"details\\\\\\\\\\\\\\\": {\\\\\\\\\\\\\\\"selectedColumn\\\\\\\\\\\\\\\": \\\\\\\\\\\\\\\"anaemia\\\\\\\\\\\\\\\"}}, \\\\\\\\\\\\\\\"typeProperty\\\\\\\\\\\\\\\": 2}, {\\\\\\\\\\\\\\\"column\\\\\\\\\\\\\\\": {\\\\\\\\\\\\\\\"type\\\\\\\\\\\\\\\": 2, \\\\\\\\\\\\\\\"details\\\\\\\\\\\\\\\": {\\\\\\\\\\\\\\\"selectedColumn\\\\\\\\\\\\\\\": \\\\\\\\\\\\\\\"creatinine_phosphokinase\\\\\\\\\\\\\\\"}}, \\\\\\\\\\\\\\\"typeProperty\\\\\\\\\\\\\\\": 2}, {\\\\\\\\\\\\\\\"column\\\\\\\\\\\\\\\": {\\\\\\\\\\\\\\\"type\\\\\\\\\\\\\\\": 2, \\\\\\\\\\\\\\\"details\\\\\\\\\\\\\\\": {\\\\\\\\\\\\\\\"selectedColumn\\\\\\\\\\\\\\\": \\\\\\\\\\\\\\\"diabetes\\\\\\\\\\\\\\\"}}, \\\\\\\\\\\\\\\"typeProperty\\\\\\\\\\\\\\\": 2}, {\\\\\\\\\\\\\\\"column\\\\\\\\\\\\\\\": {\\\\\\\\\\\\\\\"type\\\\\\\\\\\\\\\": 2, \\\\\\\\\\\\\\\"details\\\\\\\\\\\\\\\": {\\\\\\\\\\\\\\\"selectedColumn\\\\\\\\\\\\\\\": \\\\\\\\\\\\\\\"ejection_fraction\\\\\\\\\\\\\\\"}}, \\\\\\\\\\\\\\\"typeProperty\\\\\\\\\\\\\\\": 2}, {\\\\\\\\\\\\\\\"column\\\\\\\\\\\\\\\": {\\\\\\\\\\\\\\\"type\\\\\\\\\\\\\\\": 2, \\\\\\\\\\\\\\\"details\\\\\\\\\\\\\\\": {\\\\\\\\\\\\\\\"selectedColumn\\\\\\\\\\\\\\\": \\\\\\\\\\\\\\\"high_blood_pressure\\\\\\\\\\\\\\\"}}, \\\\\\\\\\\\\\\"typeProperty\\\\\\\\\\\\\\\": 2}, {\\\\\\\\\\\\\\\"column\\\\\\\\\\\\\\\": {\\\\\\\\\\\\\\\"type\\\\\\\\\\\\\\\": 2, \\\\\\\\\\\\\\\"details\\\\\\\\\\\\\\\": {\\\\\\\\\\\\\\\"selectedColumn\\\\\\\\\\\\\\\": \\\\\\\\\\\\\\\"platelets\\\\\\\\\\\\\\\"}}, \\\\\\\\\\\\\\\"typeProperty\\\\\\\\\\\\\\\": 3}, {\\\\\\\\\\\\\\\"column\\\\\\\\\\\\\\\": {\\\\\\\\\\\\\\\"type\\\\\\\\\\\\\\\": 2, \\\\\\\\\\\\\\\"details\\\\\\\\\\\\\\\": {\\\\\\\\\\\\\\\"selectedColumn\\\\\\\\\\\\\\\": \\\\\\\\\\\\\\\"serum_creatinine\\\\\\\\\\\\\\\"}}, \\\\\\\\\\\\\\\"typeProperty\\\\\\\\\\\\\\\": 3}, {\\\\\\\\\\\\\\\"column\\\\\\\\\\\\\\\": {\\\\\\\\\\\\\\\"type\\\\\\\\\\\\\\\": 2, \\\\\\\\\\\\\\\"details\\\\\\\\\\\\\\\": {\\\\\\\\\\\\\\\"selectedColumn\\\\\\\\\\\\\\\": \\\\\\\\\\\\\\\"serum_sodium\\\\\\\\\\\\\\\"}}, \\\\\\\\\\\\\\\"typeProperty\\\\\\\\\\\\\\\": 2}, {\\\\\\\\\\\\\\\"column\\\\\\\\\\\\\\\": {\\\\\\\\\\\\\\\"type\\\\\\\\\\\\\\\": 2, \\\\\\\\\\\\\\\"details\\\\\\\\\\\\\\\": {\\\\\\\\\\\\\\\"selectedColumn\\\\\\\\\\\\\\\": \\\\\\\\\\\\\\\"sex\\\\\\\\\\\\\\\"}}, \\\\\\\\\\\\\\\"typeProperty\\\\\\\\\\\\\\\": 2}, {\\\\\\\\\\\\\\\"column\\\\\\\\\\\\\\\": {\\\\\\\\\\\\\\\"type\\\\\\\\\\\\\\\": 2, \\\\\\\\\\\\\\\"details\\\\\\\\\\\\\\\": {\\\\\\\\\\\\\\\"selectedColumn\\\\\\\\\\\\\\\": \\\\\\\\\\\\\\\"smoking\\\\\\\\\\\\\\\"}}, \\\\\\\\\\\\\\\"typeProperty\\\\\\\\\\\\\\\": 2}, {\\\\\\\\\\\\\\\"column\\\\\\\\\\\\\\\": {\\\\\\\\\\\\\\\"type\\\\\\\\\\\\\\\": 2, \\\\\\\\\\\\\\\"details\\\\\\\\\\\\\\\": {\\\\\\\\\\\\\\\"selectedColumn\\\\\\\\\\\\\\\": \\\\\\\\\\\\\\\"time\\\\\\\\\\\\\\\"}}, \\\\\\\\\\\\\\\"typeProperty\\\\\\\\\\\\\\\": 2}, {\\\\\\\\\\\\\\\"column\\\\\\\\\\\\\\\": {\\\\\\\\\\\\\\\"type\\\\\\\\\\\\\\\": 2, \\\\\\\\\\\\\\\"details\\\\\\\\\\\\\\\": {\\\\\\\\\\\\\\\"selectedColumn\\\\\\\\\\\\\\\": \\\\\\\\\\\\\\\"DEATH_EVENT\\\\\\\\\\\\\\\"}}, \\\\\\\\\\\\\\\"typeProperty\\\\\\\\\\\\\\\": 2}]}, \\\\\\\\\\\\\\\"localData\\\\\\\\\\\\\\\": {}, \\\\\\\\\\\\\\\"isEnabled\\\\\\\\\\\\\\\": true, \\\\\\\\\\\\\\\"name\\\\\\\\\\\\\\\": null, \\\\\\\\\\\\\\\"annotation\\\\\\\\\\\\\\\": null}], \\\\\\\\\\\\\\\"inspectors\\\\\\\\\\\\\\\": [], \\\\\\\\\\\\\\\"meta\\\\\\\\\\\\\\\": {\\\\\\\\\\\\\\\"savedDatasetId\\\\\\\\\\\\\\\": \\\\\\\\\\\\\\\"4baa276b-a519-4ec1-b761-15989fd78e44\\\\\\\\\\\\\\\", \\\\\\\\\\\\\\\"datasetType\\\\\\\\\\\\\\\": \\\\\\\\\\\\\\\"tabular\\\\\\\\\\\\\\\", \\\\\\\\\\\\\\\"subscriptionId\\\\\\\\\\\\\\\": \\\\\\\\\\\\\\\"a0a76bad-11a1-4a2d-9887-97a29122c8ed\\\\\\\\\\\\\\\", \\\\\\\\\\\\\\\"workspaceId\\\\\\\\\\\\\\\": \\\\\\\\\\\\\\\"c511ea6a-983a-4414-97e5-7861cfd58978\\\\\\\\\\\\\\\", \\\\\\\\\\\\\\\"workspaceLocation\\\\\\\\\\\\\\\": \\\\\\\\\\\\\\\"southcentralus\\\\\\\\\\\\\\\"}}\\\\\\\", \\\\\\\"activities\\\\\\\": 0}\", \"EnableSubsampling\": null, \"runTemplate\": \"AutoML\", \"azureml.runsource\": \"automl\", \"display_task_type\": \"classification\", \"dependencies_versions\": \"{\\\"azureml-widgets\\\": \\\"1.22.0\\\", \\\"azureml-train\\\": \\\"1.22.0\\\", \\\"azureml-train-restclients-hyperdrive\\\": \\\"1.22.0\\\", \\\"azureml-train-core\\\": \\\"1.22.0\\\", \\\"azureml-train-automl\\\": \\\"1.22.0\\\", \\\"azureml-train-automl-runtime\\\": \\\"1.22.0\\\", \\\"azureml-train-automl-client\\\": \\\"1.22.0\\\", \\\"azureml-tensorboard\\\": \\\"1.22.0\\\", \\\"azureml-telemetry\\\": \\\"1.22.0\\\", \\\"azureml-sdk\\\": \\\"1.22.0\\\", \\\"azureml-samples\\\": \\\"0+unknown\\\", \\\"azureml-pipeline\\\": \\\"1.22.0\\\", \\\"azureml-pipeline-steps\\\": \\\"1.22.0\\\", \\\"azureml-pipeline-core\\\": \\\"1.22.0\\\", \\\"azureml-opendatasets\\\": \\\"1.22.0\\\", \\\"azureml-model-management-sdk\\\": \\\"1.0.1b6.post1\\\", \\\"azureml-mlflow\\\": \\\"1.22.0\\\", \\\"azureml-interpret\\\": \\\"1.22.0\\\", \\\"azureml-explain-model\\\": \\\"1.22.0\\\", \\\"azureml-defaults\\\": \\\"1.22.0\\\", \\\"azureml-dataset-runtime\\\": \\\"1.22.0\\\", \\\"azureml-dataprep\\\": \\\"2.9.1\\\", \\\"azureml-dataprep-rslex\\\": \\\"1.7.0\\\", \\\"azureml-dataprep-native\\\": \\\"29.0.0\\\", \\\"azureml-datadrift\\\": \\\"1.22.0\\\", \\\"azureml-core\\\": \\\"1.22.0\\\", \\\"azureml-contrib-services\\\": \\\"1.22.0\\\", \\\"azureml-contrib-server\\\": \\\"1.22.0\\\", \\\"azureml-contrib-reinforcementlearning\\\": \\\"1.22.0\\\", \\\"azureml-contrib-pipeline-steps\\\": \\\"1.22.0\\\", \\\"azureml-contrib-notebook\\\": \\\"1.22.0\\\", \\\"azureml-contrib-interpret\\\": \\\"1.22.0\\\", \\\"azureml-contrib-gbdt\\\": \\\"1.22.0\\\", \\\"azureml-contrib-fairness\\\": \\\"1.22.0\\\", \\\"azureml-contrib-dataset\\\": \\\"1.22.0\\\", \\\"azureml-cli-common\\\": \\\"1.22.0\\\", \\\"azureml-automl-runtime\\\": \\\"1.22.0\\\", \\\"azureml-automl-core\\\": \\\"1.22.0\\\", \\\"azureml-accel-models\\\": \\\"1.22.0\\\"}\", \"_aml_system_scenario_identification\": \"Remote.Parent\", \"ClientType\": \"SDK\", \"environment_cpu_name\": \"AzureML-AutoML\", \"environment_cpu_label\": \"prod\", \"environment_gpu_name\": \"AzureML-AutoML-GPU\", \"environment_gpu_label\": \"prod\", \"root_attribution\": \"automl\", \"attribution\": \"AutoML\", \"Orchestrator\": \"AutoML\", \"CancelUri\": \"https://southcentralus.experiments.azureml.net/jasmine/v1.0/subscriptions/a0a76bad-11a1-4a2d-9887-97a29122c8ed/resourceGroups/aml-quickstarts-140338/providers/Microsoft.MachineLearningServices/workspaces/quick-starts-ws-140338/experimentids/fe3049ba-4862-4a2f-b448-9ba6fcc58e33/cancel/AutoML_b91a3efe-41dd-4446-ab0b-bc946e08490e\", \"ClientSdkVersion\": \"1.23.0\", \"snapshotId\": \"00000000-0000-0000-0000-000000000000\", \"SetupRunId\": \"AutoML_b91a3efe-41dd-4446-ab0b-bc946e08490e_setup\", \"SetupRunContainerId\": \"dcid.AutoML_b91a3efe-41dd-4446-ab0b-bc946e08490e_setup\", \"FeaturizationRunJsonPath\": \"featurizer_container.json\", \"FeaturizationRunId\": \"AutoML_b91a3efe-41dd-4446-ab0b-bc946e08490e_featurize\", \"ProblemInfoJsonString\": \"{\\\"dataset_num_categorical\\\": 0, \\\"is_sparse\\\": false, \\\"subsampling\\\": false, \\\"dataset_classes\\\": 2, \\\"dataset_features\\\": 12, \\\"dataset_samples\\\": 299, \\\"single_frequency_class_detected\\\": false}\", \"ModelExplainRunId\": \"AutoML_b91a3efe-41dd-4446-ab0b-bc946e08490e_ModelExplain\"}, \"tags\": {\"model_explain_run\": \"best_run\", \"_aml_system_azureml.automlComponent\": \"AutoML\", \"pipeline_id\": \"\", \"score\": \"\", \"predicted_cost\": \"\", \"fit_time\": \"\", \"training_percent\": \"\", \"iteration\": \"\", \"run_preprocessor\": \"\", \"run_algorithm\": \"\", \"dynamic_whitelisting_iterations\": \"<25>;<30>;<35>;\", \"automl_best_child_run_id\": \"AutoML_b91a3efe-41dd-4446-ab0b-bc946e08490e_36\", \"model_explain_best_run_child_id\": \"AutoML_b91a3efe-41dd-4446-ab0b-bc946e08490e_36\"}, \"end_time_utc\": \"2021-03-13T15:21:08.473188Z\", \"status\": \"Completed\", \"log_files\": {}, \"log_groups\": [], \"run_duration\": \"0:16:18\", \"run_number\": \"48\", \"run_queued_details\": {\"status\": \"Completed\", \"details\": null}}, \"child_runs\": [{\"run_id\": \"AutoML_b91a3efe-41dd-4446-ab0b-bc946e08490e_1\", \"run_number\": 52, \"metric\": null, \"status\": \"Completed\", \"run_type\": \"azureml.scriptrun\", \"training_percent\": \"100\", \"start_time\": \"2021-03-13T15:07:51.910512Z\", \"end_time\": \"2021-03-13T15:08:40.217821Z\", \"created_time\": \"2021-03-13T15:07:39.497105Z\", \"created_time_dt\": \"2021-03-13T15:07:39.497105Z\", \"duration\": \"0:01:00\", \"iteration\": \"1\", \"goal\": \"accuracy_max\", \"run_name\": \"MinMaxScaler, RandomForest\", \"run_properties\": \"copy=True, feature_range=(0, 1\", \"primary_metric\": 0.84608501, \"best_metric\": 0.84608501}, {\"run_id\": \"AutoML_b91a3efe-41dd-4446-ab0b-bc946e08490e_0\", \"run_number\": 53, \"metric\": null, \"status\": \"Completed\", \"run_type\": \"azureml.scriptrun\", \"training_percent\": \"100\", \"start_time\": \"2021-03-13T15:10:25.219757Z\", \"end_time\": \"2021-03-13T15:12:24.02858Z\", \"created_time\": \"2021-03-13T15:07:39.508277Z\", \"created_time_dt\": \"2021-03-13T15:07:39.508277Z\", \"duration\": \"0:04:44\", \"iteration\": \"0\", \"goal\": \"accuracy_max\", \"run_name\": \"MaxAbsScaler, LightGBM\", \"run_properties\": \"copy=True\", \"primary_metric\": 0.81270694, \"best_metric\": 0.81270694}, {\"run_id\": \"AutoML_b91a3efe-41dd-4446-ab0b-bc946e08490e_2\", \"run_number\": 54, \"metric\": null, \"status\": \"Completed\", \"run_type\": \"azureml.scriptrun\", \"training_percent\": \"100\", \"start_time\": \"2021-03-13T15:08:57.453475Z\", \"end_time\": \"2021-03-13T15:09:43.276195Z\", \"created_time\": \"2021-03-13T15:07:39.947779Z\", \"created_time_dt\": \"2021-03-13T15:07:39.947779Z\", \"duration\": \"0:02:03\", \"iteration\": \"2\", \"goal\": \"accuracy_max\", \"run_name\": \"MinMaxScaler, RandomForest\", \"run_properties\": \"copy=True, feature_range=(0, 1\", \"primary_metric\": 0.83277405, \"best_metric\": 0.84608501}, {\"run_id\": \"AutoML_b91a3efe-41dd-4446-ab0b-bc946e08490e_3\", \"run_number\": 55, \"metric\": null, \"status\": \"Completed\", \"run_type\": \"azureml.scriptrun\", \"training_percent\": \"100\", \"start_time\": \"2021-03-13T15:09:59.170235Z\", \"end_time\": \"2021-03-13T15:10:54.166303Z\", \"created_time\": \"2021-03-13T15:07:40.017632Z\", \"created_time_dt\": \"2021-03-13T15:07:40.017632Z\", \"duration\": \"0:03:14\", \"iteration\": \"3\", \"goal\": \"accuracy_max\", \"run_name\": \"MinMaxScaler, RandomForest\", \"run_properties\": \"copy=True, feature_range=(0, 1\", \"primary_metric\": 0.83944072, \"best_metric\": 0.84608501}, {\"run_id\": \"AutoML_b91a3efe-41dd-4446-ab0b-bc946e08490e_4\", \"run_number\": 56, \"metric\": null, \"status\": \"Completed\", \"run_type\": \"azureml.scriptrun\", \"training_percent\": \"100\", \"start_time\": \"2021-03-13T15:10:31.561054Z\", \"end_time\": \"2021-03-13T15:12:22.481099Z\", \"created_time\": \"2021-03-13T15:08:43.960369Z\", \"created_time_dt\": \"2021-03-13T15:08:43.960369Z\", \"duration\": \"0:03:38\", \"iteration\": \"4\", \"goal\": \"accuracy_max\", \"run_name\": \"MinMaxScaler, RandomForest\", \"run_properties\": \"copy=True, feature_range=(0, 1\", \"primary_metric\": 0.80935123, \"best_metric\": 0.84608501}, {\"run_id\": \"AutoML_b91a3efe-41dd-4446-ab0b-bc946e08490e_5\", \"run_number\": 57, \"metric\": null, \"status\": \"Completed\", \"run_type\": \"azureml.scriptrun\", \"training_percent\": \"100\", \"start_time\": \"2021-03-13T15:10:26.329494Z\", \"end_time\": \"2021-03-13T15:12:16.943224Z\", \"created_time\": \"2021-03-13T15:09:48.759271Z\", \"created_time_dt\": \"2021-03-13T15:09:48.759271Z\", \"duration\": \"0:02:28\", \"iteration\": \"5\", \"goal\": \"accuracy_max\", \"run_name\": \"MinMaxScaler, SVM\", \"run_properties\": \"copy=True, feature_range=(0, 1\", \"primary_metric\": 0.68217002, \"best_metric\": 0.84608501}, {\"run_id\": \"AutoML_b91a3efe-41dd-4446-ab0b-bc946e08490e_6\", \"run_number\": 58, \"metric\": null, \"status\": \"Completed\", \"run_type\": \"azureml.scriptrun\", \"training_percent\": \"100\", \"start_time\": \"2021-03-13T15:11:06.614507Z\", \"end_time\": \"2021-03-13T15:11:50.103492Z\", \"created_time\": \"2021-03-13T15:10:57.570757Z\", \"created_time_dt\": \"2021-03-13T15:10:57.570757Z\", \"duration\": \"0:00:52\", \"iteration\": \"6\", \"goal\": \"accuracy_max\", \"run_name\": \"MinMaxScaler, SVM\", \"run_properties\": \"copy=True, feature_range=(0, 1\", \"primary_metric\": 0.69892617, \"best_metric\": 0.84608501}, {\"run_id\": \"AutoML_b91a3efe-41dd-4446-ab0b-bc946e08490e_7\", \"run_number\": 59, \"metric\": null, \"status\": \"Completed\", \"run_type\": \"azureml.scriptrun\", \"training_percent\": \"100\", \"start_time\": \"2021-03-13T15:12:08.549042Z\", \"end_time\": \"2021-03-13T15:12:48.84637Z\", \"created_time\": \"2021-03-13T15:11:52.82836Z\", \"created_time_dt\": \"2021-03-13T15:11:52.82836Z\", \"duration\": \"0:00:56\", \"iteration\": \"7\", \"goal\": \"accuracy_max\", \"run_name\": \"MaxAbsScaler, GradientBoosting\", \"run_properties\": \"copy=True\", \"primary_metric\": 0.82941834, \"best_metric\": 0.84608501}, {\"run_id\": \"AutoML_b91a3efe-41dd-4446-ab0b-bc946e08490e_8\", \"run_number\": 60, \"metric\": null, \"status\": \"Completed\", \"run_type\": \"azureml.scriptrun\", \"training_percent\": \"100\", \"start_time\": \"2021-03-13T15:12:30.728289Z\", \"end_time\": \"2021-03-13T15:13:15.824541Z\", \"created_time\": \"2021-03-13T15:12:19.474283Z\", \"created_time_dt\": \"2021-03-13T15:12:19.474283Z\", \"duration\": \"0:00:56\", \"iteration\": \"8\", \"goal\": \"accuracy_max\", \"run_name\": \"StandardScalerWrapper, GradientBoosting\", \"run_properties\": \"<azureml.automl.runtime.shared.model_wrappers.StandardScalerWrapper object at 0x7f44c7d09550\", \"primary_metric\": 0.84950783, \"best_metric\": 0.84950783}, {\"run_id\": \"AutoML_b91a3efe-41dd-4446-ab0b-bc946e08490e_9\", \"run_number\": 61, \"metric\": null, \"status\": \"Completed\", \"run_type\": \"azureml.scriptrun\", \"training_percent\": \"100\", \"start_time\": \"2021-03-13T15:12:36.032678Z\", \"end_time\": \"2021-03-13T15:13:21.598194Z\", \"created_time\": \"2021-03-13T15:12:24.079787Z\", \"created_time_dt\": \"2021-03-13T15:12:24.079787Z\", \"duration\": \"0:00:57\", \"iteration\": \"9\", \"goal\": \"accuracy_max\", \"run_name\": \"MaxAbsScaler, RandomForest\", \"run_properties\": \"copy=True\", \"primary_metric\": 0.75257271, \"best_metric\": 0.84950783}, {\"run_id\": \"AutoML_b91a3efe-41dd-4446-ab0b-bc946e08490e_10\", \"run_number\": 62, \"metric\": null, \"status\": \"Completed\", \"run_type\": \"azureml.scriptrun\", \"training_percent\": \"100\", \"start_time\": \"2021-03-13T15:12:37.359756Z\", \"end_time\": \"2021-03-13T15:13:20.428272Z\", \"created_time\": \"2021-03-13T15:12:27.414685Z\", \"created_time_dt\": \"2021-03-13T15:12:27.414685Z\", \"duration\": \"0:00:53\", \"iteration\": \"10\", \"goal\": \"accuracy_max\", \"run_name\": \"MinMaxScaler, RandomForest\", \"run_properties\": \"copy=True, feature_range=(0, 1\", \"primary_metric\": 0.82939597, \"best_metric\": 0.84950783}, {\"run_id\": \"AutoML_b91a3efe-41dd-4446-ab0b-bc946e08490e_11\", \"run_number\": 63, \"metric\": null, \"status\": \"Completed\", \"run_type\": \"azureml.scriptrun\", \"training_percent\": \"100\", \"start_time\": \"2021-03-13T15:13:05.262232Z\", \"end_time\": \"2021-03-13T15:13:57.036329Z\", \"created_time\": \"2021-03-13T15:12:50.482077Z\", \"created_time_dt\": \"2021-03-13T15:12:50.482077Z\", \"duration\": \"0:01:06\", \"iteration\": \"11\", \"goal\": \"accuracy_max\", \"run_name\": \"MaxAbsScaler, ExtremeRandomTrees\", \"run_properties\": \"copy=True\", \"primary_metric\": 0.80275168, \"best_metric\": 0.84950783}, {\"run_id\": \"AutoML_b91a3efe-41dd-4446-ab0b-bc946e08490e_12\", \"run_number\": 64, \"metric\": null, \"status\": \"Completed\", \"run_type\": \"azureml.scriptrun\", \"training_percent\": \"100\", \"start_time\": \"2021-03-13T15:13:35.428019Z\", \"end_time\": \"2021-03-13T15:14:15.547472Z\", \"created_time\": \"2021-03-13T15:13:18.334437Z\", \"created_time_dt\": \"2021-03-13T15:13:18.334437Z\", \"duration\": \"0:00:57\", \"iteration\": \"12\", \"goal\": \"accuracy_max\", \"run_name\": \"RobustScaler, LightGBM\", \"run_properties\": \"copy=True, quantile_range=[10, 90], with_centering=True,\\n             with_scaling=False\", \"primary_metric\": 0.77926174, \"best_metric\": 0.84950783}, {\"run_id\": \"AutoML_b91a3efe-41dd-4446-ab0b-bc946e08490e_14\", \"run_number\": 65, \"metric\": null, \"status\": \"Completed\", \"run_type\": \"azureml.scriptrun\", \"training_percent\": \"100\", \"start_time\": \"2021-03-13T15:13:38.781478Z\", \"end_time\": \"2021-03-13T15:14:28.395913Z\", \"created_time\": \"2021-03-13T15:13:23.777907Z\", \"created_time_dt\": \"2021-03-13T15:13:23.777907Z\", \"duration\": \"0:01:04\", \"iteration\": \"14\", \"goal\": \"accuracy_max\", \"run_name\": \"StandardScalerWrapper, LightGBM\", \"run_properties\": \"<azureml.automl.runtime.shared.model_wrappers.StandardScalerWrapper object at 0x7f522e9bd940\", \"primary_metric\": 0.75588367, \"best_metric\": 0.84950783}, {\"run_id\": \"AutoML_b91a3efe-41dd-4446-ab0b-bc946e08490e_13\", \"run_number\": 66, \"metric\": null, \"status\": \"Completed\", \"run_type\": \"azureml.scriptrun\", \"training_percent\": \"100\", \"start_time\": \"2021-03-13T15:13:36.416309Z\", \"end_time\": \"2021-03-13T15:14:36.862427Z\", \"created_time\": \"2021-03-13T15:13:23.781485Z\", \"created_time_dt\": \"2021-03-13T15:13:23.781485Z\", \"duration\": \"0:01:13\", \"iteration\": \"13\", \"goal\": \"accuracy_max\", \"run_name\": \"StandardScalerWrapper, LightGBM\", \"run_properties\": \"<azureml.automl.runtime.shared.model_wrappers.StandardScalerWrapper object at 0x7f37539584e0\", \"primary_metric\": 0.83946309, \"best_metric\": 0.84950783}, {\"run_id\": \"AutoML_b91a3efe-41dd-4446-ab0b-bc946e08490e_15\", \"run_number\": 67, \"metric\": null, \"status\": \"Completed\", \"run_type\": \"azureml.scriptrun\", \"training_percent\": \"100\", \"start_time\": \"2021-03-13T15:14:10.595529Z\", \"end_time\": \"2021-03-13T15:14:57.863528Z\", \"created_time\": \"2021-03-13T15:13:59.568715Z\", \"created_time_dt\": \"2021-03-13T15:13:59.568715Z\", \"duration\": \"0:00:58\", \"iteration\": \"15\", \"goal\": \"accuracy_max\", \"run_name\": \"StandardScalerWrapper, LightGBM\", \"run_properties\": \"<azureml.automl.runtime.shared.model_wrappers.StandardScalerWrapper object at 0x7fcf47f06be0\", \"primary_metric\": 0.84277405, \"best_metric\": 0.84950783}, {\"run_id\": \"AutoML_b91a3efe-41dd-4446-ab0b-bc946e08490e_16\", \"run_number\": 68, \"metric\": null, \"status\": \"Completed\", \"run_type\": \"azureml.scriptrun\", \"training_percent\": \"100\", \"start_time\": \"2021-03-13T15:14:30.841099Z\", \"end_time\": \"2021-03-13T15:15:13.710377Z\", \"created_time\": \"2021-03-13T15:14:18.627285Z\", \"created_time_dt\": \"2021-03-13T15:14:18.627285Z\", \"duration\": \"0:00:55\", \"iteration\": \"16\", \"goal\": \"accuracy_max\", \"run_name\": \"MinMaxScaler, LightGBM\", \"run_properties\": \"copy=True, feature_range=(0, 1\", \"primary_metric\": 0.77595078, \"best_metric\": 0.84950783}, {\"run_id\": \"AutoML_b91a3efe-41dd-4446-ab0b-bc946e08490e_17\", \"run_number\": 69, \"metric\": null, \"status\": \"Completed\", \"run_type\": \"azureml.scriptrun\", \"training_percent\": \"100\", \"start_time\": \"2021-03-13T15:14:43.148807Z\", \"end_time\": \"2021-03-13T15:15:25.898047Z\", \"created_time\": \"2021-03-13T15:14:30.879028Z\", \"created_time_dt\": \"2021-03-13T15:14:30.879028Z\", \"duration\": \"0:00:55\", \"iteration\": \"17\", \"goal\": \"accuracy_max\", \"run_name\": \"StandardScalerWrapper, GradientBoosting\", \"run_properties\": \"<azureml.automl.runtime.shared.model_wrappers.StandardScalerWrapper object at 0x7f566a5ca358\", \"primary_metric\": 0.81930649, \"best_metric\": 0.84950783}, {\"run_id\": \"AutoML_b91a3efe-41dd-4446-ab0b-bc946e08490e_18\", \"run_number\": 70, \"metric\": null, \"status\": \"Completed\", \"run_type\": \"azureml.scriptrun\", \"training_percent\": \"100\", \"start_time\": \"2021-03-13T15:14:47.95043Z\", \"end_time\": \"2021-03-13T15:15:35.48387Z\", \"created_time\": \"2021-03-13T15:14:39.148948Z\", \"created_time_dt\": \"2021-03-13T15:14:39.148948Z\", \"duration\": \"0:00:56\", \"iteration\": \"18\", \"goal\": \"accuracy_max\", \"run_name\": \"StandardScalerWrapper, ExtremeRandomTrees\", \"run_properties\": \"<azureml.automl.runtime.shared.model_wrappers.StandardScalerWrapper object at 0x7f0d28224cf8\", \"primary_metric\": 0.68901566, \"best_metric\": 0.84950783}, {\"run_id\": \"AutoML_b91a3efe-41dd-4446-ab0b-bc946e08490e_19\", \"run_number\": 71, \"metric\": null, \"status\": \"Completed\", \"run_type\": \"azureml.scriptrun\", \"training_percent\": \"100\", \"start_time\": \"2021-03-13T15:15:15.125026Z\", \"end_time\": \"2021-03-13T15:16:07.427959Z\", \"created_time\": \"2021-03-13T15:14:59.763643Z\", \"created_time_dt\": \"2021-03-13T15:14:59.763643Z\", \"duration\": \"0:01:07\", \"iteration\": \"19\", \"goal\": \"accuracy_max\", \"run_name\": \"StandardScalerWrapper, ExtremeRandomTrees\", \"run_properties\": \"<azureml.automl.runtime.shared.model_wrappers.StandardScalerWrapper object at 0x7ff6e8a24e48\", \"primary_metric\": 0.75597315, \"best_metric\": 0.84950783}, {\"run_id\": \"AutoML_b91a3efe-41dd-4446-ab0b-bc946e08490e_20\", \"run_number\": 72, \"metric\": null, \"status\": \"Completed\", \"run_type\": \"azureml.scriptrun\", \"training_percent\": \"100\", \"start_time\": \"2021-03-13T15:15:28.745Z\", \"end_time\": \"2021-03-13T15:16:23.907122Z\", \"created_time\": \"2021-03-13T15:15:15.430718Z\", \"created_time_dt\": \"2021-03-13T15:15:15.430718Z\", \"duration\": \"0:01:08\", \"iteration\": \"20\", \"goal\": \"accuracy_max\", \"run_name\": \"RobustScaler, ExtremeRandomTrees\", \"run_properties\": \"copy=True, quantile_range=[25, 75], with_centering=True,\\n             with_scaling=False\", \"primary_metric\": 0.84950783, \"best_metric\": 0.84950783}, {\"run_id\": \"AutoML_b91a3efe-41dd-4446-ab0b-bc946e08490e_21\", \"run_number\": 73, \"metric\": null, \"status\": \"Completed\", \"run_type\": \"azureml.scriptrun\", \"training_percent\": \"100\", \"start_time\": \"2021-03-13T15:15:43.230177Z\", \"end_time\": \"2021-03-13T15:16:29.312389Z\", \"created_time\": \"2021-03-13T15:15:27.719025Z\", \"created_time_dt\": \"2021-03-13T15:15:27.719025Z\", \"duration\": \"0:01:01\", \"iteration\": \"21\", \"goal\": \"accuracy_max\", \"run_name\": \"StandardScalerWrapper, RandomForest\", \"run_properties\": \"<azureml.automl.runtime.shared.model_wrappers.StandardScalerWrapper object at 0x7f4208f83320\", \"primary_metric\": 0.84612975, \"best_metric\": 0.84950783}, {\"run_id\": \"AutoML_b91a3efe-41dd-4446-ab0b-bc946e08490e_22\", \"run_number\": 74, \"metric\": null, \"status\": \"Completed\", \"run_type\": \"azureml.scriptrun\", \"training_percent\": \"100\", \"start_time\": \"2021-03-13T15:15:47.371441Z\", \"end_time\": \"2021-03-13T15:16:31.08624Z\", \"created_time\": \"2021-03-13T15:15:37.203017Z\", \"created_time_dt\": \"2021-03-13T15:15:37.203017Z\", \"duration\": \"0:00:53\", \"iteration\": \"22\", \"goal\": \"accuracy_max\", \"run_name\": \"RobustScaler, KNN\", \"run_properties\": \"copy=True, quantile_range=[25, 75], with_centering=True,\\n             with_scaling=False\", \"primary_metric\": 0.66885906, \"best_metric\": 0.84950783}, {\"run_id\": \"AutoML_b91a3efe-41dd-4446-ab0b-bc946e08490e_23\", \"run_number\": 75, \"metric\": null, \"status\": \"Completed\", \"run_type\": \"azureml.scriptrun\", \"training_percent\": \"100\", \"start_time\": \"2021-03-13T15:16:22.016381Z\", \"end_time\": \"2021-03-13T15:17:10.801739Z\", \"created_time\": \"2021-03-13T15:16:09.134331Z\", \"created_time_dt\": \"2021-03-13T15:16:09.134331Z\", \"duration\": \"0:01:01\", \"iteration\": \"23\", \"goal\": \"accuracy_max\", \"run_name\": \"MinMaxScaler, LightGBM\", \"run_properties\": \"copy=True, feature_range=(0, 1\", \"primary_metric\": 0.76252796, \"best_metric\": 0.84950783}, {\"run_id\": \"AutoML_b91a3efe-41dd-4446-ab0b-bc946e08490e_24\", \"run_number\": 76, \"metric\": null, \"status\": \"Completed\", \"run_type\": \"azureml.scriptrun\", \"training_percent\": \"100\", \"start_time\": \"2021-03-13T15:16:40.609025Z\", \"end_time\": \"2021-03-13T15:17:29.421208Z\", \"created_time\": \"2021-03-13T15:16:25.697027Z\", \"created_time_dt\": \"2021-03-13T15:16:25.697027Z\", \"duration\": \"0:01:03\", \"iteration\": \"24\", \"goal\": \"accuracy_max\", \"run_name\": \"StandardScalerWrapper, LightGBM\", \"run_properties\": \"<azureml.automl.runtime.shared.model_wrappers.StandardScalerWrapper object at 0x7f8a2a3ac550\", \"primary_metric\": 0.83610738, \"best_metric\": 0.84950783}, {\"run_id\": \"AutoML_b91a3efe-41dd-4446-ab0b-bc946e08490e_25\", \"run_number\": 77, \"metric\": null, \"status\": \"Completed\", \"run_type\": \"azureml.scriptrun\", \"training_percent\": \"100\", \"start_time\": \"2021-03-13T15:16:42.032211Z\", \"end_time\": \"2021-03-13T15:17:25.022745Z\", \"created_time\": \"2021-03-13T15:16:31.864714Z\", \"created_time_dt\": \"2021-03-13T15:16:31.864714Z\", \"duration\": \"0:00:53\", \"iteration\": \"25\", \"goal\": \"accuracy_max\", \"run_name\": \"RobustScaler, GradientBoosting\", \"run_properties\": \"copy=True, quantile_range=[10, 90], with_centering=False,\\n             with_scaling=True\", \"primary_metric\": 0.83272931, \"best_metric\": 0.84950783}, {\"run_id\": \"AutoML_b91a3efe-41dd-4446-ab0b-bc946e08490e_26\", \"run_number\": 78, \"metric\": null, \"status\": \"Completed\", \"run_type\": \"azureml.scriptrun\", \"training_percent\": \"100\", \"start_time\": \"2021-03-13T15:16:45.953184Z\", \"end_time\": \"2021-03-13T15:17:31.080477Z\", \"created_time\": \"2021-03-13T15:16:35.994996Z\", \"created_time_dt\": \"2021-03-13T15:16:35.994996Z\", \"duration\": \"0:00:55\", \"iteration\": \"26\", \"goal\": \"accuracy_max\", \"run_name\": \"StandardScalerWrapper, LightGBM\", \"run_properties\": \"<azureml.automl.runtime.shared.model_wrappers.StandardScalerWrapper object at 0x7fde8688a438\", \"primary_metric\": 0.83946309, \"best_metric\": 0.84950783}, {\"run_id\": \"AutoML_b91a3efe-41dd-4446-ab0b-bc946e08490e_27\", \"run_number\": 79, \"metric\": null, \"status\": \"Completed\", \"run_type\": \"azureml.scriptrun\", \"training_percent\": \"100\", \"start_time\": \"2021-03-13T15:17:27.146695Z\", \"end_time\": \"2021-03-13T15:18:13.863105Z\", \"created_time\": \"2021-03-13T15:17:12.853291Z\", \"created_time_dt\": \"2021-03-13T15:17:12.853291Z\", \"duration\": \"0:01:01\", \"iteration\": \"27\", \"goal\": \"accuracy_max\", \"run_name\": \"SparseNormalizer, LightGBM\", \"run_properties\": \"<azureml.automl.runtime.shared.model_wrappers.SparseNormalizer object at 0x7fcb4374cf98\", \"primary_metric\": 0.81270694, \"best_metric\": 0.84950783}, {\"run_id\": \"AutoML_b91a3efe-41dd-4446-ab0b-bc946e08490e_28\", \"run_number\": 80, \"metric\": null, \"status\": \"Completed\", \"run_type\": \"azureml.scriptrun\", \"training_percent\": \"100\", \"start_time\": \"2021-03-13T15:17:40.06115Z\", \"end_time\": \"2021-03-13T15:18:25.378671Z\", \"created_time\": \"2021-03-13T15:17:26.82752Z\", \"created_time_dt\": \"2021-03-13T15:17:26.82752Z\", \"duration\": \"0:00:58\", \"iteration\": \"28\", \"goal\": \"accuracy_max\", \"run_name\": \"StandardScalerWrapper, ExtremeRandomTrees\", \"run_properties\": \"<azureml.automl.runtime.shared.model_wrappers.StandardScalerWrapper object at 0x7f2040cc4208\", \"primary_metric\": 0.83612975, \"best_metric\": 0.84950783}, {\"run_id\": \"AutoML_b91a3efe-41dd-4446-ab0b-bc946e08490e_29\", \"run_number\": 81, \"metric\": null, \"status\": \"Completed\", \"run_type\": \"azureml.scriptrun\", \"training_percent\": \"100\", \"start_time\": \"2021-03-13T15:17:44.887101Z\", \"end_time\": \"2021-03-13T15:18:30.09865Z\", \"created_time\": \"2021-03-13T15:17:31.52265Z\", \"created_time_dt\": \"2021-03-13T15:17:31.52265Z\", \"duration\": \"0:00:58\", \"iteration\": \"29\", \"goal\": \"accuracy_max\", \"run_name\": \"StandardScalerWrapper, LightGBM\", \"run_properties\": \"<azureml.automl.runtime.shared.model_wrappers.StandardScalerWrapper object at 0x7fd062780be0\", \"primary_metric\": 0.78592841, \"best_metric\": 0.84950783}, {\"run_id\": \"AutoML_b91a3efe-41dd-4446-ab0b-bc946e08490e_30\", \"run_number\": 82, \"metric\": null, \"status\": \"Completed\", \"run_type\": \"azureml.scriptrun\", \"training_percent\": \"100\", \"start_time\": \"2021-03-13T15:17:48.062237Z\", \"end_time\": \"2021-03-13T15:18:33.687642Z\", \"created_time\": \"2021-03-13T15:17:35.556334Z\", \"created_time_dt\": \"2021-03-13T15:17:35.556334Z\", \"duration\": \"0:00:58\", \"iteration\": \"30\", \"goal\": \"accuracy_max\", \"run_name\": \"TruncatedSVDWrapper, GradientBoosting\", \"run_properties\": \"n_components=0.05947368421052632, random_state=None\", \"primary_metric\": 0.67894855, \"best_metric\": 0.84950783}, {\"run_id\": \"AutoML_b91a3efe-41dd-4446-ab0b-bc946e08490e_31\", \"run_number\": 83, \"metric\": null, \"status\": \"Canceled\", \"run_type\": \"azureml.scriptrun\", \"training_percent\": \"100\", \"start_time\": \"2021-03-13T15:18:34.945978Z\", \"end_time\": \"2021-03-13T15:19:37.514903Z\", \"created_time\": \"2021-03-13T15:18:15.509549Z\", \"created_time_dt\": \"2021-03-13T15:18:15.509549Z\", \"duration\": \"0:01:22\", \"iteration\": \"31\", \"goal\": null, \"run_name\": \"Canceled\", \"run_properties\": null}, {\"run_id\": \"AutoML_b91a3efe-41dd-4446-ab0b-bc946e08490e_32\", \"run_number\": 84, \"metric\": null, \"status\": \"Completed\", \"run_type\": \"azureml.scriptrun\", \"training_percent\": \"100\", \"start_time\": \"2021-03-13T15:18:39.533756Z\", \"end_time\": \"2021-03-13T15:19:22.264315Z\", \"created_time\": \"2021-03-13T15:18:27.715185Z\", \"created_time_dt\": \"2021-03-13T15:18:27.715185Z\", \"duration\": \"0:00:54\", \"iteration\": \"32\", \"goal\": \"accuracy_max\", \"run_name\": \"StandardScalerWrapper, LightGBM\", \"run_properties\": \"<azureml.automl.runtime.shared.model_wrappers.StandardScalerWrapper object at 0x7f97708f45f8\", \"primary_metric\": 0.8193736, \"best_metric\": 0.84950783}, {\"run_id\": \"AutoML_b91a3efe-41dd-4446-ab0b-bc946e08490e_33\", \"run_number\": 85, \"metric\": null, \"status\": \"Completed\", \"run_type\": \"azureml.scriptrun\", \"training_percent\": \"100\", \"start_time\": \"2021-03-13T15:18:41.118111Z\", \"end_time\": \"2021-03-13T15:19:31.689094Z\", \"created_time\": \"2021-03-13T15:18:32.035636Z\", \"created_time_dt\": \"2021-03-13T15:18:32.035636Z\", \"duration\": \"0:00:59\", \"iteration\": \"33\", \"goal\": \"accuracy_max\", \"run_name\": \"MinMaxScaler, LightGBM\", \"run_properties\": \"copy=True, feature_range=(0, 1\", \"primary_metric\": 0.83946309, \"best_metric\": 0.84950783}, {\"run_id\": \"AutoML_b91a3efe-41dd-4446-ab0b-bc946e08490e_34\", \"run_number\": 86, \"metric\": null, \"status\": \"Completed\", \"run_type\": \"azureml.scriptrun\", \"training_percent\": \"100\", \"start_time\": \"2021-03-13T15:18:46.704604Z\", \"end_time\": \"2021-03-13T15:19:30.954474Z\", \"created_time\": \"2021-03-13T15:18:35.407595Z\", \"created_time_dt\": \"2021-03-13T15:18:35.407595Z\", \"duration\": \"0:00:55\", \"iteration\": \"34\", \"goal\": \"accuracy_max\", \"run_name\": \"MaxAbsScaler, LightGBM\", \"run_properties\": \"copy=True\", \"primary_metric\": 0.73912752, \"best_metric\": 0.84950783}, {\"run_id\": \"AutoML_b91a3efe-41dd-4446-ab0b-bc946e08490e_35\", \"run_number\": 87, \"metric\": null, \"status\": \"Canceled\", \"run_type\": \"azureml.scriptrun\", \"training_percent\": \"100\", \"start_time\": \"2021-03-13T15:19:24.893198Z\", \"end_time\": \"2021-03-13T15:19:42.015978Z\", \"created_time\": \"2021-03-13T15:19:24.893198Z\", \"created_time_dt\": \"2021-03-13T15:19:24.893198Z\", \"duration\": \"0:00:17\", \"iteration\": \"35\", \"goal\": null, \"run_name\": \"Canceled\", \"run_properties\": null}, {\"run_id\": \"AutoML_b91a3efe-41dd-4446-ab0b-bc946e08490e_36\", \"run_number\": 88, \"metric\": null, \"status\": \"Completed\", \"run_type\": \"azureml.scriptrun\", \"training_percent\": \"100\", \"start_time\": \"2021-03-13T15:19:51.754994Z\", \"end_time\": \"2021-03-13T15:21:00.610322Z\", \"created_time\": \"2021-03-13T15:19:42.740106Z\", \"created_time_dt\": \"2021-03-13T15:19:42.740106Z\", \"duration\": \"0:01:17\", \"iteration\": \"36\", \"goal\": \"accuracy_max\", \"run_name\": \"VotingEnsemble\", \"run_properties\": \"classification_labels=None,\\n                              estimators=[('20',\\n                                           Pipeline(memory=None,\\n                                                    steps=[('robustscaler',\\n                                                            RobustScaler(copy=True,\\n                                                                         quantile_range=[25,\\n                                                                                         75],\\n                                                                         with_centering=True,\\n                                                                         with_scaling=False\", \"primary_metric\": 0.85957494, \"best_metric\": 0.85957494}, {\"run_id\": \"AutoML_b91a3efe-41dd-4446-ab0b-bc946e08490e_37\", \"run_number\": 89, \"metric\": null, \"status\": \"Completed\", \"run_type\": \"azureml.scriptrun\", \"training_percent\": \"100\", \"start_time\": \"2021-03-13T15:19:52.545196Z\", \"end_time\": \"2021-03-13T15:20:59.710361Z\", \"created_time\": \"2021-03-13T15:19:42.774435Z\", \"created_time_dt\": \"2021-03-13T15:19:42.774435Z\", \"duration\": \"0:01:16\", \"iteration\": \"37\", \"goal\": \"accuracy_max\", \"run_name\": \"StackEnsemble\", \"run_properties\": \"base_learners=[('20',\\n                                        Pipeline(memory=None,\\n                                                 steps=[('robustscaler',\\n                                                         RobustScaler(copy=True,\\n                                                                      quantile_range=[25,\\n                                                                                      75],\\n                                                                      with_centering=True,\\n                                                                      with_scaling=False\", \"primary_metric\": 0.81930649, \"best_metric\": 0.85957494}], \"children_metrics\": {\"categories\": [0], \"series\": {\"balanced_accuracy\": [{\"categories\": [\"0\", \"1\", \"2\", \"3\", \"4\", \"5\", \"6\", \"7\", \"8\", \"9\", \"10\", \"11\", \"12\", \"13\", \"14\", \"15\", \"16\", \"17\", \"18\", \"19\", \"20\", \"21\", \"22\", \"23\", \"24\", \"25\", \"26\", \"27\", \"28\", \"29\", \"30\", \"32\", \"33\", \"34\", \"36\", \"37\"], \"mode\": \"markers\", \"name\": \"balanced_accuracy\", \"stepped\": false, \"type\": \"scatter\", \"data\": [0.7557586759161217, 0.810322844115527, 0.7760323215024371, 0.8055894571858657, 0.8218740308425877, 0.5814570509054686, 0.5934948447464092, 0.7874394333254684, 0.7993256813995875, 0.6322763147812316, 0.7932000375460907, 0.7129292100240138, 0.678804711267275, 0.7862121360024945, 0.6285567418456744, 0.8025697428750308, 0.6880192460384196, 0.7684209769856963, 0.5159574468085106, 0.6349201361606366, 0.7993256813995875, 0.7997671366840395, 0.5392578139323984, 0.6607649379532727, 0.7923656612423777, 0.7779835233018845, 0.7948166416345346, 0.7502637140805343, 0.7784833018945939, 0.7140981840387304, 0.5, 0.7716990946368014, 0.7919484730905213, 0.6418497143959754, 0.8124149596640847, 0.7973440376782691]}, {\"categories\": [\"0\", \"1\", \"2\", \"3\", \"4\", \"5\", \"6\", \"7\", \"8\", \"9\", \"10\", \"11\", \"12\", \"13\", \"14\", \"15\", \"16\", \"17\", \"18\", \"19\", \"20\", \"21\", \"22\", \"23\", \"24\", \"25\", \"26\", \"27\", \"28\", \"29\", \"30\", \"32\", \"33\", \"34\", \"36\", \"37\"], \"mode\": \"lines\", \"name\": \"balanced_accuracy_max\", \"stepped\": true, \"type\": \"scatter\", \"data\": [0.7557586759161217, 0.810322844115527, 0.810322844115527, 0.810322844115527, 0.8218740308425877, 0.8218740308425877, 0.8218740308425877, 0.8218740308425877, 0.8218740308425877, 0.8218740308425877, 0.8218740308425877, 0.8218740308425877, 0.8218740308425877, 0.8218740308425877, 0.8218740308425877, 0.8218740308425877, 0.8218740308425877, 0.8218740308425877, 0.8218740308425877, 0.8218740308425877, 0.8218740308425877, 0.8218740308425877, 0.8218740308425877, 0.8218740308425877, 0.8218740308425877, 0.8218740308425877, 0.8218740308425877, 0.8218740308425877, 0.8218740308425877, 0.8218740308425877, 0.8218740308425877, 0.8218740308425877, 0.8218740308425877, 0.8218740308425877, 0.8218740308425877, 0.8218740308425877]}], \"matthews_correlation\": [{\"categories\": [\"0\", \"1\", \"2\", \"3\", \"4\", \"5\", \"6\", \"7\", \"8\", \"9\", \"10\", \"11\", \"12\", \"13\", \"14\", \"15\", \"16\", \"17\", \"18\", \"19\", \"20\", \"21\", \"22\", \"23\", \"24\", \"25\", \"26\", \"27\", \"28\", \"29\", \"30\", \"32\", \"33\", \"34\", \"36\", \"37\"], \"mode\": \"markers\", \"name\": \"matthews_correlation\", \"stepped\": false, \"type\": \"scatter\", \"data\": [0.5565126394717403, 0.6452246073841756, 0.6065938664036685, 0.6294409465156903, 0.6108582684776382, 0.24711385246382703, 0.27733816741658146, 0.6041662840703792, 0.6474776079083715, 0.39614446935404035, 0.6125589461718013, 0.5283332802833556, 0.46814134917242434, 0.6209192345901703, 0.40850207782813647, 0.6356948577159666, 0.4608418797584538, 0.5759277747748357, 0.10558576253350357, 0.3956086816575408, 0.6474776079083715, 0.6447981178904965, 0.11310433050606425, 0.4153739094779517, 0.6195000135143369, 0.6020551014429442, 0.6261255586221294, 0.5554113888376602, 0.6139291376526879, 0.487971172615035, 0.0, 0.5778875955073952, 0.624115276709206, 0.3639161350700876, 0.6719517494325762, 0.615163796543836]}, {\"categories\": [\"0\", \"1\", \"2\", \"3\", \"4\", \"5\", \"6\", \"7\", \"8\", \"9\", \"10\", \"11\", \"12\", \"13\", \"14\", \"15\", \"16\", \"17\", \"18\", \"19\", \"20\", \"21\", \"22\", \"23\", \"24\", \"25\", \"26\", \"27\", \"28\", \"29\", \"30\", \"32\", \"33\", \"34\", \"36\", \"37\"], \"mode\": \"lines\", \"name\": \"matthews_correlation_max\", \"stepped\": true, \"type\": \"scatter\", \"data\": [0.5565126394717403, 0.6452246073841756, 0.6452246073841756, 0.6452246073841756, 0.6452246073841756, 0.6452246073841756, 0.6452246073841756, 0.6452246073841756, 0.6474776079083715, 0.6474776079083715, 0.6474776079083715, 0.6474776079083715, 0.6474776079083715, 0.6474776079083715, 0.6474776079083715, 0.6474776079083715, 0.6474776079083715, 0.6474776079083715, 0.6474776079083715, 0.6474776079083715, 0.6474776079083715, 0.6474776079083715, 0.6474776079083715, 0.6474776079083715, 0.6474776079083715, 0.6474776079083715, 0.6474776079083715, 0.6474776079083715, 0.6474776079083715, 0.6474776079083715, 0.6474776079083715, 0.6474776079083715, 0.6474776079083715, 0.6474776079083715, 0.6719517494325762, 0.6719517494325762]}], \"average_precision_score_weighted\": [{\"categories\": [\"0\", \"1\", \"2\", \"3\", \"4\", \"5\", \"6\", \"7\", \"8\", \"9\", \"10\", \"11\", \"12\", \"13\", \"14\", \"15\", \"16\", \"17\", \"18\", \"19\", \"20\", \"21\", \"22\", \"23\", \"24\", \"25\", \"26\", \"27\", \"28\", \"29\", \"30\", \"32\", \"33\", \"34\", \"36\", \"37\"], \"mode\": \"markers\", \"name\": \"average_precision_score_weighted\", \"stepped\": false, \"type\": \"scatter\", \"data\": [0.862550328383885, 0.8850712060013729, 0.886169639855723, 0.9066668145041957, 0.8858488611203399, 0.7709263404703259, 0.7590411117497118, 0.8973325325434706, 0.905599592095309, 0.8951478069753283, 0.9096689028597609, 0.883014953068472, 0.8940686271647285, 0.8997392628084813, 0.9002918351027942, 0.8775369986223773, 0.8622605622136187, 0.8785321179669583, 0.8500384615290444, 0.8694642536435087, 0.9016249944623571, 0.9078151039624917, 0.6061591569697475, 0.862727588946406, 0.8881244381956579, 0.8953933182395978, 0.8868800671025383, 0.8699542459894988, 0.8896863997029991, 0.8795686048050556, 0.5641082253552142, 0.8914194364275119, 0.8986740286562618, 0.829120168415842, 0.9082925007384182, 0.9074832810578912]}, {\"categories\": [\"0\", \"1\", \"2\", \"3\", \"4\", \"5\", \"6\", \"7\", \"8\", \"9\", \"10\", \"11\", \"12\", \"13\", \"14\", \"15\", \"16\", \"17\", \"18\", \"19\", \"20\", \"21\", \"22\", \"23\", \"24\", \"25\", \"26\", \"27\", \"28\", \"29\", \"30\", \"32\", \"33\", \"34\", \"36\", \"37\"], \"mode\": \"lines\", \"name\": \"average_precision_score_weighted_max\", \"stepped\": true, \"type\": \"scatter\", \"data\": [0.862550328383885, 0.8850712060013729, 0.886169639855723, 0.9066668145041957, 0.9066668145041957, 0.9066668145041957, 0.9066668145041957, 0.9066668145041957, 0.9066668145041957, 0.9066668145041957, 0.9096689028597609, 0.9096689028597609, 0.9096689028597609, 0.9096689028597609, 0.9096689028597609, 0.9096689028597609, 0.9096689028597609, 0.9096689028597609, 0.9096689028597609, 0.9096689028597609, 0.9096689028597609, 0.9096689028597609, 0.9096689028597609, 0.9096689028597609, 0.9096689028597609, 0.9096689028597609, 0.9096689028597609, 0.9096689028597609, 0.9096689028597609, 0.9096689028597609, 0.9096689028597609, 0.9096689028597609, 0.9096689028597609, 0.9096689028597609, 0.9096689028597609, 0.9096689028597609]}], \"f1_score_weighted\": [{\"categories\": [\"0\", \"1\", \"2\", \"3\", \"4\", \"5\", \"6\", \"7\", \"8\", \"9\", \"10\", \"11\", \"12\", \"13\", \"14\", \"15\", \"16\", \"17\", \"18\", \"19\", \"20\", \"21\", \"22\", \"23\", \"24\", \"25\", \"26\", \"27\", \"28\", \"29\", \"30\", \"32\", \"33\", \"34\", \"36\", \"37\"], \"mode\": \"markers\", \"name\": \"f1_score_weighted\", \"stepped\": false, \"type\": \"scatter\", \"data\": [0.8048405818640718, 0.8437799215756577, 0.8249821202929064, 0.8372448725086368, 0.8142504942464541, 0.6396717792379156, 0.6564447232636802, 0.8252453226710537, 0.8435075032356247, 0.7057372033894156, 0.8260569022136538, 0.7807646181267425, 0.751822283682603, 0.8329989397699994, 0.7069091251016462, 0.8392743893449242, 0.7528389401336413, 0.8140676359348455, 0.571423518597904, 0.7076882040559739, 0.8435075032356247, 0.8408797539149888, 0.6165294736205285, 0.7344023352704414, 0.8314731923472252, 0.8263018766540859, 0.8345939890160553, 0.8030844365743695, 0.8280958097341333, 0.7727473518850204, 0.5491321514835512, 0.8140987453714202, 0.8341095436776377, 0.7084519301735386, 0.8539163783147654, 0.8176405677514771]}, {\"categories\": [\"0\", \"1\", \"2\", \"3\", \"4\", \"5\", \"6\", \"7\", \"8\", \"9\", \"10\", \"11\", \"12\", \"13\", \"14\", \"15\", \"16\", \"17\", \"18\", \"19\", \"20\", \"21\", \"22\", \"23\", \"24\", \"25\", \"26\", \"27\", \"28\", \"29\", \"30\", \"32\", \"33\", \"34\", \"36\", \"37\"], \"mode\": \"lines\", \"name\": \"f1_score_weighted_max\", \"stepped\": true, \"type\": \"scatter\", \"data\": [0.8048405818640718, 0.8437799215756577, 0.8437799215756577, 0.8437799215756577, 0.8437799215756577, 0.8437799215756577, 0.8437799215756577, 0.8437799215756577, 0.8437799215756577, 0.8437799215756577, 0.8437799215756577, 0.8437799215756577, 0.8437799215756577, 0.8437799215756577, 0.8437799215756577, 0.8437799215756577, 0.8437799215756577, 0.8437799215756577, 0.8437799215756577, 0.8437799215756577, 0.8437799215756577, 0.8437799215756577, 0.8437799215756577, 0.8437799215756577, 0.8437799215756577, 0.8437799215756577, 0.8437799215756577, 0.8437799215756577, 0.8437799215756577, 0.8437799215756577, 0.8437799215756577, 0.8437799215756577, 0.8437799215756577, 0.8437799215756577, 0.8539163783147654, 0.8539163783147654]}], \"average_precision_score_micro\": [{\"categories\": [\"0\", \"1\", \"2\", \"3\", \"4\", \"5\", \"6\", \"7\", \"8\", \"9\", \"10\", \"11\", \"12\", \"13\", \"14\", \"15\", \"16\", \"17\", \"18\", \"19\", \"20\", \"21\", \"22\", \"23\", \"24\", \"25\", \"26\", \"27\", \"28\", \"29\", \"30\", \"32\", \"33\", \"34\", \"36\", \"37\"], \"mode\": \"markers\", \"name\": \"average_precision_score_micro\", \"stepped\": false, \"type\": \"scatter\", \"data\": [0.8729387725912188, 0.8931293123898661, 0.891145639269793, 0.9137079310776463, 0.8791113511787512, 0.7768810911791326, 0.7750660861712448, 0.9033442114426924, 0.8999499940503302, 0.8740393111221889, 0.909571257027888, 0.8775607805716183, 0.8820631367394002, 0.8895749466012086, 0.868236056670957, 0.8846579581628972, 0.8701669386713837, 0.8850409889189075, 0.8271271442469019, 0.8518436252193747, 0.9066654145563118, 0.9073672755442836, 0.6575045395966228, 0.8670460301736758, 0.8959687643085769, 0.8995462089456983, 0.8995765525455826, 0.8778168166876122, 0.8968165291762852, 0.8854858678069728, 0.6215283856082559, 0.8975679821187972, 0.9019911471215067, 0.8437034004614676, 0.9075427783354854, 0.8772592822526504]}, {\"categories\": [\"0\", \"1\", \"2\", \"3\", \"4\", \"5\", \"6\", \"7\", \"8\", \"9\", \"10\", \"11\", \"12\", \"13\", \"14\", \"15\", \"16\", \"17\", \"18\", \"19\", \"20\", \"21\", \"22\", \"23\", \"24\", \"25\", \"26\", \"27\", \"28\", \"29\", \"30\", \"32\", \"33\", \"34\", \"36\", \"37\"], \"mode\": \"lines\", \"name\": \"average_precision_score_micro_max\", \"stepped\": true, \"type\": \"scatter\", \"data\": [0.8729387725912188, 0.8931293123898661, 0.8931293123898661, 0.9137079310776463, 0.9137079310776463, 0.9137079310776463, 0.9137079310776463, 0.9137079310776463, 0.9137079310776463, 0.9137079310776463, 0.9137079310776463, 0.9137079310776463, 0.9137079310776463, 0.9137079310776463, 0.9137079310776463, 0.9137079310776463, 0.9137079310776463, 0.9137079310776463, 0.9137079310776463, 0.9137079310776463, 0.9137079310776463, 0.9137079310776463, 0.9137079310776463, 0.9137079310776463, 0.9137079310776463, 0.9137079310776463, 0.9137079310776463, 0.9137079310776463, 0.9137079310776463, 0.9137079310776463, 0.9137079310776463, 0.9137079310776463, 0.9137079310776463, 0.9137079310776463, 0.9137079310776463, 0.9137079310776463]}], \"norm_macro_recall\": [{\"categories\": [\"0\", \"1\", \"2\", \"3\", \"4\", \"5\", \"6\", \"7\", \"8\", \"9\", \"10\", \"11\", \"12\", \"13\", \"14\", \"15\", \"16\", \"17\", \"18\", \"19\", \"20\", \"21\", \"22\", \"23\", \"24\", \"25\", \"26\", \"27\", \"28\", \"29\", \"30\", \"32\", \"33\", \"34\", \"36\", \"37\"], \"mode\": \"markers\", \"name\": \"norm_macro_recall\", \"stepped\": false, \"type\": \"scatter\", \"data\": [0.5115173518322433, 0.620645688231054, 0.5520646430048741, 0.6111789143717313, 0.6437480616851754, 0.16291410181093713, 0.18698968949281836, 0.5748788666509368, 0.5986513627991749, 0.2645526295624633, 0.5864000750921814, 0.42585842004802754, 0.35760942253454997, 0.572424272004989, 0.2571134836913489, 0.6051394857500616, 0.37603849207683915, 0.5368419539713927, 0.03191489361702127, 0.26984027232127317, 0.5986513627991749, 0.5995342733680791, 0.07851562786479671, 0.32152987590654536, 0.5847313224847555, 0.5559670466037689, 0.5896332832690692, 0.5005274281610685, 0.5569666037891878, 0.42819636807746064, 0.0, 0.5433981892736028, 0.5838969461810425, 0.28369942879195076, 0.6248299193281694, 0.5946880753565382]}, {\"categories\": [\"0\", \"1\", \"2\", \"3\", \"4\", \"5\", \"6\", \"7\", \"8\", \"9\", \"10\", \"11\", \"12\", \"13\", \"14\", \"15\", \"16\", \"17\", \"18\", \"19\", \"20\", \"21\", \"22\", \"23\", \"24\", \"25\", \"26\", \"27\", \"28\", \"29\", \"30\", \"32\", \"33\", \"34\", \"36\", \"37\"], \"mode\": \"lines\", \"name\": \"norm_macro_recall_max\", \"stepped\": true, \"type\": \"scatter\", \"data\": [0.5115173518322433, 0.620645688231054, 0.620645688231054, 0.620645688231054, 0.6437480616851754, 0.6437480616851754, 0.6437480616851754, 0.6437480616851754, 0.6437480616851754, 0.6437480616851754, 0.6437480616851754, 0.6437480616851754, 0.6437480616851754, 0.6437480616851754, 0.6437480616851754, 0.6437480616851754, 0.6437480616851754, 0.6437480616851754, 0.6437480616851754, 0.6437480616851754, 0.6437480616851754, 0.6437480616851754, 0.6437480616851754, 0.6437480616851754, 0.6437480616851754, 0.6437480616851754, 0.6437480616851754, 0.6437480616851754, 0.6437480616851754, 0.6437480616851754, 0.6437480616851754, 0.6437480616851754, 0.6437480616851754, 0.6437480616851754, 0.6437480616851754, 0.6437480616851754]}], \"precision_score_micro\": [{\"categories\": [\"0\", \"1\", \"2\", \"3\", \"4\", \"5\", \"6\", \"7\", \"8\", \"9\", \"10\", \"11\", \"12\", \"13\", \"14\", \"15\", \"16\", \"17\", \"18\", \"19\", \"20\", \"21\", \"22\", \"23\", \"24\", \"25\", \"26\", \"27\", \"28\", \"29\", \"30\", \"32\", \"33\", \"34\", \"36\", \"37\"], \"mode\": \"markers\", \"name\": \"precision_score_micro\", \"stepped\": false, \"type\": \"scatter\", \"data\": [0.8127069351230425, 0.8460850111856824, 0.8327740492170023, 0.839440715883669, 0.8093512304250559, 0.6821700223713647, 0.6989261744966443, 0.8294183445190157, 0.8495078299776286, 0.752572706935123, 0.8293959731543624, 0.802751677852349, 0.779261744966443, 0.8394630872483222, 0.7558836689038031, 0.8427740492170023, 0.7759507829977629, 0.8193064876957494, 0.6890156599552573, 0.7559731543624161, 0.8495078299776286, 0.8461297539149888, 0.6688590604026846, 0.7625279642058166, 0.8361073825503356, 0.8327293064876957, 0.8394630872483222, 0.8127069351230425, 0.8361297539149888, 0.7859284116331096, 0.6789485458612976, 0.8193736017897092, 0.8394630872483222, 0.7391275167785235, 0.8595749440715883, 0.8193064876957494]}, {\"categories\": [\"0\", \"1\", \"2\", \"3\", \"4\", \"5\", \"6\", \"7\", \"8\", \"9\", \"10\", \"11\", \"12\", \"13\", \"14\", \"15\", \"16\", \"17\", \"18\", \"19\", \"20\", \"21\", \"22\", \"23\", \"24\", \"25\", \"26\", \"27\", \"28\", \"29\", \"30\", \"32\", \"33\", \"34\", \"36\", \"37\"], \"mode\": \"lines\", \"name\": \"precision_score_micro_max\", \"stepped\": true, \"type\": \"scatter\", \"data\": [0.8127069351230425, 0.8460850111856824, 0.8460850111856824, 0.8460850111856824, 0.8460850111856824, 0.8460850111856824, 0.8460850111856824, 0.8460850111856824, 0.8495078299776286, 0.8495078299776286, 0.8495078299776286, 0.8495078299776286, 0.8495078299776286, 0.8495078299776286, 0.8495078299776286, 0.8495078299776286, 0.8495078299776286, 0.8495078299776286, 0.8495078299776286, 0.8495078299776286, 0.8495078299776286, 0.8495078299776286, 0.8495078299776286, 0.8495078299776286, 0.8495078299776286, 0.8495078299776286, 0.8495078299776286, 0.8495078299776286, 0.8495078299776286, 0.8495078299776286, 0.8495078299776286, 0.8495078299776286, 0.8495078299776286, 0.8495078299776286, 0.8595749440715883, 0.8595749440715883]}], \"f1_score_macro\": [{\"categories\": [\"0\", \"1\", \"2\", \"3\", \"4\", \"5\", \"6\", \"7\", \"8\", \"9\", \"10\", \"11\", \"12\", \"13\", \"14\", \"15\", \"16\", \"17\", \"18\", \"19\", \"20\", \"21\", \"22\", \"23\", \"24\", \"25\", \"26\", \"27\", \"28\", \"29\", \"30\", \"32\", \"33\", \"34\", \"36\", \"37\"], \"mode\": \"markers\", \"name\": \"f1_score_macro\", \"stepped\": false, \"type\": \"scatter\", \"data\": [0.7692501942501943, 0.8186094279798553, 0.7924765076417224, 0.8113852237587865, 0.7952188253244719, 0.5608948012148154, 0.578441572089113, 0.7960104007076351, 0.8152032191130364, 0.6305977178223828, 0.7982106899536865, 0.731841709015622, 0.6944624306248355, 0.8025530857596197, 0.6299143006492792, 0.8124831955367346, 0.6992280641977686, 0.7816207470223253, 0.43684038041382856, 0.6322811887488529, 0.8152032191130364, 0.8130084480600751, 0.5214064542422752, 0.6735094248681204, 0.8027286814887544, 0.7945068495790062, 0.8060647805729415, 0.7658460908460909, 0.7958522862096951, 0.728295109948975, 0.4043824701195219, 0.7821333829590262, 0.8049627276162856, 0.643618324491501, 0.8276119758152714, 0.7922806752281031]}, {\"categories\": [\"0\", \"1\", \"2\", \"3\", \"4\", \"5\", \"6\", \"7\", \"8\", \"9\", \"10\", \"11\", \"12\", \"13\", \"14\", \"15\", \"16\", \"17\", \"18\", \"19\", \"20\", \"21\", \"22\", \"23\", \"24\", \"25\", \"26\", \"27\", \"28\", \"29\", \"30\", \"32\", \"33\", \"34\", \"36\", \"37\"], \"mode\": \"lines\", \"name\": \"f1_score_macro_max\", \"stepped\": true, \"type\": \"scatter\", \"data\": [0.7692501942501943, 0.8186094279798553, 0.8186094279798553, 0.8186094279798553, 0.8186094279798553, 0.8186094279798553, 0.8186094279798553, 0.8186094279798553, 0.8186094279798553, 0.8186094279798553, 0.8186094279798553, 0.8186094279798553, 0.8186094279798553, 0.8186094279798553, 0.8186094279798553, 0.8186094279798553, 0.8186094279798553, 0.8186094279798553, 0.8186094279798553, 0.8186094279798553, 0.8186094279798553, 0.8186094279798553, 0.8186094279798553, 0.8186094279798553, 0.8186094279798553, 0.8186094279798553, 0.8186094279798553, 0.8186094279798553, 0.8186094279798553, 0.8186094279798553, 0.8186094279798553, 0.8186094279798553, 0.8186094279798553, 0.8186094279798553, 0.8276119758152714, 0.8276119758152714]}], \"precision_score_macro\": [{\"categories\": [\"0\", \"1\", \"2\", \"3\", \"4\", \"5\", \"6\", \"7\", \"8\", \"9\", \"10\", \"11\", \"12\", \"13\", \"14\", \"15\", \"16\", \"17\", \"18\", \"19\", \"20\", \"21\", \"22\", \"23\", \"24\", \"25\", \"26\", \"27\", \"28\", \"29\", \"30\", \"32\", \"33\", \"34\", \"36\", \"37\"], \"mode\": \"markers\", \"name\": \"precision_score_macro\", \"stepped\": false, \"type\": \"scatter\", \"data\": [0.8038548007066774, 0.836146171455906, 0.8345961281708946, 0.8248021094402673, 0.7899134674306119, 0.7250921201814059, 0.7373456951122594, 0.8187032744132136, 0.8512036598902284, 0.8126264012811714, 0.8219424337845391, 0.8305705093157253, 0.8092860422405876, 0.837361655959217, 0.8289193073022498, 0.8348868330155996, 0.7885228978978979, 0.8096183144104037, 0.5929908675799087, 0.8038605200945627, 0.8512036598902284, 0.8486126090793216, 0.5815835759028214, 0.7695104152071366, 0.8295506233315639, 0.8260530267109214, 0.8337203750220021, 0.8095054419362471, 0.8395663956639567, 0.7799814180344663, 0.3394742729306488, 0.8084676066528382, 0.8346008158508158, 0.7435327438229915, 0.8625445969990462, 0.8214203597904716]}, {\"categories\": [\"0\", \"1\", \"2\", \"3\", \"4\", \"5\", \"6\", \"7\", \"8\", \"9\", \"10\", \"11\", \"12\", \"13\", \"14\", \"15\", \"16\", \"17\", \"18\", \"19\", \"20\", \"21\", \"22\", \"23\", \"24\", \"25\", \"26\", \"27\", \"28\", \"29\", \"30\", \"32\", \"33\", \"34\", \"36\", \"37\"], \"mode\": \"lines\", \"name\": \"precision_score_macro_max\", \"stepped\": true, \"type\": \"scatter\", \"data\": [0.8038548007066774, 0.836146171455906, 0.836146171455906, 0.836146171455906, 0.836146171455906, 0.836146171455906, 0.836146171455906, 0.836146171455906, 0.8512036598902284, 0.8512036598902284, 0.8512036598902284, 0.8512036598902284, 0.8512036598902284, 0.8512036598902284, 0.8512036598902284, 0.8512036598902284, 0.8512036598902284, 0.8512036598902284, 0.8512036598902284, 0.8512036598902284, 0.8512036598902284, 0.8512036598902284, 0.8512036598902284, 0.8512036598902284, 0.8512036598902284, 0.8512036598902284, 0.8512036598902284, 0.8512036598902284, 0.8512036598902284, 0.8512036598902284, 0.8512036598902284, 0.8512036598902284, 0.8512036598902284, 0.8512036598902284, 0.8625445969990462, 0.8625445969990462]}], \"accuracy\": [{\"categories\": [\"0\", \"1\", \"2\", \"3\", \"4\", \"5\", \"6\", \"7\", \"8\", \"9\", \"10\", \"11\", \"12\", \"13\", \"14\", \"15\", \"16\", \"17\", \"18\", \"19\", \"20\", \"21\", \"22\", \"23\", \"24\", \"25\", \"26\", \"27\", \"28\", \"29\", \"30\", \"32\", \"33\", \"34\", \"36\", \"37\"], \"mode\": \"markers\", \"name\": \"accuracy\", \"stepped\": false, \"type\": \"scatter\", \"data\": [0.8127069351230425, 0.8460850111856824, 0.8327740492170023, 0.839440715883669, 0.8093512304250559, 0.6821700223713647, 0.6989261744966443, 0.8294183445190157, 0.8495078299776286, 0.752572706935123, 0.8293959731543624, 0.802751677852349, 0.779261744966443, 0.8394630872483222, 0.7558836689038031, 0.8427740492170023, 0.7759507829977629, 0.8193064876957494, 0.6890156599552573, 0.7559731543624161, 0.8495078299776286, 0.8461297539149888, 0.6688590604026846, 0.7625279642058166, 0.8361073825503356, 0.8327293064876957, 0.8394630872483222, 0.8127069351230425, 0.8361297539149888, 0.7859284116331096, 0.6789485458612976, 0.8193736017897092, 0.8394630872483222, 0.7391275167785235, 0.8595749440715883, 0.8193064876957494]}, {\"categories\": [\"0\", \"1\", \"2\", \"3\", \"4\", \"5\", \"6\", \"7\", \"8\", \"9\", \"10\", \"11\", \"12\", \"13\", \"14\", \"15\", \"16\", \"17\", \"18\", \"19\", \"20\", \"21\", \"22\", \"23\", \"24\", \"25\", \"26\", \"27\", \"28\", \"29\", \"30\", \"32\", \"33\", \"34\", \"36\", \"37\"], \"mode\": \"lines\", \"name\": \"accuracy_max\", \"stepped\": true, \"type\": \"scatter\", \"data\": [0.8127069351230425, 0.8460850111856824, 0.8460850111856824, 0.8460850111856824, 0.8460850111856824, 0.8460850111856824, 0.8460850111856824, 0.8460850111856824, 0.8495078299776286, 0.8495078299776286, 0.8495078299776286, 0.8495078299776286, 0.8495078299776286, 0.8495078299776286, 0.8495078299776286, 0.8495078299776286, 0.8495078299776286, 0.8495078299776286, 0.8495078299776286, 0.8495078299776286, 0.8495078299776286, 0.8495078299776286, 0.8495078299776286, 0.8495078299776286, 0.8495078299776286, 0.8495078299776286, 0.8495078299776286, 0.8495078299776286, 0.8495078299776286, 0.8495078299776286, 0.8495078299776286, 0.8495078299776286, 0.8495078299776286, 0.8495078299776286, 0.8595749440715883, 0.8595749440715883]}], \"AUC_micro\": [{\"categories\": [\"0\", \"1\", \"2\", \"3\", \"4\", \"5\", \"6\", \"7\", \"8\", \"9\", \"10\", \"11\", \"12\", \"13\", \"14\", \"15\", \"16\", \"17\", \"18\", \"19\", \"20\", \"21\", \"22\", \"23\", \"24\", \"25\", \"26\", \"27\", \"28\", \"29\", \"30\", \"32\", \"33\", \"34\", \"36\", \"37\"], \"mode\": \"markers\", \"name\": \"AUC_micro\", \"stepped\": false, \"type\": \"scatter\", \"data\": [0.8778265723766197, 0.8987015419725839, 0.8979177784784469, 0.9131467341310952, 0.8837755436441802, 0.7822213048461281, 0.7833341360999755, 0.9039237641948061, 0.900913811690164, 0.8703769640006207, 0.9096135509411488, 0.8802570224564459, 0.8766699688202233, 0.8890621103153511, 0.8601790600023023, 0.8936859040383566, 0.8643575864951029, 0.8853426212032491, 0.8243623770701021, 0.8555510012061518, 0.9069274286944031, 0.9095516718466136, 0.6804768654064632, 0.8764463242396489, 0.9005532443483527, 0.8995206972658889, 0.9022862783958681, 0.8786087633690174, 0.8984752028186919, 0.8834475213829207, 0.6789485458612976, 0.8972061438673933, 0.9025530942049658, 0.8386184936614467, 0.9089417203429275, 0.8848669008903502]}, {\"categories\": [\"0\", \"1\", \"2\", \"3\", \"4\", \"5\", \"6\", \"7\", \"8\", \"9\", \"10\", \"11\", \"12\", \"13\", \"14\", \"15\", \"16\", \"17\", \"18\", \"19\", \"20\", \"21\", \"22\", \"23\", \"24\", \"25\", \"26\", \"27\", \"28\", \"29\", \"30\", \"32\", \"33\", \"34\", \"36\", \"37\"], \"mode\": \"lines\", \"name\": \"AUC_micro_max\", \"stepped\": true, \"type\": \"scatter\", \"data\": [0.8778265723766197, 0.8987015419725839, 0.8987015419725839, 0.9131467341310952, 0.9131467341310952, 0.9131467341310952, 0.9131467341310952, 0.9131467341310952, 0.9131467341310952, 0.9131467341310952, 0.9131467341310952, 0.9131467341310952, 0.9131467341310952, 0.9131467341310952, 0.9131467341310952, 0.9131467341310952, 0.9131467341310952, 0.9131467341310952, 0.9131467341310952, 0.9131467341310952, 0.9131467341310952, 0.9131467341310952, 0.9131467341310952, 0.9131467341310952, 0.9131467341310952, 0.9131467341310952, 0.9131467341310952, 0.9131467341310952, 0.9131467341310952, 0.9131467341310952, 0.9131467341310952, 0.9131467341310952, 0.9131467341310952, 0.9131467341310952, 0.9131467341310952, 0.9131467341310952]}], \"precision_score_weighted\": [{\"categories\": [\"0\", \"1\", \"2\", \"3\", \"4\", \"5\", \"6\", \"7\", \"8\", \"9\", \"10\", \"11\", \"12\", \"13\", \"14\", \"15\", \"16\", \"17\", \"18\", \"19\", \"20\", \"21\", \"22\", \"23\", \"24\", \"25\", \"26\", \"27\", \"28\", \"29\", \"30\", \"32\", \"33\", \"34\", \"36\", \"37\"], \"mode\": \"markers\", \"name\": \"precision_score_weighted\", \"stepped\": false, \"type\": \"scatter\", \"data\": [0.8129063373603715, 0.8485365800897071, 0.8364090699107635, 0.8409169421035811, 0.8373329236993152, 0.7269912194930173, 0.7364699564462796, 0.8317982694119073, 0.8526366173201307, 0.789349920182697, 0.8369704901637081, 0.8170316370820259, 0.7963320617194931, 0.8404919618555239, 0.798064436508583, 0.8452552028109142, 0.786618161785947, 0.8200405309711774, 0.6235354458439316, 0.7837366313907796, 0.8526366173201307, 0.8523428197864986, 0.6237726814580498, 0.7673404132104209, 0.8392696843036567, 0.8312974587091507, 0.8421152499004848, 0.8145020838800714, 0.8397842436478057, 0.7875029394660218, 0.46100265853890465, 0.8208654432815508, 0.8413136093337437, 0.7488094836634378, 0.8630912295128185, 0.843140372305553]}, {\"categories\": [\"0\", \"1\", \"2\", \"3\", \"4\", \"5\", \"6\", \"7\", \"8\", \"9\", \"10\", \"11\", \"12\", \"13\", \"14\", \"15\", \"16\", \"17\", \"18\", \"19\", \"20\", \"21\", \"22\", \"23\", \"24\", \"25\", \"26\", \"27\", \"28\", \"29\", \"30\", \"32\", \"33\", \"34\", \"36\", \"37\"], \"mode\": \"lines\", \"name\": \"precision_score_weighted_max\", \"stepped\": true, \"type\": \"scatter\", \"data\": [0.8129063373603715, 0.8485365800897071, 0.8485365800897071, 0.8485365800897071, 0.8485365800897071, 0.8485365800897071, 0.8485365800897071, 0.8485365800897071, 0.8526366173201307, 0.8526366173201307, 0.8526366173201307, 0.8526366173201307, 0.8526366173201307, 0.8526366173201307, 0.8526366173201307, 0.8526366173201307, 0.8526366173201307, 0.8526366173201307, 0.8526366173201307, 0.8526366173201307, 0.8526366173201307, 0.8526366173201307, 0.8526366173201307, 0.8526366173201307, 0.8526366173201307, 0.8526366173201307, 0.8526366173201307, 0.8526366173201307, 0.8526366173201307, 0.8526366173201307, 0.8526366173201307, 0.8526366173201307, 0.8526366173201307, 0.8526366173201307, 0.8630912295128185, 0.8630912295128185]}], \"recall_score_micro\": [{\"categories\": [\"0\", \"1\", \"2\", \"3\", \"4\", \"5\", \"6\", \"7\", \"8\", \"9\", \"10\", \"11\", \"12\", \"13\", \"14\", \"15\", \"16\", \"17\", \"18\", \"19\", \"20\", \"21\", \"22\", \"23\", \"24\", \"25\", \"26\", \"27\", \"28\", \"29\", \"30\", \"32\", \"33\", \"34\", \"36\", \"37\"], \"mode\": \"markers\", \"name\": \"recall_score_micro\", \"stepped\": false, \"type\": \"scatter\", \"data\": [0.8127069351230425, 0.8460850111856824, 0.8327740492170023, 0.839440715883669, 0.8093512304250559, 0.6821700223713647, 0.6989261744966443, 0.8294183445190157, 0.8495078299776286, 0.752572706935123, 0.8293959731543624, 0.802751677852349, 0.779261744966443, 0.8394630872483222, 0.7558836689038031, 0.8427740492170023, 0.7759507829977629, 0.8193064876957494, 0.6890156599552573, 0.7559731543624161, 0.8495078299776286, 0.8461297539149888, 0.6688590604026846, 0.7625279642058166, 0.8361073825503356, 0.8327293064876957, 0.8394630872483222, 0.8127069351230425, 0.8361297539149888, 0.7859284116331096, 0.6789485458612976, 0.8193736017897092, 0.8394630872483222, 0.7391275167785235, 0.8595749440715883, 0.8193064876957494]}, {\"categories\": [\"0\", \"1\", \"2\", \"3\", \"4\", \"5\", \"6\", \"7\", \"8\", \"9\", \"10\", \"11\", \"12\", \"13\", \"14\", \"15\", \"16\", \"17\", \"18\", \"19\", \"20\", \"21\", \"22\", \"23\", \"24\", \"25\", \"26\", \"27\", \"28\", \"29\", \"30\", \"32\", \"33\", \"34\", \"36\", \"37\"], \"mode\": \"lines\", \"name\": \"recall_score_micro_max\", \"stepped\": true, \"type\": \"scatter\", \"data\": [0.8127069351230425, 0.8460850111856824, 0.8460850111856824, 0.8460850111856824, 0.8460850111856824, 0.8460850111856824, 0.8460850111856824, 0.8460850111856824, 0.8495078299776286, 0.8495078299776286, 0.8495078299776286, 0.8495078299776286, 0.8495078299776286, 0.8495078299776286, 0.8495078299776286, 0.8495078299776286, 0.8495078299776286, 0.8495078299776286, 0.8495078299776286, 0.8495078299776286, 0.8495078299776286, 0.8495078299776286, 0.8495078299776286, 0.8495078299776286, 0.8495078299776286, 0.8495078299776286, 0.8495078299776286, 0.8495078299776286, 0.8495078299776286, 0.8495078299776286, 0.8495078299776286, 0.8495078299776286, 0.8495078299776286, 0.8495078299776286, 0.8595749440715883, 0.8595749440715883]}], \"weighted_accuracy\": [{\"categories\": [\"0\", \"1\", \"2\", \"3\", \"4\", \"5\", \"6\", \"7\", \"8\", \"9\", \"10\", \"11\", \"12\", \"13\", \"14\", \"15\", \"16\", \"17\", \"18\", \"19\", \"20\", \"21\", \"22\", \"23\", \"24\", \"25\", \"26\", \"27\", \"28\", \"29\", \"30\", \"32\", \"33\", \"34\", \"36\", \"37\"], \"mode\": \"markers\", \"name\": \"weighted_accuracy\", \"stepped\": false, \"type\": \"scatter\", \"data\": [0.8569164934675346, 0.8738984786229518, 0.8768252817101251, 0.8658028989746689, 0.7998884246072702, 0.7606501564847588, 0.7809483714609236, 0.8621146347886398, 0.8884833147703591, 0.8458054848351193, 0.8577179076265621, 0.8723736532993918, 0.8570341381016076, 0.8807497002215037, 0.8543714700082528, 0.8740536541570252, 0.8442246981746211, 0.8587502857677152, 0.8227584326311002, 0.8498041000892952, 0.8884833147703591, 0.8822234305481054, 0.7689916703232897, 0.8412497758872708, 0.8701653824541209, 0.8750412003153766, 0.8742088296910986, 0.8611599482213876, 0.8808687289471028, 0.8416511750125477, 0.8171689614505722, 0.8564441848168355, 0.8763891198679002, 0.8146848946403735, 0.8962530761276888, 0.8368302583999477]}, {\"categories\": [\"0\", \"1\", \"2\", \"3\", \"4\", \"5\", \"6\", \"7\", \"8\", \"9\", \"10\", \"11\", \"12\", \"13\", \"14\", \"15\", \"16\", \"17\", \"18\", \"19\", \"20\", \"21\", \"22\", \"23\", \"24\", \"25\", \"26\", \"27\", \"28\", \"29\", \"30\", \"32\", \"33\", \"34\", \"36\", \"37\"], \"mode\": \"lines\", \"name\": \"weighted_accuracy_max\", \"stepped\": true, \"type\": \"scatter\", \"data\": [0.8569164934675346, 0.8738984786229518, 0.8768252817101251, 0.8768252817101251, 0.8768252817101251, 0.8768252817101251, 0.8768252817101251, 0.8768252817101251, 0.8884833147703591, 0.8884833147703591, 0.8884833147703591, 0.8884833147703591, 0.8884833147703591, 0.8884833147703591, 0.8884833147703591, 0.8884833147703591, 0.8884833147703591, 0.8884833147703591, 0.8884833147703591, 0.8884833147703591, 0.8884833147703591, 0.8884833147703591, 0.8884833147703591, 0.8884833147703591, 0.8884833147703591, 0.8884833147703591, 0.8884833147703591, 0.8884833147703591, 0.8884833147703591, 0.8884833147703591, 0.8884833147703591, 0.8884833147703591, 0.8884833147703591, 0.8884833147703591, 0.8962530761276888, 0.8962530761276888]}], \"recall_score_macro\": [{\"categories\": [\"0\", \"1\", \"2\", \"3\", \"4\", \"5\", \"6\", \"7\", \"8\", \"9\", \"10\", \"11\", \"12\", \"13\", \"14\", \"15\", \"16\", \"17\", \"18\", \"19\", \"20\", \"21\", \"22\", \"23\", \"24\", \"25\", \"26\", \"27\", \"28\", \"29\", \"30\", \"32\", \"33\", \"34\", \"36\", \"37\"], \"mode\": \"markers\", \"name\": \"recall_score_macro\", \"stepped\": false, \"type\": \"scatter\", \"data\": [0.7557586759161217, 0.810322844115527, 0.7760323215024371, 0.8055894571858657, 0.8218740308425877, 0.5814570509054686, 0.5934948447464092, 0.7874394333254684, 0.7993256813995875, 0.6322763147812316, 0.7932000375460907, 0.7129292100240138, 0.678804711267275, 0.7862121360024945, 0.6285567418456744, 0.8025697428750308, 0.6880192460384196, 0.7684209769856963, 0.5159574468085106, 0.6349201361606366, 0.7993256813995875, 0.7997671366840395, 0.5392578139323984, 0.6607649379532727, 0.7923656612423777, 0.7779835233018845, 0.7948166416345346, 0.7502637140805343, 0.7784833018945939, 0.7140981840387304, 0.5, 0.7716990946368014, 0.7919484730905213, 0.6418497143959754, 0.8124149596640847, 0.7973440376782691]}, {\"categories\": [\"0\", \"1\", \"2\", \"3\", \"4\", \"5\", \"6\", \"7\", \"8\", \"9\", \"10\", \"11\", \"12\", \"13\", \"14\", \"15\", \"16\", \"17\", \"18\", \"19\", \"20\", \"21\", \"22\", \"23\", \"24\", \"25\", \"26\", \"27\", \"28\", \"29\", \"30\", \"32\", \"33\", \"34\", \"36\", \"37\"], \"mode\": \"lines\", \"name\": \"recall_score_macro_max\", \"stepped\": true, \"type\": \"scatter\", \"data\": [0.7557586759161217, 0.810322844115527, 0.810322844115527, 0.810322844115527, 0.8218740308425877, 0.8218740308425877, 0.8218740308425877, 0.8218740308425877, 0.8218740308425877, 0.8218740308425877, 0.8218740308425877, 0.8218740308425877, 0.8218740308425877, 0.8218740308425877, 0.8218740308425877, 0.8218740308425877, 0.8218740308425877, 0.8218740308425877, 0.8218740308425877, 0.8218740308425877, 0.8218740308425877, 0.8218740308425877, 0.8218740308425877, 0.8218740308425877, 0.8218740308425877, 0.8218740308425877, 0.8218740308425877, 0.8218740308425877, 0.8218740308425877, 0.8218740308425877, 0.8218740308425877, 0.8218740308425877, 0.8218740308425877, 0.8218740308425877, 0.8218740308425877, 0.8218740308425877]}], \"AUC_weighted\": [{\"categories\": [\"0\", \"1\", \"2\", \"3\", \"4\", \"5\", \"6\", \"7\", \"8\", \"9\", \"10\", \"11\", \"12\", \"13\", \"14\", \"15\", \"16\", \"17\", \"18\", \"19\", \"20\", \"21\", \"22\", \"23\", \"24\", \"25\", \"26\", \"27\", \"28\", \"29\", \"30\", \"32\", \"33\", \"34\", \"36\", \"37\"], \"mode\": \"markers\", \"name\": \"AUC_weighted\", \"stepped\": false, \"type\": \"scatter\", \"data\": [0.8555301412749636, 0.8812455464595781, 0.8837903288553678, 0.9021427614652349, 0.881646054250645, 0.7485281241209354, 0.7367108208356021, 0.8894451186836647, 0.8991804431905479, 0.8894712508976625, 0.9049489819100169, 0.8767187726154291, 0.8851750095445805, 0.8876955142705913, 0.8899164363449192, 0.8697473196145954, 0.8507814754298602, 0.8676477332032454, 0.8330656678091501, 0.8619251576762998, 0.8957034045975669, 0.9023709547016616, 0.5190127451865516, 0.8712117983911492, 0.8816003228761486, 0.8860845159635373, 0.8875334734694384, 0.8561533524300811, 0.8818230262401991, 0.8669244188090235, 0.5, 0.8832267265448416, 0.8913518641077665, 0.811886836048934, 0.9022244246339782, 0.9001517817997223]}, {\"categories\": [\"0\", \"1\", \"2\", \"3\", \"4\", \"5\", \"6\", \"7\", \"8\", \"9\", \"10\", \"11\", \"12\", \"13\", \"14\", \"15\", \"16\", \"17\", \"18\", \"19\", \"20\", \"21\", \"22\", \"23\", \"24\", \"25\", \"26\", \"27\", \"28\", \"29\", \"30\", \"32\", \"33\", \"34\", \"36\", \"37\"], \"mode\": \"lines\", \"name\": \"AUC_weighted_max\", \"stepped\": true, \"type\": \"scatter\", \"data\": [0.8555301412749636, 0.8812455464595781, 0.8837903288553678, 0.9021427614652349, 0.9021427614652349, 0.9021427614652349, 0.9021427614652349, 0.9021427614652349, 0.9021427614652349, 0.9021427614652349, 0.9049489819100169, 0.9049489819100169, 0.9049489819100169, 0.9049489819100169, 0.9049489819100169, 0.9049489819100169, 0.9049489819100169, 0.9049489819100169, 0.9049489819100169, 0.9049489819100169, 0.9049489819100169, 0.9049489819100169, 0.9049489819100169, 0.9049489819100169, 0.9049489819100169, 0.9049489819100169, 0.9049489819100169, 0.9049489819100169, 0.9049489819100169, 0.9049489819100169, 0.9049489819100169, 0.9049489819100169, 0.9049489819100169, 0.9049489819100169, 0.9049489819100169, 0.9049489819100169]}], \"average_precision_score_macro\": [{\"categories\": [\"0\", \"1\", \"2\", \"3\", \"4\", \"5\", \"6\", \"7\", \"8\", \"9\", \"10\", \"11\", \"12\", \"13\", \"14\", \"15\", \"16\", \"17\", \"18\", \"19\", \"20\", \"21\", \"22\", \"23\", \"24\", \"25\", \"26\", \"27\", \"28\", \"29\", \"30\", \"32\", \"33\", \"34\", \"36\", \"37\"], \"mode\": \"markers\", \"name\": \"average_precision_score_macro\", \"stepped\": false, \"type\": \"scatter\", \"data\": [0.8315719322255934, 0.8593539389925748, 0.8624742390421872, 0.882036572235321, 0.8604548694687184, 0.7318283571615326, 0.7181302380157493, 0.8726574898420505, 0.8838825698619444, 0.8703347002286177, 0.8869979037484088, 0.8584679919244267, 0.8666968153602403, 0.8774854290596588, 0.8761635026359009, 0.8540977591770058, 0.8262233551891882, 0.8496476710491637, 0.8207678904090575, 0.8450037936372952, 0.8779485884397022, 0.8867951235912374, 0.5546092594808996, 0.8325091249885506, 0.863284181315426, 0.8705093805579679, 0.8576620800317512, 0.842054314635919, 0.8646196854389558, 0.8511923933866783, 0.5, 0.8650460660083185, 0.8739987500019831, 0.7875034835438472, 0.8869123137773178, 0.8875633978939304]}, {\"categories\": [\"0\", \"1\", \"2\", \"3\", \"4\", \"5\", \"6\", \"7\", \"8\", \"9\", \"10\", \"11\", \"12\", \"13\", \"14\", \"15\", \"16\", \"17\", \"18\", \"19\", \"20\", \"21\", \"22\", \"23\", \"24\", \"25\", \"26\", \"27\", \"28\", \"29\", \"30\", \"32\", \"33\", \"34\", \"36\", \"37\"], \"mode\": \"lines\", \"name\": \"average_precision_score_macro_max\", \"stepped\": true, \"type\": \"scatter\", \"data\": [0.8315719322255934, 0.8593539389925748, 0.8624742390421872, 0.882036572235321, 0.882036572235321, 0.882036572235321, 0.882036572235321, 0.882036572235321, 0.8838825698619444, 0.8838825698619444, 0.8869979037484088, 0.8869979037484088, 0.8869979037484088, 0.8869979037484088, 0.8869979037484088, 0.8869979037484088, 0.8869979037484088, 0.8869979037484088, 0.8869979037484088, 0.8869979037484088, 0.8869979037484088, 0.8869979037484088, 0.8869979037484088, 0.8869979037484088, 0.8869979037484088, 0.8869979037484088, 0.8869979037484088, 0.8869979037484088, 0.8869979037484088, 0.8869979037484088, 0.8869979037484088, 0.8869979037484088, 0.8869979037484088, 0.8869979037484088, 0.8869979037484088, 0.8875633978939304]}], \"recall_score_weighted\": [{\"categories\": [\"0\", \"1\", \"2\", \"3\", \"4\", \"5\", \"6\", \"7\", \"8\", \"9\", \"10\", \"11\", \"12\", \"13\", \"14\", \"15\", \"16\", \"17\", \"18\", \"19\", \"20\", \"21\", \"22\", \"23\", \"24\", \"25\", \"26\", \"27\", \"28\", \"29\", \"30\", \"32\", \"33\", \"34\", \"36\", \"37\"], \"mode\": \"markers\", \"name\": \"recall_score_weighted\", \"stepped\": false, \"type\": \"scatter\", \"data\": [0.8127069351230425, 0.8460850111856824, 0.8327740492170023, 0.839440715883669, 0.8093512304250559, 0.6821700223713647, 0.6989261744966443, 0.8294183445190157, 0.8495078299776286, 0.752572706935123, 0.8293959731543624, 0.802751677852349, 0.779261744966443, 0.8394630872483222, 0.7558836689038031, 0.8427740492170023, 0.7759507829977629, 0.8193064876957494, 0.6890156599552573, 0.7559731543624161, 0.8495078299776286, 0.8461297539149888, 0.6688590604026846, 0.7625279642058166, 0.8361073825503356, 0.8327293064876957, 0.8394630872483222, 0.8127069351230425, 0.8361297539149888, 0.7859284116331096, 0.6789485458612976, 0.8193736017897092, 0.8394630872483222, 0.7391275167785235, 0.8595749440715883, 0.8193064876957494]}, {\"categories\": [\"0\", \"1\", \"2\", \"3\", \"4\", \"5\", \"6\", \"7\", \"8\", \"9\", \"10\", \"11\", \"12\", \"13\", \"14\", \"15\", \"16\", \"17\", \"18\", \"19\", \"20\", \"21\", \"22\", \"23\", \"24\", \"25\", \"26\", \"27\", \"28\", \"29\", \"30\", \"32\", \"33\", \"34\", \"36\", \"37\"], \"mode\": \"lines\", \"name\": \"recall_score_weighted_max\", \"stepped\": true, \"type\": \"scatter\", \"data\": [0.8127069351230425, 0.8460850111856824, 0.8460850111856824, 0.8460850111856824, 0.8460850111856824, 0.8460850111856824, 0.8460850111856824, 0.8460850111856824, 0.8495078299776286, 0.8495078299776286, 0.8495078299776286, 0.8495078299776286, 0.8495078299776286, 0.8495078299776286, 0.8495078299776286, 0.8495078299776286, 0.8495078299776286, 0.8495078299776286, 0.8495078299776286, 0.8495078299776286, 0.8495078299776286, 0.8495078299776286, 0.8495078299776286, 0.8495078299776286, 0.8495078299776286, 0.8495078299776286, 0.8495078299776286, 0.8495078299776286, 0.8495078299776286, 0.8495078299776286, 0.8495078299776286, 0.8495078299776286, 0.8495078299776286, 0.8495078299776286, 0.8595749440715883, 0.8595749440715883]}], \"f1_score_micro\": [{\"categories\": [\"0\", \"1\", \"2\", \"3\", \"4\", \"5\", \"6\", \"7\", \"8\", \"9\", \"10\", \"11\", \"12\", \"13\", \"14\", \"15\", \"16\", \"17\", \"18\", \"19\", \"20\", \"21\", \"22\", \"23\", \"24\", \"25\", \"26\", \"27\", \"28\", \"29\", \"30\", \"32\", \"33\", \"34\", \"36\", \"37\"], \"mode\": \"markers\", \"name\": \"f1_score_micro\", \"stepped\": false, \"type\": \"scatter\", \"data\": [0.8127069351230425, 0.8460850111856824, 0.8327740492170023, 0.839440715883669, 0.8093512304250559, 0.6821700223713647, 0.6989261744966443, 0.8294183445190157, 0.8495078299776286, 0.752572706935123, 0.8293959731543623, 0.802751677852349, 0.779261744966443, 0.8394630872483221, 0.7558836689038031, 0.8427740492170024, 0.7759507829977628, 0.8193064876957494, 0.6890156599552573, 0.7559731543624161, 0.8495078299776286, 0.8461297539149889, 0.6688590604026846, 0.7625279642058166, 0.8361073825503356, 0.8327293064876957, 0.8394630872483221, 0.8127069351230425, 0.8361297539149888, 0.7859284116331096, 0.6789485458612976, 0.8193736017897092, 0.8394630872483221, 0.7391275167785235, 0.8595749440715883, 0.8193064876957494]}, {\"categories\": [\"0\", \"1\", \"2\", \"3\", \"4\", \"5\", \"6\", \"7\", \"8\", \"9\", \"10\", \"11\", \"12\", \"13\", \"14\", \"15\", \"16\", \"17\", \"18\", \"19\", \"20\", \"21\", \"22\", \"23\", \"24\", \"25\", \"26\", \"27\", \"28\", \"29\", \"30\", \"32\", \"33\", \"34\", \"36\", \"37\"], \"mode\": \"lines\", \"name\": \"f1_score_micro_max\", \"stepped\": true, \"type\": \"scatter\", \"data\": [0.8127069351230425, 0.8460850111856824, 0.8460850111856824, 0.8460850111856824, 0.8460850111856824, 0.8460850111856824, 0.8460850111856824, 0.8460850111856824, 0.8495078299776286, 0.8495078299776286, 0.8495078299776286, 0.8495078299776286, 0.8495078299776286, 0.8495078299776286, 0.8495078299776286, 0.8495078299776286, 0.8495078299776286, 0.8495078299776286, 0.8495078299776286, 0.8495078299776286, 0.8495078299776286, 0.8495078299776286, 0.8495078299776286, 0.8495078299776286, 0.8495078299776286, 0.8495078299776286, 0.8495078299776286, 0.8495078299776286, 0.8495078299776286, 0.8495078299776286, 0.8495078299776286, 0.8495078299776286, 0.8495078299776286, 0.8495078299776286, 0.8595749440715883, 0.8595749440715883]}], \"log_loss\": [{\"categories\": [\"0\", \"1\", \"2\", \"3\", \"4\", \"5\", \"6\", \"7\", \"8\", \"9\", \"10\", \"11\", \"12\", \"13\", \"14\", \"15\", \"16\", \"17\", \"18\", \"19\", \"20\", \"21\", \"22\", \"23\", \"24\", \"25\", \"26\", \"27\", \"28\", \"29\", \"30\", \"32\", \"33\", \"34\", \"36\", \"37\"], \"mode\": \"markers\", \"name\": \"log_loss\", \"stepped\": false, \"type\": \"scatter\", \"data\": [0.5552296145880724, 0.4022215983601719, 0.42511781329053566, 0.3865207313815545, 0.4813429278623276, 0.5764704042326563, 0.5682262039860343, 0.39087059953299597, 0.4328430538758383, 0.48595160799396875, 0.38418928361563787, 0.4672443448472947, 0.48504682318775455, 0.46891305657513305, 0.5075486649682516, 0.41557960925822524, 0.4664644126583237, 0.4446373613982777, 0.5660014471291865, 0.5032661579373596, 0.4063773358388806, 0.4156556987100911, 0.6998110735134746, 0.47377015293943636, 0.4006935655587396, 0.4047964413929124, 0.3949980896175409, 0.4399059477728288, 0.41747019508510125, 0.4323196838704256, 0.6278780696349407, 0.40660524386016783, 0.3993499924612248, 0.5073474690529022, 0.4105723205481223, 0.4381789668951147]}, {\"categories\": [\"0\", \"1\", \"2\", \"3\", \"4\", \"5\", \"6\", \"7\", \"8\", \"9\", \"10\", \"11\", \"12\", \"13\", \"14\", \"15\", \"16\", \"17\", \"18\", \"19\", \"20\", \"21\", \"22\", \"23\", \"24\", \"25\", \"26\", \"27\", \"28\", \"29\", \"30\", \"32\", \"33\", \"34\", \"36\", \"37\"], \"mode\": \"lines\", \"name\": \"log_loss_min\", \"stepped\": true, \"type\": \"scatter\", \"data\": [0.5552296145880724, 0.4022215983601719, 0.4022215983601719, 0.3865207313815545, 0.3865207313815545, 0.3865207313815545, 0.3865207313815545, 0.3865207313815545, 0.3865207313815545, 0.3865207313815545, 0.38418928361563787, 0.38418928361563787, 0.38418928361563787, 0.38418928361563787, 0.38418928361563787, 0.38418928361563787, 0.38418928361563787, 0.38418928361563787, 0.38418928361563787, 0.38418928361563787, 0.38418928361563787, 0.38418928361563787, 0.38418928361563787, 0.38418928361563787, 0.38418928361563787, 0.38418928361563787, 0.38418928361563787, 0.38418928361563787, 0.38418928361563787, 0.38418928361563787, 0.38418928361563787, 0.38418928361563787, 0.38418928361563787, 0.38418928361563787, 0.38418928361563787, 0.38418928361563787]}], \"AUC_macro\": [{\"categories\": [\"0\", \"1\", \"2\", \"3\", \"4\", \"5\", \"6\", \"7\", \"8\", \"9\", \"10\", \"11\", \"12\", \"13\", \"14\", \"15\", \"16\", \"17\", \"18\", \"19\", \"20\", \"21\", \"22\", \"23\", \"24\", \"25\", \"26\", \"27\", \"28\", \"29\", \"30\", \"32\", \"33\", \"34\", \"36\", \"37\"], \"mode\": \"markers\", \"name\": \"AUC_macro\", \"stepped\": false, \"type\": \"scatter\", \"data\": [0.8555301412749637, 0.8812455464595781, 0.8837903288553678, 0.9021427614652349, 0.8816460542506449, 0.7485281241209356, 0.736710820835602, 0.8894451186836647, 0.8991804431905478, 0.8894712508976627, 0.9049489819100169, 0.8767187726154291, 0.8851750095445805, 0.8876955142705913, 0.8899164363449192, 0.8697473196145955, 0.8507814754298602, 0.8676477332032455, 0.8330656678091501, 0.8619251576762998, 0.8957034045975669, 0.9023709547016616, 0.5190127451865516, 0.8712117983911492, 0.8816003228761485, 0.8860845159635373, 0.8875334734694383, 0.8561533524300808, 0.8818230262401991, 0.8669244188090235, 0.5, 0.8832267265448417, 0.8913518641077665, 0.811886836048934, 0.9022244246339783, 0.9001517817997222]}, {\"categories\": [\"0\", \"1\", \"2\", \"3\", \"4\", \"5\", \"6\", \"7\", \"8\", \"9\", \"10\", \"11\", \"12\", \"13\", \"14\", \"15\", \"16\", \"17\", \"18\", \"19\", \"20\", \"21\", \"22\", \"23\", \"24\", \"25\", \"26\", \"27\", \"28\", \"29\", \"30\", \"32\", \"33\", \"34\", \"36\", \"37\"], \"mode\": \"lines\", \"name\": \"AUC_macro_max\", \"stepped\": true, \"type\": \"scatter\", \"data\": [0.8555301412749637, 0.8812455464595781, 0.8837903288553678, 0.9021427614652349, 0.9021427614652349, 0.9021427614652349, 0.9021427614652349, 0.9021427614652349, 0.9021427614652349, 0.9021427614652349, 0.9049489819100169, 0.9049489819100169, 0.9049489819100169, 0.9049489819100169, 0.9049489819100169, 0.9049489819100169, 0.9049489819100169, 0.9049489819100169, 0.9049489819100169, 0.9049489819100169, 0.9049489819100169, 0.9049489819100169, 0.9049489819100169, 0.9049489819100169, 0.9049489819100169, 0.9049489819100169, 0.9049489819100169, 0.9049489819100169, 0.9049489819100169, 0.9049489819100169, 0.9049489819100169, 0.9049489819100169, 0.9049489819100169, 0.9049489819100169, 0.9049489819100169, 0.9049489819100169]}]}, \"metricName\": null, \"primaryMetricName\": \"accuracy\", \"showLegend\": false}, \"run_metrics\": [{\"name\": \"experiment_status\", \"run_id\": \"AutoML_b91a3efe-41dd-4446-ab0b-bc946e08490e\", \"categories\": [0, 1, 2, 3, 4, 5, 6, 7, 8, 9, 10, 11, 12, 13], \"series\": [{\"data\": [\"DatasetEvaluation\", \"FeaturesGeneration\", \"DatasetFeaturization\", \"DatasetFeaturizationCompleted\", \"DatasetCrossValidationSplit\", \"ModelSelection\", \"BestRunExplainModel\", \"ModelExplanationDataSetSetup\", \"PickSurrogateModel\", \"EngineeredFeatureExplanations\", \"EngineeredFeatureExplanations\", \"RawFeaturesExplanations\", \"RawFeaturesExplanations\", \"BestRunExplainModel\"]}]}, {\"name\": \"experiment_status_description\", \"run_id\": \"AutoML_b91a3efe-41dd-4446-ab0b-bc946e08490e\", \"categories\": [0, 1, 2, 3, 4, 5, 6, 7, 8, 9, 10, 11, 12, 13], \"series\": [{\"data\": [\"Gathering dataset statistics.\", \"Generating features for the dataset.\", \"Beginning to fit featurizers and featurize the dataset.\", \"Completed fit featurizers and featurizing the dataset.\", \"Generating individually featurized CV splits.\", \"Beginning model selection.\", \"Best run model explanations started\", \"Model explanations data setup completed\", \"Choosing LightGBM as the surrogate model for explanations\", \"Computation of engineered features started\", \"Computation of engineered features completed\", \"Computation of raw features started\", \"Computation of raw features completed\", \"Best run model explanations completed\"]}]}, {\"name\": \"log_loss\", \"run_id\": \"AutoML_b91a3efe-41dd-4446-ab0b-bc946e08490e\", \"categories\": [0], \"series\": [{\"data\": [0.4105723205481223]}]}, {\"name\": \"recall_score_micro\", \"run_id\": \"AutoML_b91a3efe-41dd-4446-ab0b-bc946e08490e\", \"categories\": [0], \"series\": [{\"data\": [0.8595749440715883]}]}, {\"name\": \"average_precision_score_weighted\", \"run_id\": \"AutoML_b91a3efe-41dd-4446-ab0b-bc946e08490e\", \"categories\": [0], \"series\": [{\"data\": [0.9082925007384182]}]}, {\"name\": \"AUC_micro\", \"run_id\": \"AutoML_b91a3efe-41dd-4446-ab0b-bc946e08490e\", \"categories\": [0], \"series\": [{\"data\": [0.9089417203429275]}]}, {\"name\": \"average_precision_score_macro\", \"run_id\": \"AutoML_b91a3efe-41dd-4446-ab0b-bc946e08490e\", \"categories\": [0], \"series\": [{\"data\": [0.8869123137773178]}]}, {\"name\": \"precision_score_micro\", \"run_id\": \"AutoML_b91a3efe-41dd-4446-ab0b-bc946e08490e\", \"categories\": [0], \"series\": [{\"data\": [0.8595749440715883]}]}, {\"name\": \"average_precision_score_micro\", \"run_id\": \"AutoML_b91a3efe-41dd-4446-ab0b-bc946e08490e\", \"categories\": [0], \"series\": [{\"data\": [0.9075427783354854]}]}, {\"name\": \"f1_score_micro\", \"run_id\": \"AutoML_b91a3efe-41dd-4446-ab0b-bc946e08490e\", \"categories\": [0], \"series\": [{\"data\": [0.8595749440715883]}]}, {\"name\": \"norm_macro_recall\", \"run_id\": \"AutoML_b91a3efe-41dd-4446-ab0b-bc946e08490e\", \"categories\": [0], \"series\": [{\"data\": [0.6248299193281694]}]}, {\"name\": \"AUC_weighted\", \"run_id\": \"AutoML_b91a3efe-41dd-4446-ab0b-bc946e08490e\", \"categories\": [0], \"series\": [{\"data\": [0.9022244246339782]}]}, {\"name\": \"weighted_accuracy\", \"run_id\": \"AutoML_b91a3efe-41dd-4446-ab0b-bc946e08490e\", \"categories\": [0], \"series\": [{\"data\": [0.8962530761276888]}]}, {\"name\": \"precision_score_weighted\", \"run_id\": \"AutoML_b91a3efe-41dd-4446-ab0b-bc946e08490e\", \"categories\": [0], \"series\": [{\"data\": [0.8630912295128185]}]}, {\"name\": \"matthews_correlation\", \"run_id\": \"AutoML_b91a3efe-41dd-4446-ab0b-bc946e08490e\", \"categories\": [0], \"series\": [{\"data\": [0.6719517494325762]}]}, {\"name\": \"accuracy\", \"run_id\": \"AutoML_b91a3efe-41dd-4446-ab0b-bc946e08490e\", \"categories\": [0], \"series\": [{\"data\": [0.8595749440715883]}]}, {\"name\": \"recall_score_macro\", \"run_id\": \"AutoML_b91a3efe-41dd-4446-ab0b-bc946e08490e\", \"categories\": [0], \"series\": [{\"data\": [0.8124149596640847]}]}, {\"name\": \"f1_score_weighted\", \"run_id\": \"AutoML_b91a3efe-41dd-4446-ab0b-bc946e08490e\", \"categories\": [0], \"series\": [{\"data\": [0.8539163783147654]}]}, {\"name\": \"f1_score_macro\", \"run_id\": \"AutoML_b91a3efe-41dd-4446-ab0b-bc946e08490e\", \"categories\": [0], \"series\": [{\"data\": [0.8276119758152714]}]}, {\"name\": \"recall_score_weighted\", \"run_id\": \"AutoML_b91a3efe-41dd-4446-ab0b-bc946e08490e\", \"categories\": [0], \"series\": [{\"data\": [0.8595749440715883]}]}, {\"name\": \"AUC_macro\", \"run_id\": \"AutoML_b91a3efe-41dd-4446-ab0b-bc946e08490e\", \"categories\": [0], \"series\": [{\"data\": [0.9022244246339783]}]}, {\"name\": \"balanced_accuracy\", \"run_id\": \"AutoML_b91a3efe-41dd-4446-ab0b-bc946e08490e\", \"categories\": [0], \"series\": [{\"data\": [0.8124149596640847]}]}, {\"name\": \"precision_score_macro\", \"run_id\": \"AutoML_b91a3efe-41dd-4446-ab0b-bc946e08490e\", \"categories\": [0], \"series\": [{\"data\": [0.8625445969990462]}]}], \"run_logs\": \"\\nRun is completed.\", \"graph\": {}, \"widget_settings\": {\"childWidgetDisplay\": \"popup\", \"send_telemetry\": false, \"log_level\": \"INFO\", \"sdk_version\": \"1.22.0\"}, \"loading\": false}"
          },
          "metadata": {}
        }
      ],
      "execution_count": 9,
      "metadata": {
        "colab": {
          "referenced_widgets": [
            "23862b7609bc400e99f6570fa4121d14"
          ]
        },
        "gather": {
          "logged": 1615648886207
        },
        "id": "DVfWEweU1j--",
        "jupyter": {
          "outputs_hidden": false,
          "source_hidden": false
        },
        "nteract": {
          "transient": {
            "deleting": false
          }
        },
        "outputId": "0bfd7aed-29f0-44f3-b61f-6fb3c1b0f469"
      }
    },
    {
      "cell_type": "code",
      "source": [
        "# Fetch the latest status of the run. It should show 'Completed'\n",
        "\n",
        "print(\"Run Status: \",remote_run.get_status())"
      ],
      "outputs": [
        {
          "output_type": "stream",
          "name": "stdout",
          "text": [
            "Run Status:  Completed\n"
          ]
        }
      ],
      "execution_count": 10,
      "metadata": {
        "gather": {
          "logged": 1615648886779
        },
        "id": "g1MxACxl3P0W",
        "outputId": "55681e07-37de-4922-fde2-246d86073cda"
      }
    },
    {
      "cell_type": "markdown",
      "source": [
        "# Run Details\n",
        "In the cell below, I use the RunDetails widget and show the children runs of the experiment."
      ],
      "metadata": {}
    },
    {
      "cell_type": "code",
      "source": [
        "RunDetails(remote_run).show()\n",
        "\n",
        "# Get details from each run\n",
        "for child_run in remote_run.get_children():\n",
        "    print('===================================================')\n",
        "    print(child_run)"
      ],
      "outputs": [
        {
          "output_type": "display_data",
          "data": {
            "text/plain": "_AutoMLWidget(widget_settings={'childWidgetDisplay': 'popup', 'send_telemetry': False, 'log_level': 'INFO', 's…",
            "application/vnd.jupyter.widget-view+json": {
              "version_major": 2,
              "version_minor": 0,
              "model_id": "d0d6dbb4e77b43e0acee4ca8ca3a557c"
            }
          },
          "metadata": {}
        },
        {
          "output_type": "display_data",
          "data": {
            "application/aml.mini.widget.v1": "{\"status\": \"Completed\", \"workbench_run_details_uri\": \"https://ml.azure.com/experiments/heart-failure-experiment/runs/AutoML_b91a3efe-41dd-4446-ab0b-bc946e08490e?wsid=/subscriptions/a0a76bad-11a1-4a2d-9887-97a29122c8ed/resourcegroups/aml-quickstarts-140338/workspaces/quick-starts-ws-140338\", \"run_id\": \"AutoML_b91a3efe-41dd-4446-ab0b-bc946e08490e\", \"run_properties\": {\"run_id\": \"AutoML_b91a3efe-41dd-4446-ab0b-bc946e08490e\", \"created_utc\": \"2021-03-13T15:04:50.261492Z\", \"properties\": {\"num_iterations\": \"1000\", \"training_type\": \"TrainFull\", \"acquisition_function\": \"EI\", \"primary_metric\": \"accuracy\", \"train_split\": \"0\", \"acquisition_parameter\": \"0\", \"num_cross_validation\": \"2\", \"target\": \"cpu-cluster\", \"AMLSettingsJsonString\": \"{\\\"path\\\":null,\\\"name\\\":\\\"heart-failure-experiment\\\",\\\"subscription_id\\\":\\\"a0a76bad-11a1-4a2d-9887-97a29122c8ed\\\",\\\"resource_group\\\":\\\"aml-quickstarts-140338\\\",\\\"workspace_name\\\":\\\"quick-starts-ws-140338\\\",\\\"region\\\":\\\"southcentralus\\\",\\\"compute_target\\\":\\\"cpu-cluster\\\",\\\"spark_service\\\":null,\\\"azure_service\\\":\\\"remote\\\",\\\"many_models\\\":false,\\\"pipeline_fetch_max_batch_size\\\":1,\\\"iterations\\\":1000,\\\"primary_metric\\\":\\\"accuracy\\\",\\\"task_type\\\":\\\"classification\\\",\\\"data_script\\\":null,\\\"validation_size\\\":0.0,\\\"n_cross_validations\\\":2,\\\"y_min\\\":null,\\\"y_max\\\":null,\\\"num_classes\\\":null,\\\"featurization\\\":\\\"auto\\\",\\\"_ignore_package_version_incompatibilities\\\":false,\\\"is_timeseries\\\":false,\\\"max_cores_per_iteration\\\":1,\\\"max_concurrent_iterations\\\":4,\\\"iteration_timeout_minutes\\\":null,\\\"mem_in_mb\\\":null,\\\"enforce_time_on_windows\\\":false,\\\"experiment_timeout_minutes\\\":20,\\\"experiment_exit_score\\\":null,\\\"whitelist_models\\\":null,\\\"blacklist_algos\\\":[\\\"XGBoostClassifier\\\",\\\"TensorFlowLinearClassifier\\\",\\\"TensorFlowDNN\\\"],\\\"supported_models\\\":[\\\"RandomForest\\\",\\\"XGBoostClassifier\\\",\\\"TensorFlowLinearClassifier\\\",\\\"DecisionTree\\\",\\\"LightGBM\\\",\\\"GradientBoosting\\\",\\\"BernoulliNaiveBayes\\\",\\\"LinearSVM\\\",\\\"SGD\\\",\\\"SVM\\\",\\\"AveragedPerceptronClassifier\\\",\\\"TensorFlowDNN\\\",\\\"ExtremeRandomTrees\\\",\\\"KNN\\\",\\\"MultinomialNaiveBayes\\\",\\\"LogisticRegression\\\"],\\\"private_models\\\":[],\\\"auto_blacklist\\\":true,\\\"blacklist_samples_reached\\\":false,\\\"exclude_nan_labels\\\":true,\\\"verbosity\\\":20,\\\"_debug_log\\\":\\\"azureml_automl.log\\\",\\\"show_warnings\\\":false,\\\"model_explainability\\\":true,\\\"service_url\\\":null,\\\"sdk_url\\\":null,\\\"sdk_packages\\\":null,\\\"enable_onnx_compatible_models\\\":false,\\\"enable_split_onnx_featurizer_estimator_models\\\":false,\\\"vm_type\\\":\\\"STANDARD_DS3_V2\\\",\\\"telemetry_verbosity\\\":20,\\\"send_telemetry\\\":true,\\\"enable_dnn\\\":false,\\\"scenario\\\":\\\"SDK-1.13.0\\\",\\\"environment_label\\\":null,\\\"force_text_dnn\\\":false,\\\"enable_feature_sweeping\\\":true,\\\"enable_early_stopping\\\":true,\\\"early_stopping_n_iters\\\":10,\\\"metrics\\\":null,\\\"enable_ensembling\\\":true,\\\"enable_stack_ensembling\\\":true,\\\"ensemble_iterations\\\":15,\\\"enable_tf\\\":false,\\\"enable_subsampling\\\":null,\\\"subsample_seed\\\":null,\\\"enable_nimbusml\\\":false,\\\"enable_streaming\\\":false,\\\"force_streaming\\\":false,\\\"track_child_runs\\\":true,\\\"allowed_private_models\\\":[],\\\"label_column_name\\\":\\\"DEATH_EVENT\\\",\\\"weight_column_name\\\":null,\\\"cv_split_column_names\\\":null,\\\"enable_local_managed\\\":false,\\\"_local_managed_run_id\\\":null,\\\"cost_mode\\\":1,\\\"lag_length\\\":0,\\\"metric_operation\\\":\\\"maximize\\\",\\\"preprocess\\\":true}\", \"DataPrepJsonString\": \"{\\\\\\\"training_data\\\\\\\": \\\\\\\"{\\\\\\\\\\\\\\\"blocks\\\\\\\\\\\\\\\": [{\\\\\\\\\\\\\\\"id\\\\\\\\\\\\\\\": \\\\\\\\\\\\\\\"637f5c0f-bf10-4613-b744-076a9cce9448\\\\\\\\\\\\\\\", \\\\\\\\\\\\\\\"type\\\\\\\\\\\\\\\": \\\\\\\\\\\\\\\"Microsoft.DPrep.GetDatastoreFilesBlock\\\\\\\\\\\\\\\", \\\\\\\\\\\\\\\"arguments\\\\\\\\\\\\\\\": {\\\\\\\\\\\\\\\"datastores\\\\\\\\\\\\\\\": [{\\\\\\\\\\\\\\\"datastoreName\\\\\\\\\\\\\\\": \\\\\\\\\\\\\\\"workspaceblobstore\\\\\\\\\\\\\\\", \\\\\\\\\\\\\\\"path\\\\\\\\\\\\\\\": \\\\\\\\\\\\\\\"UI/03-13-2021_125014_UTC/heart_failure_clinical_records_dataset.csv\\\\\\\\\\\\\\\", \\\\\\\\\\\\\\\"resourceGroup\\\\\\\\\\\\\\\": \\\\\\\\\\\\\\\"aml-quickstarts-140338\\\\\\\\\\\\\\\", \\\\\\\\\\\\\\\"subscription\\\\\\\\\\\\\\\": \\\\\\\\\\\\\\\"a0a76bad-11a1-4a2d-9887-97a29122c8ed\\\\\\\\\\\\\\\", \\\\\\\\\\\\\\\"workspaceName\\\\\\\\\\\\\\\": \\\\\\\\\\\\\\\"quick-starts-ws-140338\\\\\\\\\\\\\\\"}]}, \\\\\\\\\\\\\\\"localData\\\\\\\\\\\\\\\": {}, \\\\\\\\\\\\\\\"isEnabled\\\\\\\\\\\\\\\": true, \\\\\\\\\\\\\\\"name\\\\\\\\\\\\\\\": null, \\\\\\\\\\\\\\\"annotation\\\\\\\\\\\\\\\": null}, {\\\\\\\\\\\\\\\"id\\\\\\\\\\\\\\\": \\\\\\\\\\\\\\\"3f334c31-8093-4927-aa10-d8e910f1436d\\\\\\\\\\\\\\\", \\\\\\\\\\\\\\\"type\\\\\\\\\\\\\\\": \\\\\\\\\\\\\\\"Microsoft.DPrep.ParseDelimitedBlock\\\\\\\\\\\\\\\", \\\\\\\\\\\\\\\"arguments\\\\\\\\\\\\\\\": {\\\\\\\\\\\\\\\"columnHeadersMode\\\\\\\\\\\\\\\": 1, \\\\\\\\\\\\\\\"fileEncoding\\\\\\\\\\\\\\\": 0, \\\\\\\\\\\\\\\"handleQuotedLineBreaks\\\\\\\\\\\\\\\": false, \\\\\\\\\\\\\\\"preview\\\\\\\\\\\\\\\": false, \\\\\\\\\\\\\\\"separator\\\\\\\\\\\\\\\": \\\\\\\\\\\\\\\",\\\\\\\\\\\\\\\", \\\\\\\\\\\\\\\"skipRows\\\\\\\\\\\\\\\": 0, \\\\\\\\\\\\\\\"skipRowsMode\\\\\\\\\\\\\\\": 0}, \\\\\\\\\\\\\\\"localData\\\\\\\\\\\\\\\": {}, \\\\\\\\\\\\\\\"isEnabled\\\\\\\\\\\\\\\": true, \\\\\\\\\\\\\\\"name\\\\\\\\\\\\\\\": null, \\\\\\\\\\\\\\\"annotation\\\\\\\\\\\\\\\": null}, {\\\\\\\\\\\\\\\"id\\\\\\\\\\\\\\\": \\\\\\\\\\\\\\\"3fc8179a-71f3-4687-b9fa-e038e5760155\\\\\\\\\\\\\\\", \\\\\\\\\\\\\\\"type\\\\\\\\\\\\\\\": \\\\\\\\\\\\\\\"Microsoft.DPrep.DropColumnsBlock\\\\\\\\\\\\\\\", \\\\\\\\\\\\\\\"arguments\\\\\\\\\\\\\\\": {\\\\\\\\\\\\\\\"columns\\\\\\\\\\\\\\\": {\\\\\\\\\\\\\\\"type\\\\\\\\\\\\\\\": 0, \\\\\\\\\\\\\\\"details\\\\\\\\\\\\\\\": {\\\\\\\\\\\\\\\"selectedColumns\\\\\\\\\\\\\\\": [\\\\\\\\\\\\\\\"Path\\\\\\\\\\\\\\\"]}}}, \\\\\\\\\\\\\\\"localData\\\\\\\\\\\\\\\": {}, \\\\\\\\\\\\\\\"isEnabled\\\\\\\\\\\\\\\": true, \\\\\\\\\\\\\\\"name\\\\\\\\\\\\\\\": null, \\\\\\\\\\\\\\\"annotation\\\\\\\\\\\\\\\": null}, {\\\\\\\\\\\\\\\"id\\\\\\\\\\\\\\\": \\\\\\\\\\\\\\\"9434ef91-dffc-41b0-ad7b-92ac40b96b64\\\\\\\\\\\\\\\", \\\\\\\\\\\\\\\"type\\\\\\\\\\\\\\\": \\\\\\\\\\\\\\\"Microsoft.DPrep.SetColumnTypesBlock\\\\\\\\\\\\\\\", \\\\\\\\\\\\\\\"arguments\\\\\\\\\\\\\\\": {\\\\\\\\\\\\\\\"columnConversion\\\\\\\\\\\\\\\": [{\\\\\\\\\\\\\\\"column\\\\\\\\\\\\\\\": {\\\\\\\\\\\\\\\"type\\\\\\\\\\\\\\\": 2, \\\\\\\\\\\\\\\"details\\\\\\\\\\\\\\\": {\\\\\\\\\\\\\\\"selectedColumn\\\\\\\\\\\\\\\": \\\\\\\\\\\\\\\"Path\\\\\\\\\\\\\\\"}}, \\\\\\\\\\\\\\\"typeProperty\\\\\\\\\\\\\\\": 0}, {\\\\\\\\\\\\\\\"column\\\\\\\\\\\\\\\": {\\\\\\\\\\\\\\\"type\\\\\\\\\\\\\\\": 2, \\\\\\\\\\\\\\\"details\\\\\\\\\\\\\\\": {\\\\\\\\\\\\\\\"selectedColumn\\\\\\\\\\\\\\\": \\\\\\\\\\\\\\\"age\\\\\\\\\\\\\\\"}}, \\\\\\\\\\\\\\\"typeProperty\\\\\\\\\\\\\\\": 3}, {\\\\\\\\\\\\\\\"column\\\\\\\\\\\\\\\": {\\\\\\\\\\\\\\\"type\\\\\\\\\\\\\\\": 2, \\\\\\\\\\\\\\\"details\\\\\\\\\\\\\\\": {\\\\\\\\\\\\\\\"selectedColumn\\\\\\\\\\\\\\\": \\\\\\\\\\\\\\\"anaemia\\\\\\\\\\\\\\\"}}, \\\\\\\\\\\\\\\"typeProperty\\\\\\\\\\\\\\\": 2}, {\\\\\\\\\\\\\\\"column\\\\\\\\\\\\\\\": {\\\\\\\\\\\\\\\"type\\\\\\\\\\\\\\\": 2, \\\\\\\\\\\\\\\"details\\\\\\\\\\\\\\\": {\\\\\\\\\\\\\\\"selectedColumn\\\\\\\\\\\\\\\": \\\\\\\\\\\\\\\"creatinine_phosphokinase\\\\\\\\\\\\\\\"}}, \\\\\\\\\\\\\\\"typeProperty\\\\\\\\\\\\\\\": 2}, {\\\\\\\\\\\\\\\"column\\\\\\\\\\\\\\\": {\\\\\\\\\\\\\\\"type\\\\\\\\\\\\\\\": 2, \\\\\\\\\\\\\\\"details\\\\\\\\\\\\\\\": {\\\\\\\\\\\\\\\"selectedColumn\\\\\\\\\\\\\\\": \\\\\\\\\\\\\\\"diabetes\\\\\\\\\\\\\\\"}}, \\\\\\\\\\\\\\\"typeProperty\\\\\\\\\\\\\\\": 2}, {\\\\\\\\\\\\\\\"column\\\\\\\\\\\\\\\": {\\\\\\\\\\\\\\\"type\\\\\\\\\\\\\\\": 2, \\\\\\\\\\\\\\\"details\\\\\\\\\\\\\\\": {\\\\\\\\\\\\\\\"selectedColumn\\\\\\\\\\\\\\\": \\\\\\\\\\\\\\\"ejection_fraction\\\\\\\\\\\\\\\"}}, \\\\\\\\\\\\\\\"typeProperty\\\\\\\\\\\\\\\": 2}, {\\\\\\\\\\\\\\\"column\\\\\\\\\\\\\\\": {\\\\\\\\\\\\\\\"type\\\\\\\\\\\\\\\": 2, \\\\\\\\\\\\\\\"details\\\\\\\\\\\\\\\": {\\\\\\\\\\\\\\\"selectedColumn\\\\\\\\\\\\\\\": \\\\\\\\\\\\\\\"high_blood_pressure\\\\\\\\\\\\\\\"}}, \\\\\\\\\\\\\\\"typeProperty\\\\\\\\\\\\\\\": 2}, {\\\\\\\\\\\\\\\"column\\\\\\\\\\\\\\\": {\\\\\\\\\\\\\\\"type\\\\\\\\\\\\\\\": 2, \\\\\\\\\\\\\\\"details\\\\\\\\\\\\\\\": {\\\\\\\\\\\\\\\"selectedColumn\\\\\\\\\\\\\\\": \\\\\\\\\\\\\\\"platelets\\\\\\\\\\\\\\\"}}, \\\\\\\\\\\\\\\"typeProperty\\\\\\\\\\\\\\\": 3}, {\\\\\\\\\\\\\\\"column\\\\\\\\\\\\\\\": {\\\\\\\\\\\\\\\"type\\\\\\\\\\\\\\\": 2, \\\\\\\\\\\\\\\"details\\\\\\\\\\\\\\\": {\\\\\\\\\\\\\\\"selectedColumn\\\\\\\\\\\\\\\": \\\\\\\\\\\\\\\"serum_creatinine\\\\\\\\\\\\\\\"}}, \\\\\\\\\\\\\\\"typeProperty\\\\\\\\\\\\\\\": 3}, {\\\\\\\\\\\\\\\"column\\\\\\\\\\\\\\\": {\\\\\\\\\\\\\\\"type\\\\\\\\\\\\\\\": 2, \\\\\\\\\\\\\\\"details\\\\\\\\\\\\\\\": {\\\\\\\\\\\\\\\"selectedColumn\\\\\\\\\\\\\\\": \\\\\\\\\\\\\\\"serum_sodium\\\\\\\\\\\\\\\"}}, \\\\\\\\\\\\\\\"typeProperty\\\\\\\\\\\\\\\": 2}, {\\\\\\\\\\\\\\\"column\\\\\\\\\\\\\\\": {\\\\\\\\\\\\\\\"type\\\\\\\\\\\\\\\": 2, \\\\\\\\\\\\\\\"details\\\\\\\\\\\\\\\": {\\\\\\\\\\\\\\\"selectedColumn\\\\\\\\\\\\\\\": \\\\\\\\\\\\\\\"sex\\\\\\\\\\\\\\\"}}, \\\\\\\\\\\\\\\"typeProperty\\\\\\\\\\\\\\\": 2}, {\\\\\\\\\\\\\\\"column\\\\\\\\\\\\\\\": {\\\\\\\\\\\\\\\"type\\\\\\\\\\\\\\\": 2, \\\\\\\\\\\\\\\"details\\\\\\\\\\\\\\\": {\\\\\\\\\\\\\\\"selectedColumn\\\\\\\\\\\\\\\": \\\\\\\\\\\\\\\"smoking\\\\\\\\\\\\\\\"}}, \\\\\\\\\\\\\\\"typeProperty\\\\\\\\\\\\\\\": 2}, {\\\\\\\\\\\\\\\"column\\\\\\\\\\\\\\\": {\\\\\\\\\\\\\\\"type\\\\\\\\\\\\\\\": 2, \\\\\\\\\\\\\\\"details\\\\\\\\\\\\\\\": {\\\\\\\\\\\\\\\"selectedColumn\\\\\\\\\\\\\\\": \\\\\\\\\\\\\\\"time\\\\\\\\\\\\\\\"}}, \\\\\\\\\\\\\\\"typeProperty\\\\\\\\\\\\\\\": 2}, {\\\\\\\\\\\\\\\"column\\\\\\\\\\\\\\\": {\\\\\\\\\\\\\\\"type\\\\\\\\\\\\\\\": 2, \\\\\\\\\\\\\\\"details\\\\\\\\\\\\\\\": {\\\\\\\\\\\\\\\"selectedColumn\\\\\\\\\\\\\\\": \\\\\\\\\\\\\\\"DEATH_EVENT\\\\\\\\\\\\\\\"}}, \\\\\\\\\\\\\\\"typeProperty\\\\\\\\\\\\\\\": 2}]}, \\\\\\\\\\\\\\\"localData\\\\\\\\\\\\\\\": {}, \\\\\\\\\\\\\\\"isEnabled\\\\\\\\\\\\\\\": true, \\\\\\\\\\\\\\\"name\\\\\\\\\\\\\\\": null, \\\\\\\\\\\\\\\"annotation\\\\\\\\\\\\\\\": null}], \\\\\\\\\\\\\\\"inspectors\\\\\\\\\\\\\\\": [], \\\\\\\\\\\\\\\"meta\\\\\\\\\\\\\\\": {\\\\\\\\\\\\\\\"savedDatasetId\\\\\\\\\\\\\\\": \\\\\\\\\\\\\\\"4baa276b-a519-4ec1-b761-15989fd78e44\\\\\\\\\\\\\\\", \\\\\\\\\\\\\\\"datasetType\\\\\\\\\\\\\\\": \\\\\\\\\\\\\\\"tabular\\\\\\\\\\\\\\\", \\\\\\\\\\\\\\\"subscriptionId\\\\\\\\\\\\\\\": \\\\\\\\\\\\\\\"a0a76bad-11a1-4a2d-9887-97a29122c8ed\\\\\\\\\\\\\\\", \\\\\\\\\\\\\\\"workspaceId\\\\\\\\\\\\\\\": \\\\\\\\\\\\\\\"c511ea6a-983a-4414-97e5-7861cfd58978\\\\\\\\\\\\\\\", \\\\\\\\\\\\\\\"workspaceLocation\\\\\\\\\\\\\\\": \\\\\\\\\\\\\\\"southcentralus\\\\\\\\\\\\\\\"}}\\\\\\\", \\\\\\\"activities\\\\\\\": 0}\", \"EnableSubsampling\": null, \"runTemplate\": \"AutoML\", \"azureml.runsource\": \"automl\", \"display_task_type\": \"classification\", \"dependencies_versions\": \"{\\\"azureml-widgets\\\": \\\"1.22.0\\\", \\\"azureml-train\\\": \\\"1.22.0\\\", \\\"azureml-train-restclients-hyperdrive\\\": \\\"1.22.0\\\", \\\"azureml-train-core\\\": \\\"1.22.0\\\", \\\"azureml-train-automl\\\": \\\"1.22.0\\\", \\\"azureml-train-automl-runtime\\\": \\\"1.22.0\\\", \\\"azureml-train-automl-client\\\": \\\"1.22.0\\\", \\\"azureml-tensorboard\\\": \\\"1.22.0\\\", \\\"azureml-telemetry\\\": \\\"1.22.0\\\", \\\"azureml-sdk\\\": \\\"1.22.0\\\", \\\"azureml-samples\\\": \\\"0+unknown\\\", \\\"azureml-pipeline\\\": \\\"1.22.0\\\", \\\"azureml-pipeline-steps\\\": \\\"1.22.0\\\", \\\"azureml-pipeline-core\\\": \\\"1.22.0\\\", \\\"azureml-opendatasets\\\": \\\"1.22.0\\\", \\\"azureml-model-management-sdk\\\": \\\"1.0.1b6.post1\\\", \\\"azureml-mlflow\\\": \\\"1.22.0\\\", \\\"azureml-interpret\\\": \\\"1.22.0\\\", \\\"azureml-explain-model\\\": \\\"1.22.0\\\", \\\"azureml-defaults\\\": \\\"1.22.0\\\", \\\"azureml-dataset-runtime\\\": \\\"1.22.0\\\", \\\"azureml-dataprep\\\": \\\"2.9.1\\\", \\\"azureml-dataprep-rslex\\\": \\\"1.7.0\\\", \\\"azureml-dataprep-native\\\": \\\"29.0.0\\\", \\\"azureml-datadrift\\\": \\\"1.22.0\\\", \\\"azureml-core\\\": \\\"1.22.0\\\", \\\"azureml-contrib-services\\\": \\\"1.22.0\\\", \\\"azureml-contrib-server\\\": \\\"1.22.0\\\", \\\"azureml-contrib-reinforcementlearning\\\": \\\"1.22.0\\\", \\\"azureml-contrib-pipeline-steps\\\": \\\"1.22.0\\\", \\\"azureml-contrib-notebook\\\": \\\"1.22.0\\\", \\\"azureml-contrib-interpret\\\": \\\"1.22.0\\\", \\\"azureml-contrib-gbdt\\\": \\\"1.22.0\\\", \\\"azureml-contrib-fairness\\\": \\\"1.22.0\\\", \\\"azureml-contrib-dataset\\\": \\\"1.22.0\\\", \\\"azureml-cli-common\\\": \\\"1.22.0\\\", \\\"azureml-automl-runtime\\\": \\\"1.22.0\\\", \\\"azureml-automl-core\\\": \\\"1.22.0\\\", \\\"azureml-accel-models\\\": \\\"1.22.0\\\"}\", \"_aml_system_scenario_identification\": \"Remote.Parent\", \"ClientType\": \"SDK\", \"environment_cpu_name\": \"AzureML-AutoML\", \"environment_cpu_label\": \"prod\", \"environment_gpu_name\": \"AzureML-AutoML-GPU\", \"environment_gpu_label\": \"prod\", \"root_attribution\": \"automl\", \"attribution\": \"AutoML\", \"Orchestrator\": \"AutoML\", \"CancelUri\": \"https://southcentralus.experiments.azureml.net/jasmine/v1.0/subscriptions/a0a76bad-11a1-4a2d-9887-97a29122c8ed/resourceGroups/aml-quickstarts-140338/providers/Microsoft.MachineLearningServices/workspaces/quick-starts-ws-140338/experimentids/fe3049ba-4862-4a2f-b448-9ba6fcc58e33/cancel/AutoML_b91a3efe-41dd-4446-ab0b-bc946e08490e\", \"ClientSdkVersion\": \"1.23.0\", \"snapshotId\": \"00000000-0000-0000-0000-000000000000\", \"SetupRunId\": \"AutoML_b91a3efe-41dd-4446-ab0b-bc946e08490e_setup\", \"SetupRunContainerId\": \"dcid.AutoML_b91a3efe-41dd-4446-ab0b-bc946e08490e_setup\", \"FeaturizationRunJsonPath\": \"featurizer_container.json\", \"FeaturizationRunId\": \"AutoML_b91a3efe-41dd-4446-ab0b-bc946e08490e_featurize\", \"ProblemInfoJsonString\": \"{\\\"dataset_num_categorical\\\": 0, \\\"is_sparse\\\": false, \\\"subsampling\\\": false, \\\"dataset_classes\\\": 2, \\\"dataset_features\\\": 12, \\\"dataset_samples\\\": 299, \\\"single_frequency_class_detected\\\": false}\", \"ModelExplainRunId\": \"AutoML_b91a3efe-41dd-4446-ab0b-bc946e08490e_ModelExplain\"}, \"tags\": {\"model_explain_run\": \"best_run\", \"_aml_system_azureml.automlComponent\": \"AutoML\", \"pipeline_id\": \"\", \"score\": \"\", \"predicted_cost\": \"\", \"fit_time\": \"\", \"training_percent\": \"\", \"iteration\": \"\", \"run_preprocessor\": \"\", \"run_algorithm\": \"\", \"dynamic_whitelisting_iterations\": \"<25>;<30>;<35>;\", \"automl_best_child_run_id\": \"AutoML_b91a3efe-41dd-4446-ab0b-bc946e08490e_36\", \"model_explain_best_run_child_id\": \"AutoML_b91a3efe-41dd-4446-ab0b-bc946e08490e_36\"}, \"end_time_utc\": \"2021-03-13T15:21:08.473188Z\", \"status\": \"Completed\", \"log_files\": {}, \"log_groups\": [], \"run_duration\": \"0:16:18\", \"run_number\": \"48\", \"run_queued_details\": {\"status\": \"Completed\", \"details\": null}}, \"child_runs\": [{\"run_id\": \"AutoML_b91a3efe-41dd-4446-ab0b-bc946e08490e_1\", \"run_number\": 52, \"metric\": null, \"status\": \"Completed\", \"run_type\": \"azureml.scriptrun\", \"training_percent\": \"100\", \"start_time\": \"2021-03-13T15:07:51.910512Z\", \"end_time\": \"2021-03-13T15:08:40.217821Z\", \"created_time\": \"2021-03-13T15:07:39.497105Z\", \"created_time_dt\": \"2021-03-13T15:07:39.497105Z\", \"duration\": \"0:01:00\", \"iteration\": \"1\", \"goal\": \"accuracy_max\", \"run_name\": \"MinMaxScaler, RandomForest\", \"run_properties\": \"copy=True, feature_range=(0, 1\", \"primary_metric\": 0.84608501, \"best_metric\": 0.84608501}, {\"run_id\": \"AutoML_b91a3efe-41dd-4446-ab0b-bc946e08490e_0\", \"run_number\": 53, \"metric\": null, \"status\": \"Completed\", \"run_type\": \"azureml.scriptrun\", \"training_percent\": \"100\", \"start_time\": \"2021-03-13T15:10:25.219757Z\", \"end_time\": \"2021-03-13T15:12:24.02858Z\", \"created_time\": \"2021-03-13T15:07:39.508277Z\", \"created_time_dt\": \"2021-03-13T15:07:39.508277Z\", \"duration\": \"0:04:44\", \"iteration\": \"0\", \"goal\": \"accuracy_max\", \"run_name\": \"MaxAbsScaler, LightGBM\", \"run_properties\": \"copy=True\", \"primary_metric\": 0.81270694, \"best_metric\": 0.81270694}, {\"run_id\": \"AutoML_b91a3efe-41dd-4446-ab0b-bc946e08490e_2\", \"run_number\": 54, \"metric\": null, \"status\": \"Completed\", \"run_type\": \"azureml.scriptrun\", \"training_percent\": \"100\", \"start_time\": \"2021-03-13T15:08:57.453475Z\", \"end_time\": \"2021-03-13T15:09:43.276195Z\", \"created_time\": \"2021-03-13T15:07:39.947779Z\", \"created_time_dt\": \"2021-03-13T15:07:39.947779Z\", \"duration\": \"0:02:03\", \"iteration\": \"2\", \"goal\": \"accuracy_max\", \"run_name\": \"MinMaxScaler, RandomForest\", \"run_properties\": \"copy=True, feature_range=(0, 1\", \"primary_metric\": 0.83277405, \"best_metric\": 0.84608501}, {\"run_id\": \"AutoML_b91a3efe-41dd-4446-ab0b-bc946e08490e_3\", \"run_number\": 55, \"metric\": null, \"status\": \"Completed\", \"run_type\": \"azureml.scriptrun\", \"training_percent\": \"100\", \"start_time\": \"2021-03-13T15:09:59.170235Z\", \"end_time\": \"2021-03-13T15:10:54.166303Z\", \"created_time\": \"2021-03-13T15:07:40.017632Z\", \"created_time_dt\": \"2021-03-13T15:07:40.017632Z\", \"duration\": \"0:03:14\", \"iteration\": \"3\", \"goal\": \"accuracy_max\", \"run_name\": \"MinMaxScaler, RandomForest\", \"run_properties\": \"copy=True, feature_range=(0, 1\", \"primary_metric\": 0.83944072, \"best_metric\": 0.84608501}, {\"run_id\": \"AutoML_b91a3efe-41dd-4446-ab0b-bc946e08490e_4\", \"run_number\": 56, \"metric\": null, \"status\": \"Completed\", \"run_type\": \"azureml.scriptrun\", \"training_percent\": \"100\", \"start_time\": \"2021-03-13T15:10:31.561054Z\", \"end_time\": \"2021-03-13T15:12:22.481099Z\", \"created_time\": \"2021-03-13T15:08:43.960369Z\", \"created_time_dt\": \"2021-03-13T15:08:43.960369Z\", \"duration\": \"0:03:38\", \"iteration\": \"4\", \"goal\": \"accuracy_max\", \"run_name\": \"MinMaxScaler, RandomForest\", \"run_properties\": \"copy=True, feature_range=(0, 1\", \"primary_metric\": 0.80935123, \"best_metric\": 0.84608501}, {\"run_id\": \"AutoML_b91a3efe-41dd-4446-ab0b-bc946e08490e_5\", \"run_number\": 57, \"metric\": null, \"status\": \"Completed\", \"run_type\": \"azureml.scriptrun\", \"training_percent\": \"100\", \"start_time\": \"2021-03-13T15:10:26.329494Z\", \"end_time\": \"2021-03-13T15:12:16.943224Z\", \"created_time\": \"2021-03-13T15:09:48.759271Z\", \"created_time_dt\": \"2021-03-13T15:09:48.759271Z\", \"duration\": \"0:02:28\", \"iteration\": \"5\", \"goal\": \"accuracy_max\", \"run_name\": \"MinMaxScaler, SVM\", \"run_properties\": \"copy=True, feature_range=(0, 1\", \"primary_metric\": 0.68217002, \"best_metric\": 0.84608501}, {\"run_id\": \"AutoML_b91a3efe-41dd-4446-ab0b-bc946e08490e_6\", \"run_number\": 58, \"metric\": null, \"status\": \"Completed\", \"run_type\": \"azureml.scriptrun\", \"training_percent\": \"100\", \"start_time\": \"2021-03-13T15:11:06.614507Z\", \"end_time\": \"2021-03-13T15:11:50.103492Z\", \"created_time\": \"2021-03-13T15:10:57.570757Z\", \"created_time_dt\": \"2021-03-13T15:10:57.570757Z\", \"duration\": \"0:00:52\", \"iteration\": \"6\", \"goal\": \"accuracy_max\", \"run_name\": \"MinMaxScaler, SVM\", \"run_properties\": \"copy=True, feature_range=(0, 1\", \"primary_metric\": 0.69892617, \"best_metric\": 0.84608501}, {\"run_id\": \"AutoML_b91a3efe-41dd-4446-ab0b-bc946e08490e_7\", \"run_number\": 59, \"metric\": null, \"status\": \"Completed\", \"run_type\": \"azureml.scriptrun\", \"training_percent\": \"100\", \"start_time\": \"2021-03-13T15:12:08.549042Z\", \"end_time\": \"2021-03-13T15:12:48.84637Z\", \"created_time\": \"2021-03-13T15:11:52.82836Z\", \"created_time_dt\": \"2021-03-13T15:11:52.82836Z\", \"duration\": \"0:00:56\", \"iteration\": \"7\", \"goal\": \"accuracy_max\", \"run_name\": \"MaxAbsScaler, GradientBoosting\", \"run_properties\": \"copy=True\", \"primary_metric\": 0.82941834, \"best_metric\": 0.84608501}, {\"run_id\": \"AutoML_b91a3efe-41dd-4446-ab0b-bc946e08490e_8\", \"run_number\": 60, \"metric\": null, \"status\": \"Completed\", \"run_type\": \"azureml.scriptrun\", \"training_percent\": \"100\", \"start_time\": \"2021-03-13T15:12:30.728289Z\", \"end_time\": \"2021-03-13T15:13:15.824541Z\", \"created_time\": \"2021-03-13T15:12:19.474283Z\", \"created_time_dt\": \"2021-03-13T15:12:19.474283Z\", \"duration\": \"0:00:56\", \"iteration\": \"8\", \"goal\": \"accuracy_max\", \"run_name\": \"StandardScalerWrapper, GradientBoosting\", \"run_properties\": \"<azureml.automl.runtime.shared.model_wrappers.StandardScalerWrapper object at 0x7f44c7d09550\", \"primary_metric\": 0.84950783, \"best_metric\": 0.84950783}, {\"run_id\": \"AutoML_b91a3efe-41dd-4446-ab0b-bc946e08490e_9\", \"run_number\": 61, \"metric\": null, \"status\": \"Completed\", \"run_type\": \"azureml.scriptrun\", \"training_percent\": \"100\", \"start_time\": \"2021-03-13T15:12:36.032678Z\", \"end_time\": \"2021-03-13T15:13:21.598194Z\", \"created_time\": \"2021-03-13T15:12:24.079787Z\", \"created_time_dt\": \"2021-03-13T15:12:24.079787Z\", \"duration\": \"0:00:57\", \"iteration\": \"9\", \"goal\": \"accuracy_max\", \"run_name\": \"MaxAbsScaler, RandomForest\", \"run_properties\": \"copy=True\", \"primary_metric\": 0.75257271, \"best_metric\": 0.84950783}, {\"run_id\": \"AutoML_b91a3efe-41dd-4446-ab0b-bc946e08490e_10\", \"run_number\": 62, \"metric\": null, \"status\": \"Completed\", \"run_type\": \"azureml.scriptrun\", \"training_percent\": \"100\", \"start_time\": \"2021-03-13T15:12:37.359756Z\", \"end_time\": \"2021-03-13T15:13:20.428272Z\", \"created_time\": \"2021-03-13T15:12:27.414685Z\", \"created_time_dt\": \"2021-03-13T15:12:27.414685Z\", \"duration\": \"0:00:53\", \"iteration\": \"10\", \"goal\": \"accuracy_max\", \"run_name\": \"MinMaxScaler, RandomForest\", \"run_properties\": \"copy=True, feature_range=(0, 1\", \"primary_metric\": 0.82939597, \"best_metric\": 0.84950783}, {\"run_id\": \"AutoML_b91a3efe-41dd-4446-ab0b-bc946e08490e_11\", \"run_number\": 63, \"metric\": null, \"status\": \"Completed\", \"run_type\": \"azureml.scriptrun\", \"training_percent\": \"100\", \"start_time\": \"2021-03-13T15:13:05.262232Z\", \"end_time\": \"2021-03-13T15:13:57.036329Z\", \"created_time\": \"2021-03-13T15:12:50.482077Z\", \"created_time_dt\": \"2021-03-13T15:12:50.482077Z\", \"duration\": \"0:01:06\", \"iteration\": \"11\", \"goal\": \"accuracy_max\", \"run_name\": \"MaxAbsScaler, ExtremeRandomTrees\", \"run_properties\": \"copy=True\", \"primary_metric\": 0.80275168, \"best_metric\": 0.84950783}, {\"run_id\": \"AutoML_b91a3efe-41dd-4446-ab0b-bc946e08490e_12\", \"run_number\": 64, \"metric\": null, \"status\": \"Completed\", \"run_type\": \"azureml.scriptrun\", \"training_percent\": \"100\", \"start_time\": \"2021-03-13T15:13:35.428019Z\", \"end_time\": \"2021-03-13T15:14:15.547472Z\", \"created_time\": \"2021-03-13T15:13:18.334437Z\", \"created_time_dt\": \"2021-03-13T15:13:18.334437Z\", \"duration\": \"0:00:57\", \"iteration\": \"12\", \"goal\": \"accuracy_max\", \"run_name\": \"RobustScaler, LightGBM\", \"run_properties\": \"copy=True, quantile_range=[10, 90], with_centering=True,\\n             with_scaling=False\", \"primary_metric\": 0.77926174, \"best_metric\": 0.84950783}, {\"run_id\": \"AutoML_b91a3efe-41dd-4446-ab0b-bc946e08490e_14\", \"run_number\": 65, \"metric\": null, \"status\": \"Completed\", \"run_type\": \"azureml.scriptrun\", \"training_percent\": \"100\", \"start_time\": \"2021-03-13T15:13:38.781478Z\", \"end_time\": \"2021-03-13T15:14:28.395913Z\", \"created_time\": \"2021-03-13T15:13:23.777907Z\", \"created_time_dt\": \"2021-03-13T15:13:23.777907Z\", \"duration\": \"0:01:04\", \"iteration\": \"14\", \"goal\": \"accuracy_max\", \"run_name\": \"StandardScalerWrapper, LightGBM\", \"run_properties\": \"<azureml.automl.runtime.shared.model_wrappers.StandardScalerWrapper object at 0x7f522e9bd940\", \"primary_metric\": 0.75588367, \"best_metric\": 0.84950783}, {\"run_id\": \"AutoML_b91a3efe-41dd-4446-ab0b-bc946e08490e_13\", \"run_number\": 66, \"metric\": null, \"status\": \"Completed\", \"run_type\": \"azureml.scriptrun\", \"training_percent\": \"100\", \"start_time\": \"2021-03-13T15:13:36.416309Z\", \"end_time\": \"2021-03-13T15:14:36.862427Z\", \"created_time\": \"2021-03-13T15:13:23.781485Z\", \"created_time_dt\": \"2021-03-13T15:13:23.781485Z\", \"duration\": \"0:01:13\", \"iteration\": \"13\", \"goal\": \"accuracy_max\", \"run_name\": \"StandardScalerWrapper, LightGBM\", \"run_properties\": \"<azureml.automl.runtime.shared.model_wrappers.StandardScalerWrapper object at 0x7f37539584e0\", \"primary_metric\": 0.83946309, \"best_metric\": 0.84950783}, {\"run_id\": \"AutoML_b91a3efe-41dd-4446-ab0b-bc946e08490e_15\", \"run_number\": 67, \"metric\": null, \"status\": \"Completed\", \"run_type\": \"azureml.scriptrun\", \"training_percent\": \"100\", \"start_time\": \"2021-03-13T15:14:10.595529Z\", \"end_time\": \"2021-03-13T15:14:57.863528Z\", \"created_time\": \"2021-03-13T15:13:59.568715Z\", \"created_time_dt\": \"2021-03-13T15:13:59.568715Z\", \"duration\": \"0:00:58\", \"iteration\": \"15\", \"goal\": \"accuracy_max\", \"run_name\": \"StandardScalerWrapper, LightGBM\", \"run_properties\": \"<azureml.automl.runtime.shared.model_wrappers.StandardScalerWrapper object at 0x7fcf47f06be0\", \"primary_metric\": 0.84277405, \"best_metric\": 0.84950783}, {\"run_id\": \"AutoML_b91a3efe-41dd-4446-ab0b-bc946e08490e_16\", \"run_number\": 68, \"metric\": null, \"status\": \"Completed\", \"run_type\": \"azureml.scriptrun\", \"training_percent\": \"100\", \"start_time\": \"2021-03-13T15:14:30.841099Z\", \"end_time\": \"2021-03-13T15:15:13.710377Z\", \"created_time\": \"2021-03-13T15:14:18.627285Z\", \"created_time_dt\": \"2021-03-13T15:14:18.627285Z\", \"duration\": \"0:00:55\", \"iteration\": \"16\", \"goal\": \"accuracy_max\", \"run_name\": \"MinMaxScaler, LightGBM\", \"run_properties\": \"copy=True, feature_range=(0, 1\", \"primary_metric\": 0.77595078, \"best_metric\": 0.84950783}, {\"run_id\": \"AutoML_b91a3efe-41dd-4446-ab0b-bc946e08490e_17\", \"run_number\": 69, \"metric\": null, \"status\": \"Completed\", \"run_type\": \"azureml.scriptrun\", \"training_percent\": \"100\", \"start_time\": \"2021-03-13T15:14:43.148807Z\", \"end_time\": \"2021-03-13T15:15:25.898047Z\", \"created_time\": \"2021-03-13T15:14:30.879028Z\", \"created_time_dt\": \"2021-03-13T15:14:30.879028Z\", \"duration\": \"0:00:55\", \"iteration\": \"17\", \"goal\": \"accuracy_max\", \"run_name\": \"StandardScalerWrapper, GradientBoosting\", \"run_properties\": \"<azureml.automl.runtime.shared.model_wrappers.StandardScalerWrapper object at 0x7f566a5ca358\", \"primary_metric\": 0.81930649, \"best_metric\": 0.84950783}, {\"run_id\": \"AutoML_b91a3efe-41dd-4446-ab0b-bc946e08490e_18\", \"run_number\": 70, \"metric\": null, \"status\": \"Completed\", \"run_type\": \"azureml.scriptrun\", \"training_percent\": \"100\", \"start_time\": \"2021-03-13T15:14:47.95043Z\", \"end_time\": \"2021-03-13T15:15:35.48387Z\", \"created_time\": \"2021-03-13T15:14:39.148948Z\", \"created_time_dt\": \"2021-03-13T15:14:39.148948Z\", \"duration\": \"0:00:56\", \"iteration\": \"18\", \"goal\": \"accuracy_max\", \"run_name\": \"StandardScalerWrapper, ExtremeRandomTrees\", \"run_properties\": \"<azureml.automl.runtime.shared.model_wrappers.StandardScalerWrapper object at 0x7f0d28224cf8\", \"primary_metric\": 0.68901566, \"best_metric\": 0.84950783}, {\"run_id\": \"AutoML_b91a3efe-41dd-4446-ab0b-bc946e08490e_19\", \"run_number\": 71, \"metric\": null, \"status\": \"Completed\", \"run_type\": \"azureml.scriptrun\", \"training_percent\": \"100\", \"start_time\": \"2021-03-13T15:15:15.125026Z\", \"end_time\": \"2021-03-13T15:16:07.427959Z\", \"created_time\": \"2021-03-13T15:14:59.763643Z\", \"created_time_dt\": \"2021-03-13T15:14:59.763643Z\", \"duration\": \"0:01:07\", \"iteration\": \"19\", \"goal\": \"accuracy_max\", \"run_name\": \"StandardScalerWrapper, ExtremeRandomTrees\", \"run_properties\": \"<azureml.automl.runtime.shared.model_wrappers.StandardScalerWrapper object at 0x7ff6e8a24e48\", \"primary_metric\": 0.75597315, \"best_metric\": 0.84950783}, {\"run_id\": \"AutoML_b91a3efe-41dd-4446-ab0b-bc946e08490e_20\", \"run_number\": 72, \"metric\": null, \"status\": \"Completed\", \"run_type\": \"azureml.scriptrun\", \"training_percent\": \"100\", \"start_time\": \"2021-03-13T15:15:28.745Z\", \"end_time\": \"2021-03-13T15:16:23.907122Z\", \"created_time\": \"2021-03-13T15:15:15.430718Z\", \"created_time_dt\": \"2021-03-13T15:15:15.430718Z\", \"duration\": \"0:01:08\", \"iteration\": \"20\", \"goal\": \"accuracy_max\", \"run_name\": \"RobustScaler, ExtremeRandomTrees\", \"run_properties\": \"copy=True, quantile_range=[25, 75], with_centering=True,\\n             with_scaling=False\", \"primary_metric\": 0.84950783, \"best_metric\": 0.84950783}, {\"run_id\": \"AutoML_b91a3efe-41dd-4446-ab0b-bc946e08490e_21\", \"run_number\": 73, \"metric\": null, \"status\": \"Completed\", \"run_type\": \"azureml.scriptrun\", \"training_percent\": \"100\", \"start_time\": \"2021-03-13T15:15:43.230177Z\", \"end_time\": \"2021-03-13T15:16:29.312389Z\", \"created_time\": \"2021-03-13T15:15:27.719025Z\", \"created_time_dt\": \"2021-03-13T15:15:27.719025Z\", \"duration\": \"0:01:01\", \"iteration\": \"21\", \"goal\": \"accuracy_max\", \"run_name\": \"StandardScalerWrapper, RandomForest\", \"run_properties\": \"<azureml.automl.runtime.shared.model_wrappers.StandardScalerWrapper object at 0x7f4208f83320\", \"primary_metric\": 0.84612975, \"best_metric\": 0.84950783}, {\"run_id\": \"AutoML_b91a3efe-41dd-4446-ab0b-bc946e08490e_22\", \"run_number\": 74, \"metric\": null, \"status\": \"Completed\", \"run_type\": \"azureml.scriptrun\", \"training_percent\": \"100\", \"start_time\": \"2021-03-13T15:15:47.371441Z\", \"end_time\": \"2021-03-13T15:16:31.08624Z\", \"created_time\": \"2021-03-13T15:15:37.203017Z\", \"created_time_dt\": \"2021-03-13T15:15:37.203017Z\", \"duration\": \"0:00:53\", \"iteration\": \"22\", \"goal\": \"accuracy_max\", \"run_name\": \"RobustScaler, KNN\", \"run_properties\": \"copy=True, quantile_range=[25, 75], with_centering=True,\\n             with_scaling=False\", \"primary_metric\": 0.66885906, \"best_metric\": 0.84950783}, {\"run_id\": \"AutoML_b91a3efe-41dd-4446-ab0b-bc946e08490e_23\", \"run_number\": 75, \"metric\": null, \"status\": \"Completed\", \"run_type\": \"azureml.scriptrun\", \"training_percent\": \"100\", \"start_time\": \"2021-03-13T15:16:22.016381Z\", \"end_time\": \"2021-03-13T15:17:10.801739Z\", \"created_time\": \"2021-03-13T15:16:09.134331Z\", \"created_time_dt\": \"2021-03-13T15:16:09.134331Z\", \"duration\": \"0:01:01\", \"iteration\": \"23\", \"goal\": \"accuracy_max\", \"run_name\": \"MinMaxScaler, LightGBM\", \"run_properties\": \"copy=True, feature_range=(0, 1\", \"primary_metric\": 0.76252796, \"best_metric\": 0.84950783}, {\"run_id\": \"AutoML_b91a3efe-41dd-4446-ab0b-bc946e08490e_24\", \"run_number\": 76, \"metric\": null, \"status\": \"Completed\", \"run_type\": \"azureml.scriptrun\", \"training_percent\": \"100\", \"start_time\": \"2021-03-13T15:16:40.609025Z\", \"end_time\": \"2021-03-13T15:17:29.421208Z\", \"created_time\": \"2021-03-13T15:16:25.697027Z\", \"created_time_dt\": \"2021-03-13T15:16:25.697027Z\", \"duration\": \"0:01:03\", \"iteration\": \"24\", \"goal\": \"accuracy_max\", \"run_name\": \"StandardScalerWrapper, LightGBM\", \"run_properties\": \"<azureml.automl.runtime.shared.model_wrappers.StandardScalerWrapper object at 0x7f8a2a3ac550\", \"primary_metric\": 0.83610738, \"best_metric\": 0.84950783}, {\"run_id\": \"AutoML_b91a3efe-41dd-4446-ab0b-bc946e08490e_25\", \"run_number\": 77, \"metric\": null, \"status\": \"Completed\", \"run_type\": \"azureml.scriptrun\", \"training_percent\": \"100\", \"start_time\": \"2021-03-13T15:16:42.032211Z\", \"end_time\": \"2021-03-13T15:17:25.022745Z\", \"created_time\": \"2021-03-13T15:16:31.864714Z\", \"created_time_dt\": \"2021-03-13T15:16:31.864714Z\", \"duration\": \"0:00:53\", \"iteration\": \"25\", \"goal\": \"accuracy_max\", \"run_name\": \"RobustScaler, GradientBoosting\", \"run_properties\": \"copy=True, quantile_range=[10, 90], with_centering=False,\\n             with_scaling=True\", \"primary_metric\": 0.83272931, \"best_metric\": 0.84950783}, {\"run_id\": \"AutoML_b91a3efe-41dd-4446-ab0b-bc946e08490e_26\", \"run_number\": 78, \"metric\": null, \"status\": \"Completed\", \"run_type\": \"azureml.scriptrun\", \"training_percent\": \"100\", \"start_time\": \"2021-03-13T15:16:45.953184Z\", \"end_time\": \"2021-03-13T15:17:31.080477Z\", \"created_time\": \"2021-03-13T15:16:35.994996Z\", \"created_time_dt\": \"2021-03-13T15:16:35.994996Z\", \"duration\": \"0:00:55\", \"iteration\": \"26\", \"goal\": \"accuracy_max\", \"run_name\": \"StandardScalerWrapper, LightGBM\", \"run_properties\": \"<azureml.automl.runtime.shared.model_wrappers.StandardScalerWrapper object at 0x7fde8688a438\", \"primary_metric\": 0.83946309, \"best_metric\": 0.84950783}, {\"run_id\": \"AutoML_b91a3efe-41dd-4446-ab0b-bc946e08490e_27\", \"run_number\": 79, \"metric\": null, \"status\": \"Completed\", \"run_type\": \"azureml.scriptrun\", \"training_percent\": \"100\", \"start_time\": \"2021-03-13T15:17:27.146695Z\", \"end_time\": \"2021-03-13T15:18:13.863105Z\", \"created_time\": \"2021-03-13T15:17:12.853291Z\", \"created_time_dt\": \"2021-03-13T15:17:12.853291Z\", \"duration\": \"0:01:01\", \"iteration\": \"27\", \"goal\": \"accuracy_max\", \"run_name\": \"SparseNormalizer, LightGBM\", \"run_properties\": \"<azureml.automl.runtime.shared.model_wrappers.SparseNormalizer object at 0x7fcb4374cf98\", \"primary_metric\": 0.81270694, \"best_metric\": 0.84950783}, {\"run_id\": \"AutoML_b91a3efe-41dd-4446-ab0b-bc946e08490e_28\", \"run_number\": 80, \"metric\": null, \"status\": \"Completed\", \"run_type\": \"azureml.scriptrun\", \"training_percent\": \"100\", \"start_time\": \"2021-03-13T15:17:40.06115Z\", \"end_time\": \"2021-03-13T15:18:25.378671Z\", \"created_time\": \"2021-03-13T15:17:26.82752Z\", \"created_time_dt\": \"2021-03-13T15:17:26.82752Z\", \"duration\": \"0:00:58\", \"iteration\": \"28\", \"goal\": \"accuracy_max\", \"run_name\": \"StandardScalerWrapper, ExtremeRandomTrees\", \"run_properties\": \"<azureml.automl.runtime.shared.model_wrappers.StandardScalerWrapper object at 0x7f2040cc4208\", \"primary_metric\": 0.83612975, \"best_metric\": 0.84950783}, {\"run_id\": \"AutoML_b91a3efe-41dd-4446-ab0b-bc946e08490e_29\", \"run_number\": 81, \"metric\": null, \"status\": \"Completed\", \"run_type\": \"azureml.scriptrun\", \"training_percent\": \"100\", \"start_time\": \"2021-03-13T15:17:44.887101Z\", \"end_time\": \"2021-03-13T15:18:30.09865Z\", \"created_time\": \"2021-03-13T15:17:31.52265Z\", \"created_time_dt\": \"2021-03-13T15:17:31.52265Z\", \"duration\": \"0:00:58\", \"iteration\": \"29\", \"goal\": \"accuracy_max\", \"run_name\": \"StandardScalerWrapper, LightGBM\", \"run_properties\": \"<azureml.automl.runtime.shared.model_wrappers.StandardScalerWrapper object at 0x7fd062780be0\", \"primary_metric\": 0.78592841, \"best_metric\": 0.84950783}, {\"run_id\": \"AutoML_b91a3efe-41dd-4446-ab0b-bc946e08490e_30\", \"run_number\": 82, \"metric\": null, \"status\": \"Completed\", \"run_type\": \"azureml.scriptrun\", \"training_percent\": \"100\", \"start_time\": \"2021-03-13T15:17:48.062237Z\", \"end_time\": \"2021-03-13T15:18:33.687642Z\", \"created_time\": \"2021-03-13T15:17:35.556334Z\", \"created_time_dt\": \"2021-03-13T15:17:35.556334Z\", \"duration\": \"0:00:58\", \"iteration\": \"30\", \"goal\": \"accuracy_max\", \"run_name\": \"TruncatedSVDWrapper, GradientBoosting\", \"run_properties\": \"n_components=0.05947368421052632, random_state=None\", \"primary_metric\": 0.67894855, \"best_metric\": 0.84950783}, {\"run_id\": \"AutoML_b91a3efe-41dd-4446-ab0b-bc946e08490e_31\", \"run_number\": 83, \"metric\": null, \"status\": \"Canceled\", \"run_type\": \"azureml.scriptrun\", \"training_percent\": \"100\", \"start_time\": \"2021-03-13T15:18:34.945978Z\", \"end_time\": \"2021-03-13T15:19:37.514903Z\", \"created_time\": \"2021-03-13T15:18:15.509549Z\", \"created_time_dt\": \"2021-03-13T15:18:15.509549Z\", \"duration\": \"0:01:22\", \"iteration\": \"31\", \"goal\": null, \"run_name\": \"Canceled\", \"run_properties\": null}, {\"run_id\": \"AutoML_b91a3efe-41dd-4446-ab0b-bc946e08490e_32\", \"run_number\": 84, \"metric\": null, \"status\": \"Completed\", \"run_type\": \"azureml.scriptrun\", \"training_percent\": \"100\", \"start_time\": \"2021-03-13T15:18:39.533756Z\", \"end_time\": \"2021-03-13T15:19:22.264315Z\", \"created_time\": \"2021-03-13T15:18:27.715185Z\", \"created_time_dt\": \"2021-03-13T15:18:27.715185Z\", \"duration\": \"0:00:54\", \"iteration\": \"32\", \"goal\": \"accuracy_max\", \"run_name\": \"StandardScalerWrapper, LightGBM\", \"run_properties\": \"<azureml.automl.runtime.shared.model_wrappers.StandardScalerWrapper object at 0x7f97708f45f8\", \"primary_metric\": 0.8193736, \"best_metric\": 0.84950783}, {\"run_id\": \"AutoML_b91a3efe-41dd-4446-ab0b-bc946e08490e_33\", \"run_number\": 85, \"metric\": null, \"status\": \"Completed\", \"run_type\": \"azureml.scriptrun\", \"training_percent\": \"100\", \"start_time\": \"2021-03-13T15:18:41.118111Z\", \"end_time\": \"2021-03-13T15:19:31.689094Z\", \"created_time\": \"2021-03-13T15:18:32.035636Z\", \"created_time_dt\": \"2021-03-13T15:18:32.035636Z\", \"duration\": \"0:00:59\", \"iteration\": \"33\", \"goal\": \"accuracy_max\", \"run_name\": \"MinMaxScaler, LightGBM\", \"run_properties\": \"copy=True, feature_range=(0, 1\", \"primary_metric\": 0.83946309, \"best_metric\": 0.84950783}, {\"run_id\": \"AutoML_b91a3efe-41dd-4446-ab0b-bc946e08490e_34\", \"run_number\": 86, \"metric\": null, \"status\": \"Completed\", \"run_type\": \"azureml.scriptrun\", \"training_percent\": \"100\", \"start_time\": \"2021-03-13T15:18:46.704604Z\", \"end_time\": \"2021-03-13T15:19:30.954474Z\", \"created_time\": \"2021-03-13T15:18:35.407595Z\", \"created_time_dt\": \"2021-03-13T15:18:35.407595Z\", \"duration\": \"0:00:55\", \"iteration\": \"34\", \"goal\": \"accuracy_max\", \"run_name\": \"MaxAbsScaler, LightGBM\", \"run_properties\": \"copy=True\", \"primary_metric\": 0.73912752, \"best_metric\": 0.84950783}, {\"run_id\": \"AutoML_b91a3efe-41dd-4446-ab0b-bc946e08490e_35\", \"run_number\": 87, \"metric\": null, \"status\": \"Canceled\", \"run_type\": \"azureml.scriptrun\", \"training_percent\": \"100\", \"start_time\": \"2021-03-13T15:19:24.893198Z\", \"end_time\": \"2021-03-13T15:19:42.015978Z\", \"created_time\": \"2021-03-13T15:19:24.893198Z\", \"created_time_dt\": \"2021-03-13T15:19:24.893198Z\", \"duration\": \"0:00:17\", \"iteration\": \"35\", \"goal\": null, \"run_name\": \"Canceled\", \"run_properties\": null}, {\"run_id\": \"AutoML_b91a3efe-41dd-4446-ab0b-bc946e08490e_36\", \"run_number\": 88, \"metric\": null, \"status\": \"Completed\", \"run_type\": \"azureml.scriptrun\", \"training_percent\": \"100\", \"start_time\": \"2021-03-13T15:19:51.754994Z\", \"end_time\": \"2021-03-13T15:21:00.610322Z\", \"created_time\": \"2021-03-13T15:19:42.740106Z\", \"created_time_dt\": \"2021-03-13T15:19:42.740106Z\", \"duration\": \"0:01:17\", \"iteration\": \"36\", \"goal\": \"accuracy_max\", \"run_name\": \"VotingEnsemble\", \"run_properties\": \"classification_labels=None,\\n                              estimators=[('20',\\n                                           Pipeline(memory=None,\\n                                                    steps=[('robustscaler',\\n                                                            RobustScaler(copy=True,\\n                                                                         quantile_range=[25,\\n                                                                                         75],\\n                                                                         with_centering=True,\\n                                                                         with_scaling=False\", \"primary_metric\": 0.85957494, \"best_metric\": 0.85957494}, {\"run_id\": \"AutoML_b91a3efe-41dd-4446-ab0b-bc946e08490e_37\", \"run_number\": 89, \"metric\": null, \"status\": \"Completed\", \"run_type\": \"azureml.scriptrun\", \"training_percent\": \"100\", \"start_time\": \"2021-03-13T15:19:52.545196Z\", \"end_time\": \"2021-03-13T15:20:59.710361Z\", \"created_time\": \"2021-03-13T15:19:42.774435Z\", \"created_time_dt\": \"2021-03-13T15:19:42.774435Z\", \"duration\": \"0:01:16\", \"iteration\": \"37\", \"goal\": \"accuracy_max\", \"run_name\": \"StackEnsemble\", \"run_properties\": \"base_learners=[('20',\\n                                        Pipeline(memory=None,\\n                                                 steps=[('robustscaler',\\n                                                         RobustScaler(copy=True,\\n                                                                      quantile_range=[25,\\n                                                                                      75],\\n                                                                      with_centering=True,\\n                                                                      with_scaling=False\", \"primary_metric\": 0.81930649, \"best_metric\": 0.85957494}], \"children_metrics\": {\"categories\": [0], \"series\": {\"balanced_accuracy\": [{\"categories\": [\"0\", \"1\", \"2\", \"3\", \"4\", \"5\", \"6\", \"7\", \"8\", \"9\", \"10\", \"11\", \"12\", \"13\", \"14\", \"15\", \"16\", \"17\", \"18\", \"19\", \"20\", \"21\", \"22\", \"23\", \"24\", \"25\", \"26\", \"27\", \"28\", \"29\", \"30\", \"32\", \"33\", \"34\", \"36\", \"37\"], \"mode\": \"markers\", \"name\": \"balanced_accuracy\", \"stepped\": false, \"type\": \"scatter\", \"data\": [0.7557586759161217, 0.810322844115527, 0.7760323215024371, 0.8055894571858657, 0.8218740308425877, 0.5814570509054686, 0.5934948447464092, 0.7874394333254684, 0.7993256813995875, 0.6322763147812316, 0.7932000375460907, 0.7129292100240138, 0.678804711267275, 0.7862121360024945, 0.6285567418456744, 0.8025697428750308, 0.6880192460384196, 0.7684209769856963, 0.5159574468085106, 0.6349201361606366, 0.7993256813995875, 0.7997671366840395, 0.5392578139323984, 0.6607649379532727, 0.7923656612423777, 0.7779835233018845, 0.7948166416345346, 0.7502637140805343, 0.7784833018945939, 0.7140981840387304, 0.5, 0.7716990946368014, 0.7919484730905213, 0.6418497143959754, 0.8124149596640847, 0.7973440376782691]}, {\"categories\": [\"0\", \"1\", \"2\", \"3\", \"4\", \"5\", \"6\", \"7\", \"8\", \"9\", \"10\", \"11\", \"12\", \"13\", \"14\", \"15\", \"16\", \"17\", \"18\", \"19\", \"20\", \"21\", \"22\", \"23\", \"24\", \"25\", \"26\", \"27\", \"28\", \"29\", \"30\", \"32\", \"33\", \"34\", \"36\", \"37\"], \"mode\": \"lines\", \"name\": \"balanced_accuracy_max\", \"stepped\": true, \"type\": \"scatter\", \"data\": [0.7557586759161217, 0.810322844115527, 0.810322844115527, 0.810322844115527, 0.8218740308425877, 0.8218740308425877, 0.8218740308425877, 0.8218740308425877, 0.8218740308425877, 0.8218740308425877, 0.8218740308425877, 0.8218740308425877, 0.8218740308425877, 0.8218740308425877, 0.8218740308425877, 0.8218740308425877, 0.8218740308425877, 0.8218740308425877, 0.8218740308425877, 0.8218740308425877, 0.8218740308425877, 0.8218740308425877, 0.8218740308425877, 0.8218740308425877, 0.8218740308425877, 0.8218740308425877, 0.8218740308425877, 0.8218740308425877, 0.8218740308425877, 0.8218740308425877, 0.8218740308425877, 0.8218740308425877, 0.8218740308425877, 0.8218740308425877, 0.8218740308425877, 0.8218740308425877]}], \"matthews_correlation\": [{\"categories\": [\"0\", \"1\", \"2\", \"3\", \"4\", \"5\", \"6\", \"7\", \"8\", \"9\", \"10\", \"11\", \"12\", \"13\", \"14\", \"15\", \"16\", \"17\", \"18\", \"19\", \"20\", \"21\", \"22\", \"23\", \"24\", \"25\", \"26\", \"27\", \"28\", \"29\", \"30\", \"32\", \"33\", \"34\", \"36\", \"37\"], \"mode\": \"markers\", \"name\": \"matthews_correlation\", \"stepped\": false, \"type\": \"scatter\", \"data\": [0.5565126394717403, 0.6452246073841756, 0.6065938664036685, 0.6294409465156903, 0.6108582684776382, 0.24711385246382703, 0.27733816741658146, 0.6041662840703792, 0.6474776079083715, 0.39614446935404035, 0.6125589461718013, 0.5283332802833556, 0.46814134917242434, 0.6209192345901703, 0.40850207782813647, 0.6356948577159666, 0.4608418797584538, 0.5759277747748357, 0.10558576253350357, 0.3956086816575408, 0.6474776079083715, 0.6447981178904965, 0.11310433050606425, 0.4153739094779517, 0.6195000135143369, 0.6020551014429442, 0.6261255586221294, 0.5554113888376602, 0.6139291376526879, 0.487971172615035, 0.0, 0.5778875955073952, 0.624115276709206, 0.3639161350700876, 0.6719517494325762, 0.615163796543836]}, {\"categories\": [\"0\", \"1\", \"2\", \"3\", \"4\", \"5\", \"6\", \"7\", \"8\", \"9\", \"10\", \"11\", \"12\", \"13\", \"14\", \"15\", \"16\", \"17\", \"18\", \"19\", \"20\", \"21\", \"22\", \"23\", \"24\", \"25\", \"26\", \"27\", \"28\", \"29\", \"30\", \"32\", \"33\", \"34\", \"36\", \"37\"], \"mode\": \"lines\", \"name\": \"matthews_correlation_max\", \"stepped\": true, \"type\": \"scatter\", \"data\": [0.5565126394717403, 0.6452246073841756, 0.6452246073841756, 0.6452246073841756, 0.6452246073841756, 0.6452246073841756, 0.6452246073841756, 0.6452246073841756, 0.6474776079083715, 0.6474776079083715, 0.6474776079083715, 0.6474776079083715, 0.6474776079083715, 0.6474776079083715, 0.6474776079083715, 0.6474776079083715, 0.6474776079083715, 0.6474776079083715, 0.6474776079083715, 0.6474776079083715, 0.6474776079083715, 0.6474776079083715, 0.6474776079083715, 0.6474776079083715, 0.6474776079083715, 0.6474776079083715, 0.6474776079083715, 0.6474776079083715, 0.6474776079083715, 0.6474776079083715, 0.6474776079083715, 0.6474776079083715, 0.6474776079083715, 0.6474776079083715, 0.6719517494325762, 0.6719517494325762]}], \"average_precision_score_weighted\": [{\"categories\": [\"0\", \"1\", \"2\", \"3\", \"4\", \"5\", \"6\", \"7\", \"8\", \"9\", \"10\", \"11\", \"12\", \"13\", \"14\", \"15\", \"16\", \"17\", \"18\", \"19\", \"20\", \"21\", \"22\", \"23\", \"24\", \"25\", \"26\", \"27\", \"28\", \"29\", \"30\", \"32\", \"33\", \"34\", \"36\", \"37\"], \"mode\": \"markers\", \"name\": \"average_precision_score_weighted\", \"stepped\": false, \"type\": \"scatter\", \"data\": [0.862550328383885, 0.8850712060013729, 0.886169639855723, 0.9066668145041957, 0.8858488611203399, 0.7709263404703259, 0.7590411117497118, 0.8973325325434706, 0.905599592095309, 0.8951478069753283, 0.9096689028597609, 0.883014953068472, 0.8940686271647285, 0.8997392628084813, 0.9002918351027942, 0.8775369986223773, 0.8622605622136187, 0.8785321179669583, 0.8500384615290444, 0.8694642536435087, 0.9016249944623571, 0.9078151039624917, 0.6061591569697475, 0.862727588946406, 0.8881244381956579, 0.8953933182395978, 0.8868800671025383, 0.8699542459894988, 0.8896863997029991, 0.8795686048050556, 0.5641082253552142, 0.8914194364275119, 0.8986740286562618, 0.829120168415842, 0.9082925007384182, 0.9074832810578912]}, {\"categories\": [\"0\", \"1\", \"2\", \"3\", \"4\", \"5\", \"6\", \"7\", \"8\", \"9\", \"10\", \"11\", \"12\", \"13\", \"14\", \"15\", \"16\", \"17\", \"18\", \"19\", \"20\", \"21\", \"22\", \"23\", \"24\", \"25\", \"26\", \"27\", \"28\", \"29\", \"30\", \"32\", \"33\", \"34\", \"36\", \"37\"], \"mode\": \"lines\", \"name\": \"average_precision_score_weighted_max\", \"stepped\": true, \"type\": \"scatter\", \"data\": [0.862550328383885, 0.8850712060013729, 0.886169639855723, 0.9066668145041957, 0.9066668145041957, 0.9066668145041957, 0.9066668145041957, 0.9066668145041957, 0.9066668145041957, 0.9066668145041957, 0.9096689028597609, 0.9096689028597609, 0.9096689028597609, 0.9096689028597609, 0.9096689028597609, 0.9096689028597609, 0.9096689028597609, 0.9096689028597609, 0.9096689028597609, 0.9096689028597609, 0.9096689028597609, 0.9096689028597609, 0.9096689028597609, 0.9096689028597609, 0.9096689028597609, 0.9096689028597609, 0.9096689028597609, 0.9096689028597609, 0.9096689028597609, 0.9096689028597609, 0.9096689028597609, 0.9096689028597609, 0.9096689028597609, 0.9096689028597609, 0.9096689028597609, 0.9096689028597609]}], \"f1_score_weighted\": [{\"categories\": [\"0\", \"1\", \"2\", \"3\", \"4\", \"5\", \"6\", \"7\", \"8\", \"9\", \"10\", \"11\", \"12\", \"13\", \"14\", \"15\", \"16\", \"17\", \"18\", \"19\", \"20\", \"21\", \"22\", \"23\", \"24\", \"25\", \"26\", \"27\", \"28\", \"29\", \"30\", \"32\", \"33\", \"34\", \"36\", \"37\"], \"mode\": \"markers\", \"name\": \"f1_score_weighted\", \"stepped\": false, \"type\": \"scatter\", \"data\": [0.8048405818640718, 0.8437799215756577, 0.8249821202929064, 0.8372448725086368, 0.8142504942464541, 0.6396717792379156, 0.6564447232636802, 0.8252453226710537, 0.8435075032356247, 0.7057372033894156, 0.8260569022136538, 0.7807646181267425, 0.751822283682603, 0.8329989397699994, 0.7069091251016462, 0.8392743893449242, 0.7528389401336413, 0.8140676359348455, 0.571423518597904, 0.7076882040559739, 0.8435075032356247, 0.8408797539149888, 0.6165294736205285, 0.7344023352704414, 0.8314731923472252, 0.8263018766540859, 0.8345939890160553, 0.8030844365743695, 0.8280958097341333, 0.7727473518850204, 0.5491321514835512, 0.8140987453714202, 0.8341095436776377, 0.7084519301735386, 0.8539163783147654, 0.8176405677514771]}, {\"categories\": [\"0\", \"1\", \"2\", \"3\", \"4\", \"5\", \"6\", \"7\", \"8\", \"9\", \"10\", \"11\", \"12\", \"13\", \"14\", \"15\", \"16\", \"17\", \"18\", \"19\", \"20\", \"21\", \"22\", \"23\", \"24\", \"25\", \"26\", \"27\", \"28\", \"29\", \"30\", \"32\", \"33\", \"34\", \"36\", \"37\"], \"mode\": \"lines\", \"name\": \"f1_score_weighted_max\", \"stepped\": true, \"type\": \"scatter\", \"data\": [0.8048405818640718, 0.8437799215756577, 0.8437799215756577, 0.8437799215756577, 0.8437799215756577, 0.8437799215756577, 0.8437799215756577, 0.8437799215756577, 0.8437799215756577, 0.8437799215756577, 0.8437799215756577, 0.8437799215756577, 0.8437799215756577, 0.8437799215756577, 0.8437799215756577, 0.8437799215756577, 0.8437799215756577, 0.8437799215756577, 0.8437799215756577, 0.8437799215756577, 0.8437799215756577, 0.8437799215756577, 0.8437799215756577, 0.8437799215756577, 0.8437799215756577, 0.8437799215756577, 0.8437799215756577, 0.8437799215756577, 0.8437799215756577, 0.8437799215756577, 0.8437799215756577, 0.8437799215756577, 0.8437799215756577, 0.8437799215756577, 0.8539163783147654, 0.8539163783147654]}], \"average_precision_score_micro\": [{\"categories\": [\"0\", \"1\", \"2\", \"3\", \"4\", \"5\", \"6\", \"7\", \"8\", \"9\", \"10\", \"11\", \"12\", \"13\", \"14\", \"15\", \"16\", \"17\", \"18\", \"19\", \"20\", \"21\", \"22\", \"23\", \"24\", \"25\", \"26\", \"27\", \"28\", \"29\", \"30\", \"32\", \"33\", \"34\", \"36\", \"37\"], \"mode\": \"markers\", \"name\": \"average_precision_score_micro\", \"stepped\": false, \"type\": \"scatter\", \"data\": [0.8729387725912188, 0.8931293123898661, 0.891145639269793, 0.9137079310776463, 0.8791113511787512, 0.7768810911791326, 0.7750660861712448, 0.9033442114426924, 0.8999499940503302, 0.8740393111221889, 0.909571257027888, 0.8775607805716183, 0.8820631367394002, 0.8895749466012086, 0.868236056670957, 0.8846579581628972, 0.8701669386713837, 0.8850409889189075, 0.8271271442469019, 0.8518436252193747, 0.9066654145563118, 0.9073672755442836, 0.6575045395966228, 0.8670460301736758, 0.8959687643085769, 0.8995462089456983, 0.8995765525455826, 0.8778168166876122, 0.8968165291762852, 0.8854858678069728, 0.6215283856082559, 0.8975679821187972, 0.9019911471215067, 0.8437034004614676, 0.9075427783354854, 0.8772592822526504]}, {\"categories\": [\"0\", \"1\", \"2\", \"3\", \"4\", \"5\", \"6\", \"7\", \"8\", \"9\", \"10\", \"11\", \"12\", \"13\", \"14\", \"15\", \"16\", \"17\", \"18\", \"19\", \"20\", \"21\", \"22\", \"23\", \"24\", \"25\", \"26\", \"27\", \"28\", \"29\", \"30\", \"32\", \"33\", \"34\", \"36\", \"37\"], \"mode\": \"lines\", \"name\": \"average_precision_score_micro_max\", \"stepped\": true, \"type\": \"scatter\", \"data\": [0.8729387725912188, 0.8931293123898661, 0.8931293123898661, 0.9137079310776463, 0.9137079310776463, 0.9137079310776463, 0.9137079310776463, 0.9137079310776463, 0.9137079310776463, 0.9137079310776463, 0.9137079310776463, 0.9137079310776463, 0.9137079310776463, 0.9137079310776463, 0.9137079310776463, 0.9137079310776463, 0.9137079310776463, 0.9137079310776463, 0.9137079310776463, 0.9137079310776463, 0.9137079310776463, 0.9137079310776463, 0.9137079310776463, 0.9137079310776463, 0.9137079310776463, 0.9137079310776463, 0.9137079310776463, 0.9137079310776463, 0.9137079310776463, 0.9137079310776463, 0.9137079310776463, 0.9137079310776463, 0.9137079310776463, 0.9137079310776463, 0.9137079310776463, 0.9137079310776463]}], \"norm_macro_recall\": [{\"categories\": [\"0\", \"1\", \"2\", \"3\", \"4\", \"5\", \"6\", \"7\", \"8\", \"9\", \"10\", \"11\", \"12\", \"13\", \"14\", \"15\", \"16\", \"17\", \"18\", \"19\", \"20\", \"21\", \"22\", \"23\", \"24\", \"25\", \"26\", \"27\", \"28\", \"29\", \"30\", \"32\", \"33\", \"34\", \"36\", \"37\"], \"mode\": \"markers\", \"name\": \"norm_macro_recall\", \"stepped\": false, \"type\": \"scatter\", \"data\": [0.5115173518322433, 0.620645688231054, 0.5520646430048741, 0.6111789143717313, 0.6437480616851754, 0.16291410181093713, 0.18698968949281836, 0.5748788666509368, 0.5986513627991749, 0.2645526295624633, 0.5864000750921814, 0.42585842004802754, 0.35760942253454997, 0.572424272004989, 0.2571134836913489, 0.6051394857500616, 0.37603849207683915, 0.5368419539713927, 0.03191489361702127, 0.26984027232127317, 0.5986513627991749, 0.5995342733680791, 0.07851562786479671, 0.32152987590654536, 0.5847313224847555, 0.5559670466037689, 0.5896332832690692, 0.5005274281610685, 0.5569666037891878, 0.42819636807746064, 0.0, 0.5433981892736028, 0.5838969461810425, 0.28369942879195076, 0.6248299193281694, 0.5946880753565382]}, {\"categories\": [\"0\", \"1\", \"2\", \"3\", \"4\", \"5\", \"6\", \"7\", \"8\", \"9\", \"10\", \"11\", \"12\", \"13\", \"14\", \"15\", \"16\", \"17\", \"18\", \"19\", \"20\", \"21\", \"22\", \"23\", \"24\", \"25\", \"26\", \"27\", \"28\", \"29\", \"30\", \"32\", \"33\", \"34\", \"36\", \"37\"], \"mode\": \"lines\", \"name\": \"norm_macro_recall_max\", \"stepped\": true, \"type\": \"scatter\", \"data\": [0.5115173518322433, 0.620645688231054, 0.620645688231054, 0.620645688231054, 0.6437480616851754, 0.6437480616851754, 0.6437480616851754, 0.6437480616851754, 0.6437480616851754, 0.6437480616851754, 0.6437480616851754, 0.6437480616851754, 0.6437480616851754, 0.6437480616851754, 0.6437480616851754, 0.6437480616851754, 0.6437480616851754, 0.6437480616851754, 0.6437480616851754, 0.6437480616851754, 0.6437480616851754, 0.6437480616851754, 0.6437480616851754, 0.6437480616851754, 0.6437480616851754, 0.6437480616851754, 0.6437480616851754, 0.6437480616851754, 0.6437480616851754, 0.6437480616851754, 0.6437480616851754, 0.6437480616851754, 0.6437480616851754, 0.6437480616851754, 0.6437480616851754, 0.6437480616851754]}], \"precision_score_micro\": [{\"categories\": [\"0\", \"1\", \"2\", \"3\", \"4\", \"5\", \"6\", \"7\", \"8\", \"9\", \"10\", \"11\", \"12\", \"13\", \"14\", \"15\", \"16\", \"17\", \"18\", \"19\", \"20\", \"21\", \"22\", \"23\", \"24\", \"25\", \"26\", \"27\", \"28\", \"29\", \"30\", \"32\", \"33\", \"34\", \"36\", \"37\"], \"mode\": \"markers\", \"name\": \"precision_score_micro\", \"stepped\": false, \"type\": \"scatter\", \"data\": [0.8127069351230425, 0.8460850111856824, 0.8327740492170023, 0.839440715883669, 0.8093512304250559, 0.6821700223713647, 0.6989261744966443, 0.8294183445190157, 0.8495078299776286, 0.752572706935123, 0.8293959731543624, 0.802751677852349, 0.779261744966443, 0.8394630872483222, 0.7558836689038031, 0.8427740492170023, 0.7759507829977629, 0.8193064876957494, 0.6890156599552573, 0.7559731543624161, 0.8495078299776286, 0.8461297539149888, 0.6688590604026846, 0.7625279642058166, 0.8361073825503356, 0.8327293064876957, 0.8394630872483222, 0.8127069351230425, 0.8361297539149888, 0.7859284116331096, 0.6789485458612976, 0.8193736017897092, 0.8394630872483222, 0.7391275167785235, 0.8595749440715883, 0.8193064876957494]}, {\"categories\": [\"0\", \"1\", \"2\", \"3\", \"4\", \"5\", \"6\", \"7\", \"8\", \"9\", \"10\", \"11\", \"12\", \"13\", \"14\", \"15\", \"16\", \"17\", \"18\", \"19\", \"20\", \"21\", \"22\", \"23\", \"24\", \"25\", \"26\", \"27\", \"28\", \"29\", \"30\", \"32\", \"33\", \"34\", \"36\", \"37\"], \"mode\": \"lines\", \"name\": \"precision_score_micro_max\", \"stepped\": true, \"type\": \"scatter\", \"data\": [0.8127069351230425, 0.8460850111856824, 0.8460850111856824, 0.8460850111856824, 0.8460850111856824, 0.8460850111856824, 0.8460850111856824, 0.8460850111856824, 0.8495078299776286, 0.8495078299776286, 0.8495078299776286, 0.8495078299776286, 0.8495078299776286, 0.8495078299776286, 0.8495078299776286, 0.8495078299776286, 0.8495078299776286, 0.8495078299776286, 0.8495078299776286, 0.8495078299776286, 0.8495078299776286, 0.8495078299776286, 0.8495078299776286, 0.8495078299776286, 0.8495078299776286, 0.8495078299776286, 0.8495078299776286, 0.8495078299776286, 0.8495078299776286, 0.8495078299776286, 0.8495078299776286, 0.8495078299776286, 0.8495078299776286, 0.8495078299776286, 0.8595749440715883, 0.8595749440715883]}], \"f1_score_macro\": [{\"categories\": [\"0\", \"1\", \"2\", \"3\", \"4\", \"5\", \"6\", \"7\", \"8\", \"9\", \"10\", \"11\", \"12\", \"13\", \"14\", \"15\", \"16\", \"17\", \"18\", \"19\", \"20\", \"21\", \"22\", \"23\", \"24\", \"25\", \"26\", \"27\", \"28\", \"29\", \"30\", \"32\", \"33\", \"34\", \"36\", \"37\"], \"mode\": \"markers\", \"name\": \"f1_score_macro\", \"stepped\": false, \"type\": \"scatter\", \"data\": [0.7692501942501943, 0.8186094279798553, 0.7924765076417224, 0.8113852237587865, 0.7952188253244719, 0.5608948012148154, 0.578441572089113, 0.7960104007076351, 0.8152032191130364, 0.6305977178223828, 0.7982106899536865, 0.731841709015622, 0.6944624306248355, 0.8025530857596197, 0.6299143006492792, 0.8124831955367346, 0.6992280641977686, 0.7816207470223253, 0.43684038041382856, 0.6322811887488529, 0.8152032191130364, 0.8130084480600751, 0.5214064542422752, 0.6735094248681204, 0.8027286814887544, 0.7945068495790062, 0.8060647805729415, 0.7658460908460909, 0.7958522862096951, 0.728295109948975, 0.4043824701195219, 0.7821333829590262, 0.8049627276162856, 0.643618324491501, 0.8276119758152714, 0.7922806752281031]}, {\"categories\": [\"0\", \"1\", \"2\", \"3\", \"4\", \"5\", \"6\", \"7\", \"8\", \"9\", \"10\", \"11\", \"12\", \"13\", \"14\", \"15\", \"16\", \"17\", \"18\", \"19\", \"20\", \"21\", \"22\", \"23\", \"24\", \"25\", \"26\", \"27\", \"28\", \"29\", \"30\", \"32\", \"33\", \"34\", \"36\", \"37\"], \"mode\": \"lines\", \"name\": \"f1_score_macro_max\", \"stepped\": true, \"type\": \"scatter\", \"data\": [0.7692501942501943, 0.8186094279798553, 0.8186094279798553, 0.8186094279798553, 0.8186094279798553, 0.8186094279798553, 0.8186094279798553, 0.8186094279798553, 0.8186094279798553, 0.8186094279798553, 0.8186094279798553, 0.8186094279798553, 0.8186094279798553, 0.8186094279798553, 0.8186094279798553, 0.8186094279798553, 0.8186094279798553, 0.8186094279798553, 0.8186094279798553, 0.8186094279798553, 0.8186094279798553, 0.8186094279798553, 0.8186094279798553, 0.8186094279798553, 0.8186094279798553, 0.8186094279798553, 0.8186094279798553, 0.8186094279798553, 0.8186094279798553, 0.8186094279798553, 0.8186094279798553, 0.8186094279798553, 0.8186094279798553, 0.8186094279798553, 0.8276119758152714, 0.8276119758152714]}], \"precision_score_macro\": [{\"categories\": [\"0\", \"1\", \"2\", \"3\", \"4\", \"5\", \"6\", \"7\", \"8\", \"9\", \"10\", \"11\", \"12\", \"13\", \"14\", \"15\", \"16\", \"17\", \"18\", \"19\", \"20\", \"21\", \"22\", \"23\", \"24\", \"25\", \"26\", \"27\", \"28\", \"29\", \"30\", \"32\", \"33\", \"34\", \"36\", \"37\"], \"mode\": \"markers\", \"name\": \"precision_score_macro\", \"stepped\": false, \"type\": \"scatter\", \"data\": [0.8038548007066774, 0.836146171455906, 0.8345961281708946, 0.8248021094402673, 0.7899134674306119, 0.7250921201814059, 0.7373456951122594, 0.8187032744132136, 0.8512036598902284, 0.8126264012811714, 0.8219424337845391, 0.8305705093157253, 0.8092860422405876, 0.837361655959217, 0.8289193073022498, 0.8348868330155996, 0.7885228978978979, 0.8096183144104037, 0.5929908675799087, 0.8038605200945627, 0.8512036598902284, 0.8486126090793216, 0.5815835759028214, 0.7695104152071366, 0.8295506233315639, 0.8260530267109214, 0.8337203750220021, 0.8095054419362471, 0.8395663956639567, 0.7799814180344663, 0.3394742729306488, 0.8084676066528382, 0.8346008158508158, 0.7435327438229915, 0.8625445969990462, 0.8214203597904716]}, {\"categories\": [\"0\", \"1\", \"2\", \"3\", \"4\", \"5\", \"6\", \"7\", \"8\", \"9\", \"10\", \"11\", \"12\", \"13\", \"14\", \"15\", \"16\", \"17\", \"18\", \"19\", \"20\", \"21\", \"22\", \"23\", \"24\", \"25\", \"26\", \"27\", \"28\", \"29\", \"30\", \"32\", \"33\", \"34\", \"36\", \"37\"], \"mode\": \"lines\", \"name\": \"precision_score_macro_max\", \"stepped\": true, \"type\": \"scatter\", \"data\": [0.8038548007066774, 0.836146171455906, 0.836146171455906, 0.836146171455906, 0.836146171455906, 0.836146171455906, 0.836146171455906, 0.836146171455906, 0.8512036598902284, 0.8512036598902284, 0.8512036598902284, 0.8512036598902284, 0.8512036598902284, 0.8512036598902284, 0.8512036598902284, 0.8512036598902284, 0.8512036598902284, 0.8512036598902284, 0.8512036598902284, 0.8512036598902284, 0.8512036598902284, 0.8512036598902284, 0.8512036598902284, 0.8512036598902284, 0.8512036598902284, 0.8512036598902284, 0.8512036598902284, 0.8512036598902284, 0.8512036598902284, 0.8512036598902284, 0.8512036598902284, 0.8512036598902284, 0.8512036598902284, 0.8512036598902284, 0.8625445969990462, 0.8625445969990462]}], \"accuracy\": [{\"categories\": [\"0\", \"1\", \"2\", \"3\", \"4\", \"5\", \"6\", \"7\", \"8\", \"9\", \"10\", \"11\", \"12\", \"13\", \"14\", \"15\", \"16\", \"17\", \"18\", \"19\", \"20\", \"21\", \"22\", \"23\", \"24\", \"25\", \"26\", \"27\", \"28\", \"29\", \"30\", \"32\", \"33\", \"34\", \"36\", \"37\"], \"mode\": \"markers\", \"name\": \"accuracy\", \"stepped\": false, \"type\": \"scatter\", \"data\": [0.8127069351230425, 0.8460850111856824, 0.8327740492170023, 0.839440715883669, 0.8093512304250559, 0.6821700223713647, 0.6989261744966443, 0.8294183445190157, 0.8495078299776286, 0.752572706935123, 0.8293959731543624, 0.802751677852349, 0.779261744966443, 0.8394630872483222, 0.7558836689038031, 0.8427740492170023, 0.7759507829977629, 0.8193064876957494, 0.6890156599552573, 0.7559731543624161, 0.8495078299776286, 0.8461297539149888, 0.6688590604026846, 0.7625279642058166, 0.8361073825503356, 0.8327293064876957, 0.8394630872483222, 0.8127069351230425, 0.8361297539149888, 0.7859284116331096, 0.6789485458612976, 0.8193736017897092, 0.8394630872483222, 0.7391275167785235, 0.8595749440715883, 0.8193064876957494]}, {\"categories\": [\"0\", \"1\", \"2\", \"3\", \"4\", \"5\", \"6\", \"7\", \"8\", \"9\", \"10\", \"11\", \"12\", \"13\", \"14\", \"15\", \"16\", \"17\", \"18\", \"19\", \"20\", \"21\", \"22\", \"23\", \"24\", \"25\", \"26\", \"27\", \"28\", \"29\", \"30\", \"32\", \"33\", \"34\", \"36\", \"37\"], \"mode\": \"lines\", \"name\": \"accuracy_max\", \"stepped\": true, \"type\": \"scatter\", \"data\": [0.8127069351230425, 0.8460850111856824, 0.8460850111856824, 0.8460850111856824, 0.8460850111856824, 0.8460850111856824, 0.8460850111856824, 0.8460850111856824, 0.8495078299776286, 0.8495078299776286, 0.8495078299776286, 0.8495078299776286, 0.8495078299776286, 0.8495078299776286, 0.8495078299776286, 0.8495078299776286, 0.8495078299776286, 0.8495078299776286, 0.8495078299776286, 0.8495078299776286, 0.8495078299776286, 0.8495078299776286, 0.8495078299776286, 0.8495078299776286, 0.8495078299776286, 0.8495078299776286, 0.8495078299776286, 0.8495078299776286, 0.8495078299776286, 0.8495078299776286, 0.8495078299776286, 0.8495078299776286, 0.8495078299776286, 0.8495078299776286, 0.8595749440715883, 0.8595749440715883]}], \"AUC_micro\": [{\"categories\": [\"0\", \"1\", \"2\", \"3\", \"4\", \"5\", \"6\", \"7\", \"8\", \"9\", \"10\", \"11\", \"12\", \"13\", \"14\", \"15\", \"16\", \"17\", \"18\", \"19\", \"20\", \"21\", \"22\", \"23\", \"24\", \"25\", \"26\", \"27\", \"28\", \"29\", \"30\", \"32\", \"33\", \"34\", \"36\", \"37\"], \"mode\": \"markers\", \"name\": \"AUC_micro\", \"stepped\": false, \"type\": \"scatter\", \"data\": [0.8778265723766197, 0.8987015419725839, 0.8979177784784469, 0.9131467341310952, 0.8837755436441802, 0.7822213048461281, 0.7833341360999755, 0.9039237641948061, 0.900913811690164, 0.8703769640006207, 0.9096135509411488, 0.8802570224564459, 0.8766699688202233, 0.8890621103153511, 0.8601790600023023, 0.8936859040383566, 0.8643575864951029, 0.8853426212032491, 0.8243623770701021, 0.8555510012061518, 0.9069274286944031, 0.9095516718466136, 0.6804768654064632, 0.8764463242396489, 0.9005532443483527, 0.8995206972658889, 0.9022862783958681, 0.8786087633690174, 0.8984752028186919, 0.8834475213829207, 0.6789485458612976, 0.8972061438673933, 0.9025530942049658, 0.8386184936614467, 0.9089417203429275, 0.8848669008903502]}, {\"categories\": [\"0\", \"1\", \"2\", \"3\", \"4\", \"5\", \"6\", \"7\", \"8\", \"9\", \"10\", \"11\", \"12\", \"13\", \"14\", \"15\", \"16\", \"17\", \"18\", \"19\", \"20\", \"21\", \"22\", \"23\", \"24\", \"25\", \"26\", \"27\", \"28\", \"29\", \"30\", \"32\", \"33\", \"34\", \"36\", \"37\"], \"mode\": \"lines\", \"name\": \"AUC_micro_max\", \"stepped\": true, \"type\": \"scatter\", \"data\": [0.8778265723766197, 0.8987015419725839, 0.8987015419725839, 0.9131467341310952, 0.9131467341310952, 0.9131467341310952, 0.9131467341310952, 0.9131467341310952, 0.9131467341310952, 0.9131467341310952, 0.9131467341310952, 0.9131467341310952, 0.9131467341310952, 0.9131467341310952, 0.9131467341310952, 0.9131467341310952, 0.9131467341310952, 0.9131467341310952, 0.9131467341310952, 0.9131467341310952, 0.9131467341310952, 0.9131467341310952, 0.9131467341310952, 0.9131467341310952, 0.9131467341310952, 0.9131467341310952, 0.9131467341310952, 0.9131467341310952, 0.9131467341310952, 0.9131467341310952, 0.9131467341310952, 0.9131467341310952, 0.9131467341310952, 0.9131467341310952, 0.9131467341310952, 0.9131467341310952]}], \"precision_score_weighted\": [{\"categories\": [\"0\", \"1\", \"2\", \"3\", \"4\", \"5\", \"6\", \"7\", \"8\", \"9\", \"10\", \"11\", \"12\", \"13\", \"14\", \"15\", \"16\", \"17\", \"18\", \"19\", \"20\", \"21\", \"22\", \"23\", \"24\", \"25\", \"26\", \"27\", \"28\", \"29\", \"30\", \"32\", \"33\", \"34\", \"36\", \"37\"], \"mode\": \"markers\", \"name\": \"precision_score_weighted\", \"stepped\": false, \"type\": \"scatter\", \"data\": [0.8129063373603715, 0.8485365800897071, 0.8364090699107635, 0.8409169421035811, 0.8373329236993152, 0.7269912194930173, 0.7364699564462796, 0.8317982694119073, 0.8526366173201307, 0.789349920182697, 0.8369704901637081, 0.8170316370820259, 0.7963320617194931, 0.8404919618555239, 0.798064436508583, 0.8452552028109142, 0.786618161785947, 0.8200405309711774, 0.6235354458439316, 0.7837366313907796, 0.8526366173201307, 0.8523428197864986, 0.6237726814580498, 0.7673404132104209, 0.8392696843036567, 0.8312974587091507, 0.8421152499004848, 0.8145020838800714, 0.8397842436478057, 0.7875029394660218, 0.46100265853890465, 0.8208654432815508, 0.8413136093337437, 0.7488094836634378, 0.8630912295128185, 0.843140372305553]}, {\"categories\": [\"0\", \"1\", \"2\", \"3\", \"4\", \"5\", \"6\", \"7\", \"8\", \"9\", \"10\", \"11\", \"12\", \"13\", \"14\", \"15\", \"16\", \"17\", \"18\", \"19\", \"20\", \"21\", \"22\", \"23\", \"24\", \"25\", \"26\", \"27\", \"28\", \"29\", \"30\", \"32\", \"33\", \"34\", \"36\", \"37\"], \"mode\": \"lines\", \"name\": \"precision_score_weighted_max\", \"stepped\": true, \"type\": \"scatter\", \"data\": [0.8129063373603715, 0.8485365800897071, 0.8485365800897071, 0.8485365800897071, 0.8485365800897071, 0.8485365800897071, 0.8485365800897071, 0.8485365800897071, 0.8526366173201307, 0.8526366173201307, 0.8526366173201307, 0.8526366173201307, 0.8526366173201307, 0.8526366173201307, 0.8526366173201307, 0.8526366173201307, 0.8526366173201307, 0.8526366173201307, 0.8526366173201307, 0.8526366173201307, 0.8526366173201307, 0.8526366173201307, 0.8526366173201307, 0.8526366173201307, 0.8526366173201307, 0.8526366173201307, 0.8526366173201307, 0.8526366173201307, 0.8526366173201307, 0.8526366173201307, 0.8526366173201307, 0.8526366173201307, 0.8526366173201307, 0.8526366173201307, 0.8630912295128185, 0.8630912295128185]}], \"recall_score_micro\": [{\"categories\": [\"0\", \"1\", \"2\", \"3\", \"4\", \"5\", \"6\", \"7\", \"8\", \"9\", \"10\", \"11\", \"12\", \"13\", \"14\", \"15\", \"16\", \"17\", \"18\", \"19\", \"20\", \"21\", \"22\", \"23\", \"24\", \"25\", \"26\", \"27\", \"28\", \"29\", \"30\", \"32\", \"33\", \"34\", \"36\", \"37\"], \"mode\": \"markers\", \"name\": \"recall_score_micro\", \"stepped\": false, \"type\": \"scatter\", \"data\": [0.8127069351230425, 0.8460850111856824, 0.8327740492170023, 0.839440715883669, 0.8093512304250559, 0.6821700223713647, 0.6989261744966443, 0.8294183445190157, 0.8495078299776286, 0.752572706935123, 0.8293959731543624, 0.802751677852349, 0.779261744966443, 0.8394630872483222, 0.7558836689038031, 0.8427740492170023, 0.7759507829977629, 0.8193064876957494, 0.6890156599552573, 0.7559731543624161, 0.8495078299776286, 0.8461297539149888, 0.6688590604026846, 0.7625279642058166, 0.8361073825503356, 0.8327293064876957, 0.8394630872483222, 0.8127069351230425, 0.8361297539149888, 0.7859284116331096, 0.6789485458612976, 0.8193736017897092, 0.8394630872483222, 0.7391275167785235, 0.8595749440715883, 0.8193064876957494]}, {\"categories\": [\"0\", \"1\", \"2\", \"3\", \"4\", \"5\", \"6\", \"7\", \"8\", \"9\", \"10\", \"11\", \"12\", \"13\", \"14\", \"15\", \"16\", \"17\", \"18\", \"19\", \"20\", \"21\", \"22\", \"23\", \"24\", \"25\", \"26\", \"27\", \"28\", \"29\", \"30\", \"32\", \"33\", \"34\", \"36\", \"37\"], \"mode\": \"lines\", \"name\": \"recall_score_micro_max\", \"stepped\": true, \"type\": \"scatter\", \"data\": [0.8127069351230425, 0.8460850111856824, 0.8460850111856824, 0.8460850111856824, 0.8460850111856824, 0.8460850111856824, 0.8460850111856824, 0.8460850111856824, 0.8495078299776286, 0.8495078299776286, 0.8495078299776286, 0.8495078299776286, 0.8495078299776286, 0.8495078299776286, 0.8495078299776286, 0.8495078299776286, 0.8495078299776286, 0.8495078299776286, 0.8495078299776286, 0.8495078299776286, 0.8495078299776286, 0.8495078299776286, 0.8495078299776286, 0.8495078299776286, 0.8495078299776286, 0.8495078299776286, 0.8495078299776286, 0.8495078299776286, 0.8495078299776286, 0.8495078299776286, 0.8495078299776286, 0.8495078299776286, 0.8495078299776286, 0.8495078299776286, 0.8595749440715883, 0.8595749440715883]}], \"weighted_accuracy\": [{\"categories\": [\"0\", \"1\", \"2\", \"3\", \"4\", \"5\", \"6\", \"7\", \"8\", \"9\", \"10\", \"11\", \"12\", \"13\", \"14\", \"15\", \"16\", \"17\", \"18\", \"19\", \"20\", \"21\", \"22\", \"23\", \"24\", \"25\", \"26\", \"27\", \"28\", \"29\", \"30\", \"32\", \"33\", \"34\", \"36\", \"37\"], \"mode\": \"markers\", \"name\": \"weighted_accuracy\", \"stepped\": false, \"type\": \"scatter\", \"data\": [0.8569164934675346, 0.8738984786229518, 0.8768252817101251, 0.8658028989746689, 0.7998884246072702, 0.7606501564847588, 0.7809483714609236, 0.8621146347886398, 0.8884833147703591, 0.8458054848351193, 0.8577179076265621, 0.8723736532993918, 0.8570341381016076, 0.8807497002215037, 0.8543714700082528, 0.8740536541570252, 0.8442246981746211, 0.8587502857677152, 0.8227584326311002, 0.8498041000892952, 0.8884833147703591, 0.8822234305481054, 0.7689916703232897, 0.8412497758872708, 0.8701653824541209, 0.8750412003153766, 0.8742088296910986, 0.8611599482213876, 0.8808687289471028, 0.8416511750125477, 0.8171689614505722, 0.8564441848168355, 0.8763891198679002, 0.8146848946403735, 0.8962530761276888, 0.8368302583999477]}, {\"categories\": [\"0\", \"1\", \"2\", \"3\", \"4\", \"5\", \"6\", \"7\", \"8\", \"9\", \"10\", \"11\", \"12\", \"13\", \"14\", \"15\", \"16\", \"17\", \"18\", \"19\", \"20\", \"21\", \"22\", \"23\", \"24\", \"25\", \"26\", \"27\", \"28\", \"29\", \"30\", \"32\", \"33\", \"34\", \"36\", \"37\"], \"mode\": \"lines\", \"name\": \"weighted_accuracy_max\", \"stepped\": true, \"type\": \"scatter\", \"data\": [0.8569164934675346, 0.8738984786229518, 0.8768252817101251, 0.8768252817101251, 0.8768252817101251, 0.8768252817101251, 0.8768252817101251, 0.8768252817101251, 0.8884833147703591, 0.8884833147703591, 0.8884833147703591, 0.8884833147703591, 0.8884833147703591, 0.8884833147703591, 0.8884833147703591, 0.8884833147703591, 0.8884833147703591, 0.8884833147703591, 0.8884833147703591, 0.8884833147703591, 0.8884833147703591, 0.8884833147703591, 0.8884833147703591, 0.8884833147703591, 0.8884833147703591, 0.8884833147703591, 0.8884833147703591, 0.8884833147703591, 0.8884833147703591, 0.8884833147703591, 0.8884833147703591, 0.8884833147703591, 0.8884833147703591, 0.8884833147703591, 0.8962530761276888, 0.8962530761276888]}], \"recall_score_macro\": [{\"categories\": [\"0\", \"1\", \"2\", \"3\", \"4\", \"5\", \"6\", \"7\", \"8\", \"9\", \"10\", \"11\", \"12\", \"13\", \"14\", \"15\", \"16\", \"17\", \"18\", \"19\", \"20\", \"21\", \"22\", \"23\", \"24\", \"25\", \"26\", \"27\", \"28\", \"29\", \"30\", \"32\", \"33\", \"34\", \"36\", \"37\"], \"mode\": \"markers\", \"name\": \"recall_score_macro\", \"stepped\": false, \"type\": \"scatter\", \"data\": [0.7557586759161217, 0.810322844115527, 0.7760323215024371, 0.8055894571858657, 0.8218740308425877, 0.5814570509054686, 0.5934948447464092, 0.7874394333254684, 0.7993256813995875, 0.6322763147812316, 0.7932000375460907, 0.7129292100240138, 0.678804711267275, 0.7862121360024945, 0.6285567418456744, 0.8025697428750308, 0.6880192460384196, 0.7684209769856963, 0.5159574468085106, 0.6349201361606366, 0.7993256813995875, 0.7997671366840395, 0.5392578139323984, 0.6607649379532727, 0.7923656612423777, 0.7779835233018845, 0.7948166416345346, 0.7502637140805343, 0.7784833018945939, 0.7140981840387304, 0.5, 0.7716990946368014, 0.7919484730905213, 0.6418497143959754, 0.8124149596640847, 0.7973440376782691]}, {\"categories\": [\"0\", \"1\", \"2\", \"3\", \"4\", \"5\", \"6\", \"7\", \"8\", \"9\", \"10\", \"11\", \"12\", \"13\", \"14\", \"15\", \"16\", \"17\", \"18\", \"19\", \"20\", \"21\", \"22\", \"23\", \"24\", \"25\", \"26\", \"27\", \"28\", \"29\", \"30\", \"32\", \"33\", \"34\", \"36\", \"37\"], \"mode\": \"lines\", \"name\": \"recall_score_macro_max\", \"stepped\": true, \"type\": \"scatter\", \"data\": [0.7557586759161217, 0.810322844115527, 0.810322844115527, 0.810322844115527, 0.8218740308425877, 0.8218740308425877, 0.8218740308425877, 0.8218740308425877, 0.8218740308425877, 0.8218740308425877, 0.8218740308425877, 0.8218740308425877, 0.8218740308425877, 0.8218740308425877, 0.8218740308425877, 0.8218740308425877, 0.8218740308425877, 0.8218740308425877, 0.8218740308425877, 0.8218740308425877, 0.8218740308425877, 0.8218740308425877, 0.8218740308425877, 0.8218740308425877, 0.8218740308425877, 0.8218740308425877, 0.8218740308425877, 0.8218740308425877, 0.8218740308425877, 0.8218740308425877, 0.8218740308425877, 0.8218740308425877, 0.8218740308425877, 0.8218740308425877, 0.8218740308425877, 0.8218740308425877]}], \"AUC_weighted\": [{\"categories\": [\"0\", \"1\", \"2\", \"3\", \"4\", \"5\", \"6\", \"7\", \"8\", \"9\", \"10\", \"11\", \"12\", \"13\", \"14\", \"15\", \"16\", \"17\", \"18\", \"19\", \"20\", \"21\", \"22\", \"23\", \"24\", \"25\", \"26\", \"27\", \"28\", \"29\", \"30\", \"32\", \"33\", \"34\", \"36\", \"37\"], \"mode\": \"markers\", \"name\": \"AUC_weighted\", \"stepped\": false, \"type\": \"scatter\", \"data\": [0.8555301412749636, 0.8812455464595781, 0.8837903288553678, 0.9021427614652349, 0.881646054250645, 0.7485281241209354, 0.7367108208356021, 0.8894451186836647, 0.8991804431905479, 0.8894712508976625, 0.9049489819100169, 0.8767187726154291, 0.8851750095445805, 0.8876955142705913, 0.8899164363449192, 0.8697473196145954, 0.8507814754298602, 0.8676477332032454, 0.8330656678091501, 0.8619251576762998, 0.8957034045975669, 0.9023709547016616, 0.5190127451865516, 0.8712117983911492, 0.8816003228761486, 0.8860845159635373, 0.8875334734694384, 0.8561533524300811, 0.8818230262401991, 0.8669244188090235, 0.5, 0.8832267265448416, 0.8913518641077665, 0.811886836048934, 0.9022244246339782, 0.9001517817997223]}, {\"categories\": [\"0\", \"1\", \"2\", \"3\", \"4\", \"5\", \"6\", \"7\", \"8\", \"9\", \"10\", \"11\", \"12\", \"13\", \"14\", \"15\", \"16\", \"17\", \"18\", \"19\", \"20\", \"21\", \"22\", \"23\", \"24\", \"25\", \"26\", \"27\", \"28\", \"29\", \"30\", \"32\", \"33\", \"34\", \"36\", \"37\"], \"mode\": \"lines\", \"name\": \"AUC_weighted_max\", \"stepped\": true, \"type\": \"scatter\", \"data\": [0.8555301412749636, 0.8812455464595781, 0.8837903288553678, 0.9021427614652349, 0.9021427614652349, 0.9021427614652349, 0.9021427614652349, 0.9021427614652349, 0.9021427614652349, 0.9021427614652349, 0.9049489819100169, 0.9049489819100169, 0.9049489819100169, 0.9049489819100169, 0.9049489819100169, 0.9049489819100169, 0.9049489819100169, 0.9049489819100169, 0.9049489819100169, 0.9049489819100169, 0.9049489819100169, 0.9049489819100169, 0.9049489819100169, 0.9049489819100169, 0.9049489819100169, 0.9049489819100169, 0.9049489819100169, 0.9049489819100169, 0.9049489819100169, 0.9049489819100169, 0.9049489819100169, 0.9049489819100169, 0.9049489819100169, 0.9049489819100169, 0.9049489819100169, 0.9049489819100169]}], \"average_precision_score_macro\": [{\"categories\": [\"0\", \"1\", \"2\", \"3\", \"4\", \"5\", \"6\", \"7\", \"8\", \"9\", \"10\", \"11\", \"12\", \"13\", \"14\", \"15\", \"16\", \"17\", \"18\", \"19\", \"20\", \"21\", \"22\", \"23\", \"24\", \"25\", \"26\", \"27\", \"28\", \"29\", \"30\", \"32\", \"33\", \"34\", \"36\", \"37\"], \"mode\": \"markers\", \"name\": \"average_precision_score_macro\", \"stepped\": false, \"type\": \"scatter\", \"data\": [0.8315719322255934, 0.8593539389925748, 0.8624742390421872, 0.882036572235321, 0.8604548694687184, 0.7318283571615326, 0.7181302380157493, 0.8726574898420505, 0.8838825698619444, 0.8703347002286177, 0.8869979037484088, 0.8584679919244267, 0.8666968153602403, 0.8774854290596588, 0.8761635026359009, 0.8540977591770058, 0.8262233551891882, 0.8496476710491637, 0.8207678904090575, 0.8450037936372952, 0.8779485884397022, 0.8867951235912374, 0.5546092594808996, 0.8325091249885506, 0.863284181315426, 0.8705093805579679, 0.8576620800317512, 0.842054314635919, 0.8646196854389558, 0.8511923933866783, 0.5, 0.8650460660083185, 0.8739987500019831, 0.7875034835438472, 0.8869123137773178, 0.8875633978939304]}, {\"categories\": [\"0\", \"1\", \"2\", \"3\", \"4\", \"5\", \"6\", \"7\", \"8\", \"9\", \"10\", \"11\", \"12\", \"13\", \"14\", \"15\", \"16\", \"17\", \"18\", \"19\", \"20\", \"21\", \"22\", \"23\", \"24\", \"25\", \"26\", \"27\", \"28\", \"29\", \"30\", \"32\", \"33\", \"34\", \"36\", \"37\"], \"mode\": \"lines\", \"name\": \"average_precision_score_macro_max\", \"stepped\": true, \"type\": \"scatter\", \"data\": [0.8315719322255934, 0.8593539389925748, 0.8624742390421872, 0.882036572235321, 0.882036572235321, 0.882036572235321, 0.882036572235321, 0.882036572235321, 0.8838825698619444, 0.8838825698619444, 0.8869979037484088, 0.8869979037484088, 0.8869979037484088, 0.8869979037484088, 0.8869979037484088, 0.8869979037484088, 0.8869979037484088, 0.8869979037484088, 0.8869979037484088, 0.8869979037484088, 0.8869979037484088, 0.8869979037484088, 0.8869979037484088, 0.8869979037484088, 0.8869979037484088, 0.8869979037484088, 0.8869979037484088, 0.8869979037484088, 0.8869979037484088, 0.8869979037484088, 0.8869979037484088, 0.8869979037484088, 0.8869979037484088, 0.8869979037484088, 0.8869979037484088, 0.8875633978939304]}], \"recall_score_weighted\": [{\"categories\": [\"0\", \"1\", \"2\", \"3\", \"4\", \"5\", \"6\", \"7\", \"8\", \"9\", \"10\", \"11\", \"12\", \"13\", \"14\", \"15\", \"16\", \"17\", \"18\", \"19\", \"20\", \"21\", \"22\", \"23\", \"24\", \"25\", \"26\", \"27\", \"28\", \"29\", \"30\", \"32\", \"33\", \"34\", \"36\", \"37\"], \"mode\": \"markers\", \"name\": \"recall_score_weighted\", \"stepped\": false, \"type\": \"scatter\", \"data\": [0.8127069351230425, 0.8460850111856824, 0.8327740492170023, 0.839440715883669, 0.8093512304250559, 0.6821700223713647, 0.6989261744966443, 0.8294183445190157, 0.8495078299776286, 0.752572706935123, 0.8293959731543624, 0.802751677852349, 0.779261744966443, 0.8394630872483222, 0.7558836689038031, 0.8427740492170023, 0.7759507829977629, 0.8193064876957494, 0.6890156599552573, 0.7559731543624161, 0.8495078299776286, 0.8461297539149888, 0.6688590604026846, 0.7625279642058166, 0.8361073825503356, 0.8327293064876957, 0.8394630872483222, 0.8127069351230425, 0.8361297539149888, 0.7859284116331096, 0.6789485458612976, 0.8193736017897092, 0.8394630872483222, 0.7391275167785235, 0.8595749440715883, 0.8193064876957494]}, {\"categories\": [\"0\", \"1\", \"2\", \"3\", \"4\", \"5\", \"6\", \"7\", \"8\", \"9\", \"10\", \"11\", \"12\", \"13\", \"14\", \"15\", \"16\", \"17\", \"18\", \"19\", \"20\", \"21\", \"22\", \"23\", \"24\", \"25\", \"26\", \"27\", \"28\", \"29\", \"30\", \"32\", \"33\", \"34\", \"36\", \"37\"], \"mode\": \"lines\", \"name\": \"recall_score_weighted_max\", \"stepped\": true, \"type\": \"scatter\", \"data\": [0.8127069351230425, 0.8460850111856824, 0.8460850111856824, 0.8460850111856824, 0.8460850111856824, 0.8460850111856824, 0.8460850111856824, 0.8460850111856824, 0.8495078299776286, 0.8495078299776286, 0.8495078299776286, 0.8495078299776286, 0.8495078299776286, 0.8495078299776286, 0.8495078299776286, 0.8495078299776286, 0.8495078299776286, 0.8495078299776286, 0.8495078299776286, 0.8495078299776286, 0.8495078299776286, 0.8495078299776286, 0.8495078299776286, 0.8495078299776286, 0.8495078299776286, 0.8495078299776286, 0.8495078299776286, 0.8495078299776286, 0.8495078299776286, 0.8495078299776286, 0.8495078299776286, 0.8495078299776286, 0.8495078299776286, 0.8495078299776286, 0.8595749440715883, 0.8595749440715883]}], \"f1_score_micro\": [{\"categories\": [\"0\", \"1\", \"2\", \"3\", \"4\", \"5\", \"6\", \"7\", \"8\", \"9\", \"10\", \"11\", \"12\", \"13\", \"14\", \"15\", \"16\", \"17\", \"18\", \"19\", \"20\", \"21\", \"22\", \"23\", \"24\", \"25\", \"26\", \"27\", \"28\", \"29\", \"30\", \"32\", \"33\", \"34\", \"36\", \"37\"], \"mode\": \"markers\", \"name\": \"f1_score_micro\", \"stepped\": false, \"type\": \"scatter\", \"data\": [0.8127069351230425, 0.8460850111856824, 0.8327740492170023, 0.839440715883669, 0.8093512304250559, 0.6821700223713647, 0.6989261744966443, 0.8294183445190157, 0.8495078299776286, 0.752572706935123, 0.8293959731543623, 0.802751677852349, 0.779261744966443, 0.8394630872483221, 0.7558836689038031, 0.8427740492170024, 0.7759507829977628, 0.8193064876957494, 0.6890156599552573, 0.7559731543624161, 0.8495078299776286, 0.8461297539149889, 0.6688590604026846, 0.7625279642058166, 0.8361073825503356, 0.8327293064876957, 0.8394630872483221, 0.8127069351230425, 0.8361297539149888, 0.7859284116331096, 0.6789485458612976, 0.8193736017897092, 0.8394630872483221, 0.7391275167785235, 0.8595749440715883, 0.8193064876957494]}, {\"categories\": [\"0\", \"1\", \"2\", \"3\", \"4\", \"5\", \"6\", \"7\", \"8\", \"9\", \"10\", \"11\", \"12\", \"13\", \"14\", \"15\", \"16\", \"17\", \"18\", \"19\", \"20\", \"21\", \"22\", \"23\", \"24\", \"25\", \"26\", \"27\", \"28\", \"29\", \"30\", \"32\", \"33\", \"34\", \"36\", \"37\"], \"mode\": \"lines\", \"name\": \"f1_score_micro_max\", \"stepped\": true, \"type\": \"scatter\", \"data\": [0.8127069351230425, 0.8460850111856824, 0.8460850111856824, 0.8460850111856824, 0.8460850111856824, 0.8460850111856824, 0.8460850111856824, 0.8460850111856824, 0.8495078299776286, 0.8495078299776286, 0.8495078299776286, 0.8495078299776286, 0.8495078299776286, 0.8495078299776286, 0.8495078299776286, 0.8495078299776286, 0.8495078299776286, 0.8495078299776286, 0.8495078299776286, 0.8495078299776286, 0.8495078299776286, 0.8495078299776286, 0.8495078299776286, 0.8495078299776286, 0.8495078299776286, 0.8495078299776286, 0.8495078299776286, 0.8495078299776286, 0.8495078299776286, 0.8495078299776286, 0.8495078299776286, 0.8495078299776286, 0.8495078299776286, 0.8495078299776286, 0.8595749440715883, 0.8595749440715883]}], \"log_loss\": [{\"categories\": [\"0\", \"1\", \"2\", \"3\", \"4\", \"5\", \"6\", \"7\", \"8\", \"9\", \"10\", \"11\", \"12\", \"13\", \"14\", \"15\", \"16\", \"17\", \"18\", \"19\", \"20\", \"21\", \"22\", \"23\", \"24\", \"25\", \"26\", \"27\", \"28\", \"29\", \"30\", \"32\", \"33\", \"34\", \"36\", \"37\"], \"mode\": \"markers\", \"name\": \"log_loss\", \"stepped\": false, \"type\": \"scatter\", \"data\": [0.5552296145880724, 0.4022215983601719, 0.42511781329053566, 0.3865207313815545, 0.4813429278623276, 0.5764704042326563, 0.5682262039860343, 0.39087059953299597, 0.4328430538758383, 0.48595160799396875, 0.38418928361563787, 0.4672443448472947, 0.48504682318775455, 0.46891305657513305, 0.5075486649682516, 0.41557960925822524, 0.4664644126583237, 0.4446373613982777, 0.5660014471291865, 0.5032661579373596, 0.4063773358388806, 0.4156556987100911, 0.6998110735134746, 0.47377015293943636, 0.4006935655587396, 0.4047964413929124, 0.3949980896175409, 0.4399059477728288, 0.41747019508510125, 0.4323196838704256, 0.6278780696349407, 0.40660524386016783, 0.3993499924612248, 0.5073474690529022, 0.4105723205481223, 0.4381789668951147]}, {\"categories\": [\"0\", \"1\", \"2\", \"3\", \"4\", \"5\", \"6\", \"7\", \"8\", \"9\", \"10\", \"11\", \"12\", \"13\", \"14\", \"15\", \"16\", \"17\", \"18\", \"19\", \"20\", \"21\", \"22\", \"23\", \"24\", \"25\", \"26\", \"27\", \"28\", \"29\", \"30\", \"32\", \"33\", \"34\", \"36\", \"37\"], \"mode\": \"lines\", \"name\": \"log_loss_min\", \"stepped\": true, \"type\": \"scatter\", \"data\": [0.5552296145880724, 0.4022215983601719, 0.4022215983601719, 0.3865207313815545, 0.3865207313815545, 0.3865207313815545, 0.3865207313815545, 0.3865207313815545, 0.3865207313815545, 0.3865207313815545, 0.38418928361563787, 0.38418928361563787, 0.38418928361563787, 0.38418928361563787, 0.38418928361563787, 0.38418928361563787, 0.38418928361563787, 0.38418928361563787, 0.38418928361563787, 0.38418928361563787, 0.38418928361563787, 0.38418928361563787, 0.38418928361563787, 0.38418928361563787, 0.38418928361563787, 0.38418928361563787, 0.38418928361563787, 0.38418928361563787, 0.38418928361563787, 0.38418928361563787, 0.38418928361563787, 0.38418928361563787, 0.38418928361563787, 0.38418928361563787, 0.38418928361563787, 0.38418928361563787]}], \"AUC_macro\": [{\"categories\": [\"0\", \"1\", \"2\", \"3\", \"4\", \"5\", \"6\", \"7\", \"8\", \"9\", \"10\", \"11\", \"12\", \"13\", \"14\", \"15\", \"16\", \"17\", \"18\", \"19\", \"20\", \"21\", \"22\", \"23\", \"24\", \"25\", \"26\", \"27\", \"28\", \"29\", \"30\", \"32\", \"33\", \"34\", \"36\", \"37\"], \"mode\": \"markers\", \"name\": \"AUC_macro\", \"stepped\": false, \"type\": \"scatter\", \"data\": [0.8555301412749637, 0.8812455464595781, 0.8837903288553678, 0.9021427614652349, 0.8816460542506449, 0.7485281241209356, 0.736710820835602, 0.8894451186836647, 0.8991804431905478, 0.8894712508976627, 0.9049489819100169, 0.8767187726154291, 0.8851750095445805, 0.8876955142705913, 0.8899164363449192, 0.8697473196145955, 0.8507814754298602, 0.8676477332032455, 0.8330656678091501, 0.8619251576762998, 0.8957034045975669, 0.9023709547016616, 0.5190127451865516, 0.8712117983911492, 0.8816003228761485, 0.8860845159635373, 0.8875334734694383, 0.8561533524300808, 0.8818230262401991, 0.8669244188090235, 0.5, 0.8832267265448417, 0.8913518641077665, 0.811886836048934, 0.9022244246339783, 0.9001517817997222]}, {\"categories\": [\"0\", \"1\", \"2\", \"3\", \"4\", \"5\", \"6\", \"7\", \"8\", \"9\", \"10\", \"11\", \"12\", \"13\", \"14\", \"15\", \"16\", \"17\", \"18\", \"19\", \"20\", \"21\", \"22\", \"23\", \"24\", \"25\", \"26\", \"27\", \"28\", \"29\", \"30\", \"32\", \"33\", \"34\", \"36\", \"37\"], \"mode\": \"lines\", \"name\": \"AUC_macro_max\", \"stepped\": true, \"type\": \"scatter\", \"data\": [0.8555301412749637, 0.8812455464595781, 0.8837903288553678, 0.9021427614652349, 0.9021427614652349, 0.9021427614652349, 0.9021427614652349, 0.9021427614652349, 0.9021427614652349, 0.9021427614652349, 0.9049489819100169, 0.9049489819100169, 0.9049489819100169, 0.9049489819100169, 0.9049489819100169, 0.9049489819100169, 0.9049489819100169, 0.9049489819100169, 0.9049489819100169, 0.9049489819100169, 0.9049489819100169, 0.9049489819100169, 0.9049489819100169, 0.9049489819100169, 0.9049489819100169, 0.9049489819100169, 0.9049489819100169, 0.9049489819100169, 0.9049489819100169, 0.9049489819100169, 0.9049489819100169, 0.9049489819100169, 0.9049489819100169, 0.9049489819100169, 0.9049489819100169, 0.9049489819100169]}]}, \"metricName\": null, \"primaryMetricName\": \"accuracy\", \"showLegend\": false}, \"run_metrics\": [{\"name\": \"experiment_status\", \"run_id\": \"AutoML_b91a3efe-41dd-4446-ab0b-bc946e08490e\", \"categories\": [0, 1, 2, 3, 4, 5, 6, 7, 8, 9, 10, 11, 12, 13], \"series\": [{\"data\": [\"DatasetEvaluation\", \"FeaturesGeneration\", \"DatasetFeaturization\", \"DatasetFeaturizationCompleted\", \"DatasetCrossValidationSplit\", \"ModelSelection\", \"BestRunExplainModel\", \"ModelExplanationDataSetSetup\", \"PickSurrogateModel\", \"EngineeredFeatureExplanations\", \"EngineeredFeatureExplanations\", \"RawFeaturesExplanations\", \"RawFeaturesExplanations\", \"BestRunExplainModel\"]}]}, {\"name\": \"experiment_status_description\", \"run_id\": \"AutoML_b91a3efe-41dd-4446-ab0b-bc946e08490e\", \"categories\": [0, 1, 2, 3, 4, 5, 6, 7, 8, 9, 10, 11, 12, 13], \"series\": [{\"data\": [\"Gathering dataset statistics.\", \"Generating features for the dataset.\", \"Beginning to fit featurizers and featurize the dataset.\", \"Completed fit featurizers and featurizing the dataset.\", \"Generating individually featurized CV splits.\", \"Beginning model selection.\", \"Best run model explanations started\", \"Model explanations data setup completed\", \"Choosing LightGBM as the surrogate model for explanations\", \"Computation of engineered features started\", \"Computation of engineered features completed\", \"Computation of raw features started\", \"Computation of raw features completed\", \"Best run model explanations completed\"]}]}, {\"name\": \"log_loss\", \"run_id\": \"AutoML_b91a3efe-41dd-4446-ab0b-bc946e08490e\", \"categories\": [0], \"series\": [{\"data\": [0.4105723205481223]}]}, {\"name\": \"recall_score_micro\", \"run_id\": \"AutoML_b91a3efe-41dd-4446-ab0b-bc946e08490e\", \"categories\": [0], \"series\": [{\"data\": [0.8595749440715883]}]}, {\"name\": \"average_precision_score_weighted\", \"run_id\": \"AutoML_b91a3efe-41dd-4446-ab0b-bc946e08490e\", \"categories\": [0], \"series\": [{\"data\": [0.9082925007384182]}]}, {\"name\": \"AUC_micro\", \"run_id\": \"AutoML_b91a3efe-41dd-4446-ab0b-bc946e08490e\", \"categories\": [0], \"series\": [{\"data\": [0.9089417203429275]}]}, {\"name\": \"average_precision_score_macro\", \"run_id\": \"AutoML_b91a3efe-41dd-4446-ab0b-bc946e08490e\", \"categories\": [0], \"series\": [{\"data\": [0.8869123137773178]}]}, {\"name\": \"precision_score_micro\", \"run_id\": \"AutoML_b91a3efe-41dd-4446-ab0b-bc946e08490e\", \"categories\": [0], \"series\": [{\"data\": [0.8595749440715883]}]}, {\"name\": \"average_precision_score_micro\", \"run_id\": \"AutoML_b91a3efe-41dd-4446-ab0b-bc946e08490e\", \"categories\": [0], \"series\": [{\"data\": [0.9075427783354854]}]}, {\"name\": \"f1_score_micro\", \"run_id\": \"AutoML_b91a3efe-41dd-4446-ab0b-bc946e08490e\", \"categories\": [0], \"series\": [{\"data\": [0.8595749440715883]}]}, {\"name\": \"norm_macro_recall\", \"run_id\": \"AutoML_b91a3efe-41dd-4446-ab0b-bc946e08490e\", \"categories\": [0], \"series\": [{\"data\": [0.6248299193281694]}]}, {\"name\": \"AUC_weighted\", \"run_id\": \"AutoML_b91a3efe-41dd-4446-ab0b-bc946e08490e\", \"categories\": [0], \"series\": [{\"data\": [0.9022244246339782]}]}, {\"name\": \"weighted_accuracy\", \"run_id\": \"AutoML_b91a3efe-41dd-4446-ab0b-bc946e08490e\", \"categories\": [0], \"series\": [{\"data\": [0.8962530761276888]}]}, {\"name\": \"precision_score_weighted\", \"run_id\": \"AutoML_b91a3efe-41dd-4446-ab0b-bc946e08490e\", \"categories\": [0], \"series\": [{\"data\": [0.8630912295128185]}]}, {\"name\": \"matthews_correlation\", \"run_id\": \"AutoML_b91a3efe-41dd-4446-ab0b-bc946e08490e\", \"categories\": [0], \"series\": [{\"data\": [0.6719517494325762]}]}, {\"name\": \"accuracy\", \"run_id\": \"AutoML_b91a3efe-41dd-4446-ab0b-bc946e08490e\", \"categories\": [0], \"series\": [{\"data\": [0.8595749440715883]}]}, {\"name\": \"recall_score_macro\", \"run_id\": \"AutoML_b91a3efe-41dd-4446-ab0b-bc946e08490e\", \"categories\": [0], \"series\": [{\"data\": [0.8124149596640847]}]}, {\"name\": \"f1_score_weighted\", \"run_id\": \"AutoML_b91a3efe-41dd-4446-ab0b-bc946e08490e\", \"categories\": [0], \"series\": [{\"data\": [0.8539163783147654]}]}, {\"name\": \"f1_score_macro\", \"run_id\": \"AutoML_b91a3efe-41dd-4446-ab0b-bc946e08490e\", \"categories\": [0], \"series\": [{\"data\": [0.8276119758152714]}]}, {\"name\": \"recall_score_weighted\", \"run_id\": \"AutoML_b91a3efe-41dd-4446-ab0b-bc946e08490e\", \"categories\": [0], \"series\": [{\"data\": [0.8595749440715883]}]}, {\"name\": \"AUC_macro\", \"run_id\": \"AutoML_b91a3efe-41dd-4446-ab0b-bc946e08490e\", \"categories\": [0], \"series\": [{\"data\": [0.9022244246339783]}]}, {\"name\": \"balanced_accuracy\", \"run_id\": \"AutoML_b91a3efe-41dd-4446-ab0b-bc946e08490e\", \"categories\": [0], \"series\": [{\"data\": [0.8124149596640847]}]}, {\"name\": \"precision_score_macro\", \"run_id\": \"AutoML_b91a3efe-41dd-4446-ab0b-bc946e08490e\", \"categories\": [0], \"series\": [{\"data\": [0.8625445969990462]}]}], \"run_logs\": \"\\nRun is completed.\", \"graph\": {}, \"widget_settings\": {\"childWidgetDisplay\": \"popup\", \"send_telemetry\": false, \"log_level\": \"INFO\", \"sdk_version\": \"1.22.0\"}, \"loading\": false}"
          },
          "metadata": {}
        },
        {
          "output_type": "stream",
          "name": "stdout",
          "text": [
            "===================================================\n",
            "Run(Experiment: heart-failure-experiment,\n",
            "Id: AutoML_b91a3efe-41dd-4446-ab0b-bc946e08490e_37,\n",
            "Type: azureml.scriptrun,\n",
            "Status: Completed)\n",
            "===================================================\n",
            "Run(Experiment: heart-failure-experiment,\n",
            "Id: AutoML_b91a3efe-41dd-4446-ab0b-bc946e08490e_36,\n",
            "Type: azureml.scriptrun,\n",
            "Status: Completed)\n",
            "===================================================\n",
            "Run(Experiment: heart-failure-experiment,\n",
            "Id: AutoML_b91a3efe-41dd-4446-ab0b-bc946e08490e_35,\n",
            "Type: azureml.scriptrun,\n",
            "Status: Canceled)\n",
            "===================================================\n",
            "Run(Experiment: heart-failure-experiment,\n",
            "Id: AutoML_b91a3efe-41dd-4446-ab0b-bc946e08490e_34,\n",
            "Type: azureml.scriptrun,\n",
            "Status: Completed)\n",
            "===================================================\n",
            "Run(Experiment: heart-failure-experiment,\n",
            "Id: AutoML_b91a3efe-41dd-4446-ab0b-bc946e08490e_33,\n",
            "Type: azureml.scriptrun,\n",
            "Status: Completed)\n",
            "===================================================\n",
            "Run(Experiment: heart-failure-experiment,\n",
            "Id: AutoML_b91a3efe-41dd-4446-ab0b-bc946e08490e_32,\n",
            "Type: azureml.scriptrun,\n",
            "Status: Completed)\n",
            "===================================================\n",
            "Run(Experiment: heart-failure-experiment,\n",
            "Id: AutoML_b91a3efe-41dd-4446-ab0b-bc946e08490e_31,\n",
            "Type: azureml.scriptrun,\n",
            "Status: Canceled)\n",
            "===================================================\n",
            "Run(Experiment: heart-failure-experiment,\n",
            "Id: AutoML_b91a3efe-41dd-4446-ab0b-bc946e08490e_30,\n",
            "Type: azureml.scriptrun,\n",
            "Status: Completed)\n",
            "===================================================\n",
            "Run(Experiment: heart-failure-experiment,\n",
            "Id: AutoML_b91a3efe-41dd-4446-ab0b-bc946e08490e_29,\n",
            "Type: azureml.scriptrun,\n",
            "Status: Completed)\n",
            "===================================================\n",
            "Run(Experiment: heart-failure-experiment,\n",
            "Id: AutoML_b91a3efe-41dd-4446-ab0b-bc946e08490e_28,\n",
            "Type: azureml.scriptrun,\n",
            "Status: Completed)\n",
            "===================================================\n",
            "Run(Experiment: heart-failure-experiment,\n",
            "Id: AutoML_b91a3efe-41dd-4446-ab0b-bc946e08490e_27,\n",
            "Type: azureml.scriptrun,\n",
            "Status: Completed)\n",
            "===================================================\n",
            "Run(Experiment: heart-failure-experiment,\n",
            "Id: AutoML_b91a3efe-41dd-4446-ab0b-bc946e08490e_26,\n",
            "Type: azureml.scriptrun,\n",
            "Status: Completed)\n",
            "===================================================\n",
            "Run(Experiment: heart-failure-experiment,\n",
            "Id: AutoML_b91a3efe-41dd-4446-ab0b-bc946e08490e_25,\n",
            "Type: azureml.scriptrun,\n",
            "Status: Completed)\n",
            "===================================================\n",
            "Run(Experiment: heart-failure-experiment,\n",
            "Id: AutoML_b91a3efe-41dd-4446-ab0b-bc946e08490e_24,\n",
            "Type: azureml.scriptrun,\n",
            "Status: Completed)\n",
            "===================================================\n",
            "Run(Experiment: heart-failure-experiment,\n",
            "Id: AutoML_b91a3efe-41dd-4446-ab0b-bc946e08490e_23,\n",
            "Type: azureml.scriptrun,\n",
            "Status: Completed)\n",
            "===================================================\n",
            "Run(Experiment: heart-failure-experiment,\n",
            "Id: AutoML_b91a3efe-41dd-4446-ab0b-bc946e08490e_22,\n",
            "Type: azureml.scriptrun,\n",
            "Status: Completed)\n",
            "===================================================\n",
            "Run(Experiment: heart-failure-experiment,\n",
            "Id: AutoML_b91a3efe-41dd-4446-ab0b-bc946e08490e_21,\n",
            "Type: azureml.scriptrun,\n",
            "Status: Completed)\n",
            "===================================================\n",
            "Run(Experiment: heart-failure-experiment,\n",
            "Id: AutoML_b91a3efe-41dd-4446-ab0b-bc946e08490e_20,\n",
            "Type: azureml.scriptrun,\n",
            "Status: Completed)\n",
            "===================================================\n",
            "Run(Experiment: heart-failure-experiment,\n",
            "Id: AutoML_b91a3efe-41dd-4446-ab0b-bc946e08490e_19,\n",
            "Type: azureml.scriptrun,\n",
            "Status: Completed)\n",
            "===================================================\n",
            "Run(Experiment: heart-failure-experiment,\n",
            "Id: AutoML_b91a3efe-41dd-4446-ab0b-bc946e08490e_18,\n",
            "Type: azureml.scriptrun,\n",
            "Status: Completed)\n",
            "===================================================\n",
            "Run(Experiment: heart-failure-experiment,\n",
            "Id: AutoML_b91a3efe-41dd-4446-ab0b-bc946e08490e_17,\n",
            "Type: azureml.scriptrun,\n",
            "Status: Completed)\n",
            "===================================================\n",
            "Run(Experiment: heart-failure-experiment,\n",
            "Id: AutoML_b91a3efe-41dd-4446-ab0b-bc946e08490e_16,\n",
            "Type: azureml.scriptrun,\n",
            "Status: Completed)\n",
            "===================================================\n",
            "Run(Experiment: heart-failure-experiment,\n",
            "Id: AutoML_b91a3efe-41dd-4446-ab0b-bc946e08490e_15,\n",
            "Type: azureml.scriptrun,\n",
            "Status: Completed)\n",
            "===================================================\n",
            "Run(Experiment: heart-failure-experiment,\n",
            "Id: AutoML_b91a3efe-41dd-4446-ab0b-bc946e08490e_14,\n",
            "Type: azureml.scriptrun,\n",
            "Status: Completed)\n",
            "===================================================\n",
            "Run(Experiment: heart-failure-experiment,\n",
            "Id: AutoML_b91a3efe-41dd-4446-ab0b-bc946e08490e_13,\n",
            "Type: azureml.scriptrun,\n",
            "Status: Completed)\n",
            "===================================================\n",
            "Run(Experiment: heart-failure-experiment,\n",
            "Id: AutoML_b91a3efe-41dd-4446-ab0b-bc946e08490e_12,\n",
            "Type: azureml.scriptrun,\n",
            "Status: Completed)\n",
            "===================================================\n",
            "Run(Experiment: heart-failure-experiment,\n",
            "Id: AutoML_b91a3efe-41dd-4446-ab0b-bc946e08490e_11,\n",
            "Type: azureml.scriptrun,\n",
            "Status: Completed)\n",
            "===================================================\n",
            "Run(Experiment: heart-failure-experiment,\n",
            "Id: AutoML_b91a3efe-41dd-4446-ab0b-bc946e08490e_10,\n",
            "Type: azureml.scriptrun,\n",
            "Status: Completed)\n",
            "===================================================\n",
            "Run(Experiment: heart-failure-experiment,\n",
            "Id: AutoML_b91a3efe-41dd-4446-ab0b-bc946e08490e_9,\n",
            "Type: azureml.scriptrun,\n",
            "Status: Completed)\n",
            "===================================================\n",
            "Run(Experiment: heart-failure-experiment,\n",
            "Id: AutoML_b91a3efe-41dd-4446-ab0b-bc946e08490e_8,\n",
            "Type: azureml.scriptrun,\n",
            "Status: Completed)\n",
            "===================================================\n",
            "Run(Experiment: heart-failure-experiment,\n",
            "Id: AutoML_b91a3efe-41dd-4446-ab0b-bc946e08490e_7,\n",
            "Type: azureml.scriptrun,\n",
            "Status: Completed)\n",
            "===================================================\n",
            "Run(Experiment: heart-failure-experiment,\n",
            "Id: AutoML_b91a3efe-41dd-4446-ab0b-bc946e08490e_6,\n",
            "Type: azureml.scriptrun,\n",
            "Status: Completed)\n",
            "===================================================\n",
            "Run(Experiment: heart-failure-experiment,\n",
            "Id: AutoML_b91a3efe-41dd-4446-ab0b-bc946e08490e_4,\n",
            "Type: azureml.scriptrun,\n",
            "Status: Completed)\n",
            "===================================================\n",
            "Run(Experiment: heart-failure-experiment,\n",
            "Id: AutoML_b91a3efe-41dd-4446-ab0b-bc946e08490e_5,\n",
            "Type: azureml.scriptrun,\n",
            "Status: Completed)\n",
            "===================================================\n",
            "Run(Experiment: heart-failure-experiment,\n",
            "Id: AutoML_b91a3efe-41dd-4446-ab0b-bc946e08490e_0,\n",
            "Type: azureml.scriptrun,\n",
            "Status: Completed)\n",
            "===================================================\n",
            "Run(Experiment: heart-failure-experiment,\n",
            "Id: AutoML_b91a3efe-41dd-4446-ab0b-bc946e08490e_3,\n",
            "Type: azureml.scriptrun,\n",
            "Status: Completed)\n",
            "===================================================\n",
            "Run(Experiment: heart-failure-experiment,\n",
            "Id: AutoML_b91a3efe-41dd-4446-ab0b-bc946e08490e_2,\n",
            "Type: azureml.scriptrun,\n",
            "Status: Completed)\n",
            "===================================================\n",
            "Run(Experiment: heart-failure-experiment,\n",
            "Id: AutoML_b91a3efe-41dd-4446-ab0b-bc946e08490e_1,\n",
            "Type: azureml.scriptrun,\n",
            "Status: Completed)\n"
          ]
        }
      ],
      "execution_count": 11,
      "metadata": {
        "gather": {
          "logged": 1615648887948
        }
      }
    },
    {
      "cell_type": "markdown",
      "source": [
        "## Best Model\n",
        "\n",
        "\n"
      ],
      "metadata": {
        "id": "Cae19_7u1j-_"
      }
    },
    {
      "cell_type": "code",
      "source": [
        "\n",
        "\n",
        "automl_best_run, fitted_automl_model = remote_run.get_output() \n",
        "print(\"Fitted model: \", fitted_automl_model.steps[-1])\n",
        "print(\"---\"*5)\n",
        "print(\"AutoML best run accuracy: \", automl_best_run.get_metrics(name=\"accuracy\"))\n",
        "print(\"---\"*5)\n",
        "print(\"AutoML run Summary: \", remote_run.summary())"
      ],
      "outputs": [
        {
          "output_type": "stream",
          "name": "stderr",
          "text": [
            "WARNING:root:The version of the SDK does not match the version the model was trained on.\n",
            "WARNING:root:The consistency in the result may not be guaranteed.\n",
            "WARNING:root:Package:azureml-automl-core, training version:1.23.0, current version:1.22.0\n",
            "Package:azureml-automl-runtime, training version:1.23.0, current version:1.22.0\n",
            "Package:azureml-core, training version:1.23.0, current version:1.22.0\n",
            "Package:azureml-dataprep, training version:2.10.1, current version:2.9.1\n",
            "Package:azureml-dataprep-native, training version:30.0.0, current version:29.0.0\n",
            "Package:azureml-dataprep-rslex, training version:1.8.0, current version:1.7.0\n",
            "Package:azureml-dataset-runtime, training version:1.23.0, current version:1.22.0\n",
            "Package:azureml-defaults, training version:1.23.0, current version:1.22.0\n",
            "Package:azureml-interpret, training version:1.23.0, current version:1.22.0\n",
            "Package:azureml-mlflow, training version:1.23.0, current version:1.22.0\n",
            "Package:azureml-pipeline-core, training version:1.23.0, current version:1.22.0\n",
            "Package:azureml-telemetry, training version:1.23.0, current version:1.22.0\n",
            "Package:azureml-train-automl-client, training version:1.23.0, current version:1.22.0\n",
            "Package:azureml-train-automl-runtime, training version:1.23.0, current version:1.22.0\n",
            "WARNING:root:Please ensure the version of your local conda dependencies match the version on which your model was trained in order to properly retrieve your model.\n"
          ]
        },
        {
          "output_type": "stream",
          "name": "stdout",
          "text": [
            "Fitted model:  ('prefittedsoftvotingclassifier', PreFittedSoftVotingClassifier(classification_labels=None,\n",
            "                              estimators=[('20',\n",
            "                                           Pipeline(memory=None,\n",
            "                                                    steps=[('robustscaler',\n",
            "                                                            RobustScaler(copy=True,\n",
            "                                                                         quantile_range=[25,\n",
            "                                                                                         75],\n",
            "                                                                         with_centering=True,\n",
            "                                                                         with_scaling=False)),\n",
            "                                                           ('extratreesclassifier',\n",
            "                                                            ExtraTreesClassifier(bootstrap=False,\n",
            "                                                                                 ccp_alpha=0.0,\n",
            "                                                                                 class_weight=None,\n",
            "                                                                                 criterion='entropy',\n",
            "                                                                                 max_depth=None,\n",
            "                                                                                 max_features=0.8...\n",
            "                                                                               objective=None,\n",
            "                                                                               random_state=None,\n",
            "                                                                               reg_alpha=0.5789473684210527,\n",
            "                                                                               reg_lambda=0.631578947368421,\n",
            "                                                                               silent=True,\n",
            "                                                                               subsample=0.6436842105263159,\n",
            "                                                                               subsample_for_bin=200000,\n",
            "                                                                               subsample_freq=0,\n",
            "                                                                               verbose=-10))],\n",
            "                                                    verbose=False))],\n",
            "                              flatten_transform=None,\n",
            "                              weights=[0.07692307692307693, 0.3076923076923077,\n",
            "                                       0.3076923076923077, 0.07692307692307693,\n",
            "                                       0.07692307692307693,\n",
            "                                       0.15384615384615385]))\n",
            "---------------\n",
            "AutoML best run accuracy:  {'accuracy': 0.8595749440715883}\n",
            "---------------\n",
            "AutoML run Summary:  [['StackEnsemble', 1, 0.8193064876957494], ['VotingEnsemble', 1, 0.8595749440715883], ['Failed', 2, nan], ['LightGBM', 14, 0.8427740492170023], ['GradientBoosting', 5, 0.8495078299776286], ['ExtremeRandomTrees', 5, 0.8495078299776286], ['KNN', 1, 0.6688590604026846], ['RandomForest', 7, 0.8461297539149888], ['SVM', 2, 0.6989261744966443]]\n"
          ]
        }
      ],
      "execution_count": 12,
      "metadata": {
        "gather": {
          "logged": 1615648979431
        },
        "id": "Vph6kd9g1j-_",
        "jupyter": {
          "outputs_hidden": false,
          "source_hidden": false
        },
        "nteract": {
          "transient": {
            "deleting": false
          }
        },
        "outputId": "f261999f-f880-4174-fa8e-3eb87a90808c"
      }
    },
    {
      "cell_type": "code",
      "source": [
        "automl_best_run.get_file_names()\n",
        "\n",
        "# Download the yaml file that includes the environment dependencies\n",
        "automl_best_run.download_file('outputs/conda_env_v_1_0_0.yml', 'env.yml')"
      ],
      "outputs": [],
      "execution_count": 13,
      "metadata": {
        "gather": {
          "logged": 1615648979674
        },
        "id": "J6amlY9z4eOA",
        "jupyter": {
          "outputs_hidden": false,
          "source_hidden": false
        },
        "nteract": {
          "transient": {
            "deleting": false
          }
        },
        "outputId": "eb040b4f-05c4-42db-bb01-5052124905c6"
      }
    },
    {
      "cell_type": "code",
      "source": [
        "# Download the model file\n",
        "\n",
        "automl_best_run.download_file('outputs/model.pkl', 'Automl_model.pkl')"
      ],
      "outputs": [],
      "execution_count": 14,
      "metadata": {
        "gather": {
          "logged": 1615648979901
        },
        "id": "xMBpHhUF32yA",
        "outputId": "73c21bb3-054c-4ac4-bc15-0c8c090a1f69"
      }
    },
    {
      "cell_type": "code",
      "source": [
        "print(fitted_automl_model)"
      ],
      "outputs": [
        {
          "output_type": "stream",
          "name": "stdout",
          "text": [
            "Pipeline(memory=None,\n",
            "         steps=[('datatransformer',\n",
            "                 DataTransformer(enable_dnn=None, enable_feature_sweeping=None,\n",
            "                                 feature_sweeping_config=None,\n",
            "                                 feature_sweeping_timeout=None,\n",
            "                                 featurization_config=None, force_text_dnn=None,\n",
            "                                 is_cross_validation=None,\n",
            "                                 is_onnx_compatible=None, logger=None,\n",
            "                                 observer=None, task=None, working_dir=None)),\n",
            "                ('prefittedsoftvotingclassifier',...\n",
            "                                                                                                random_state=None,\n",
            "                                                                                                reg_alpha=0.5789473684210527,\n",
            "                                                                                                reg_lambda=0.631578947368421,\n",
            "                                                                                                silent=True,\n",
            "                                                                                                subsample=0.6436842105263159,\n",
            "                                                                                                subsample_for_bin=200000,\n",
            "                                                                                                subsample_freq=0,\n",
            "                                                                                                verbose=-10))],\n",
            "                                                                     verbose=False))],\n",
            "                                               flatten_transform=None,\n",
            "                                               weights=[0.07692307692307693,\n",
            "                                                        0.3076923076923077,\n",
            "                                                        0.3076923076923077,\n",
            "                                                        0.07692307692307693,\n",
            "                                                        0.07692307692307693,\n",
            "                                                        0.15384615384615385]))],\n",
            "         verbose=False)\n"
          ]
        }
      ],
      "execution_count": 15,
      "metadata": {
        "gather": {
          "logged": 1615648980208
        }
      }
    },
    {
      "cell_type": "code",
      "source": [
        "automl_best_run"
      ],
      "outputs": [
        {
          "output_type": "execute_result",
          "execution_count": 16,
          "data": {
            "text/plain": "Run(Experiment: heart-failure-experiment,\nId: AutoML_b91a3efe-41dd-4446-ab0b-bc946e08490e_36,\nType: azureml.scriptrun,\nStatus: Completed)",
            "text/html": "<table style=\"width:100%\"><tr><th>Experiment</th><th>Id</th><th>Type</th><th>Status</th><th>Details Page</th><th>Docs Page</th></tr><tr><td>heart-failure-experiment</td><td>AutoML_b91a3efe-41dd-4446-ab0b-bc946e08490e_36</td><td>azureml.scriptrun</td><td>Completed</td><td><a href=\"https://ml.azure.com/experiments/heart-failure-experiment/runs/AutoML_b91a3efe-41dd-4446-ab0b-bc946e08490e_36?wsid=/subscriptions/a0a76bad-11a1-4a2d-9887-97a29122c8ed/resourcegroups/aml-quickstarts-140338/workspaces/quick-starts-ws-140338\" target=\"_blank\" rel=\"noopener\">Link to Azure Machine Learning studio</a></td><td><a href=\"https://docs.microsoft.com/en-us/python/api/azureml-core/azureml.core.run.Run?view=azure-ml-py\" target=\"_blank\" rel=\"noopener\">Link to Documentation</a></td></tr></table>"
          },
          "metadata": {}
        }
      ],
      "execution_count": 16,
      "metadata": {
        "gather": {
          "logged": 1615648980481
        }
      }
    },
    {
      "cell_type": "code",
      "source": [
        "# Save the best model\n",
        "automl_best_run.register_model(model_name = \"best_run_automl.pkl\", model_path = './outputs/')\n",
        "\n",
        "print(automl_best_run)"
      ],
      "outputs": [
        {
          "output_type": "stream",
          "name": "stdout",
          "text": [
            "Run(Experiment: heart-failure-experiment,\n",
            "Id: AutoML_b91a3efe-41dd-4446-ab0b-bc946e08490e_36,\n",
            "Type: azureml.scriptrun,\n",
            "Status: Completed)\n"
          ]
        }
      ],
      "execution_count": 17,
      "metadata": {
        "gather": {
          "logged": 1615648981154
        },
        "id": "pTKezbld1j_A",
        "jupyter": {
          "outputs_hidden": false,
          "source_hidden": false
        },
        "nteract": {
          "transient": {
            "deleting": false
          }
        },
        "outputId": "81e0f98a-eb62-4760-c459-c04cc5c37ed4"
      }
    },
    {
      "cell_type": "markdown",
      "source": [
        "## Model Deployment\n",
        "\n"
      ],
      "metadata": {
        "id": "TtJKGYlA1j_B"
      }
    },
    {
      "cell_type": "markdown",
      "source": [
        "As the best model coming from AutoML run has better accuracy than the one coming from the HyperDrive run, I deploy it in the cell below, register it, create an inference config and deploy the model as a web service."
      ],
      "metadata": {
        "nteract": {
          "transient": {
            "deleting": false
          }
        }
      }
    },
    {
      "cell_type": "code",
      "source": [
        "\n",
        "model = remote_run.register_model(model_name = 'best_run_automl.pkl')\n",
        "print(remote_run.model_id)\n",
        "\n",
        "# https://knowledge.udacity.com/questions/463620\n",
        "\n",
        "environment = automl_best_run.get_environment()\n",
        "entry_script='inference/scoring.py'\n",
        "automl_best_run.download_file('outputs/scoring_file_v_1_0_0.py', entry_script)\n",
        "\n",
        "\n",
        "inference_config = InferenceConfig(entry_script = entry_script, environment = environment)\n",
        "\n",
        "# Deploying the model via ACI WebService\n",
        "# https://github.com/MicrosoftDocs/azure-docs/blob/master/articles/machine-learning/how-to-deploy-azure-container-instance.md\n",
        "\n",
        "deployment_config = AciWebservice.deploy_configuration(cpu_cores = 1, \n",
        "                                                    memory_gb = 1, \n",
        "                                                    auth_enabled= True, \n",
        "                                                    enable_app_insights= True)\n",
        "\n",
        "service = Model.deploy(ws, \"deploy-heart-failure-automl\", [model], inference_config, deployment_config)\n",
        "service.wait_for_deployment(show_output = True)"
      ],
      "outputs": [
        {
          "output_type": "stream",
          "name": "stdout",
          "text": [
            "best_run_automl.pkl\n",
            "Tips: You can try get_logs(): https://aka.ms/debugimage#dockerlog or local deployment: https://aka.ms/debugimage#debug-locally to debug if deployment takes longer than 10 minutes.\n",
            "Running..........................................\n",
            "Succeeded\n",
            "ACI service creation operation finished, operation \"Succeeded\"\n"
          ]
        }
      ],
      "execution_count": 24,
      "metadata": {
        "gather": {
          "logged": 1615649317436
        },
        "id": "3ahNqWie1j_B",
        "jupyter": {
          "outputs_hidden": false,
          "source_hidden": false
        },
        "nteract": {
          "transient": {
            "deleting": false
          }
        }
      }
    },
    {
      "cell_type": "code",
      "source": [
        "\n",
        "# Getting the service state\n",
        "# The scorig URI & the primary authentication key are copied to the endpoint.py file in order to test the deployed service.\n",
        "# The Swagger URI can be used in Swagger UI: https://petstore.swagger.io/ For more info, please see the relevant part in the README file.\n",
        "\n",
        "# Authentication is enabled, so I use the get_keys method to retrieve the primary and secondary authentication keys:\n",
        "primary, secondary = service.get_keys()\n",
        "\n",
        "print('Service state: ' + service.state)\n",
        "print('Service scoring URI: ' + service.scoring_uri)\n",
        "print('Service Swagger URI: ' + service.swagger_uri)\n",
        "print('Service primary authentication key: ' + primary)"
      ],
      "outputs": [
        {
          "output_type": "stream",
          "name": "stdout",
          "text": [
            "Service state: Healthy\n",
            "Service scoring URI: http://f38ecc92-bbc6-46f3-a9e7-94ca5cab6d36.southcentralus.azurecontainer.io/score\n",
            "Service Swagger URI: http://f38ecc92-bbc6-46f3-a9e7-94ca5cab6d36.southcentralus.azurecontainer.io/swagger.json\n",
            "Service primary authentication key: WMapl8A8LGaKS8TiPeo0vFd6E7z2Bm7j\n"
          ]
        }
      ],
      "execution_count": 25,
      "metadata": {
        "gather": {
          "logged": 1615649398860
        },
        "id": "easQ8YBN4eOC",
        "jupyter": {
          "outputs_hidden": false,
          "source_hidden": false
        },
        "nteract": {
          "transient": {
            "deleting": false
          }
        },
        "outputId": "61acaeba-bcfe-4c6e-9c81-828844686904"
      }
    },
    {
      "cell_type": "code",
      "source": [
        "# Sending a request to the deployed web service to test it: consuming model endpoint\n",
        "\n",
        "%run endpoint.py"
      ],
      "outputs": [
        {
          "output_type": "stream",
          "name": "stdout",
          "text": [
            "{\"result\": [1, 1]}\n"
          ]
        }
      ],
      "execution_count": 26,
      "metadata": {
        "gather": {
          "logged": 1615649464467
        }
      }
    },
    {
      "cell_type": "code",
      "source": [
        "\n",
        "# Printing the logs\n",
        "logs = service.get_logs()\n",
        "\n",
        "for line in logs.split('\\n'):\n",
        "    print(line)"
      ],
      "outputs": [
        {
          "output_type": "stream",
          "name": "stdout",
          "text": [
            "2021-03-13T15:28:11,855860700+00:00 - rsyslog/run \n",
            "2021-03-13T15:28:11,855030800+00:00 - gunicorn/run \n",
            "2021-03-13T15:28:11,889077600+00:00 - iot-server/run \n",
            "2021-03-13T15:28:11,980069100+00:00 - nginx/run \n",
            "/usr/sbin/nginx: /azureml-envs/azureml_661474bbe74e96b5d8added5888dfc85/lib/libcrypto.so.1.0.0: no version information available (required by /usr/sbin/nginx)\n",
            "/usr/sbin/nginx: /azureml-envs/azureml_661474bbe74e96b5d8added5888dfc85/lib/libcrypto.so.1.0.0: no version information available (required by /usr/sbin/nginx)\n",
            "/usr/sbin/nginx: /azureml-envs/azureml_661474bbe74e96b5d8added5888dfc85/lib/libssl.so.1.0.0: no version information available (required by /usr/sbin/nginx)\n",
            "/usr/sbin/nginx: /azureml-envs/azureml_661474bbe74e96b5d8added5888dfc85/lib/libssl.so.1.0.0: no version information available (required by /usr/sbin/nginx)\n",
            "/usr/sbin/nginx: /azureml-envs/azureml_661474bbe74e96b5d8added5888dfc85/lib/libssl.so.1.0.0: no version information available (required by /usr/sbin/nginx)\n",
            "rsyslogd: /azureml-envs/azureml_661474bbe74e96b5d8added5888dfc85/lib/libuuid.so.1: no version information available (required by rsyslogd)\n",
            "Starting gunicorn 19.9.0\n",
            "Listening at: http://127.0.0.1:31311 (72)\n",
            "Using worker: sync\n",
            "worker timeout is set to 300\n",
            "Booting worker with pid: 98\n",
            "EdgeHubConnectionString and IOTEDGE_IOTHUBHOSTNAME are not set. Exiting...\n",
            "2021-03-13T15:28:16,032834500+00:00 - iot-server/finish 1 0\n",
            "2021-03-13T15:28:16,039254900+00:00 - Exit code 1 is normal. Not restarting iot-server.\n",
            "SPARK_HOME not set. Skipping PySpark Initialization.\n",
            "Generating new fontManager, this may take some time...\n",
            "Initializing logger\n",
            "2021-03-13 15:28:20,492 | root | INFO | Starting up app insights client\n",
            "2021-03-13 15:28:20,493 | root | INFO | Starting up request id generator\n",
            "2021-03-13 15:28:20,493 | root | INFO | Starting up app insight hooks\n",
            "2021-03-13 15:28:20,494 | root | INFO | Invoking user's init function\n",
            "2021-03-13 15:28:30,838 | azureml.core | WARNING | Failure while loading azureml_run_type_providers. Failed to load entrypoint automl = azureml.train.automl.run:AutoMLRun._from_run_dto with exception (cryptography 3.2 (/azureml-envs/azureml_661474bbe74e96b5d8added5888dfc85/lib/python3.6/site-packages), Requirement.parse('cryptography<4.0.0,>=3.3.1; extra == \"crypto\"'), {'PyJWT'}).\n",
            "Failure while loading azureml_run_type_providers. Failed to load entrypoint automl = azureml.train.automl.run:AutoMLRun._from_run_dto with exception (cryptography 3.2 (/azureml-envs/azureml_661474bbe74e96b5d8added5888dfc85/lib/python3.6/site-packages), Requirement.parse('cryptography<4.0.0,>=3.3.1; extra == \"crypto\"'), {'PyJWT'}).\n",
            "2021-03-13 15:28:31,477 | root | INFO | Users's init has completed successfully\n",
            "2021-03-13 15:28:31,539 | root | INFO | Skipping middleware: dbg_model_info as it's not enabled.\n",
            "2021-03-13 15:28:31,540 | root | INFO | Skipping middleware: dbg_resource_usage as it's not enabled.\n",
            "2021-03-13 15:28:31,577 | root | INFO | Scoring timeout is found from os.environ: 60000 ms\n",
            "2021-03-13 15:28:31,594 | root | INFO | 200\n",
            "127.0.0.1 - - [13/Mar/2021:15:28:31 +0000] \"GET /swagger.json HTTP/1.0\" 200 2866 \"-\" \"Go-http-client/1.1\"\n",
            "2021-03-13 15:28:36,028 | root | INFO | 200\n",
            "127.0.0.1 - - [13/Mar/2021:15:28:36 +0000] \"GET /swagger.json HTTP/1.0\" 200 2866 \"-\" \"Go-http-client/1.1\"\n",
            "2021-03-13 15:28:54,935 | root | INFO | 200\n",
            "127.0.0.1 - - [13/Mar/2021:15:28:54 +0000] \"GET /swagger.json HTTP/1.0\" 200 2866 \"-\" \"Go-http-client/1.1\"\n",
            "2021-03-13 15:28:55,675 | root | INFO | 200\n",
            "127.0.0.1 - - [13/Mar/2021:15:28:55 +0000] \"GET /swagger.json HTTP/1.0\" 200 2866 \"-\" \"Go-http-client/1.1\"\n",
            "2021-03-13 15:31:03,086 | root | INFO | Validation Request Content-Type\n",
            "2021-03-13 15:31:03,087 | root | INFO | Scoring Timer is set to 60.0 seconds\n",
            "2021-03-13 15:31:03,227 | root | INFO | 200\n",
            "127.0.0.1 - - [13/Mar/2021:15:31:03 +0000] \"POST /score HTTP/1.0\" 200 22 \"-\" \"python-requests/2.25.1\"\n",
            "\n"
          ]
        }
      ],
      "execution_count": 27,
      "metadata": {
        "gather": {
          "logged": 1615649471706
        }
      }
    },
    {
      "cell_type": "markdown",
      "source": [
        "# Deleting the service\n",
        "Putting the deletion of the service in a separate cell to avoid accidentally running the cell before finishing the tasks"
      ],
      "metadata": {}
    },
    {
      "cell_type": "code",
      "source": [
        "service.delete()"
      ],
      "outputs": [],
      "execution_count": null,
      "metadata": {}
    },
    {
      "cell_type": "code",
      "source": [
        "conda install-c anaconda py-xgboost==0.90"
      ],
      "outputs": [],
      "execution_count": null,
      "metadata": {}
    }
  ],
  "metadata": {
    "colab": {
      "name": "automl.ipynb",
      "provenance": []
    },
    "kernel_info": {
      "name": "python3-azureml"
    },
    "kernelspec": {
      "name": "python3-azureml",
      "language": "python",
      "display_name": "Python 3.6 - AzureML"
    },
    "language_info": {
      "name": "python",
      "version": "3.6.9",
      "mimetype": "text/x-python",
      "codemirror_mode": {
        "name": "ipython",
        "version": 3
      },
      "pygments_lexer": "ipython3",
      "nbconvert_exporter": "python",
      "file_extension": ".py"
    },
    "nteract": {
      "version": "nteract-front-end@1.0.0"
    },
    "microsoft": {
      "host": {
        "AzureML": {
          "notebookHasBeenCompleted": true
        }
      }
    }
  },
  "nbformat": 4,
  "nbformat_minor": 1
}